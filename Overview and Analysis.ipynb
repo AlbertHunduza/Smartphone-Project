{
 "cells": [
  {
   "cell_type": "code",
   "execution_count": 206,
   "metadata": {},
   "outputs": [],
   "source": [
    "import numpy as np\n",
    "import pandas as pd\n",
    "import seaborn as sns\n",
    "import matplotlib.pyplot as plt\n",
    "from cleaners import GSMArena_Dataset_Cleaner\n",
    "\n",
    "import warnings\n",
    "warnings.filterwarnings('ignore')"
   ]
  },
  {
   "cell_type": "code",
   "execution_count": 207,
   "metadata": {},
   "outputs": [],
   "source": [
    "gsmarena_data = pd.read_csv('C:/Users/alber\\Documents/My Personal Projects/Smartphone Project/Files/GSMArena.csv')\n",
    "\n",
    "cleaner = GSMArena_Dataset_Cleaner(gsmarena_data)\n",
    "\n",
    "cleaned_gsm_arena_data = cleaner.clean()"
   ]
  },
  {
   "cell_type": "code",
   "execution_count": 208,
   "metadata": {},
   "outputs": [
    {
     "data": {
      "text/html": [
       "<div>\n",
       "<style scoped>\n",
       "    .dataframe tbody tr th:only-of-type {\n",
       "        vertical-align: middle;\n",
       "    }\n",
       "\n",
       "    .dataframe tbody tr th {\n",
       "        vertical-align: top;\n",
       "    }\n",
       "\n",
       "    .dataframe thead th {\n",
       "        text-align: right;\n",
       "    }\n",
       "</style>\n",
       "<table border=\"1\" class=\"dataframe\">\n",
       "  <thead>\n",
       "    <tr style=\"text-align: right;\">\n",
       "      <th></th>\n",
       "      <th>Brand</th>\n",
       "      <th>Model</th>\n",
       "      <th>Highest_Network_Technology</th>\n",
       "      <th>Announced</th>\n",
       "      <th>Released</th>\n",
       "      <th>Status</th>\n",
       "      <th>Length</th>\n",
       "      <th>Width</th>\n",
       "      <th>Thickness</th>\n",
       "      <th>Weight</th>\n",
       "      <th>Front</th>\n",
       "      <th>Back</th>\n",
       "      <th>Frame</th>\n",
       "      <th>Number_of_SIMs</th>\n",
       "      <th>Type_of_SIM</th>\n",
       "      <th>Display_Type</th>\n",
       "      <th>Display_Brightness</th>\n",
       "      <th>Display_HDR_Capability</th>\n",
       "      <th>Display_Size_(inches)</th>\n",
       "      <th>Screen_To_Body_Ratio_(%)</th>\n",
       "      <th>Display_Aspect_Ratio</th>\n",
       "      <th>Pixel_Density</th>\n",
       "      <th>Display_Protection</th>\n",
       "      <th>Mobile_OS</th>\n",
       "      <th>Mobile_OS_Version</th>\n",
       "      <th>Chipset_Maker</th>\n",
       "      <th>Fabrication_Process</th>\n",
       "      <th>Number_of_CPU_Cores</th>\n",
       "      <th>CPU_Performance_Core_Frequency</th>\n",
       "      <th>CPU_Efficiency_Core_Frequency</th>\n",
       "      <th>SD Card Slot</th>\n",
       "      <th>ROM</th>\n",
       "      <th>RAM</th>\n",
       "      <th>Number_of_Rear_Cameras</th>\n",
       "      <th>Storage_Type_Version</th>\n",
       "      <th>Storage_Type</th>\n",
       "      <th>Highest_Camera_Resolution</th>\n",
       "      <th>HDR</th>\n",
       "      <th>Rear_Video_Resolution</th>\n",
       "      <th>Rear_Video_Framerate</th>\n",
       "      <th>Number_of_Selfie_Cameras</th>\n",
       "      <th>Selfie_Video_Resolution</th>\n",
       "      <th>Selfie_Video_Framerate</th>\n",
       "      <th>Headphone_Jack</th>\n",
       "      <th>WI-FI</th>\n",
       "      <th>Bluetooth</th>\n",
       "      <th>NFC</th>\n",
       "      <th>Radio</th>\n",
       "      <th>USB_Connector</th>\n",
       "      <th>USB_Version</th>\n",
       "      <th>Biometric_Sensor</th>\n",
       "      <th>Biometric_Sensor_Type</th>\n",
       "      <th>Biometric_Sensor_Technology</th>\n",
       "      <th>Biometric_Sensor_Location</th>\n",
       "      <th>UWB</th>\n",
       "      <th>Removable</th>\n",
       "      <th>Battery_Type</th>\n",
       "      <th>Battery_Capacity</th>\n",
       "      <th>Colors</th>\n",
       "      <th>Charging_Speed</th>\n",
       "      <th>Wireless_Charging</th>\n",
       "      <th>Reverse_Charging</th>\n",
       "      <th>Loudspeaker_Voice</th>\n",
       "      <th>Loudspeaker_Noise</th>\n",
       "      <th>Loudspeaker_Ring</th>\n",
       "      <th>Battery_Life</th>\n",
       "      <th>IP_Rating</th>\n",
       "      <th>Price</th>\n",
       "    </tr>\n",
       "  </thead>\n",
       "  <tbody>\n",
       "    <tr>\n",
       "      <th>0</th>\n",
       "      <td>ZTE</td>\n",
       "      <td>nubia X 5G</td>\n",
       "      <td>5G</td>\n",
       "      <td>Not Announced Yet</td>\n",
       "      <td>Not Released Yet</td>\n",
       "      <td>Cancelled</td>\n",
       "      <td>Not Measured</td>\n",
       "      <td>Not Measured</td>\n",
       "      <td>Not Measured</td>\n",
       "      <td>Not Measured</td>\n",
       "      <td>Glass</td>\n",
       "      <td>glass</td>\n",
       "      <td>aluminum</td>\n",
       "      <td>2</td>\n",
       "      <td>Unspecified</td>\n",
       "      <td>LCD</td>\n",
       "      <td>Not Specified</td>\n",
       "      <td>No HDR</td>\n",
       "      <td>6.26</td>\n",
       "      <td>Not Measured</td>\n",
       "      <td>19:9</td>\n",
       "      <td>403</td>\n",
       "      <td>Corning Gorilla Glass 3</td>\n",
       "      <td>Android</td>\n",
       "      <td>Android 9.0 (Pie)</td>\n",
       "      <td>Qualcomm</td>\n",
       "      <td>7</td>\n",
       "      <td>8</td>\n",
       "      <td>2.84</td>\n",
       "      <td>1.78</td>\n",
       "      <td>No</td>\n",
       "      <td>512</td>\n",
       "      <td>6</td>\n",
       "      <td>2.0</td>\n",
       "      <td>unspecified</td>\n",
       "      <td>unspecified</td>\n",
       "      <td>24</td>\n",
       "      <td>HDR</td>\n",
       "      <td>4K</td>\n",
       "      <td>30</td>\n",
       "      <td>2</td>\n",
       "      <td>4K</td>\n",
       "      <td>30</td>\n",
       "      <td>No</td>\n",
       "      <td>Yes</td>\n",
       "      <td>5.1</td>\n",
       "      <td>No</td>\n",
       "      <td>No</td>\n",
       "      <td>Type-C</td>\n",
       "      <td>unspecified</td>\n",
       "      <td>Yes</td>\n",
       "      <td>Fingerprint</td>\n",
       "      <td>No</td>\n",
       "      <td>Side-mounted</td>\n",
       "      <td>No</td>\n",
       "      <td>No</td>\n",
       "      <td>Li-Po</td>\n",
       "      <td>3800</td>\n",
       "      <td>5</td>\n",
       "      <td>18</td>\n",
       "      <td>unspecified</td>\n",
       "      <td>unspecified</td>\n",
       "      <td>untested</td>\n",
       "      <td>untested</td>\n",
       "      <td>untested</td>\n",
       "      <td>untested</td>\n",
       "      <td>No Resistance</td>\n",
       "      <td>unspecified</td>\n",
       "    </tr>\n",
       "    <tr>\n",
       "      <th>1</th>\n",
       "      <td>ZTE</td>\n",
       "      <td>Blade V20</td>\n",
       "      <td>LTE</td>\n",
       "      <td>Not Announced Yet</td>\n",
       "      <td>Not Released Yet</td>\n",
       "      <td>Cancelled</td>\n",
       "      <td>Not Measured</td>\n",
       "      <td>Not Measured</td>\n",
       "      <td>Not Measured</td>\n",
       "      <td>Not Measured</td>\n",
       "      <td></td>\n",
       "      <td></td>\n",
       "      <td></td>\n",
       "      <td>2</td>\n",
       "      <td>Unspecified</td>\n",
       "      <td>LCD</td>\n",
       "      <td>Not Specified</td>\n",
       "      <td>No HDR</td>\n",
       "      <td>6.1</td>\n",
       "      <td>Not Measured</td>\n",
       "      <td>19.5:9</td>\n",
       "      <td>282</td>\n",
       "      <td>no special protection</td>\n",
       "      <td>Android</td>\n",
       "      <td>Android 9.0 (Pie), MiFavor 9.0</td>\n",
       "      <td>unspecified</td>\n",
       "      <td>0</td>\n",
       "      <td>8</td>\n",
       "      <td>2.0</td>\n",
       "      <td>2.0</td>\n",
       "      <td>microSDXC</td>\n",
       "      <td>64</td>\n",
       "      <td>4</td>\n",
       "      <td>3.0</td>\n",
       "      <td>unspecified</td>\n",
       "      <td>unspecified</td>\n",
       "      <td>16</td>\n",
       "      <td>HDR</td>\n",
       "      <td>1080p</td>\n",
       "      <td>30</td>\n",
       "      <td>1</td>\n",
       "      <td>unspecified</td>\n",
       "      <td>unspecified</td>\n",
       "      <td>Yes</td>\n",
       "      <td>Yes</td>\n",
       "      <td>4.2</td>\n",
       "      <td>No</td>\n",
       "      <td>Yes</td>\n",
       "      <td>Type-C</td>\n",
       "      <td>unspecified</td>\n",
       "      <td>Yes</td>\n",
       "      <td>Fingerprint</td>\n",
       "      <td>No</td>\n",
       "      <td>Rear-mounted</td>\n",
       "      <td>No</td>\n",
       "      <td>No</td>\n",
       "      <td>Li-Po</td>\n",
       "      <td>5000</td>\n",
       "      <td>2</td>\n",
       "      <td>18</td>\n",
       "      <td>unspecified</td>\n",
       "      <td>unspecified</td>\n",
       "      <td>untested</td>\n",
       "      <td>untested</td>\n",
       "      <td>untested</td>\n",
       "      <td>untested</td>\n",
       "      <td>No Resistance</td>\n",
       "      <td>unspecified</td>\n",
       "    </tr>\n",
       "    <tr>\n",
       "      <th>2</th>\n",
       "      <td>ZTE</td>\n",
       "      <td>Coral200 Sollar</td>\n",
       "      <td>GSM</td>\n",
       "      <td>2007-05</td>\n",
       "      <td>2007-01</td>\n",
       "      <td>Discontinued</td>\n",
       "      <td>106.0</td>\n",
       "      <td>45.6</td>\n",
       "      <td>18.1</td>\n",
       "      <td>85.0</td>\n",
       "      <td></td>\n",
       "      <td></td>\n",
       "      <td></td>\n",
       "      <td>1</td>\n",
       "      <td>Mini-SIM</td>\n",
       "      <td>CSTN</td>\n",
       "      <td>Not Specified</td>\n",
       "      <td>No HDR</td>\n",
       "      <td>Not Measured</td>\n",
       "      <td>Not Measured</td>\n",
       "      <td>1:1</td>\n",
       "      <td>Not Measured</td>\n",
       "      <td>no special protection</td>\n",
       "      <td>unspecified</td>\n",
       "      <td>unspecified</td>\n",
       "      <td>unspecified</td>\n",
       "      <td>0</td>\n",
       "      <td>Unspecified</td>\n",
       "      <td>unspecified</td>\n",
       "      <td>unspecified</td>\n",
       "      <td>No</td>\n",
       "      <td>0.004</td>\n",
       "      <td>unspecified</td>\n",
       "      <td>0.0</td>\n",
       "      <td>unspecified</td>\n",
       "      <td>unspecified</td>\n",
       "      <td>no camera</td>\n",
       "      <td>no HDR</td>\n",
       "      <td>no video</td>\n",
       "      <td>no video</td>\n",
       "      <td>0</td>\n",
       "      <td>unspecified</td>\n",
       "      <td>unspecified</td>\n",
       "      <td>No</td>\n",
       "      <td>No</td>\n",
       "      <td>No</td>\n",
       "      <td>No</td>\n",
       "      <td>No</td>\n",
       "      <td>No</td>\n",
       "      <td>No</td>\n",
       "      <td>No</td>\n",
       "      <td>No</td>\n",
       "      <td>No</td>\n",
       "      <td>No</td>\n",
       "      <td>No</td>\n",
       "      <td>Yes</td>\n",
       "      <td>Li-Ion</td>\n",
       "      <td>690</td>\n",
       "      <td>1</td>\n",
       "      <td>unspecified</td>\n",
       "      <td>unspecified</td>\n",
       "      <td>unspecified</td>\n",
       "      <td>untested</td>\n",
       "      <td>untested</td>\n",
       "      <td>untested</td>\n",
       "      <td>untested</td>\n",
       "      <td>No Resistance</td>\n",
       "      <td>unspecified</td>\n",
       "    </tr>\n",
       "    <tr>\n",
       "      <th>3</th>\n",
       "      <td>ZTE</td>\n",
       "      <td>F100</td>\n",
       "      <td>UMTS</td>\n",
       "      <td>2009-01</td>\n",
       "      <td>2009-01</td>\n",
       "      <td>Discontinued</td>\n",
       "      <td>105.0</td>\n",
       "      <td>46.0</td>\n",
       "      <td>12.6</td>\n",
       "      <td>90.0</td>\n",
       "      <td></td>\n",
       "      <td></td>\n",
       "      <td></td>\n",
       "      <td>1</td>\n",
       "      <td>Mini-SIM</td>\n",
       "      <td>TFT</td>\n",
       "      <td>Not Specified</td>\n",
       "      <td>No HDR</td>\n",
       "      <td>2.0</td>\n",
       "      <td>26.1</td>\n",
       "      <td>Not Measured</td>\n",
       "      <td>141</td>\n",
       "      <td>no special protection</td>\n",
       "      <td>unspecified</td>\n",
       "      <td>unspecified</td>\n",
       "      <td>unspecified</td>\n",
       "      <td>0</td>\n",
       "      <td>Unspecified</td>\n",
       "      <td>unspecified</td>\n",
       "      <td>unspecified</td>\n",
       "      <td>microSDHC</td>\n",
       "      <td>unspecified</td>\n",
       "      <td>unspecified</td>\n",
       "      <td>1.0</td>\n",
       "      <td>unspecified</td>\n",
       "      <td>unspecified</td>\n",
       "      <td>2</td>\n",
       "      <td>no HDR</td>\n",
       "      <td>unspecified</td>\n",
       "      <td>unspecified</td>\n",
       "      <td>0</td>\n",
       "      <td>unspecified</td>\n",
       "      <td>unspecified</td>\n",
       "      <td>No</td>\n",
       "      <td>No</td>\n",
       "      <td>2.1</td>\n",
       "      <td>No</td>\n",
       "      <td>Yes</td>\n",
       "      <td>unspecified</td>\n",
       "      <td>2.0</td>\n",
       "      <td>No</td>\n",
       "      <td>No</td>\n",
       "      <td>No</td>\n",
       "      <td>No</td>\n",
       "      <td>No</td>\n",
       "      <td>Yes</td>\n",
       "      <td>Li-Ion</td>\n",
       "      <td>1000</td>\n",
       "      <td>3</td>\n",
       "      <td>unspecified</td>\n",
       "      <td>unspecified</td>\n",
       "      <td>unspecified</td>\n",
       "      <td>untested</td>\n",
       "      <td>untested</td>\n",
       "      <td>untested</td>\n",
       "      <td>untested</td>\n",
       "      <td>No Resistance</td>\n",
       "      <td>unspecified</td>\n",
       "    </tr>\n",
       "    <tr>\n",
       "      <th>4</th>\n",
       "      <td>ZTE</td>\n",
       "      <td>F101</td>\n",
       "      <td>UMTS</td>\n",
       "      <td>2009-01</td>\n",
       "      <td>2009-01</td>\n",
       "      <td>Discontinued</td>\n",
       "      <td>105.0</td>\n",
       "      <td>46.0</td>\n",
       "      <td>12.6</td>\n",
       "      <td>90.0</td>\n",
       "      <td></td>\n",
       "      <td></td>\n",
       "      <td></td>\n",
       "      <td>1</td>\n",
       "      <td>Mini-SIM</td>\n",
       "      <td>TFT</td>\n",
       "      <td>Not Specified</td>\n",
       "      <td>No HDR</td>\n",
       "      <td>2.0</td>\n",
       "      <td>26.1</td>\n",
       "      <td>Not Measured</td>\n",
       "      <td>141</td>\n",
       "      <td>no special protection</td>\n",
       "      <td>unspecified</td>\n",
       "      <td>unspecified</td>\n",
       "      <td>unspecified</td>\n",
       "      <td>0</td>\n",
       "      <td>Unspecified</td>\n",
       "      <td>unspecified</td>\n",
       "      <td>unspecified</td>\n",
       "      <td>microSDHC</td>\n",
       "      <td>unspecified</td>\n",
       "      <td>unspecified</td>\n",
       "      <td>1.0</td>\n",
       "      <td>unspecified</td>\n",
       "      <td>unspecified</td>\n",
       "      <td>2</td>\n",
       "      <td>no HDR</td>\n",
       "      <td>unspecified</td>\n",
       "      <td>unspecified</td>\n",
       "      <td>0</td>\n",
       "      <td>unspecified</td>\n",
       "      <td>unspecified</td>\n",
       "      <td>No</td>\n",
       "      <td>No</td>\n",
       "      <td>2.1</td>\n",
       "      <td>No</td>\n",
       "      <td>Yes</td>\n",
       "      <td>unspecified</td>\n",
       "      <td>2.0</td>\n",
       "      <td>No</td>\n",
       "      <td>No</td>\n",
       "      <td>No</td>\n",
       "      <td>No</td>\n",
       "      <td>No</td>\n",
       "      <td>Yes</td>\n",
       "      <td>Li-Ion</td>\n",
       "      <td>1000</td>\n",
       "      <td>3</td>\n",
       "      <td>unspecified</td>\n",
       "      <td>unspecified</td>\n",
       "      <td>unspecified</td>\n",
       "      <td>untested</td>\n",
       "      <td>untested</td>\n",
       "      <td>untested</td>\n",
       "      <td>untested</td>\n",
       "      <td>No Resistance</td>\n",
       "      <td>unspecified</td>\n",
       "    </tr>\n",
       "  </tbody>\n",
       "</table>\n",
       "</div>"
      ],
      "text/plain": [
       "  Brand            Model Highest_Network_Technology          Announced  \\\n",
       "0   ZTE       nubia X 5G                         5G  Not Announced Yet   \n",
       "1   ZTE        Blade V20                        LTE  Not Announced Yet   \n",
       "2   ZTE  Coral200 Sollar                        GSM            2007-05   \n",
       "3   ZTE             F100                       UMTS            2009-01   \n",
       "4   ZTE             F101                       UMTS            2009-01   \n",
       "\n",
       "           Released        Status        Length         Width     Thickness  \\\n",
       "0  Not Released Yet     Cancelled  Not Measured  Not Measured  Not Measured   \n",
       "1  Not Released Yet     Cancelled  Not Measured  Not Measured  Not Measured   \n",
       "2           2007-01  Discontinued         106.0          45.6          18.1   \n",
       "3           2009-01  Discontinued         105.0          46.0          12.6   \n",
       "4           2009-01  Discontinued         105.0          46.0          12.6   \n",
       "\n",
       "         Weight  Front   Back     Frame  Number_of_SIMs  Type_of_SIM  \\\n",
       "0  Not Measured  Glass  glass  aluminum               2  Unspecified   \n",
       "1  Not Measured                                       2  Unspecified   \n",
       "2          85.0                                       1     Mini-SIM   \n",
       "3          90.0                                       1     Mini-SIM   \n",
       "4          90.0                                       1     Mini-SIM   \n",
       "\n",
       "  Display_Type Display_Brightness Display_HDR_Capability  \\\n",
       "0          LCD      Not Specified                 No HDR   \n",
       "1          LCD      Not Specified                 No HDR   \n",
       "2         CSTN      Not Specified                 No HDR   \n",
       "3          TFT      Not Specified                 No HDR   \n",
       "4          TFT      Not Specified                 No HDR   \n",
       "\n",
       "  Display_Size_(inches) Screen_To_Body_Ratio_(%) Display_Aspect_Ratio  \\\n",
       "0                  6.26             Not Measured                 19:9   \n",
       "1                   6.1             Not Measured               19.5:9   \n",
       "2          Not Measured             Not Measured                  1:1   \n",
       "3                   2.0                     26.1         Not Measured   \n",
       "4                   2.0                     26.1         Not Measured   \n",
       "\n",
       "  Pixel_Density       Display_Protection    Mobile_OS  \\\n",
       "0           403  Corning Gorilla Glass 3      Android   \n",
       "1           282    no special protection      Android   \n",
       "2  Not Measured    no special protection  unspecified   \n",
       "3           141    no special protection  unspecified   \n",
       "4           141    no special protection  unspecified   \n",
       "\n",
       "                Mobile_OS_Version Chipset_Maker  Fabrication_Process  \\\n",
       "0               Android 9.0 (Pie)      Qualcomm                    7   \n",
       "1  Android 9.0 (Pie), MiFavor 9.0   unspecified                    0   \n",
       "2                     unspecified   unspecified                    0   \n",
       "3                     unspecified   unspecified                    0   \n",
       "4                     unspecified   unspecified                    0   \n",
       "\n",
       "  Number_of_CPU_Cores CPU_Performance_Core_Frequency  \\\n",
       "0                   8                           2.84   \n",
       "1                   8                            2.0   \n",
       "2         Unspecified                    unspecified   \n",
       "3         Unspecified                    unspecified   \n",
       "4         Unspecified                    unspecified   \n",
       "\n",
       "  CPU_Efficiency_Core_Frequency SD Card Slot          ROM          RAM  \\\n",
       "0                          1.78           No          512            6   \n",
       "1                           2.0    microSDXC           64            4   \n",
       "2                   unspecified           No        0.004  unspecified   \n",
       "3                   unspecified    microSDHC  unspecified  unspecified   \n",
       "4                   unspecified    microSDHC  unspecified  unspecified   \n",
       "\n",
       "   Number_of_Rear_Cameras Storage_Type_Version Storage_Type  \\\n",
       "0                     2.0          unspecified  unspecified   \n",
       "1                     3.0          unspecified  unspecified   \n",
       "2                     0.0          unspecified  unspecified   \n",
       "3                     1.0          unspecified  unspecified   \n",
       "4                     1.0          unspecified  unspecified   \n",
       "\n",
       "  Highest_Camera_Resolution     HDR Rear_Video_Resolution  \\\n",
       "0                        24     HDR                    4K   \n",
       "1                        16     HDR                 1080p   \n",
       "2                 no camera  no HDR              no video   \n",
       "3                         2  no HDR           unspecified   \n",
       "4                         2  no HDR           unspecified   \n",
       "\n",
       "  Rear_Video_Framerate  Number_of_Selfie_Cameras Selfie_Video_Resolution  \\\n",
       "0                   30                         2                      4K   \n",
       "1                   30                         1             unspecified   \n",
       "2             no video                         0             unspecified   \n",
       "3          unspecified                         0             unspecified   \n",
       "4          unspecified                         0             unspecified   \n",
       "\n",
       "  Selfie_Video_Framerate Headphone_Jack WI-FI Bluetooth NFC Radio  \\\n",
       "0                     30             No   Yes       5.1  No    No   \n",
       "1            unspecified            Yes   Yes       4.2  No   Yes   \n",
       "2            unspecified             No    No        No  No    No   \n",
       "3            unspecified             No    No       2.1  No   Yes   \n",
       "4            unspecified             No    No       2.1  No   Yes   \n",
       "\n",
       "  USB_Connector  USB_Version Biometric_Sensor Biometric_Sensor_Type  \\\n",
       "0        Type-C  unspecified              Yes           Fingerprint   \n",
       "1        Type-C  unspecified              Yes           Fingerprint   \n",
       "2            No           No               No                    No   \n",
       "3   unspecified          2.0               No                    No   \n",
       "4   unspecified          2.0               No                    No   \n",
       "\n",
       "  Biometric_Sensor_Technology Biometric_Sensor_Location UWB Removable  \\\n",
       "0                          No              Side-mounted  No        No   \n",
       "1                          No              Rear-mounted  No        No   \n",
       "2                          No                        No  No       Yes   \n",
       "3                          No                        No  No       Yes   \n",
       "4                          No                        No  No       Yes   \n",
       "\n",
       "  Battery_Type Battery_Capacity  Colors Charging_Speed Wireless_Charging  \\\n",
       "0        Li-Po             3800       5             18       unspecified   \n",
       "1        Li-Po             5000       2             18       unspecified   \n",
       "2       Li-Ion              690       1    unspecified       unspecified   \n",
       "3       Li-Ion             1000       3    unspecified       unspecified   \n",
       "4       Li-Ion             1000       3    unspecified       unspecified   \n",
       "\n",
       "  Reverse_Charging Loudspeaker_Voice Loudspeaker_Noise Loudspeaker_Ring  \\\n",
       "0      unspecified          untested          untested         untested   \n",
       "1      unspecified          untested          untested         untested   \n",
       "2      unspecified          untested          untested         untested   \n",
       "3      unspecified          untested          untested         untested   \n",
       "4      unspecified          untested          untested         untested   \n",
       "\n",
       "  Battery_Life      IP_Rating        Price  \n",
       "0     untested  No Resistance  unspecified  \n",
       "1     untested  No Resistance  unspecified  \n",
       "2     untested  No Resistance  unspecified  \n",
       "3     untested  No Resistance  unspecified  \n",
       "4     untested  No Resistance  unspecified  "
      ]
     },
     "execution_count": 208,
     "metadata": {},
     "output_type": "execute_result"
    }
   ],
   "source": [
    "cleaned_gsm_arena_data.head()"
   ]
  },
  {
   "cell_type": "code",
   "execution_count": 209,
   "metadata": {},
   "outputs": [
    {
     "data": {
      "text/plain": [
       "(11936, 68)"
      ]
     },
     "execution_count": 209,
     "metadata": {},
     "output_type": "execute_result"
    }
   ],
   "source": [
    "cleaned_gsm_arena_data.shape\n"
   ]
  },
  {
   "attachments": {},
   "cell_type": "markdown",
   "metadata": {},
   "source": [
    "***** Brands *****"
   ]
  },
  {
   "cell_type": "code",
   "execution_count": 210,
   "metadata": {},
   "outputs": [
    {
     "data": {
      "text/plain": [
       "119"
      ]
     },
     "execution_count": 210,
     "metadata": {},
     "output_type": "execute_result"
    }
   ],
   "source": [
    "cleaned_gsm_arena_data['Brand'].unique().size"
   ]
  },
  {
   "cell_type": "code",
   "execution_count": 211,
   "metadata": {},
   "outputs": [
    {
     "data": {
      "image/png": "[encoded data removed]",
      "text/plain": [
       "<Figure size 1440x720 with 1 Axes>"
      ]
     },
     "metadata": {},
     "output_type": "display_data"
    }
   ],
   "source": [
    "sns.set_style('darkgrid')\n",
    "\n",
    "# Count the number of occurrences for each value in the 'Brand' column\n",
    "brand_counts = cleaned_gsm_arena_data['Brand'].value_counts()\n",
    "\n",
    "# Create a bar plot using seaborn\n",
    "plt.figure(figsize=(20, 10))\n",
    "sns.barplot(x=brand_counts.index, y=brand_counts.values)\n",
    "\n",
    "# Add actual values on top of each bar\n",
    "for i, v in enumerate(brand_counts.values):\n",
    "    plt.text(i, v, str(v), fontsize=10, color='black', ha='center', rotation=90)\n",
    "\n",
    "# Rotate the x-axis labels by 90 degrees\n",
    "plt.xticks(rotation=90)\n",
    "\n",
    "# Add labels to the plot\n",
    "plt.xlabel('Brand')\n",
    "plt.ylabel('Count')\n",
    "plt.title('Count of Phones by Brand', fontsize=20, weight='bold')\n",
    "\n",
    "# Show the plot\n",
    "plt.show()\n"
   ]
  },
  {
   "cell_type": "code",
   "execution_count": 212,
   "metadata": {},
   "outputs": [
    {
     "data": {
      "image/png": "[encoded data removed]",
      "text/plain": [
       "<Figure size 1440x720 with 1 Axes>"
      ]
     },
     "metadata": {},
     "output_type": "display_data"
    }
   ],
   "source": [
    "# Create a countplot using seaborn\n",
    "plt.figure(figsize=(20, 10))\n",
    "ax = sns.countplot(x='Status', data=cleaned_gsm_arena_data)\n",
    "\n",
    "# Add labels to the plot\n",
    "plt.xlabel('Status')\n",
    "plt.ylabel('Count')\n",
    "plt.title('Distribution of Phone Status', fontsize=20, weight='bold')\n",
    "\n",
    "# Add percentages to the plot\n",
    "total = float(len(cleaned_gsm_arena_data['Status']))\n",
    "for p in ax.patches:\n",
    "    percentage = '{:.1f}%'.format(100 * p.get_height()/total)\n",
    "    x = p.get_x() + p.get_width() / 2 - 0.1\n",
    "    y = p.get_y() + p.get_height() + 1\n",
    "    ax.annotate(percentage, (x, y), ha='center', fontsize=10)\n",
    "\n",
    "# Show the plot\n",
    "plt.show()"
   ]
  },
  {
   "cell_type": "code",
   "execution_count": 213,
   "metadata": {},
   "outputs": [
    {
     "data": {
      "image/png": "[encoded data removed]",
      "text/plain": [
       "<Figure size 1440x720 with 1 Axes>"
      ]
     },
     "metadata": {},
     "output_type": "display_data"
    }
   ],
   "source": [
    "# Create a countplot using seaborn\n",
    "plt.figure(figsize=(20, 10))\n",
    "ax = sns.countplot(x='Highest_Network_Technology', data=cleaned_gsm_arena_data)\n",
    "\n",
    "# Rotate the x-axis labels by 90 degrees\n",
    "plt.xticks(rotation=90)\n",
    "\n",
    "# Add labels to the plot\n",
    "plt.xlabel('Status')\n",
    "plt.ylabel('Count')\n",
    "plt.title('Distribution of Highest Network Technology', fontsize=20, weight='bold')\n",
    "\n",
    "# Add percentages to the plot\n",
    "total = float(len(cleaned_gsm_arena_data['Highest_Network_Technology']))\n",
    "for p in ax.patches:\n",
    "    percentage = '{:.1f}%'.format(100 * p.get_height()/total)\n",
    "    x = p.get_x() + p.get_width() / 2 - 0.1\n",
    "    y = p.get_y() + p.get_height() + 1\n",
    "    ax.annotate(percentage, (x, y), ha='center', fontsize=10)\n",
    "\n",
    "# Show the plot\n",
    "plt.show()"
   ]
  },
  {
   "cell_type": "code",
   "execution_count": 214,
   "metadata": {},
   "outputs": [
    {
     "data": {
      "image/png": "[encoded data removed]",
      "text/plain": [
       "<Figure size 1440x720 with 1 Axes>"
      ]
     },
     "metadata": {},
     "output_type": "display_data"
    }
   ],
   "source": [
    "sns.set_style('darkgrid')\n",
    "\n",
    "# Count the number of occurrences for each value in the 'Brand' column\n",
    "brand_counts = cleaned_gsm_arena_data['Brand'].value_counts()\n",
    "not_released_counts = cleaned_gsm_arena_data[cleaned_gsm_arena_data['Released']=='Not Released Yet']['Brand'].value_counts()\n",
    "\n",
    "# Create a bar plot using seaborn\n",
    "plt.figure(figsize=(20, 10))\n",
    "sns.barplot(x=brand_counts.index, y=brand_counts.values, color='blue', label='All Phones from Brand')\n",
    "sns.barplot(x=not_released_counts.index, y=not_released_counts.values, color='gray', label='Phones from band marked as Not Released Yet')\n",
    "\n",
    "# Rotate the x-axis labels by 90 degrees\n",
    "plt.xticks(rotation=90)\n",
    "\n",
    "# Add labels to the plot\n",
    "plt.xlabel('Brand')\n",
    "plt.ylabel('Count')\n",
    "plt.title('Distribution of Not Released Yet Phones', fontsize=20, weight='bold')\n",
    "plt.legend()\n",
    "\n",
    "# Show the plot\n",
    "plt.show()\n"
   ]
  },
  {
   "cell_type": "code",
   "execution_count": 215,
   "metadata": {},
   "outputs": [
    {
     "name": "stdout",
     "output_type": "stream",
     "text": [
      "Brand            Release_Year\n",
      "AT&T             2006              1\n",
      "                 2007              2\n",
      "                 2008              1\n",
      "Acer             2009             10\n",
      "                 2010              8\n",
      "                 2011              8\n",
      "                 2012             12\n",
      "                 2013             11\n",
      "                 2014             18\n",
      "                 2015             16\n",
      "                 2016              9\n",
      "                 2018              1\n",
      "Allview          2011              1\n",
      "                 2012              9\n",
      "                 2013             21\n",
      "                 2014             37\n",
      "                 2015             23\n",
      "                 2016             25\n",
      "                 2017             14\n",
      "                 2018             12\n",
      "                 2019             11\n",
      "                 2020              4\n",
      "Amazon           2011              1\n",
      "                 2012              3\n",
      "                 2013              3\n",
      "                 2014              4\n",
      "                 2015              3\n",
      "                 2017              3\n",
      "                 2019              1\n",
      "                 2020              2\n",
      "                 2021              2\n",
      "                 2022              2\n",
      "Amoi             2003              7\n",
      "                 2004              1\n",
      "                 2007             13\n",
      "Apple            2007              1\n",
      "                 2008              1\n",
      "                 2009              1\n",
      "                 2010              3\n",
      "                 2011              5\n",
      "                 2012              7\n",
      "                 2013              4\n",
      "                 2014              4\n",
      "                 2015             10\n",
      "                 2016             12\n",
      "                 2017              9\n",
      "                 2018              8\n",
      "                 2019              9\n",
      "                 2020             13\n",
      "                 2021             11\n",
      "                 2022             13\n",
      "Archos           2013              8\n",
      "                 2014             11\n",
      "                 2015              4\n",
      "                 2016              3\n",
      "                 2017             12\n",
      "                 2018              1\n",
      "                 2019              4\n",
      "Asus             2006             10\n",
      "                 2007              5\n",
      "                 2008              7\n",
      "                 2009              2\n",
      "                 2011              2\n",
      "                 2012             10\n",
      "                 2013             15\n",
      "                 2014             24\n",
      "                 2015             31\n",
      "                 2016             25\n",
      "                 2017             22\n",
      "                 2018             11\n",
      "                 2019              5\n",
      "                 2020              4\n",
      "                 2021              8\n",
      "                 2022              7\n",
      "BLU              2009              1\n",
      "                 2010             15\n",
      "                 2011              5\n",
      "                 2012             12\n",
      "                 2013             33\n",
      "                 2014             32\n",
      "                 2015             36\n",
      "                 2016             56\n",
      "                 2017             43\n",
      "                 2018             22\n",
      "                 2019             23\n",
      "                 2020             22\n",
      "                 2021             14\n",
      "                 2022             20\n",
      "BQ               2015              6\n",
      "                 2016              4\n",
      "                 2017              6\n",
      "                 2018              4\n",
      "BenQ             2006              1\n",
      "                 2007              4\n",
      "                 2008              4\n",
      "                 2013              2\n",
      "                 2014              3\n",
      "                 2015              1\n",
      "BenQ-Siemens     2006             22\n",
      "                 2007              5\n",
      "Benefon          1999              3\n",
      "                 2000              4\n",
      "                 2006              1\n",
      "                 2007              1\n",
      "Bird             2007             25\n",
      "BlackBerry       2006              5\n",
      "                 2007              8\n",
      "                 2008              6\n",
      "                 2009              7\n",
      "                 2010              9\n",
      "                 2011             13\n",
      "                 2012              4\n",
      "                 2013              6\n",
      "                 2014              4\n",
      "                 2015              3\n",
      "                 2016              2\n",
      "                 2017              3\n",
      "                 2018              4\n",
      "Blackview        2017              5\n",
      "                 2018              1\n",
      "                 2019              2\n",
      "                 2020              8\n",
      "                 2021             17\n",
      "                 2022             19\n",
      "Bosch            1996              3\n",
      "                 1997              2\n",
      "                 1998              1\n",
      "                 1999              4\n",
      "Casio            2010              1\n",
      "                 2011              3\n",
      "                 2013              1\n",
      "Cat              2013              3\n",
      "                 2014              2\n",
      "                 2015              3\n",
      "                 2016              1\n",
      "                 2017              2\n",
      "                 2018              2\n",
      "                 2019              1\n",
      "                 2020              2\n",
      "                 2021              4\n",
      "                 2022              1\n",
      "Celkon           2010             11\n",
      "                 2011             48\n",
      "                 2012             43\n",
      "                 2013             50\n",
      "                 2014             49\n",
      "                 2015             21\n",
      "Coolpad          2015              5\n",
      "                 2016             12\n",
      "                 2017              7\n",
      "                 2018              4\n",
      "                 2019              3\n",
      "                 2020              4\n",
      "                 2021              4\n",
      "                 2022              1\n",
      "Dell             2009              2\n",
      "                 2010              6\n",
      "                 2011              3\n",
      "                 2012              1\n",
      "                 2013              3\n",
      "                 2015              2\n",
      "Doogee           2020              7\n",
      "                 2021             18\n",
      "                 2022             14\n",
      "Emporia          2010              1\n",
      "                 2011              3\n",
      "                 2012              4\n",
      "                 2013              3\n",
      "                 2014              4\n",
      "Energizer        2015              4\n",
      "                 2016              1\n",
      "                 2017              7\n",
      "                 2018             12\n",
      "                 2019             21\n",
      "                 2020              2\n",
      "                 2021             10\n",
      "                 2022              4\n",
      "Ericsson         1994              1\n",
      "                 1995              7\n",
      "                 1996              3\n",
      "                 1997              4\n",
      "                 1998              2\n",
      "                 1999              6\n",
      "                 2000              7\n",
      "                 2001              4\n",
      "Eten             2006              5\n",
      "                 2007              2\n",
      "                 2008              9\n",
      "Fairphone        2019              1\n",
      "                 2020              1\n",
      "                 2021              1\n",
      "Fujitsu Siemens  2006              2\n",
      "Garmin-Asus      2009              2\n",
      "                 2010              2\n",
      "Gigabyte         2005             11\n",
      "                 2006              2\n",
      "                 2007              2\n",
      "                 2008              4\n",
      "                 2009              2\n",
      "                 2010              2\n",
      "                 2011              5\n",
      "                 2012              3\n",
      "                 2013             10\n",
      "                 2014             10\n",
      "                 2015              7\n",
      "Gionee           2013             15\n",
      "                 2014             13\n",
      "                 2015             16\n",
      "                 2016             15\n",
      "                 2017             15\n",
      "                 2018              3\n",
      "                 2020              9\n",
      "                 2021              6\n",
      "                 2022              1\n",
      "Google           2015              1\n",
      "                 2016              2\n",
      "                 2017              2\n",
      "                 2018              2\n",
      "                 2019              4\n",
      "                 2020              3\n",
      "                 2021              3\n",
      "                 2022              4\n",
      "HP               2006              3\n",
      "                 2007              2\n",
      "                 2008              1\n",
      "                 2009              3\n",
      "                 2011              6\n",
      "                 2013              5\n",
      "                 2014              9\n",
      "                 2015              3\n",
      "                 2016              1\n",
      "HTC              2006              8\n",
      "                 2007             10\n",
      "                 2008             14\n",
      "                 2009             18\n",
      "                 2010             17\n",
      "                 2011             38\n",
      "                 2012             27\n",
      "                 2013             20\n",
      "                 2014             33\n",
      "                 2015             25\n",
      "                 2016             17\n",
      "                 2017              6\n",
      "                 2018              7\n",
      "                 2019              8\n",
      "                 2020              6\n",
      "                 2021              3\n",
      "                 2022              2\n",
      "Haier            2003              2\n",
      "                 2004             17\n",
      "                 2005              5\n",
      "                 2006              1\n",
      "                 2010             14\n",
      "                 2017              3\n",
      "                 2018              5\n",
      "Honor            2011              1\n",
      "                 2012              1\n",
      "                 2013              3\n",
      "                 2014              8\n",
      "                 2015              5\n",
      "                 2016             10\n",
      "                 2017              6\n",
      "                 2018             14\n",
      "                 2019             21\n",
      "                 2020             29\n",
      "                 2021             26\n",
      "                 2022             35\n",
      "Huawei           2008              4\n",
      "                 2009              6\n",
      "                 2010              8\n",
      "                 2011             23\n",
      "                 2012             24\n",
      "                 2013             23\n",
      "                 2014             26\n",
      "                 2015             24\n",
      "                 2016             19\n",
      "                 2017             29\n",
      "                 2018             33\n",
      "                 2019             43\n",
      "                 2020             48\n",
      "                 2021             31\n",
      "                 2022             27\n",
      "Icemobile        2010              1\n",
      "                 2011             14\n",
      "                 2012             17\n",
      "                 2013              8\n",
      "                 2014             12\n",
      "                 2015              4\n",
      "                 2016              1\n",
      "                 2017              1\n",
      "Infinix          2016              3\n",
      "                 2017              7\n",
      "                 2018             13\n",
      "                 2019             13\n",
      "                 2020             16\n",
      "                 2021             21\n",
      "                 2022             27\n",
      "Innostream       2004              1\n",
      "                 2005              2\n",
      "Intex            2014              3\n",
      "                 2015             11\n",
      "                 2016              1\n",
      "Jolla            2013              1\n",
      "                 2014              1\n",
      "                 2016              1\n",
      "Karbonn          2012             28\n",
      "                 2013             20\n",
      "                 2014             11\n",
      "                 2015              1\n",
      "Kyocera          2000              1\n",
      "                 2008              5\n",
      "                 2011              7\n",
      "                 2012              1\n",
      "                 2013              2\n",
      "                 2014              3\n",
      "                 2015              1\n",
      "                 2016              1\n",
      "                 2018              1\n",
      "LG               2002              3\n",
      "                 2005             11\n",
      "                 2006             35\n",
      "                 2007             27\n",
      "                 2008             47\n",
      "                 2009             49\n",
      "                 2010             77\n",
      "                 2011             50\n",
      "                 2012             36\n",
      "                 2013             32\n",
      "                 2014             52\n",
      "                 2015             27\n",
      "                 2016             27\n",
      "                 2017             17\n",
      "                 2018             20\n",
      "                 2019             20\n",
      "                 2020             27\n",
      "                 2021              3\n",
      "                 2022              1\n",
      "Lava             2013             12\n",
      "                 2014             27\n",
      "                 2015             25\n",
      "                 2016             34\n",
      "                 2017             10\n",
      "                 2018              6\n",
      "                 2019              2\n",
      "                 2020              2\n",
      "                 2021              7\n",
      "                 2022              8\n",
      "LeEco            2016              7\n",
      "                 2017              2\n",
      "Lenovo           2011             11\n",
      "                 2012             11\n",
      "                 2013             26\n",
      "                 2014             33\n",
      "                 2015             35\n",
      "                 2016             30\n",
      "                 2017             12\n",
      "                 2018             13\n",
      "                 2019             15\n",
      "                 2020             10\n",
      "                 2021             16\n",
      "                 2022             10\n",
      "MWg              2007              2\n",
      "                 2008              3\n",
      "Maxon            1999              8\n",
      "                 2000              4\n",
      "                 2003              9\n",
      "                 2004              8\n",
      "Maxwest          2013             13\n",
      "                 2014             10\n",
      "                 2015             10\n",
      "                 2016              6\n",
      "                 2017              2\n",
      "Meizu            2012              3\n",
      "                 2013              1\n",
      "                 2014              2\n",
      "                 2015              7\n",
      "                 2016             15\n",
      "                 2017              7\n",
      "                 2018             16\n",
      "                 2019              7\n",
      "                 2020              2\n",
      "                 2021              6\n",
      "Micromax         2008              1\n",
      "                 2009              9\n",
      "                 2010             33\n",
      "                 2011             19\n",
      "                 2012             39\n",
      "                 2013             40\n",
      "                 2014             30\n",
      "                 2015             50\n",
      "                 2016             25\n",
      "                 2017             21\n",
      "                 2018              7\n",
      "                 2019              1\n",
      "                 2020              2\n",
      "                 2021              2\n",
      "                 2022              2\n",
      "Microsoft        2010              4\n",
      "                 2012              1\n",
      "                 2013              1\n",
      "                 2014              2\n",
      "                 2015             18\n",
      "                 2016              1\n",
      "                 2020              1\n",
      "                 2021              1\n",
      "Mitac            2005              1\n",
      "                 2007              1\n",
      "                 2009              2\n",
      "Mitsubishi       1999              4\n",
      "                 2000              7\n",
      "                 2003              1\n",
      "Modu             2009              6\n",
      "Motorola         1997              5\n",
      "                 1998              5\n",
      "                 1999              7\n",
      "                 2000              8\n",
      "                 2001              7\n",
      "                 2002             13\n",
      "                 2003              7\n",
      "                 2005              9\n",
      "                 2006             13\n",
      "                 2007             19\n",
      "                 2008             30\n",
      "                 2009             21\n",
      "                 2010             45\n",
      "                 2011             47\n",
      "                 2012             31\n",
      "                 2013              8\n",
      "                 2014             12\n",
      "                 2015             15\n",
      "                 2016             10\n",
      "                 2017             13\n",
      "                 2018             13\n",
      "                 2019             14\n",
      "                 2020             27\n",
      "                 2021             37\n",
      "                 2022             37\n",
      "NEC              1997              1\n",
      "                 1999              2\n",
      "                 2000              2\n",
      "                 2001              2\n",
      "                 2002              2\n",
      "                 2003              4\n",
      "                 2004              3\n",
      "                 2005              1\n",
      "                 2006              7\n",
      "                 2013              1\n",
      "NIU              2012             10\n",
      "                 2013              6\n",
      "                 2014              9\n",
      "                 2015              3\n",
      "                 2016              1\n",
      "Neonode          2003              1\n",
      "                 2007              1\n",
      "Nokia            1995              1\n",
      "                 1996              1\n",
      "                 1997              1\n",
      "                 1998              6\n",
      "                 1999              4\n",
      "                 2000              6\n",
      "                 2001              4\n",
      "                 2002              6\n",
      "                 2003              3\n",
      "                 2004              2\n",
      "                 2005             16\n",
      "                 2006             29\n",
      "                 2007             37\n",
      "                 2008             36\n",
      "                 2009             44\n",
      "                 2010             33\n",
      "                 2011             34\n",
      "                 2012             30\n",
      "                 2013             26\n",
      "                 2014             23\n",
      "                 2015              9\n",
      "                 2016              1\n",
      "                 2017             11\n",
      "                 2018             15\n",
      "                 2019             18\n",
      "                 2020             19\n",
      "                 2021             23\n",
      "                 2022             22\n",
      "Nothing          2022              1\n",
      "Nvidia           2014              2\n",
      "                 2015              1\n",
      "O2               2003              3\n",
      "                 2005              5\n",
      "                 2006             10\n",
      "                 2007              9\n",
      "                 2008              4\n",
      "                 2009              1\n",
      "OnePlus          2014              1\n",
      "                 2015              2\n",
      "                 2016              2\n",
      "                 2017              2\n",
      "                 2018              3\n",
      "                 2019              6\n",
      "                 2020              9\n",
      "                 2021              8\n",
      "                 2022             14\n",
      "                 2023              1\n",
      "Oppo             2012              7\n",
      "                 2013              6\n",
      "                 2014             11\n",
      "                 2015             19\n",
      "                 2016              9\n",
      "                 2017             12\n",
      "                 2018             20\n",
      "                 2019             25\n",
      "                 2020             42\n",
      "                 2021             51\n",
      "                 2022             51\n",
      "Orange           2011              7\n",
      "                 2012              2\n",
      "                 2014              3\n",
      "                 2019              1\n",
      "Palm             2002              1\n",
      "                 2003              1\n",
      "                 2006              2\n",
      "                 2007              1\n",
      "                 2008              3\n",
      "                 2009              1\n",
      "                 2010              4\n",
      "                 2018              1\n",
      "Panasonic        1998              1\n",
      "                 1999              3\n",
      "                 2000              2\n",
      "                 2001              3\n",
      "                 2002              3\n",
      "                 2011              2\n",
      "                 2012              3\n",
      "                 2013              2\n",
      "                 2014             11\n",
      "                 2015             10\n",
      "                 2016             14\n",
      "                 2017             21\n",
      "                 2018             11\n",
      "                 2019              2\n",
      "Pantech          2003              3\n",
      "                 2004              5\n",
      "                 2006              9\n",
      "                 2007              1\n",
      "                 2008              2\n",
      "                 2009              3\n",
      "                 2010              8\n",
      "                 2011              7\n",
      "                 2012              8\n",
      "                 2013              3\n",
      "Parla            2014              1\n",
      "                 2015              1\n",
      "                 2016              1\n",
      "Philips          1996              1\n",
      "                 1997              2\n",
      "                 1999              5\n",
      "                 2000              8\n",
      "                 2001              1\n",
      "                 2002              6\n",
      "                 2005              4\n",
      "                 2006             15\n",
      "                 2007             15\n",
      "                 2008             15\n",
      "                 2009             13\n",
      "                 2010             23\n",
      "                 2011             17\n",
      "                 2012             23\n",
      "                 2013             23\n",
      "                 2014              3\n",
      "                 2015              9\n",
      "                 2021              2\n",
      "Plum             2011             19\n",
      "                 2012             16\n",
      "                 2013             16\n",
      "                 2014             18\n",
      "                 2015              9\n",
      "                 2016              9\n",
      "                 2017              6\n",
      "                 2018             11\n",
      "                 2019              3\n",
      "                 2020              2\n",
      "                 2021              1\n",
      "                 2022              3\n",
      "Posh             2014             12\n",
      "                 2015              9\n",
      "                 2016              8\n",
      "                 2017              1\n",
      "Prestigio        2013             42\n",
      "                 2014              5\n",
      "QMobile          2013              5\n",
      "                 2014             28\n",
      "                 2015             35\n",
      "                 2016             13\n",
      "                 2017              9\n",
      "Qtek             2003              1\n",
      "                 2005              3\n",
      "                 2006              4\n",
      "Razer            2017              1\n",
      "                 2018              1\n",
      "Realme           2018              5\n",
      "                 2019             14\n",
      "                 2020             44\n",
      "                 2021             43\n",
      "                 2022             42\n",
      "Sagem            1997              1\n",
      "                 1998              4\n",
      "                 1999              3\n",
      "                 2000              5\n",
      "                 2001              8\n",
      "                 2002              4\n",
      "                 2005              2\n",
      "                 2006             18\n",
      "                 2007             10\n",
      "                 2008             23\n",
      "                 2010              1\n",
      "Samsung          1996              1\n",
      "                 1998              1\n",
      "                 1999              4\n",
      "                 2000              6\n",
      "                 2001             10\n",
      "                 2002              8\n",
      "                 2003              3\n",
      "                 2004              6\n",
      "                 2005              2\n",
      "                 2006             66\n",
      "                 2007             64\n",
      "                 2008             96\n",
      "                 2009            121\n",
      "                 2010             98\n",
      "                 2011            114\n",
      "                 2012             84\n",
      "                 2013             64\n",
      "                 2014             89\n",
      "                 2015             52\n",
      "                 2016             43\n",
      "                 2017             28\n",
      "                 2018             31\n",
      "                 2019             45\n",
      "                 2020             55\n",
      "                 2021             43\n",
      "                 2022             37\n",
      "                 2023              1\n",
      "Sendo            2000              1\n",
      "                 2002              2\n",
      "Sewon            2002              4\n",
      "Sharp            2002              2\n",
      "                 2003              1\n",
      "                 2004              1\n",
      "                 2005              2\n",
      "                 2006              5\n",
      "                 2007              2\n",
      "                 2008              5\n",
      "                 2009              2\n",
      "                 2010              3\n",
      "                 2011              2\n",
      "                 2012              2\n",
      "                 2014              1\n",
      "                 2015              2\n",
      "                 2016              2\n",
      "                 2017              2\n",
      "                 2018              9\n",
      "                 2019              4\n",
      "                 2020              3\n",
      "                 2021              2\n",
      "                 2022              3\n",
      "Siemens          1998              5\n",
      "                 1999              3\n",
      "                 2000              9\n",
      "                 2001              7\n",
      "                 2002              6\n",
      "                 2003              1\n",
      "                 2004              9\n",
      "                 2005             13\n",
      "Sonim            2007              1\n",
      "                 2008              1\n",
      "                 2009              1\n",
      "                 2010              3\n",
      "                 2011              3\n",
      "                 2014              1\n",
      "                 2015              1\n",
      "                 2018              2\n",
      "                 2019              1\n",
      "                 2021              1\n",
      "                 2022              1\n",
      "Sony             1997              4\n",
      "                 1999              1\n",
      "                 2000              3\n",
      "                 2001              2\n",
      "                 2011              3\n",
      "                 2012             24\n",
      "                 2013             14\n",
      "                 2014             24\n",
      "                 2015             22\n",
      "                 2016              8\n",
      "                 2017              9\n",
      "                 2018              8\n",
      "                 2019              5\n",
      "                 2020              4\n",
      "                 2021              6\n",
      "                 2022              3\n",
      "Sony Ericsson    2002              6\n",
      "                 2003              1\n",
      "                 2004              3\n",
      "                 2005             11\n",
      "                 2006             24\n",
      "                 2007             26\n",
      "                 2008             34\n",
      "                 2009             21\n",
      "                 2010             14\n",
      "                 2011             16\n",
      "Spice            2010             36\n",
      "                 2011             15\n",
      "                 2012             16\n",
      "                 2013             23\n",
      "                 2014             26\n",
      "T-Mobile         2006              3\n",
      "                 2007              3\n",
      "                 2008              3\n",
      "                 2009             12\n",
      "                 2010             10\n",
      "                 2011             13\n",
      "                 2012              4\n",
      "                 2013              1\n",
      "                 2017              1\n",
      "                 2019              2\n",
      "                 2020              3\n",
      "                 2021              1\n",
      "                 2022              2\n",
      "TCL              2019              1\n",
      "                 2020             10\n",
      "                 2021             16\n",
      "                 2022             18\n",
      "Tecno            2016              1\n",
      "                 2017              7\n",
      "                 2018             17\n",
      "                 2019             18\n",
      "                 2020             20\n",
      "                 2021             24\n",
      "                 2022             23\n",
      "Tel.Me.          2002              1\n",
      "                 2003              3\n",
      "Telit            1999              5\n",
      "                 2002              3\n",
      "Thuraya          2007              1\n",
      "Toshiba          2005              1\n",
      "                 2006              8\n",
      "                 2007              2\n",
      "                 2008              4\n",
      "                 2009              1\n",
      "                 2010              2\n",
      "                 2011              2\n",
      "                 2012              5\n",
      "                 2013              3\n",
      "                 2014              2\n",
      "Ulefone          2017              1\n",
      "                 2018              4\n",
      "                 2019             13\n",
      "                 2020             17\n",
      "                 2021             18\n",
      "                 2022             11\n",
      "Unnecto          2011              6\n",
      "                 2012              5\n",
      "                 2013              2\n",
      "                 2014              3\n",
      "                 2015              8\n",
      "                 2016              6\n",
      "VK Mobile        2005              1\n",
      "                 2006              8\n",
      "                 2008              1\n",
      "Vertu            2003              1\n",
      "                 2004              1\n",
      "                 2005              1\n",
      "                 2006              1\n",
      "                 2008              2\n",
      "                 2009              1\n",
      "                 2010              2\n",
      "                 2011              1\n",
      "                 2013              2\n",
      "                 2014              2\n",
      "                 2015              1\n",
      "Vodafone         2006              1\n",
      "                 2007              6\n",
      "                 2008              7\n",
      "                 2009             11\n",
      "                 2010             11\n",
      "                 2011              2\n",
      "                 2012              6\n",
      "                 2013              5\n",
      "                 2014              5\n",
      "                 2015              6\n",
      "                 2016              6\n",
      "                 2017              4\n",
      "                 2018              4\n",
      "                 2019              2\n",
      "WND              2007              5\n",
      "Wiko             2014             11\n",
      "                 2015             17\n",
      "                 2016             13\n",
      "                 2017             17\n",
      "                 2018              5\n",
      "                 2019              9\n",
      "                 2020             11\n",
      "                 2021              7\n",
      "                 2022              4\n",
      "XCute            2006              2\n",
      "XOLO             2013             24\n",
      "                 2014             37\n",
      "                 2015             12\n",
      "                 2016              6\n",
      "                 2017              1\n",
      "Xiaomi           2012              2\n",
      "                 2013              4\n",
      "                 2014              6\n",
      "                 2015             12\n",
      "                 2016             18\n",
      "                 2017             14\n",
      "                 2018             23\n",
      "                 2019             35\n",
      "                 2020             55\n",
      "                 2021             65\n",
      "                 2022             71\n",
      "                 2023              4\n",
      "YU               2015              5\n",
      "                 2016              4\n",
      "                 2017              3\n",
      "                 2018              1\n",
      "Yezz             2011             10\n",
      "                 2012              8\n",
      "                 2013             15\n",
      "                 2014             21\n",
      "                 2015             19\n",
      "                 2016             14\n",
      "                 2018              4\n",
      "                 2019              2\n",
      "                 2020              4\n",
      "                 2021              5\n",
      "                 2022              5\n",
      "Yota             2013              1\n",
      "                 2014              1\n",
      "                 2017              1\n",
      "ZTE              2007              1\n",
      "                 2008              2\n",
      "                 2009             14\n",
      "                 2010             14\n",
      "                 2011             15\n",
      "                 2012             31\n",
      "                 2013             20\n",
      "                 2014             27\n",
      "                 2015             38\n",
      "                 2016             25\n",
      "                 2017             31\n",
      "                 2018             12\n",
      "                 2019             18\n",
      "                 2020             23\n",
      "                 2021             31\n",
      "                 2022             24\n",
      "alcatel          1998              1\n",
      "                 1999              1\n",
      "                 2000              9\n",
      "                 2001              2\n",
      "                 2002              2\n",
      "                 2003              4\n",
      "                 2006              9\n",
      "                 2007             18\n",
      "                 2008             21\n",
      "                 2009             19\n",
      "                 2010             21\n",
      "                 2011             20\n",
      "                 2012             27\n",
      "                 2013             28\n",
      "                 2014             33\n",
      "                 2015             26\n",
      "                 2016             14\n",
      "                 2017             12\n",
      "                 2018             13\n",
      "                 2019             12\n",
      "                 2020              6\n",
      "                 2021              7\n",
      "                 2022              1\n",
      "i-mate           2005              5\n",
      "                 2006              7\n",
      "                 2007              7\n",
      "                 2008              4\n",
      "                 2009              1\n",
      "i-mobile         2006              1\n",
      "                 2007              6\n",
      "                 2008             12\n",
      "                 2009              6\n",
      "                 2010              5\n",
      "iNQ              2009              3\n",
      "                 2011              2\n",
      "verykool         2011             23\n",
      "                 2012             17\n",
      "                 2013             19\n",
      "                 2014             19\n",
      "                 2015             19\n",
      "                 2016             13\n",
      "                 2017             21\n",
      "                 2018              3\n",
      "vivo             2013              3\n",
      "                 2014              6\n",
      "                 2015             12\n",
      "                 2016             14\n",
      "                 2017             14\n",
      "                 2018             31\n",
      "                 2019             47\n",
      "                 2020             49\n",
      "                 2021             76\n",
      "                 2022             83\n",
      "dtype: int64\n"
     ]
    }
   ],
   "source": [
    "df = cleaned_gsm_arena_data[cleaned_gsm_arena_data['Released']!='Not Released Yet']\n",
    "df['Release_Year'] = df['Released'].apply(lambda x: x.year)\n",
    "# group data by 'Brand' and year, and count the number of phones released\n",
    "phone_counts = df.groupby(['Brand', 'Release_Year']).size()\n",
    "print(phone_counts)"
   ]
  },
  {
   "cell_type": "code",
   "execution_count": 216,
   "metadata": {},
   "outputs": [
    {
     "data": {
      "application/vnd.plotly.v1+json": {
       "config": {
        "plotlyServerURL": "https://plot.ly"
       },
       "data": [
        {
         "hovertemplate": "Brand=AT&T<br>Release_Year=%{x}<br>count=%{y}<extra></extra>",
         "legendgroup": "AT&T",
         "line": {
          "color": "#636efa",
          "dash": "solid"
         },
         "marker": {
          "symbol": "circle"
         },
         "mode": "lines",
         "name": "AT&T",
         "orientation": "v",
         "showlegend": true,
         "type": "scatter",
         "x": [
          2006,
          2007,
          2008
         ],
         "xaxis": "x",
         "y": [
          1,
          2,
          1
         ],
         "yaxis": "y"
        },
        {
         "hovertemplate": "Brand=Acer<br>Release_Year=%{x}<br>count=%{y}<extra></extra>",
         "legendgroup": "Acer",
         "line": {
          "color": "#EF553B",
          "dash": "solid"
         },
         "marker": {
          "symbol": "circle"
         },
         "mode": "lines",
         "name": "Acer",
         "orientation": "v",
         "showlegend": true,
         "type": "scatter",
         "x": [
          2009,
          2010,
          2011,
          2012,
          2013,
          2014,
          2015,
          2016,
          2018
         ],
         "xaxis": "x",
         "y": [
          10,
          8,
          8,
          12,
          11,
          18,
          16,
          9,
          1
         ],
         "yaxis": "y"
        },
        {
         "hovertemplate": "Brand=Allview<br>Release_Year=%{x}<br>count=%{y}<extra></extra>",
         "legendgroup": "Allview",
         "line": {
          "color": "#00cc96",
          "dash": "solid"
         },
         "marker": {
          "symbol": "circle"
         },
         "mode": "lines",
         "name": "Allview",
         "orientation": "v",
         "showlegend": true,
         "type": "scatter",
         "x": [
          2011,
          2012,
          2013,
          2014,
          2015,
          2016,
          2017,
          2018,
          2019,
          2020
         ],
         "xaxis": "x",
         "y": [
          1,
          9,
          21,
          37,
          23,
          25,
          14,
          12,
          11,
          4
         ],
         "yaxis": "y"
        },
        {
         "hovertemplate": "Brand=Amazon<br>Release_Year=%{x}<br>count=%{y}<extra></extra>",
         "legendgroup": "Amazon",
         "line": {
          "color": "#ab63fa",
          "dash": "solid"
         },
         "marker": {
          "symbol": "circle"
         },
         "mode": "lines",
         "name": "Amazon",
         "orientation": "v",
         "showlegend": true,
         "type": "scatter",
         "x": [
          2011,
          2012,
          2013,
          2014,
          2015,
          2017,
          2019,
          2020,
          2021,
          2022
         ],
         "xaxis": "x",
         "y": [
          1,
          3,
          3,
          4,
          3,
          3,
          1,
          2,
          2,
          2
         ],
         "yaxis": "y"
        },
        {
         "hovertemplate": "Brand=Amoi<br>Release_Year=%{x}<br>count=%{y}<extra></extra>",
         "legendgroup": "Amoi",
         "line": {
          "color": "#FFA15A",
          "dash": "solid"
         },
         "marker": {
          "symbol": "circle"
         },
         "mode": "lines",
         "name": "Amoi",
         "orientation": "v",
         "showlegend": true,
         "type": "scatter",
         "x": [
          2003,
          2004,
          2007
         ],
         "xaxis": "x",
         "y": [
          7,
          1,
          13
         ],
         "yaxis": "y"
        },
        {
         "hovertemplate": "Brand=Apple<br>Release_Year=%{x}<br>count=%{y}<extra></extra>",
         "legendgroup": "Apple",
         "line": {
          "color": "#19d3f3",
          "dash": "solid"
         },
         "marker": {
          "symbol": "circle"
         },
         "mode": "lines",
         "name": "Apple",
         "orientation": "v",
         "showlegend": true,
         "type": "scatter",
         "x": [
          2007,
          2008,
          2009,
          2010,
          2011,
          2012,
          2013,
          2014,
          2015,
          2016,
          2017,
          2018,
          2019,
          2020,
          2021,
          2022
         ],
         "xaxis": "x",
         "y": [
          1,
          1,
          1,
          3,
          5,
          7,
          4,
          4,
          10,
          12,
          9,
          8,
          9,
          13,
          11,
          13
         ],
         "yaxis": "y"
        },
        {
         "hovertemplate": "Brand=Archos<br>Release_Year=%{x}<br>count=%{y}<extra></extra>",
         "legendgroup": "Archos",
         "line": {
          "color": "#FF6692",
          "dash": "solid"
         },
         "marker": {
          "symbol": "circle"
         },
         "mode": "lines",
         "name": "Archos",
         "orientation": "v",
         "showlegend": true,
         "type": "scatter",
         "x": [
          2013,
          2014,
          2015,
          2016,
          2017,
          2018,
          2019
         ],
         "xaxis": "x",
         "y": [
          8,
          11,
          4,
          3,
          12,
          1,
          4
         ],
         "yaxis": "y"
        },
        {
         "hovertemplate": "Brand=Asus<br>Release_Year=%{x}<br>count=%{y}<extra></extra>",
         "legendgroup": "Asus",
         "line": {
          "color": "#B6E880",
          "dash": "solid"
         },
         "marker": {
          "symbol": "circle"
         },
         "mode": "lines",
         "name": "Asus",
         "orientation": "v",
         "showlegend": true,
         "type": "scatter",
         "x": [
          2006,
          2007,
          2008,
          2009,
          2011,
          2012,
          2013,
          2014,
          2015,
          2016,
          2017,
          2018,
          2019,
          2020,
          2021,
          2022
         ],
         "xaxis": "x",
         "y": [
          10,
          5,
          7,
          2,
          2,
          10,
          15,
          24,
          31,
          25,
          22,
          11,
          5,
          4,
          8,
          7
         ],
         "yaxis": "y"
        },
        {
         "hovertemplate": "Brand=BLU<br>Release_Year=%{x}<br>count=%{y}<extra></extra>",
         "legendgroup": "BLU",
         "line": {
          "color": "#FF97FF",
          "dash": "solid"
         },
         "marker": {
          "symbol": "circle"
         },
         "mode": "lines",
         "name": "BLU",
         "orientation": "v",
         "showlegend": true,
         "type": "scatter",
         "x": [
          2009,
          2010,
          2011,
          2012,
          2013,
          2014,
          2015,
          2016,
          2017,
          2018,
          2019,
          2020,
          2021,
          2022
         ],
         "xaxis": "x",
         "y": [
          1,
          15,
          5,
          12,
          33,
          32,
          36,
          56,
          43,
          22,
          23,
          22,
          14,
          20
         ],
         "yaxis": "y"
        },
        {
         "hovertemplate": "Brand=BQ<br>Release_Year=%{x}<br>count=%{y}<extra></extra>",
         "legendgroup": "BQ",
         "line": {
          "color": "#FECB52",
          "dash": "solid"
         },
         "marker": {
          "symbol": "circle"
         },
         "mode": "lines",
         "name": "BQ",
         "orientation": "v",
         "showlegend": true,
         "type": "scatter",
         "x": [
          2015,
          2016,
          2017,
          2018
         ],
         "xaxis": "x",
         "y": [
          6,
          4,
          6,
          4
         ],
         "yaxis": "y"
        },
        {
         "hovertemplate": "Brand=BenQ<br>Release_Year=%{x}<br>count=%{y}<extra></extra>",
         "legendgroup": "BenQ",
         "line": {
          "color": "#636efa",
          "dash": "solid"
         },
         "marker": {
          "symbol": "circle"
         },
         "mode": "lines",
         "name": "BenQ",
         "orientation": "v",
         "showlegend": true,
         "type": "scatter",
         "x": [
          2006,
          2007,
          2008,
          2013,
          2014,
          2015
         ],
         "xaxis": "x",
         "y": [
          1,
          4,
          4,
          2,
          3,
          1
         ],
         "yaxis": "y"
        },
        {
         "hovertemplate": "Brand=BenQ-Siemens<br>Release_Year=%{x}<br>count=%{y}<extra></extra>",
         "legendgroup": "BenQ-Siemens",
         "line": {
          "color": "#EF553B",
          "dash": "solid"
         },
         "marker": {
          "symbol": "circle"
         },
         "mode": "lines",
         "name": "BenQ-Siemens",
         "orientation": "v",
         "showlegend": true,
         "type": "scatter",
         "x": [
          2006,
          2007
         ],
         "xaxis": "x",
         "y": [
          22,
          5
         ],
         "yaxis": "y"
        },
        {
         "hovertemplate": "Brand=Benefon<br>Release_Year=%{x}<br>count=%{y}<extra></extra>",
         "legendgroup": "Benefon",
         "line": {
          "color": "#00cc96",
          "dash": "solid"
         },
         "marker": {
          "symbol": "circle"
         },
         "mode": "lines",
         "name": "Benefon",
         "orientation": "v",
         "showlegend": true,
         "type": "scatter",
         "x": [
          1999,
          2000,
          2006,
          2007
         ],
         "xaxis": "x",
         "y": [
          3,
          4,
          1,
          1
         ],
         "yaxis": "y"
        },
        {
         "hovertemplate": "Brand=Bird<br>Release_Year=%{x}<br>count=%{y}<extra></extra>",
         "legendgroup": "Bird",
         "line": {
          "color": "#ab63fa",
          "dash": "solid"
         },
         "marker": {
          "symbol": "circle"
         },
         "mode": "lines",
         "name": "Bird",
         "orientation": "v",
         "showlegend": true,
         "type": "scatter",
         "x": [
          2007
         ],
         "xaxis": "x",
         "y": [
          25
         ],
         "yaxis": "y"
        },
        {
         "hovertemplate": "Brand=BlackBerry<br>Release_Year=%{x}<br>count=%{y}<extra></extra>",
         "legendgroup": "BlackBerry",
         "line": {
          "color": "#FFA15A",
          "dash": "solid"
         },
         "marker": {
          "symbol": "circle"
         },
         "mode": "lines",
         "name": "BlackBerry",
         "orientation": "v",
         "showlegend": true,
         "type": "scatter",
         "x": [
          2006,
          2007,
          2008,
          2009,
          2010,
          2011,
          2012,
          2013,
          2014,
          2015,
          2016,
          2017,
          2018
         ],
         "xaxis": "x",
         "y": [
          5,
          8,
          6,
          7,
          9,
          13,
          4,
          6,
          4,
          3,
          2,
          3,
          4
         ],
         "yaxis": "y"
        },
        {
         "hovertemplate": "Brand=Blackview<br>Release_Year=%{x}<br>count=%{y}<extra></extra>",
         "legendgroup": "Blackview",
         "line": {
          "color": "#19d3f3",
          "dash": "solid"
         },
         "marker": {
          "symbol": "circle"
         },
         "mode": "lines",
         "name": "Blackview",
         "orientation": "v",
         "showlegend": true,
         "type": "scatter",
         "x": [
          2017,
          2018,
          2019,
          2020,
          2021,
          2022
         ],
         "xaxis": "x",
         "y": [
          5,
          1,
          2,
          8,
          17,
          19
         ],
         "yaxis": "y"
        },
        {
         "hovertemplate": "Brand=Bosch<br>Release_Year=%{x}<br>count=%{y}<extra></extra>",
         "legendgroup": "Bosch",
         "line": {
          "color": "#FF6692",
          "dash": "solid"
         },
         "marker": {
          "symbol": "circle"
         },
         "mode": "lines",
         "name": "Bosch",
         "orientation": "v",
         "showlegend": true,
         "type": "scatter",
         "x": [
          1996,
          1997,
          1998,
          1999
         ],
         "xaxis": "x",
         "y": [
          3,
          2,
          1,
          4
         ],
         "yaxis": "y"
        },
        {
         "hovertemplate": "Brand=Casio<br>Release_Year=%{x}<br>count=%{y}<extra></extra>",
         "legendgroup": "Casio",
         "line": {
          "color": "#B6E880",
          "dash": "solid"
         },
         "marker": {
          "symbol": "circle"
         },
         "mode": "lines",
         "name": "Casio",
         "orientation": "v",
         "showlegend": true,
         "type": "scatter",
         "x": [
          2010,
          2011,
          2013
         ],
         "xaxis": "x",
         "y": [
          1,
          3,
          1
         ],
         "yaxis": "y"
        },
        {
         "hovertemplate": "Brand=Cat<br>Release_Year=%{x}<br>count=%{y}<extra></extra>",
         "legendgroup": "Cat",
         "line": {
          "color": "#FF97FF",
          "dash": "solid"
         },
         "marker": {
          "symbol": "circle"
         },
         "mode": "lines",
         "name": "Cat",
         "orientation": "v",
         "showlegend": true,
         "type": "scatter",
         "x": [
          2013,
          2014,
          2015,
          2016,
          2017,
          2018,
          2019,
          2020,
          2021,
          2022
         ],
         "xaxis": "x",
         "y": [
          3,
          2,
          3,
          1,
          2,
          2,
          1,
          2,
          4,
          1
         ],
         "yaxis": "y"
        },
        {
         "hovertemplate": "Brand=Celkon<br>Release_Year=%{x}<br>count=%{y}<extra></extra>",
         "legendgroup": "Celkon",
         "line": {
          "color": "#FECB52",
          "dash": "solid"
         },
         "marker": {
          "symbol": "circle"
         },
         "mode": "lines",
         "name": "Celkon",
         "orientation": "v",
         "showlegend": true,
         "type": "scatter",
         "x": [
          2010,
          2011,
          2012,
          2013,
          2014,
          2015
         ],
         "xaxis": "x",
         "y": [
          11,
          48,
          43,
          50,
          49,
          21
         ],
         "yaxis": "y"
        },
        {
         "hovertemplate": "Brand=Coolpad<br>Release_Year=%{x}<br>count=%{y}<extra></extra>",
         "legendgroup": "Coolpad",
         "line": {
          "color": "#636efa",
          "dash": "solid"
         },
         "marker": {
          "symbol": "circle"
         },
         "mode": "lines",
         "name": "Coolpad",
         "orientation": "v",
         "showlegend": true,
         "type": "scatter",
         "x": [
          2015,
          2016,
          2017,
          2018,
          2019,
          2020,
          2021,
          2022
         ],
         "xaxis": "x",
         "y": [
          5,
          12,
          7,
          4,
          3,
          4,
          4,
          1
         ],
         "yaxis": "y"
        },
        {
         "hovertemplate": "Brand=Dell<br>Release_Year=%{x}<br>count=%{y}<extra></extra>",
         "legendgroup": "Dell",
         "line": {
          "color": "#EF553B",
          "dash": "solid"
         },
         "marker": {
          "symbol": "circle"
         },
         "mode": "lines",
         "name": "Dell",
         "orientation": "v",
         "showlegend": true,
         "type": "scatter",
         "x": [
          2009,
          2010,
          2011,
          2012,
          2013,
          2015
         ],
         "xaxis": "x",
         "y": [
          2,
          6,
          3,
          1,
          3,
          2
         ],
         "yaxis": "y"
        },
        {
         "hovertemplate": "Brand=Doogee<br>Release_Year=%{x}<br>count=%{y}<extra></extra>",
         "legendgroup": "Doogee",
         "line": {
          "color": "#00cc96",
          "dash": "solid"
         },
         "marker": {
          "symbol": "circle"
         },
         "mode": "lines",
         "name": "Doogee",
         "orientation": "v",
         "showlegend": true,
         "type": "scatter",
         "x": [
          2020,
          2021,
          2022
         ],
         "xaxis": "x",
         "y": [
          7,
          18,
          14
         ],
         "yaxis": "y"
        },
        {
         "hovertemplate": "Brand=Emporia<br>Release_Year=%{x}<br>count=%{y}<extra></extra>",
         "legendgroup": "Emporia",
         "line": {
          "color": "#ab63fa",
          "dash": "solid"
         },
         "marker": {
          "symbol": "circle"
         },
         "mode": "lines",
         "name": "Emporia",
         "orientation": "v",
         "showlegend": true,
         "type": "scatter",
         "x": [
          2010,
          2011,
          2012,
          2013,
          2014
         ],
         "xaxis": "x",
         "y": [
          1,
          3,
          4,
          3,
          4
         ],
         "yaxis": "y"
        },
        {
         "hovertemplate": "Brand=Energizer<br>Release_Year=%{x}<br>count=%{y}<extra></extra>",
         "legendgroup": "Energizer",
         "line": {
          "color": "#FFA15A",
          "dash": "solid"
         },
         "marker": {
          "symbol": "circle"
         },
         "mode": "lines",
         "name": "Energizer",
         "orientation": "v",
         "showlegend": true,
         "type": "scatter",
         "x": [
          2015,
          2016,
          2017,
          2018,
          2019,
          2020,
          2021,
          2022
         ],
         "xaxis": "x",
         "y": [
          4,
          1,
          7,
          12,
          21,
          2,
          10,
          4
         ],
         "yaxis": "y"
        },
        {
         "hovertemplate": "Brand=Ericsson<br>Release_Year=%{x}<br>count=%{y}<extra></extra>",
         "legendgroup": "Ericsson",
         "line": {
          "color": "#19d3f3",
          "dash": "solid"
         },
         "marker": {
          "symbol": "circle"
         },
         "mode": "lines",
         "name": "Ericsson",
         "orientation": "v",
         "showlegend": true,
         "type": "scatter",
         "x": [
          1994,
          1995,
          1996,
          1997,
          1998,
          1999,
          2000,
          2001
         ],
         "xaxis": "x",
         "y": [
          1,
          7,
          3,
          4,
          2,
          6,
          7,
          4
         ],
         "yaxis": "y"
        },
        {
         "hovertemplate": "Brand=Eten<br>Release_Year=%{x}<br>count=%{y}<extra></extra>",
         "legendgroup": "Eten",
         "line": {
          "color": "#FF6692",
          "dash": "solid"
         },
         "marker": {
          "symbol": "circle"
         },
         "mode": "lines",
         "name": "Eten",
         "orientation": "v",
         "showlegend": true,
         "type": "scatter",
         "x": [
          2006,
          2007,
          2008
         ],
         "xaxis": "x",
         "y": [
          5,
          2,
          9
         ],
         "yaxis": "y"
        },
        {
         "hovertemplate": "Brand=Fairphone<br>Release_Year=%{x}<br>count=%{y}<extra></extra>",
         "legendgroup": "Fairphone",
         "line": {
          "color": "#B6E880",
          "dash": "solid"
         },
         "marker": {
          "symbol": "circle"
         },
         "mode": "lines",
         "name": "Fairphone",
         "orientation": "v",
         "showlegend": true,
         "type": "scatter",
         "x": [
          2019,
          2020,
          2021
         ],
         "xaxis": "x",
         "y": [
          1,
          1,
          1
         ],
         "yaxis": "y"
        },
        {
         "hovertemplate": "Brand=Fujitsu Siemens<br>Release_Year=%{x}<br>count=%{y}<extra></extra>",
         "legendgroup": "Fujitsu Siemens",
         "line": {
          "color": "#FF97FF",
          "dash": "solid"
         },
         "marker": {
          "symbol": "circle"
         },
         "mode": "lines",
         "name": "Fujitsu Siemens",
         "orientation": "v",
         "showlegend": true,
         "type": "scatter",
         "x": [
          2006
         ],
         "xaxis": "x",
         "y": [
          2
         ],
         "yaxis": "y"
        },
        {
         "hovertemplate": "Brand=Garmin-Asus<br>Release_Year=%{x}<br>count=%{y}<extra></extra>",
         "legendgroup": "Garmin-Asus",
         "line": {
          "color": "#FECB52",
          "dash": "solid"
         },
         "marker": {
          "symbol": "circle"
         },
         "mode": "lines",
         "name": "Garmin-Asus",
         "orientation": "v",
         "showlegend": true,
         "type": "scatter",
         "x": [
          2009,
          2010
         ],
         "xaxis": "x",
         "y": [
          2,
          2
         ],
         "yaxis": "y"
        },
        {
         "hovertemplate": "Brand=Gigabyte<br>Release_Year=%{x}<br>count=%{y}<extra></extra>",
         "legendgroup": "Gigabyte",
         "line": {
          "color": "#636efa",
          "dash": "solid"
         },
         "marker": {
          "symbol": "circle"
         },
         "mode": "lines",
         "name": "Gigabyte",
         "orientation": "v",
         "showlegend": true,
         "type": "scatter",
         "x": [
          2005,
          2006,
          2007,
          2008,
          2009,
          2010,
          2011,
          2012,
          2013,
          2014,
          2015
         ],
         "xaxis": "x",
         "y": [
          11,
          2,
          2,
          4,
          2,
          2,
          5,
          3,
          10,
          10,
          7
         ],
         "yaxis": "y"
        },
        {
         "hovertemplate": "Brand=Gionee<br>Release_Year=%{x}<br>count=%{y}<extra></extra>",
         "legendgroup": "Gionee",
         "line": {
          "color": "#EF553B",
          "dash": "solid"
         },
         "marker": {
          "symbol": "circle"
         },
         "mode": "lines",
         "name": "Gionee",
         "orientation": "v",
         "showlegend": true,
         "type": "scatter",
         "x": [
          2013,
          2014,
          2015,
          2016,
          2017,
          2018,
          2020,
          2021,
          2022
         ],
         "xaxis": "x",
         "y": [
          15,
          13,
          16,
          15,
          15,
          3,
          9,
          6,
          1
         ],
         "yaxis": "y"
        },
        {
         "hovertemplate": "Brand=Google<br>Release_Year=%{x}<br>count=%{y}<extra></extra>",
         "legendgroup": "Google",
         "line": {
          "color": "#00cc96",
          "dash": "solid"
         },
         "marker": {
          "symbol": "circle"
         },
         "mode": "lines",
         "name": "Google",
         "orientation": "v",
         "showlegend": true,
         "type": "scatter",
         "x": [
          2015,
          2016,
          2017,
          2018,
          2019,
          2020,
          2021,
          2022
         ],
         "xaxis": "x",
         "y": [
          1,
          2,
          2,
          2,
          4,
          3,
          3,
          4
         ],
         "yaxis": "y"
        },
        {
         "hovertemplate": "Brand=HP<br>Release_Year=%{x}<br>count=%{y}<extra></extra>",
         "legendgroup": "HP",
         "line": {
          "color": "#ab63fa",
          "dash": "solid"
         },
         "marker": {
          "symbol": "circle"
         },
         "mode": "lines",
         "name": "HP",
         "orientation": "v",
         "showlegend": true,
         "type": "scatter",
         "x": [
          2006,
          2007,
          2008,
          2009,
          2011,
          2013,
          2014,
          2015,
          2016
         ],
         "xaxis": "x",
         "y": [
          3,
          2,
          1,
          3,
          6,
          5,
          9,
          3,
          1
         ],
         "yaxis": "y"
        },
        {
         "hovertemplate": "Brand=HTC<br>Release_Year=%{x}<br>count=%{y}<extra></extra>",
         "legendgroup": "HTC",
         "line": {
          "color": "#FFA15A",
          "dash": "solid"
         },
         "marker": {
          "symbol": "circle"
         },
         "mode": "lines",
         "name": "HTC",
         "orientation": "v",
         "showlegend": true,
         "type": "scatter",
         "x": [
          2006,
          2007,
          2008,
          2009,
          2010,
          2011,
          2012,
          2013,
          2014,
          2015,
          2016,
          2017,
          2018,
          2019,
          2020,
          2021,
          2022
         ],
         "xaxis": "x",
         "y": [
          8,
          10,
          14,
          18,
          17,
          38,
          27,
          20,
          33,
          25,
          17,
          6,
          7,
          8,
          6,
          3,
          2
         ],
         "yaxis": "y"
        },
        {
         "hovertemplate": "Brand=Haier<br>Release_Year=%{x}<br>count=%{y}<extra></extra>",
         "legendgroup": "Haier",
         "line": {
          "color": "#19d3f3",
          "dash": "solid"
         },
         "marker": {
          "symbol": "circle"
         },
         "mode": "lines",
         "name": "Haier",
         "orientation": "v",
         "showlegend": true,
         "type": "scatter",
         "x": [
          2003,
          2004,
          2005,
          2006,
          2010,
          2017,
          2018
         ],
         "xaxis": "x",
         "y": [
          2,
          17,
          5,
          1,
          14,
          3,
          5
         ],
         "yaxis": "y"
        },
        {
         "hovertemplate": "Brand=Honor<br>Release_Year=%{x}<br>count=%{y}<extra></extra>",
         "legendgroup": "Honor",
         "line": {
          "color": "#FF6692",
          "dash": "solid"
         },
         "marker": {
          "symbol": "circle"
         },
         "mode": "lines",
         "name": "Honor",
         "orientation": "v",
         "showlegend": true,
         "type": "scatter",
         "x": [
          2011,
          2012,
          2013,
          2014,
          2015,
          2016,
          2017,
          2018,
          2019,
          2020,
          2021,
          2022
         ],
         "xaxis": "x",
         "y": [
          1,
          1,
          3,
          8,
          5,
          10,
          6,
          14,
          21,
          29,
          26,
          35
         ],
         "yaxis": "y"
        },
        {
         "hovertemplate": "Brand=Huawei<br>Release_Year=%{x}<br>count=%{y}<extra></extra>",
         "legendgroup": "Huawei",
         "line": {
          "color": "#B6E880",
          "dash": "solid"
         },
         "marker": {
          "symbol": "circle"
         },
         "mode": "lines",
         "name": "Huawei",
         "orientation": "v",
         "showlegend": true,
         "type": "scatter",
         "x": [
          2008,
          2009,
          2010,
          2011,
          2012,
          2013,
          2014,
          2015,
          2016,
          2017,
          2018,
          2019,
          2020,
          2021,
          2022
         ],
         "xaxis": "x",
         "y": [
          4,
          6,
          8,
          23,
          24,
          23,
          26,
          24,
          19,
          29,
          33,
          43,
          48,
          31,
          27
         ],
         "yaxis": "y"
        },
        {
         "hovertemplate": "Brand=Icemobile<br>Release_Year=%{x}<br>count=%{y}<extra></extra>",
         "legendgroup": "Icemobile",
         "line": {
          "color": "#FF97FF",
          "dash": "solid"
         },
         "marker": {
          "symbol": "circle"
         },
         "mode": "lines",
         "name": "Icemobile",
         "orientation": "v",
         "showlegend": true,
         "type": "scatter",
         "x": [
          2010,
          2011,
          2012,
          2013,
          2014,
          2015,
          2016,
          2017
         ],
         "xaxis": "x",
         "y": [
          1,
          14,
          17,
          8,
          12,
          4,
          1,
          1
         ],
         "yaxis": "y"
        },
        {
         "hovertemplate": "Brand=Infinix<br>Release_Year=%{x}<br>count=%{y}<extra></extra>",
         "legendgroup": "Infinix",
         "line": {
          "color": "#FECB52",
          "dash": "solid"
         },
         "marker": {
          "symbol": "circle"
         },
         "mode": "lines",
         "name": "Infinix",
         "orientation": "v",
         "showlegend": true,
         "type": "scatter",
         "x": [
          2016,
          2017,
          2018,
          2019,
          2020,
          2021,
          2022
         ],
         "xaxis": "x",
         "y": [
          3,
          7,
          13,
          13,
          16,
          21,
          27
         ],
         "yaxis": "y"
        },
        {
         "hovertemplate": "Brand=Innostream<br>Release_Year=%{x}<br>count=%{y}<extra></extra>",
         "legendgroup": "Innostream",
         "line": {
          "color": "#636efa",
          "dash": "solid"
         },
         "marker": {
          "symbol": "circle"
         },
         "mode": "lines",
         "name": "Innostream",
         "orientation": "v",
         "showlegend": true,
         "type": "scatter",
         "x": [
          2004,
          2005
         ],
         "xaxis": "x",
         "y": [
          1,
          2
         ],
         "yaxis": "y"
        },
        {
         "hovertemplate": "Brand=Intex<br>Release_Year=%{x}<br>count=%{y}<extra></extra>",
         "legendgroup": "Intex",
         "line": {
          "color": "#EF553B",
          "dash": "solid"
         },
         "marker": {
          "symbol": "circle"
         },
         "mode": "lines",
         "name": "Intex",
         "orientation": "v",
         "showlegend": true,
         "type": "scatter",
         "x": [
          2014,
          2015,
          2016
         ],
         "xaxis": "x",
         "y": [
          3,
          11,
          1
         ],
         "yaxis": "y"
        },
        {
         "hovertemplate": "Brand=Jolla<br>Release_Year=%{x}<br>count=%{y}<extra></extra>",
         "legendgroup": "Jolla",
         "line": {
          "color": "#00cc96",
          "dash": "solid"
         },
         "marker": {
          "symbol": "circle"
         },
         "mode": "lines",
         "name": "Jolla",
         "orientation": "v",
         "showlegend": true,
         "type": "scatter",
         "x": [
          2013,
          2014,
          2016
         ],
         "xaxis": "x",
         "y": [
          1,
          1,
          1
         ],
         "yaxis": "y"
        },
        {
         "hovertemplate": "Brand=Karbonn<br>Release_Year=%{x}<br>count=%{y}<extra></extra>",
         "legendgroup": "Karbonn",
         "line": {
          "color": "#ab63fa",
          "dash": "solid"
         },
         "marker": {
          "symbol": "circle"
         },
         "mode": "lines",
         "name": "Karbonn",
         "orientation": "v",
         "showlegend": true,
         "type": "scatter",
         "x": [
          2012,
          2013,
          2014,
          2015
         ],
         "xaxis": "x",
         "y": [
          28,
          20,
          11,
          1
         ],
         "yaxis": "y"
        },
        {
         "hovertemplate": "Brand=Kyocera<br>Release_Year=%{x}<br>count=%{y}<extra></extra>",
         "legendgroup": "Kyocera",
         "line": {
          "color": "#FFA15A",
          "dash": "solid"
         },
         "marker": {
          "symbol": "circle"
         },
         "mode": "lines",
         "name": "Kyocera",
         "orientation": "v",
         "showlegend": true,
         "type": "scatter",
         "x": [
          2000,
          2008,
          2011,
          2012,
          2013,
          2014,
          2015,
          2016,
          2018
         ],
         "xaxis": "x",
         "y": [
          1,
          5,
          7,
          1,
          2,
          3,
          1,
          1,
          1
         ],
         "yaxis": "y"
        },
        {
         "hovertemplate": "Brand=LG<br>Release_Year=%{x}<br>count=%{y}<extra></extra>",
         "legendgroup": "LG",
         "line": {
          "color": "#19d3f3",
          "dash": "solid"
         },
         "marker": {
          "symbol": "circle"
         },
         "mode": "lines",
         "name": "LG",
         "orientation": "v",
         "showlegend": true,
         "type": "scatter",
         "x": [
          2002,
          2005,
          2006,
          2007,
          2008,
          2009,
          2010,
          2011,
          2012,
          2013,
          2014,
          2015,
          2016,
          2017,
          2018,
          2019,
          2020,
          2021,
          2022
         ],
         "xaxis": "x",
         "y": [
          3,
          11,
          35,
          27,
          47,
          49,
          77,
          50,
          36,
          32,
          52,
          27,
          27,
          17,
          20,
          20,
          27,
          3,
          1
         ],
         "yaxis": "y"
        },
        {
         "hovertemplate": "Brand=Lava<br>Release_Year=%{x}<br>count=%{y}<extra></extra>",
         "legendgroup": "Lava",
         "line": {
          "color": "#FF6692",
          "dash": "solid"
         },
         "marker": {
          "symbol": "circle"
         },
         "mode": "lines",
         "name": "Lava",
         "orientation": "v",
         "showlegend": true,
         "type": "scatter",
         "x": [
          2013,
          2014,
          2015,
          2016,
          2017,
          2018,
          2019,
          2020,
          2021,
          2022
         ],
         "xaxis": "x",
         "y": [
          12,
          27,
          25,
          34,
          10,
          6,
          2,
          2,
          7,
          8
         ],
         "yaxis": "y"
        },
        {
         "hovertemplate": "Brand=LeEco<br>Release_Year=%{x}<br>count=%{y}<extra></extra>",
         "legendgroup": "LeEco",
         "line": {
          "color": "#B6E880",
          "dash": "solid"
         },
         "marker": {
          "symbol": "circle"
         },
         "mode": "lines",
         "name": "LeEco",
         "orientation": "v",
         "showlegend": true,
         "type": "scatter",
         "x": [
          2016,
          2017
         ],
         "xaxis": "x",
         "y": [
          7,
          2
         ],
         "yaxis": "y"
        },
        {
         "hovertemplate": "Brand=Lenovo<br>Release_Year=%{x}<br>count=%{y}<extra></extra>",
         "legendgroup": "Lenovo",
         "line": {
          "color": "#FF97FF",
          "dash": "solid"
         },
         "marker": {
          "symbol": "circle"
         },
         "mode": "lines",
         "name": "Lenovo",
         "orientation": "v",
         "showlegend": true,
         "type": "scatter",
         "x": [
          2011,
          2012,
          2013,
          2014,
          2015,
          2016,
          2017,
          2018,
          2019,
          2020,
          2021,
          2022
         ],
         "xaxis": "x",
         "y": [
          11,
          11,
          26,
          33,
          35,
          30,
          12,
          13,
          15,
          10,
          16,
          10
         ],
         "yaxis": "y"
        },
        {
         "hovertemplate": "Brand=MWg<br>Release_Year=%{x}<br>count=%{y}<extra></extra>",
         "legendgroup": "MWg",
         "line": {
          "color": "#FECB52",
          "dash": "solid"
         },
         "marker": {
          "symbol": "circle"
         },
         "mode": "lines",
         "name": "MWg",
         "orientation": "v",
         "showlegend": true,
         "type": "scatter",
         "x": [
          2007,
          2008
         ],
         "xaxis": "x",
         "y": [
          2,
          3
         ],
         "yaxis": "y"
        },
        {
         "hovertemplate": "Brand=Maxon<br>Release_Year=%{x}<br>count=%{y}<extra></extra>",
         "legendgroup": "Maxon",
         "line": {
          "color": "#636efa",
          "dash": "solid"
         },
         "marker": {
          "symbol": "circle"
         },
         "mode": "lines",
         "name": "Maxon",
         "orientation": "v",
         "showlegend": true,
         "type": "scatter",
         "x": [
          1999,
          2000,
          2003,
          2004
         ],
         "xaxis": "x",
         "y": [
          8,
          4,
          9,
          8
         ],
         "yaxis": "y"
        },
        {
         "hovertemplate": "Brand=Maxwest<br>Release_Year=%{x}<br>count=%{y}<extra></extra>",
         "legendgroup": "Maxwest",
         "line": {
          "color": "#EF553B",
          "dash": "solid"
         },
         "marker": {
          "symbol": "circle"
         },
         "mode": "lines",
         "name": "Maxwest",
         "orientation": "v",
         "showlegend": true,
         "type": "scatter",
         "x": [
          2013,
          2014,
          2015,
          2016,
          2017
         ],
         "xaxis": "x",
         "y": [
          13,
          10,
          10,
          6,
          2
         ],
         "yaxis": "y"
        },
        {
         "hovertemplate": "Brand=Meizu<br>Release_Year=%{x}<br>count=%{y}<extra></extra>",
         "legendgroup": "Meizu",
         "line": {
          "color": "#00cc96",
          "dash": "solid"
         },
         "marker": {
          "symbol": "circle"
         },
         "mode": "lines",
         "name": "Meizu",
         "orientation": "v",
         "showlegend": true,
         "type": "scatter",
         "x": [
          2012,
          2013,
          2014,
          2015,
          2016,
          2017,
          2018,
          2019,
          2020,
          2021
         ],
         "xaxis": "x",
         "y": [
          3,
          1,
          2,
          7,
          15,
          7,
          16,
          7,
          2,
          6
         ],
         "yaxis": "y"
        },
        {
         "hovertemplate": "Brand=Micromax<br>Release_Year=%{x}<br>count=%{y}<extra></extra>",
         "legendgroup": "Micromax",
         "line": {
          "color": "#ab63fa",
          "dash": "solid"
         },
         "marker": {
          "symbol": "circle"
         },
         "mode": "lines",
         "name": "Micromax",
         "orientation": "v",
         "showlegend": true,
         "type": "scatter",
         "x": [
          2008,
          2009,
          2010,
          2011,
          2012,
          2013,
          2014,
          2015,
          2016,
          2017,
          2018,
          2019,
          2020,
          2021,
          2022
         ],
         "xaxis": "x",
         "y": [
          1,
          9,
          33,
          19,
          39,
          40,
          30,
          50,
          25,
          21,
          7,
          1,
          2,
          2,
          2
         ],
         "yaxis": "y"
        },
        {
         "hovertemplate": "Brand=Microsoft<br>Release_Year=%{x}<br>count=%{y}<extra></extra>",
         "legendgroup": "Microsoft",
         "line": {
          "color": "#FFA15A",
          "dash": "solid"
         },
         "marker": {
          "symbol": "circle"
         },
         "mode": "lines",
         "name": "Microsoft",
         "orientation": "v",
         "showlegend": true,
         "type": "scatter",
         "x": [
          2010,
          2012,
          2013,
          2014,
          2015,
          2016,
          2020,
          2021
         ],
         "xaxis": "x",
         "y": [
          4,
          1,
          1,
          2,
          18,
          1,
          1,
          1
         ],
         "yaxis": "y"
        },
        {
         "hovertemplate": "Brand=Mitac<br>Release_Year=%{x}<br>count=%{y}<extra></extra>",
         "legendgroup": "Mitac",
         "line": {
          "color": "#19d3f3",
          "dash": "solid"
         },
         "marker": {
          "symbol": "circle"
         },
         "mode": "lines",
         "name": "Mitac",
         "orientation": "v",
         "showlegend": true,
         "type": "scatter",
         "x": [
          2005,
          2007,
          2009
         ],
         "xaxis": "x",
         "y": [
          1,
          1,
          2
         ],
         "yaxis": "y"
        },
        {
         "hovertemplate": "Brand=Mitsubishi<br>Release_Year=%{x}<br>count=%{y}<extra></extra>",
         "legendgroup": "Mitsubishi",
         "line": {
          "color": "#FF6692",
          "dash": "solid"
         },
         "marker": {
          "symbol": "circle"
         },
         "mode": "lines",
         "name": "Mitsubishi",
         "orientation": "v",
         "showlegend": true,
         "type": "scatter",
         "x": [
          1999,
          2000,
          2003
         ],
         "xaxis": "x",
         "y": [
          4,
          7,
          1
         ],
         "yaxis": "y"
        },
        {
         "hovertemplate": "Brand=Modu<br>Release_Year=%{x}<br>count=%{y}<extra></extra>",
         "legendgroup": "Modu",
         "line": {
          "color": "#B6E880",
          "dash": "solid"
         },
         "marker": {
          "symbol": "circle"
         },
         "mode": "lines",
         "name": "Modu",
         "orientation": "v",
         "showlegend": true,
         "type": "scatter",
         "x": [
          2009
         ],
         "xaxis": "x",
         "y": [
          6
         ],
         "yaxis": "y"
        },
        {
         "hovertemplate": "Brand=Motorola<br>Release_Year=%{x}<br>count=%{y}<extra></extra>",
         "legendgroup": "Motorola",
         "line": {
          "color": "#FF97FF",
          "dash": "solid"
         },
         "marker": {
          "symbol": "circle"
         },
         "mode": "lines",
         "name": "Motorola",
         "orientation": "v",
         "showlegend": true,
         "type": "scatter",
         "x": [
          1997,
          1998,
          1999,
          2000,
          2001,
          2002,
          2003,
          2005,
          2006,
          2007,
          2008,
          2009,
          2010,
          2011,
          2012,
          2013,
          2014,
          2015,
          2016,
          2017,
          2018,
          2019,
          2020,
          2021,
          2022
         ],
         "xaxis": "x",
         "y": [
          5,
          5,
          7,
          8,
          7,
          13,
          7,
          9,
          13,
          19,
          30,
          21,
          45,
          47,
          31,
          8,
          12,
          15,
          10,
          13,
          13,
          14,
          27,
          37,
          37
         ],
         "yaxis": "y"
        },
        {
         "hovertemplate": "Brand=NEC<br>Release_Year=%{x}<br>count=%{y}<extra></extra>",
         "legendgroup": "NEC",
         "line": {
          "color": "#FECB52",
          "dash": "solid"
         },
         "marker": {
          "symbol": "circle"
         },
         "mode": "lines",
         "name": "NEC",
         "orientation": "v",
         "showlegend": true,
         "type": "scatter",
         "x": [
          1997,
          1999,
          2000,
          2001,
          2002,
          2003,
          2004,
          2005,
          2006,
          2013
         ],
         "xaxis": "x",
         "y": [
          1,
          2,
          2,
          2,
          2,
          4,
          3,
          1,
          7,
          1
         ],
         "yaxis": "y"
        },
        {
         "hovertemplate": "Brand=NIU<br>Release_Year=%{x}<br>count=%{y}<extra></extra>",
         "legendgroup": "NIU",
         "line": {
          "color": "#636efa",
          "dash": "solid"
         },
         "marker": {
          "symbol": "circle"
         },
         "mode": "lines",
         "name": "NIU",
         "orientation": "v",
         "showlegend": true,
         "type": "scatter",
         "x": [
          2012,
          2013,
          2014,
          2015,
          2016
         ],
         "xaxis": "x",
         "y": [
          10,
          6,
          9,
          3,
          1
         ],
         "yaxis": "y"
        },
        {
         "hovertemplate": "Brand=Neonode<br>Release_Year=%{x}<br>count=%{y}<extra></extra>",
         "legendgroup": "Neonode",
         "line": {
          "color": "#EF553B",
          "dash": "solid"
         },
         "marker": {
          "symbol": "circle"
         },
         "mode": "lines",
         "name": "Neonode",
         "orientation": "v",
         "showlegend": true,
         "type": "scatter",
         "x": [
          2003,
          2007
         ],
         "xaxis": "x",
         "y": [
          1,
          1
         ],
         "yaxis": "y"
        },
        {
         "hovertemplate": "Brand=Nokia<br>Release_Year=%{x}<br>count=%{y}<extra></extra>",
         "legendgroup": "Nokia",
         "line": {
          "color": "#00cc96",
          "dash": "solid"
         },
         "marker": {
          "symbol": "circle"
         },
         "mode": "lines",
         "name": "Nokia",
         "orientation": "v",
         "showlegend": true,
         "type": "scatter",
         "x": [
          1995,
          1996,
          1997,
          1998,
          1999,
          2000,
          2001,
          2002,
          2003,
          2004,
          2005,
          2006,
          2007,
          2008,
          2009,
          2010,
          2011,
          2012,
          2013,
          2014,
          2015,
          2016,
          2017,
          2018,
          2019,
          2020,
          2021,
          2022
         ],
         "xaxis": "x",
         "y": [
          1,
          1,
          1,
          6,
          4,
          6,
          4,
          6,
          3,
          2,
          16,
          29,
          37,
          36,
          44,
          33,
          34,
          30,
          26,
          23,
          9,
          1,
          11,
          15,
          18,
          19,
          23,
          22
         ],
         "yaxis": "y"
        },
        {
         "hovertemplate": "Brand=Nothing<br>Release_Year=%{x}<br>count=%{y}<extra></extra>",
         "legendgroup": "Nothing",
         "line": {
          "color": "#ab63fa",
          "dash": "solid"
         },
         "marker": {
          "symbol": "circle"
         },
         "mode": "lines",
         "name": "Nothing",
         "orientation": "v",
         "showlegend": true,
         "type": "scatter",
         "x": [
          2022
         ],
         "xaxis": "x",
         "y": [
          1
         ],
         "yaxis": "y"
        },
        {
         "hovertemplate": "Brand=Nvidia<br>Release_Year=%{x}<br>count=%{y}<extra></extra>",
         "legendgroup": "Nvidia",
         "line": {
          "color": "#FFA15A",
          "dash": "solid"
         },
         "marker": {
          "symbol": "circle"
         },
         "mode": "lines",
         "name": "Nvidia",
         "orientation": "v",
         "showlegend": true,
         "type": "scatter",
         "x": [
          2014,
          2015
         ],
         "xaxis": "x",
         "y": [
          2,
          1
         ],
         "yaxis": "y"
        },
        {
         "hovertemplate": "Brand=O2<br>Release_Year=%{x}<br>count=%{y}<extra></extra>",
         "legendgroup": "O2",
         "line": {
          "color": "#19d3f3",
          "dash": "solid"
         },
         "marker": {
          "symbol": "circle"
         },
         "mode": "lines",
         "name": "O2",
         "orientation": "v",
         "showlegend": true,
         "type": "scatter",
         "x": [
          2003,
          2005,
          2006,
          2007,
          2008,
          2009
         ],
         "xaxis": "x",
         "y": [
          3,
          5,
          10,
          9,
          4,
          1
         ],
         "yaxis": "y"
        },
        {
         "hovertemplate": "Brand=OnePlus<br>Release_Year=%{x}<br>count=%{y}<extra></extra>",
         "legendgroup": "OnePlus",
         "line": {
          "color": "#FF6692",
          "dash": "solid"
         },
         "marker": {
          "symbol": "circle"
         },
         "mode": "lines",
         "name": "OnePlus",
         "orientation": "v",
         "showlegend": true,
         "type": "scatter",
         "x": [
          2014,
          2015,
          2016,
          2017,
          2018,
          2019,
          2020,
          2021,
          2022,
          2023
         ],
         "xaxis": "x",
         "y": [
          1,
          2,
          2,
          2,
          3,
          6,
          9,
          8,
          14,
          1
         ],
         "yaxis": "y"
        },
        {
         "hovertemplate": "Brand=Oppo<br>Release_Year=%{x}<br>count=%{y}<extra></extra>",
         "legendgroup": "Oppo",
         "line": {
          "color": "#B6E880",
          "dash": "solid"
         },
         "marker": {
          "symbol": "circle"
         },
         "mode": "lines",
         "name": "Oppo",
         "orientation": "v",
         "showlegend": true,
         "type": "scatter",
         "x": [
          2012,
          2013,
          2014,
          2015,
          2016,
          2017,
          2018,
          2019,
          2020,
          2021,
          2022
         ],
         "xaxis": "x",
         "y": [
          7,
          6,
          11,
          19,
          9,
          12,
          20,
          25,
          42,
          51,
          51
         ],
         "yaxis": "y"
        },
        {
         "hovertemplate": "Brand=Orange<br>Release_Year=%{x}<br>count=%{y}<extra></extra>",
         "legendgroup": "Orange",
         "line": {
          "color": "#FF97FF",
          "dash": "solid"
         },
         "marker": {
          "symbol": "circle"
         },
         "mode": "lines",
         "name": "Orange",
         "orientation": "v",
         "showlegend": true,
         "type": "scatter",
         "x": [
          2011,
          2012,
          2014,
          2019
         ],
         "xaxis": "x",
         "y": [
          7,
          2,
          3,
          1
         ],
         "yaxis": "y"
        },
        {
         "hovertemplate": "Brand=Palm<br>Release_Year=%{x}<br>count=%{y}<extra></extra>",
         "legendgroup": "Palm",
         "line": {
          "color": "#FECB52",
          "dash": "solid"
         },
         "marker": {
          "symbol": "circle"
         },
         "mode": "lines",
         "name": "Palm",
         "orientation": "v",
         "showlegend": true,
         "type": "scatter",
         "x": [
          2002,
          2003,
          2006,
          2007,
          2008,
          2009,
          2010,
          2018
         ],
         "xaxis": "x",
         "y": [
          1,
          1,
          2,
          1,
          3,
          1,
          4,
          1
         ],
         "yaxis": "y"
        },
        {
         "hovertemplate": "Brand=Panasonic<br>Release_Year=%{x}<br>count=%{y}<extra></extra>",
         "legendgroup": "Panasonic",
         "line": {
          "color": "#636efa",
          "dash": "solid"
         },
         "marker": {
          "symbol": "circle"
         },
         "mode": "lines",
         "name": "Panasonic",
         "orientation": "v",
         "showlegend": true,
         "type": "scatter",
         "x": [
          1998,
          1999,
          2000,
          2001,
          2002,
          2011,
          2012,
          2013,
          2014,
          2015,
          2016,
          2017,
          2018,
          2019
         ],
         "xaxis": "x",
         "y": [
          1,
          3,
          2,
          3,
          3,
          2,
          3,
          2,
          11,
          10,
          14,
          21,
          11,
          2
         ],
         "yaxis": "y"
        },
        {
         "hovertemplate": "Brand=Pantech<br>Release_Year=%{x}<br>count=%{y}<extra></extra>",
         "legendgroup": "Pantech",
         "line": {
          "color": "#EF553B",
          "dash": "solid"
         },
         "marker": {
          "symbol": "circle"
         },
         "mode": "lines",
         "name": "Pantech",
         "orientation": "v",
         "showlegend": true,
         "type": "scatter",
         "x": [
          2003,
          2004,
          2006,
          2007,
          2008,
          2009,
          2010,
          2011,
          2012,
          2013
         ],
         "xaxis": "x",
         "y": [
          3,
          5,
          9,
          1,
          2,
          3,
          8,
          7,
          8,
          3
         ],
         "yaxis": "y"
        },
        {
         "hovertemplate": "Brand=Parla<br>Release_Year=%{x}<br>count=%{y}<extra></extra>",
         "legendgroup": "Parla",
         "line": {
          "color": "#00cc96",
          "dash": "solid"
         },
         "marker": {
          "symbol": "circle"
         },
         "mode": "lines",
         "name": "Parla",
         "orientation": "v",
         "showlegend": true,
         "type": "scatter",
         "x": [
          2014,
          2015,
          2016
         ],
         "xaxis": "x",
         "y": [
          1,
          1,
          1
         ],
         "yaxis": "y"
        },
        {
         "hovertemplate": "Brand=Philips<br>Release_Year=%{x}<br>count=%{y}<extra></extra>",
         "legendgroup": "Philips",
         "line": {
          "color": "#ab63fa",
          "dash": "solid"
         },
         "marker": {
          "symbol": "circle"
         },
         "mode": "lines",
         "name": "Philips",
         "orientation": "v",
         "showlegend": true,
         "type": "scatter",
         "x": [
          1996,
          1997,
          1999,
          2000,
          2001,
          2002,
          2005,
          2006,
          2007,
          2008,
          2009,
          2010,
          2011,
          2012,
          2013,
          2014,
          2015,
          2021
         ],
         "xaxis": "x",
         "y": [
          1,
          2,
          5,
          8,
          1,
          6,
          4,
          15,
          15,
          15,
          13,
          23,
          17,
          23,
          23,
          3,
          9,
          2
         ],
         "yaxis": "y"
        },
        {
         "hovertemplate": "Brand=Plum<br>Release_Year=%{x}<br>count=%{y}<extra></extra>",
         "legendgroup": "Plum",
         "line": {
          "color": "#FFA15A",
          "dash": "solid"
         },
         "marker": {
          "symbol": "circle"
         },
         "mode": "lines",
         "name": "Plum",
         "orientation": "v",
         "showlegend": true,
         "type": "scatter",
         "x": [
          2011,
          2012,
          2013,
          2014,
          2015,
          2016,
          2017,
          2018,
          2019,
          2020,
          2021,
          2022
         ],
         "xaxis": "x",
         "y": [
          19,
          16,
          16,
          18,
          9,
          9,
          6,
          11,
          3,
          2,
          1,
          3
         ],
         "yaxis": "y"
        },
        {
         "hovertemplate": "Brand=Posh<br>Release_Year=%{x}<br>count=%{y}<extra></extra>",
         "legendgroup": "Posh",
         "line": {
          "color": "#19d3f3",
          "dash": "solid"
         },
         "marker": {
          "symbol": "circle"
         },
         "mode": "lines",
         "name": "Posh",
         "orientation": "v",
         "showlegend": true,
         "type": "scatter",
         "x": [
          2014,
          2015,
          2016,
          2017
         ],
         "xaxis": "x",
         "y": [
          12,
          9,
          8,
          1
         ],
         "yaxis": "y"
        },
        {
         "hovertemplate": "Brand=Prestigio<br>Release_Year=%{x}<br>count=%{y}<extra></extra>",
         "legendgroup": "Prestigio",
         "line": {
          "color": "#FF6692",
          "dash": "solid"
         },
         "marker": {
          "symbol": "circle"
         },
         "mode": "lines",
         "name": "Prestigio",
         "orientation": "v",
         "showlegend": true,
         "type": "scatter",
         "x": [
          2013,
          2014
         ],
         "xaxis": "x",
         "y": [
          42,
          5
         ],
         "yaxis": "y"
        },
        {
         "hovertemplate": "Brand=QMobile<br>Release_Year=%{x}<br>count=%{y}<extra></extra>",
         "legendgroup": "QMobile",
         "line": {
          "color": "#B6E880",
          "dash": "solid"
         },
         "marker": {
          "symbol": "circle"
         },
         "mode": "lines",
         "name": "QMobile",
         "orientation": "v",
         "showlegend": true,
         "type": "scatter",
         "x": [
          2013,
          2014,
          2015,
          2016,
          2017
         ],
         "xaxis": "x",
         "y": [
          5,
          28,
          35,
          13,
          9
         ],
         "yaxis": "y"
        },
        {
         "hovertemplate": "Brand=Qtek<br>Release_Year=%{x}<br>count=%{y}<extra></extra>",
         "legendgroup": "Qtek",
         "line": {
          "color": "#FF97FF",
          "dash": "solid"
         },
         "marker": {
          "symbol": "circle"
         },
         "mode": "lines",
         "name": "Qtek",
         "orientation": "v",
         "showlegend": true,
         "type": "scatter",
         "x": [
          2003,
          2005,
          2006
         ],
         "xaxis": "x",
         "y": [
          1,
          3,
          4
         ],
         "yaxis": "y"
        },
        {
         "hovertemplate": "Brand=Razer<br>Release_Year=%{x}<br>count=%{y}<extra></extra>",
         "legendgroup": "Razer",
         "line": {
          "color": "#FECB52",
          "dash": "solid"
         },
         "marker": {
          "symbol": "circle"
         },
         "mode": "lines",
         "name": "Razer",
         "orientation": "v",
         "showlegend": true,
         "type": "scatter",
         "x": [
          2017,
          2018
         ],
         "xaxis": "x",
         "y": [
          1,
          1
         ],
         "yaxis": "y"
        },
        {
         "hovertemplate": "Brand=Realme<br>Release_Year=%{x}<br>count=%{y}<extra></extra>",
         "legendgroup": "Realme",
         "line": {
          "color": "#636efa",
          "dash": "solid"
         },
         "marker": {
          "symbol": "circle"
         },
         "mode": "lines",
         "name": "Realme",
         "orientation": "v",
         "showlegend": true,
         "type": "scatter",
         "x": [
          2018,
          2019,
          2020,
          2021,
          2022
         ],
         "xaxis": "x",
         "y": [
          5,
          14,
          44,
          43,
          42
         ],
         "yaxis": "y"
        },
        {
         "hovertemplate": "Brand=Sagem<br>Release_Year=%{x}<br>count=%{y}<extra></extra>",
         "legendgroup": "Sagem",
         "line": {
          "color": "#EF553B",
          "dash": "solid"
         },
         "marker": {
          "symbol": "circle"
         },
         "mode": "lines",
         "name": "Sagem",
         "orientation": "v",
         "showlegend": true,
         "type": "scatter",
         "x": [
          1997,
          1998,
          1999,
          2000,
          2001,
          2002,
          2005,
          2006,
          2007,
          2008,
          2010
         ],
         "xaxis": "x",
         "y": [
          1,
          4,
          3,
          5,
          8,
          4,
          2,
          18,
          10,
          23,
          1
         ],
         "yaxis": "y"
        },
        {
         "hovertemplate": "Brand=Samsung<br>Release_Year=%{x}<br>count=%{y}<extra></extra>",
         "legendgroup": "Samsung",
         "line": {
          "color": "#00cc96",
          "dash": "solid"
         },
         "marker": {
          "symbol": "circle"
         },
         "mode": "lines",
         "name": "Samsung",
         "orientation": "v",
         "showlegend": true,
         "type": "scatter",
         "x": [
          1996,
          1998,
          1999,
          2000,
          2001,
          2002,
          2003,
          2004,
          2005,
          2006,
          2007,
          2008,
          2009,
          2010,
          2011,
          2012,
          2013,
          2014,
          2015,
          2016,
          2017,
          2018,
          2019,
          2020,
          2021,
          2022,
          2023
         ],
         "xaxis": "x",
         "y": [
          1,
          1,
          4,
          6,
          10,
          8,
          3,
          6,
          2,
          66,
          64,
          96,
          121,
          98,
          114,
          84,
          64,
          89,
          52,
          43,
          28,
          31,
          45,
          55,
          43,
          37,
          1
         ],
         "yaxis": "y"
        },
        {
         "hovertemplate": "Brand=Sendo<br>Release_Year=%{x}<br>count=%{y}<extra></extra>",
         "legendgroup": "Sendo",
         "line": {
          "color": "#ab63fa",
          "dash": "solid"
         },
         "marker": {
          "symbol": "circle"
         },
         "mode": "lines",
         "name": "Sendo",
         "orientation": "v",
         "showlegend": true,
         "type": "scatter",
         "x": [
          2000,
          2002
         ],
         "xaxis": "x",
         "y": [
          1,
          2
         ],
         "yaxis": "y"
        },
        {
         "hovertemplate": "Brand=Sewon<br>Release_Year=%{x}<br>count=%{y}<extra></extra>",
         "legendgroup": "Sewon",
         "line": {
          "color": "#FFA15A",
          "dash": "solid"
         },
         "marker": {
          "symbol": "circle"
         },
         "mode": "lines",
         "name": "Sewon",
         "orientation": "v",
         "showlegend": true,
         "type": "scatter",
         "x": [
          2002
         ],
         "xaxis": "x",
         "y": [
          4
         ],
         "yaxis": "y"
        },
        {
         "hovertemplate": "Brand=Sharp<br>Release_Year=%{x}<br>count=%{y}<extra></extra>",
         "legendgroup": "Sharp",
         "line": {
          "color": "#19d3f3",
          "dash": "solid"
         },
         "marker": {
          "symbol": "circle"
         },
         "mode": "lines",
         "name": "Sharp",
         "orientation": "v",
         "showlegend": true,
         "type": "scatter",
         "x": [
          2002,
          2003,
          2004,
          2005,
          2006,
          2007,
          2008,
          2009,
          2010,
          2011,
          2012,
          2014,
          2015,
          2016,
          2017,
          2018,
          2019,
          2020,
          2021,
          2022
         ],
         "xaxis": "x",
         "y": [
          2,
          1,
          1,
          2,
          5,
          2,
          5,
          2,
          3,
          2,
          2,
          1,
          2,
          2,
          2,
          9,
          4,
          3,
          2,
          3
         ],
         "yaxis": "y"
        },
        {
         "hovertemplate": "Brand=Siemens<br>Release_Year=%{x}<br>count=%{y}<extra></extra>",
         "legendgroup": "Siemens",
         "line": {
          "color": "#FF6692",
          "dash": "solid"
         },
         "marker": {
          "symbol": "circle"
         },
         "mode": "lines",
         "name": "Siemens",
         "orientation": "v",
         "showlegend": true,
         "type": "scatter",
         "x": [
          1998,
          1999,
          2000,
          2001,
          2002,
          2003,
          2004,
          2005
         ],
         "xaxis": "x",
         "y": [
          5,
          3,
          9,
          7,
          6,
          1,
          9,
          13
         ],
         "yaxis": "y"
        },
        {
         "hovertemplate": "Brand=Sonim<br>Release_Year=%{x}<br>count=%{y}<extra></extra>",
         "legendgroup": "Sonim",
         "line": {
          "color": "#B6E880",
          "dash": "solid"
         },
         "marker": {
          "symbol": "circle"
         },
         "mode": "lines",
         "name": "Sonim",
         "orientation": "v",
         "showlegend": true,
         "type": "scatter",
         "x": [
          2007,
          2008,
          2009,
          2010,
          2011,
          2014,
          2015,
          2018,
          2019,
          2021,
          2022
         ],
         "xaxis": "x",
         "y": [
          1,
          1,
          1,
          3,
          3,
          1,
          1,
          2,
          1,
          1,
          1
         ],
         "yaxis": "y"
        },
        {
         "hovertemplate": "Brand=Sony<br>Release_Year=%{x}<br>count=%{y}<extra></extra>",
         "legendgroup": "Sony",
         "line": {
          "color": "#FF97FF",
          "dash": "solid"
         },
         "marker": {
          "symbol": "circle"
         },
         "mode": "lines",
         "name": "Sony",
         "orientation": "v",
         "showlegend": true,
         "type": "scatter",
         "x": [
          1997,
          1999,
          2000,
          2001,
          2011,
          2012,
          2013,
          2014,
          2015,
          2016,
          2017,
          2018,
          2019,
          2020,
          2021,
          2022
         ],
         "xaxis": "x",
         "y": [
          4,
          1,
          3,
          2,
          3,
          24,
          14,
          24,
          22,
          8,
          9,
          8,
          5,
          4,
          6,
          3
         ],
         "yaxis": "y"
        },
        {
         "hovertemplate": "Brand=Sony Ericsson<br>Release_Year=%{x}<br>count=%{y}<extra></extra>",
         "legendgroup": "Sony Ericsson",
         "line": {
          "color": "#FECB52",
          "dash": "solid"
         },
         "marker": {
          "symbol": "circle"
         },
         "mode": "lines",
         "name": "Sony Ericsson",
         "orientation": "v",
         "showlegend": true,
         "type": "scatter",
         "x": [
          2002,
          2003,
          2004,
          2005,
          2006,
          2007,
          2008,
          2009,
          2010,
          2011
         ],
         "xaxis": "x",
         "y": [
          6,
          1,
          3,
          11,
          24,
          26,
          34,
          21,
          14,
          16
         ],
         "yaxis": "y"
        },
        {
         "hovertemplate": "Brand=Spice<br>Release_Year=%{x}<br>count=%{y}<extra></extra>",
         "legendgroup": "Spice",
         "line": {
          "color": "#636efa",
          "dash": "solid"
         },
         "marker": {
          "symbol": "circle"
         },
         "mode": "lines",
         "name": "Spice",
         "orientation": "v",
         "showlegend": true,
         "type": "scatter",
         "x": [
          2010,
          2011,
          2012,
          2013,
          2014
         ],
         "xaxis": "x",
         "y": [
          36,
          15,
          16,
          23,
          26
         ],
         "yaxis": "y"
        },
        {
         "hovertemplate": "Brand=T-Mobile<br>Release_Year=%{x}<br>count=%{y}<extra></extra>",
         "legendgroup": "T-Mobile",
         "line": {
          "color": "#EF553B",
          "dash": "solid"
         },
         "marker": {
          "symbol": "circle"
         },
         "mode": "lines",
         "name": "T-Mobile",
         "orientation": "v",
         "showlegend": true,
         "type": "scatter",
         "x": [
          2006,
          2007,
          2008,
          2009,
          2010,
          2011,
          2012,
          2013,
          2017,
          2019,
          2020,
          2021,
          2022
         ],
         "xaxis": "x",
         "y": [
          3,
          3,
          3,
          12,
          10,
          13,
          4,
          1,
          1,
          2,
          3,
          1,
          2
         ],
         "yaxis": "y"
        },
        {
         "hovertemplate": "Brand=TCL<br>Release_Year=%{x}<br>count=%{y}<extra></extra>",
         "legendgroup": "TCL",
         "line": {
          "color": "#00cc96",
          "dash": "solid"
         },
         "marker": {
          "symbol": "circle"
         },
         "mode": "lines",
         "name": "TCL",
         "orientation": "v",
         "showlegend": true,
         "type": "scatter",
         "x": [
          2019,
          2020,
          2021,
          2022
         ],
         "xaxis": "x",
         "y": [
          1,
          10,
          16,
          18
         ],
         "yaxis": "y"
        },
        {
         "hovertemplate": "Brand=Tecno<br>Release_Year=%{x}<br>count=%{y}<extra></extra>",
         "legendgroup": "Tecno",
         "line": {
          "color": "#ab63fa",
          "dash": "solid"
         },
         "marker": {
          "symbol": "circle"
         },
         "mode": "lines",
         "name": "Tecno",
         "orientation": "v",
         "showlegend": true,
         "type": "scatter",
         "x": [
          2016,
          2017,
          2018,
          2019,
          2020,
          2021,
          2022
         ],
         "xaxis": "x",
         "y": [
          1,
          7,
          17,
          18,
          20,
          24,
          23
         ],
         "yaxis": "y"
        },
        {
         "hovertemplate": "Brand=Tel.Me.<br>Release_Year=%{x}<br>count=%{y}<extra></extra>",
         "legendgroup": "Tel.Me.",
         "line": {
          "color": "#FFA15A",
          "dash": "solid"
         },
         "marker": {
          "symbol": "circle"
         },
         "mode": "lines",
         "name": "Tel.Me.",
         "orientation": "v",
         "showlegend": true,
         "type": "scatter",
         "x": [
          2002,
          2003
         ],
         "xaxis": "x",
         "y": [
          1,
          3
         ],
         "yaxis": "y"
        },
        {
         "hovertemplate": "Brand=Telit<br>Release_Year=%{x}<br>count=%{y}<extra></extra>",
         "legendgroup": "Telit",
         "line": {
          "color": "#19d3f3",
          "dash": "solid"
         },
         "marker": {
          "symbol": "circle"
         },
         "mode": "lines",
         "name": "Telit",
         "orientation": "v",
         "showlegend": true,
         "type": "scatter",
         "x": [
          1999,
          2002
         ],
         "xaxis": "x",
         "y": [
          5,
          3
         ],
         "yaxis": "y"
        },
        {
         "hovertemplate": "Brand=Thuraya<br>Release_Year=%{x}<br>count=%{y}<extra></extra>",
         "legendgroup": "Thuraya",
         "line": {
          "color": "#FF6692",
          "dash": "solid"
         },
         "marker": {
          "symbol": "circle"
         },
         "mode": "lines",
         "name": "Thuraya",
         "orientation": "v",
         "showlegend": true,
         "type": "scatter",
         "x": [
          2007
         ],
         "xaxis": "x",
         "y": [
          1
         ],
         "yaxis": "y"
        },
        {
         "hovertemplate": "Brand=Toshiba<br>Release_Year=%{x}<br>count=%{y}<extra></extra>",
         "legendgroup": "Toshiba",
         "line": {
          "color": "#B6E880",
          "dash": "solid"
         },
         "marker": {
          "symbol": "circle"
         },
         "mode": "lines",
         "name": "Toshiba",
         "orientation": "v",
         "showlegend": true,
         "type": "scatter",
         "x": [
          2005,
          2006,
          2007,
          2008,
          2009,
          2010,
          2011,
          2012,
          2013,
          2014
         ],
         "xaxis": "x",
         "y": [
          1,
          8,
          2,
          4,
          1,
          2,
          2,
          5,
          3,
          2
         ],
         "yaxis": "y"
        },
        {
         "hovertemplate": "Brand=Ulefone<br>Release_Year=%{x}<br>count=%{y}<extra></extra>",
         "legendgroup": "Ulefone",
         "line": {
          "color": "#FF97FF",
          "dash": "solid"
         },
         "marker": {
          "symbol": "circle"
         },
         "mode": "lines",
         "name": "Ulefone",
         "orientation": "v",
         "showlegend": true,
         "type": "scatter",
         "x": [
          2017,
          2018,
          2019,
          2020,
          2021,
          2022
         ],
         "xaxis": "x",
         "y": [
          1,
          4,
          13,
          17,
          18,
          11
         ],
         "yaxis": "y"
        },
        {
         "hovertemplate": "Brand=Unnecto<br>Release_Year=%{x}<br>count=%{y}<extra></extra>",
         "legendgroup": "Unnecto",
         "line": {
          "color": "#FECB52",
          "dash": "solid"
         },
         "marker": {
          "symbol": "circle"
         },
         "mode": "lines",
         "name": "Unnecto",
         "orientation": "v",
         "showlegend": true,
         "type": "scatter",
         "x": [
          2011,
          2012,
          2013,
          2014,
          2015,
          2016
         ],
         "xaxis": "x",
         "y": [
          6,
          5,
          2,
          3,
          8,
          6
         ],
         "yaxis": "y"
        },
        {
         "hovertemplate": "Brand=VK Mobile<br>Release_Year=%{x}<br>count=%{y}<extra></extra>",
         "legendgroup": "VK Mobile",
         "line": {
          "color": "#636efa",
          "dash": "solid"
         },
         "marker": {
          "symbol": "circle"
         },
         "mode": "lines",
         "name": "VK Mobile",
         "orientation": "v",
         "showlegend": true,
         "type": "scatter",
         "x": [
          2005,
          2006,
          2008
         ],
         "xaxis": "x",
         "y": [
          1,
          8,
          1
         ],
         "yaxis": "y"
        },
        {
         "hovertemplate": "Brand=Vertu<br>Release_Year=%{x}<br>count=%{y}<extra></extra>",
         "legendgroup": "Vertu",
         "line": {
          "color": "#EF553B",
          "dash": "solid"
         },
         "marker": {
          "symbol": "circle"
         },
         "mode": "lines",
         "name": "Vertu",
         "orientation": "v",
         "showlegend": true,
         "type": "scatter",
         "x": [
          2003,
          2004,
          2005,
          2006,
          2008,
          2009,
          2010,
          2011,
          2013,
          2014,
          2015
         ],
         "xaxis": "x",
         "y": [
          1,
          1,
          1,
          1,
          2,
          1,
          2,
          1,
          2,
          2,
          1
         ],
         "yaxis": "y"
        },
        {
         "hovertemplate": "Brand=Vodafone<br>Release_Year=%{x}<br>count=%{y}<extra></extra>",
         "legendgroup": "Vodafone",
         "line": {
          "color": "#00cc96",
          "dash": "solid"
         },
         "marker": {
          "symbol": "circle"
         },
         "mode": "lines",
         "name": "Vodafone",
         "orientation": "v",
         "showlegend": true,
         "type": "scatter",
         "x": [
          2006,
          2007,
          2008,
          2009,
          2010,
          2011,
          2012,
          2013,
          2014,
          2015,
          2016,
          2017,
          2018,
          2019
         ],
         "xaxis": "x",
         "y": [
          1,
          6,
          7,
          11,
          11,
          2,
          6,
          5,
          5,
          6,
          6,
          4,
          4,
          2
         ],
         "yaxis": "y"
        },
        {
         "hovertemplate": "Brand=WND<br>Release_Year=%{x}<br>count=%{y}<extra></extra>",
         "legendgroup": "WND",
         "line": {
          "color": "#ab63fa",
          "dash": "solid"
         },
         "marker": {
          "symbol": "circle"
         },
         "mode": "lines",
         "name": "WND",
         "orientation": "v",
         "showlegend": true,
         "type": "scatter",
         "x": [
          2007
         ],
         "xaxis": "x",
         "y": [
          5
         ],
         "yaxis": "y"
        },
        {
         "hovertemplate": "Brand=Wiko<br>Release_Year=%{x}<br>count=%{y}<extra></extra>",
         "legendgroup": "Wiko",
         "line": {
          "color": "#FFA15A",
          "dash": "solid"
         },
         "marker": {
          "symbol": "circle"
         },
         "mode": "lines",
         "name": "Wiko",
         "orientation": "v",
         "showlegend": true,
         "type": "scatter",
         "x": [
          2014,
          2015,
          2016,
          2017,
          2018,
          2019,
          2020,
          2021,
          2022
         ],
         "xaxis": "x",
         "y": [
          11,
          17,
          13,
          17,
          5,
          9,
          11,
          7,
          4
         ],
         "yaxis": "y"
        },
        {
         "hovertemplate": "Brand=XCute<br>Release_Year=%{x}<br>count=%{y}<extra></extra>",
         "legendgroup": "XCute",
         "line": {
          "color": "#19d3f3",
          "dash": "solid"
         },
         "marker": {
          "symbol": "circle"
         },
         "mode": "lines",
         "name": "XCute",
         "orientation": "v",
         "showlegend": true,
         "type": "scatter",
         "x": [
          2006
         ],
         "xaxis": "x",
         "y": [
          2
         ],
         "yaxis": "y"
        },
        {
         "hovertemplate": "Brand=XOLO<br>Release_Year=%{x}<br>count=%{y}<extra></extra>",
         "legendgroup": "XOLO",
         "line": {
          "color": "#FF6692",
          "dash": "solid"
         },
         "marker": {
          "symbol": "circle"
         },
         "mode": "lines",
         "name": "XOLO",
         "orientation": "v",
         "showlegend": true,
         "type": "scatter",
         "x": [
          2013,
          2014,
          2015,
          2016,
          2017
         ],
         "xaxis": "x",
         "y": [
          24,
          37,
          12,
          6,
          1
         ],
         "yaxis": "y"
        },
        {
         "hovertemplate": "Brand=Xiaomi<br>Release_Year=%{x}<br>count=%{y}<extra></extra>",
         "legendgroup": "Xiaomi",
         "line": {
          "color": "#B6E880",
          "dash": "solid"
         },
         "marker": {
          "symbol": "circle"
         },
         "mode": "lines",
         "name": "Xiaomi",
         "orientation": "v",
         "showlegend": true,
         "type": "scatter",
         "x": [
          2012,
          2013,
          2014,
          2015,
          2016,
          2017,
          2018,
          2019,
          2020,
          2021,
          2022,
          2023
         ],
         "xaxis": "x",
         "y": [
          2,
          4,
          6,
          12,
          18,
          14,
          23,
          35,
          55,
          65,
          71,
          4
         ],
         "yaxis": "y"
        },
        {
         "hovertemplate": "Brand=YU<br>Release_Year=%{x}<br>count=%{y}<extra></extra>",
         "legendgroup": "YU",
         "line": {
          "color": "#FF97FF",
          "dash": "solid"
         },
         "marker": {
          "symbol": "circle"
         },
         "mode": "lines",
         "name": "YU",
         "orientation": "v",
         "showlegend": true,
         "type": "scatter",
         "x": [
          2015,
          2016,
          2017,
          2018
         ],
         "xaxis": "x",
         "y": [
          5,
          4,
          3,
          1
         ],
         "yaxis": "y"
        },
        {
         "hovertemplate": "Brand=Yezz<br>Release_Year=%{x}<br>count=%{y}<extra></extra>",
         "legendgroup": "Yezz",
         "line": {
          "color": "#FECB52",
          "dash": "solid"
         },
         "marker": {
          "symbol": "circle"
         },
         "mode": "lines",
         "name": "Yezz",
         "orientation": "v",
         "showlegend": true,
         "type": "scatter",
         "x": [
          2011,
          2012,
          2013,
          2014,
          2015,
          2016,
          2018,
          2019,
          2020,
          2021,
          2022
         ],
         "xaxis": "x",
         "y": [
          10,
          8,
          15,
          21,
          19,
          14,
          4,
          2,
          4,
          5,
          5
         ],
         "yaxis": "y"
        },
        {
         "hovertemplate": "Brand=Yota<br>Release_Year=%{x}<br>count=%{y}<extra></extra>",
         "legendgroup": "Yota",
         "line": {
          "color": "#636efa",
          "dash": "solid"
         },
         "marker": {
          "symbol": "circle"
         },
         "mode": "lines",
         "name": "Yota",
         "orientation": "v",
         "showlegend": true,
         "type": "scatter",
         "x": [
          2013,
          2014,
          2017
         ],
         "xaxis": "x",
         "y": [
          1,
          1,
          1
         ],
         "yaxis": "y"
        },
        {
         "hovertemplate": "Brand=ZTE<br>Release_Year=%{x}<br>count=%{y}<extra></extra>",
         "legendgroup": "ZTE",
         "line": {
          "color": "#EF553B",
          "dash": "solid"
         },
         "marker": {
          "symbol": "circle"
         },
         "mode": "lines",
         "name": "ZTE",
         "orientation": "v",
         "showlegend": true,
         "type": "scatter",
         "x": [
          2007,
          2008,
          2009,
          2010,
          2011,
          2012,
          2013,
          2014,
          2015,
          2016,
          2017,
          2018,
          2019,
          2020,
          2021,
          2022
         ],
         "xaxis": "x",
         "y": [
          1,
          2,
          14,
          14,
          15,
          31,
          20,
          27,
          38,
          25,
          31,
          12,
          18,
          23,
          31,
          24
         ],
         "yaxis": "y"
        },
        {
         "hovertemplate": "Brand=alcatel<br>Release_Year=%{x}<br>count=%{y}<extra></extra>",
         "legendgroup": "alcatel",
         "line": {
          "color": "#00cc96",
          "dash": "solid"
         },
         "marker": {
          "symbol": "circle"
         },
         "mode": "lines",
         "name": "alcatel",
         "orientation": "v",
         "showlegend": true,
         "type": "scatter",
         "x": [
          1998,
          1999,
          2000,
          2001,
          2002,
          2003,
          2006,
          2007,
          2008,
          2009,
          2010,
          2011,
          2012,
          2013,
          2014,
          2015,
          2016,
          2017,
          2018,
          2019,
          2020,
          2021,
          2022
         ],
         "xaxis": "x",
         "y": [
          1,
          1,
          9,
          2,
          2,
          4,
          9,
          18,
          21,
          19,
          21,
          20,
          27,
          28,
          33,
          26,
          14,
          12,
          13,
          12,
          6,
          7,
          1
         ],
         "yaxis": "y"
        },
        {
         "hovertemplate": "Brand=i-mate<br>Release_Year=%{x}<br>count=%{y}<extra></extra>",
         "legendgroup": "i-mate",
         "line": {
          "color": "#ab63fa",
          "dash": "solid"
         },
         "marker": {
          "symbol": "circle"
         },
         "mode": "lines",
         "name": "i-mate",
         "orientation": "v",
         "showlegend": true,
         "type": "scatter",
         "x": [
          2005,
          2006,
          2007,
          2008,
          2009
         ],
         "xaxis": "x",
         "y": [
          5,
          7,
          7,
          4,
          1
         ],
         "yaxis": "y"
        },
        {
         "hovertemplate": "Brand=i-mobile<br>Release_Year=%{x}<br>count=%{y}<extra></extra>",
         "legendgroup": "i-mobile",
         "line": {
          "color": "#FFA15A",
          "dash": "solid"
         },
         "marker": {
          "symbol": "circle"
         },
         "mode": "lines",
         "name": "i-mobile",
         "orientation": "v",
         "showlegend": true,
         "type": "scatter",
         "x": [
          2006,
          2007,
          2008,
          2009,
          2010
         ],
         "xaxis": "x",
         "y": [
          1,
          6,
          12,
          6,
          5
         ],
         "yaxis": "y"
        },
        {
         "hovertemplate": "Brand=iNQ<br>Release_Year=%{x}<br>count=%{y}<extra></extra>",
         "legendgroup": "iNQ",
         "line": {
          "color": "#19d3f3",
          "dash": "solid"
         },
         "marker": {
          "symbol": "circle"
         },
         "mode": "lines",
         "name": "iNQ",
         "orientation": "v",
         "showlegend": true,
         "type": "scatter",
         "x": [
          2009,
          2011
         ],
         "xaxis": "x",
         "y": [
          3,
          2
         ],
         "yaxis": "y"
        },
        {
         "hovertemplate": "Brand=verykool<br>Release_Year=%{x}<br>count=%{y}<extra></extra>",
         "legendgroup": "verykool",
         "line": {
          "color": "#FF6692",
          "dash": "solid"
         },
         "marker": {
          "symbol": "circle"
         },
         "mode": "lines",
         "name": "verykool",
         "orientation": "v",
         "showlegend": true,
         "type": "scatter",
         "x": [
          2011,
          2012,
          2013,
          2014,
          2015,
          2016,
          2017,
          2018
         ],
         "xaxis": "x",
         "y": [
          23,
          17,
          19,
          19,
          19,
          13,
          21,
          3
         ],
         "yaxis": "y"
        },
        {
         "hovertemplate": "Brand=vivo<br>Release_Year=%{x}<br>count=%{y}<extra></extra>",
         "legendgroup": "vivo",
         "line": {
          "color": "#B6E880",
          "dash": "solid"
         },
         "marker": {
          "symbol": "circle"
         },
         "mode": "lines",
         "name": "vivo",
         "orientation": "v",
         "showlegend": true,
         "type": "scatter",
         "x": [
          2013,
          2014,
          2015,
          2016,
          2017,
          2018,
          2019,
          2020,
          2021,
          2022
         ],
         "xaxis": "x",
         "y": [
          3,
          6,
          12,
          14,
          14,
          31,
          47,
          49,
          76,
          83
         ],
         "yaxis": "y"
        }
       ],
       "layout": {
        "height": 600,
        "legend": {
         "title": {
          "text": "Brand"
         },
         "tracegroupgap": 0
        },
        "margin": {
         "t": 60
        },
        "showlegend": false,
        "template": {
         "data": {
          "bar": [
           {
            "error_x": {
             "color": "#2a3f5f"
            },
            "error_y": {
             "color": "#2a3f5f"
            },
            "marker": {
             "line": {
              "color": "#E5ECF6",
              "width": 0.5
             },
             "pattern": {
              "fillmode": "overlay",
              "size": 10,
              "solidity": 0.2
             }
            },
            "type": "bar"
           }
          ],
          "barpolar": [
           {
            "marker": {
             "line": {
              "color": "#E5ECF6",
              "width": 0.5
             },
             "pattern": {
              "fillmode": "overlay",
              "size": 10,
              "solidity": 0.2
             }
            },
            "type": "barpolar"
           }
          ],
          "carpet": [
           {
            "aaxis": {
             "endlinecolor": "#2a3f5f",
             "gridcolor": "white",
             "linecolor": "white",
             "minorgridcolor": "white",
             "startlinecolor": "#2a3f5f"
            },
            "baxis": {
             "endlinecolor": "#2a3f5f",
             "gridcolor": "white",
             "linecolor": "white",
             "minorgridcolor": "white",
             "startlinecolor": "#2a3f5f"
            },
            "type": "carpet"
           }
          ],
          "choropleth": [
           {
            "colorbar": {
             "outlinewidth": 0,
             "ticks": ""
            },
            "type": "choropleth"
           }
          ],
          "contour": [
           {
            "colorbar": {
             "outlinewidth": 0,
             "ticks": ""
            },
            "colorscale": [
             [
              0,
              "#0d0887"
             ],
             [
              0.1111111111111111,
              "#46039f"
             ],
             [
              0.2222222222222222,
              "#7201a8"
             ],
             [
              0.3333333333333333,
              "#9c179e"
             ],
             [
              0.4444444444444444,
              "#bd3786"
             ],
             [
              0.5555555555555556,
              "#d8576b"
             ],
             [
              0.6666666666666666,
              "#ed7953"
             ],
             [
              0.7777777777777778,
              "#fb9f3a"
             ],
             [
              0.8888888888888888,
              "#fdca26"
             ],
             [
              1,
              "#f0f921"
             ]
            ],
            "type": "contour"
           }
          ],
          "contourcarpet": [
           {
            "colorbar": {
             "outlinewidth": 0,
             "ticks": ""
            },
            "type": "contourcarpet"
           }
          ],
          "heatmap": [
           {
            "colorbar": {
             "outlinewidth": 0,
             "ticks": ""
            },
            "colorscale": [
             [
              0,
              "#0d0887"
             ],
             [
              0.1111111111111111,
              "#46039f"
             ],
             [
              0.2222222222222222,
              "#7201a8"
             ],
             [
              0.3333333333333333,
              "#9c179e"
             ],
             [
              0.4444444444444444,
              "#bd3786"
             ],
             [
              0.5555555555555556,
              "#d8576b"
             ],
             [
              0.6666666666666666,
              "#ed7953"
             ],
             [
              0.7777777777777778,
              "#fb9f3a"
             ],
             [
              0.8888888888888888,
              "#fdca26"
             ],
             [
              1,
              "#f0f921"
             ]
            ],
            "type": "heatmap"
           }
          ],
          "heatmapgl": [
           {
            "colorbar": {
             "outlinewidth": 0,
             "ticks": ""
            },
            "colorscale": [
             [
              0,
              "#0d0887"
             ],
             [
              0.1111111111111111,
              "#46039f"
             ],
             [
              0.2222222222222222,
              "#7201a8"
             ],
             [
              0.3333333333333333,
              "#9c179e"
             ],
             [
              0.4444444444444444,
              "#bd3786"
             ],
             [
              0.5555555555555556,
              "#d8576b"
             ],
             [
              0.6666666666666666,
              "#ed7953"
             ],
             [
              0.7777777777777778,
              "#fb9f3a"
             ],
             [
              0.8888888888888888,
              "#fdca26"
             ],
             [
              1,
              "#f0f921"
             ]
            ],
            "type": "heatmapgl"
           }
          ],
          "histogram": [
           {
            "marker": {
             "pattern": {
              "fillmode": "overlay",
              "size": 10,
              "solidity": 0.2
             }
            },
            "type": "histogram"
           }
          ],
          "histogram2d": [
           {
            "colorbar": {
             "outlinewidth": 0,
             "ticks": ""
            },
            "colorscale": [
             [
              0,
              "#0d0887"
             ],
             [
              0.1111111111111111,
              "#46039f"
             ],
             [
              0.2222222222222222,
              "#7201a8"
             ],
             [
              0.3333333333333333,
              "#9c179e"
             ],
             [
              0.4444444444444444,
              "#bd3786"
             ],
             [
              0.5555555555555556,
              "#d8576b"
             ],
             [
              0.6666666666666666,
              "#ed7953"
             ],
             [
              0.7777777777777778,
              "#fb9f3a"
             ],
             [
              0.8888888888888888,
              "#fdca26"
             ],
             [
              1,
              "#f0f921"
             ]
            ],
            "type": "histogram2d"
           }
          ],
          "histogram2dcontour": [
           {
            "colorbar": {
             "outlinewidth": 0,
             "ticks": ""
            },
            "colorscale": [
             [
              0,
              "#0d0887"
             ],
             [
              0.1111111111111111,
              "#46039f"
             ],
             [
              0.2222222222222222,
              "#7201a8"
             ],
             [
              0.3333333333333333,
              "#9c179e"
             ],
             [
              0.4444444444444444,
              "#bd3786"
             ],
             [
              0.5555555555555556,
              "#d8576b"
             ],
             [
              0.6666666666666666,
              "#ed7953"
             ],
             [
              0.7777777777777778,
              "#fb9f3a"
             ],
             [
              0.8888888888888888,
              "#fdca26"
             ],
             [
              1,
              "#f0f921"
             ]
            ],
            "type": "histogram2dcontour"
           }
          ],
          "mesh3d": [
           {
            "colorbar": {
             "outlinewidth": 0,
             "ticks": ""
            },
            "type": "mesh3d"
           }
          ],
          "parcoords": [
           {
            "line": {
             "colorbar": {
              "outlinewidth": 0,
              "ticks": ""
             }
            },
            "type": "parcoords"
           }
          ],
          "pie": [
           {
            "automargin": true,
            "type": "pie"
           }
          ],
          "scatter": [
           {
            "fillpattern": {
             "fillmode": "overlay",
             "size": 10,
             "solidity": 0.2
            },
            "type": "scatter"
           }
          ],
          "scatter3d": [
           {
            "line": {
             "colorbar": {
              "outlinewidth": 0,
              "ticks": ""
             }
            },
            "marker": {
             "colorbar": {
              "outlinewidth": 0,
              "ticks": ""
             }
            },
            "type": "scatter3d"
           }
          ],
          "scattercarpet": [
           {
            "marker": {
             "colorbar": {
              "outlinewidth": 0,
              "ticks": ""
             }
            },
            "type": "scattercarpet"
           }
          ],
          "scattergeo": [
           {
            "marker": {
             "colorbar": {
              "outlinewidth": 0,
              "ticks": ""
             }
            },
            "type": "scattergeo"
           }
          ],
          "scattergl": [
           {
            "marker": {
             "colorbar": {
              "outlinewidth": 0,
              "ticks": ""
             }
            },
            "type": "scattergl"
           }
          ],
          "scattermapbox": [
           {
            "marker": {
             "colorbar": {
              "outlinewidth": 0,
              "ticks": ""
             }
            },
            "type": "scattermapbox"
           }
          ],
          "scatterpolar": [
           {
            "marker": {
             "colorbar": {
              "outlinewidth": 0,
              "ticks": ""
             }
            },
            "type": "scatterpolar"
           }
          ],
          "scatterpolargl": [
           {
            "marker": {
             "colorbar": {
              "outlinewidth": 0,
              "ticks": ""
             }
            },
            "type": "scatterpolargl"
           }
          ],
          "scatterternary": [
           {
            "marker": {
             "colorbar": {
              "outlinewidth": 0,
              "ticks": ""
             }
            },
            "type": "scatterternary"
           }
          ],
          "surface": [
           {
            "colorbar": {
             "outlinewidth": 0,
             "ticks": ""
            },
            "colorscale": [
             [
              0,
              "#0d0887"
             ],
             [
              0.1111111111111111,
              "#46039f"
             ],
             [
              0.2222222222222222,
              "#7201a8"
             ],
             [
              0.3333333333333333,
              "#9c179e"
             ],
             [
              0.4444444444444444,
              "#bd3786"
             ],
             [
              0.5555555555555556,
              "#d8576b"
             ],
             [
              0.6666666666666666,
              "#ed7953"
             ],
             [
              0.7777777777777778,
              "#fb9f3a"
             ],
             [
              0.8888888888888888,
              "#fdca26"
             ],
             [
              1,
              "#f0f921"
             ]
            ],
            "type": "surface"
           }
          ],
          "table": [
           {
            "cells": {
             "fill": {
              "color": "#EBF0F8"
             },
             "line": {
              "color": "white"
             }
            },
            "header": {
             "fill": {
              "color": "#C8D4E3"
             },
             "line": {
              "color": "white"
             }
            },
            "type": "table"
           }
          ]
         },
         "layout": {
          "annotationdefaults": {
           "arrowcolor": "#2a3f5f",
           "arrowhead": 0,
           "arrowwidth": 1
          },
          "autotypenumbers": "strict",
          "coloraxis": {
           "colorbar": {
            "outlinewidth": 0,
            "ticks": ""
           }
          },
          "colorscale": {
           "diverging": [
            [
             0,
             "#8e0152"
            ],
            [
             0.1,
             "#c51b7d"
            ],
            [
             0.2,
             "#de77ae"
            ],
            [
             0.3,
             "#f1b6da"
            ],
            [
             0.4,
             "#fde0ef"
            ],
            [
             0.5,
             "#f7f7f7"
            ],
            [
             0.6,
             "#e6f5d0"
            ],
            [
             0.7,
             "#b8e186"
            ],
            [
             0.8,
             "#7fbc41"
            ],
            [
             0.9,
             "#4d9221"
            ],
            [
             1,
             "#276419"
            ]
           ],
           "sequential": [
            [
             0,
             "#0d0887"
            ],
            [
             0.1111111111111111,
             "#46039f"
            ],
            [
             0.2222222222222222,
             "#7201a8"
            ],
            [
             0.3333333333333333,
             "#9c179e"
            ],
            [
             0.4444444444444444,
             "#bd3786"
            ],
            [
             0.5555555555555556,
             "#d8576b"
            ],
            [
             0.6666666666666666,
             "#ed7953"
            ],
            [
             0.7777777777777778,
             "#fb9f3a"
            ],
            [
             0.8888888888888888,
             "#fdca26"
            ],
            [
             1,
             "#f0f921"
            ]
           ],
           "sequentialminus": [
            [
             0,
             "#0d0887"
            ],
            [
             0.1111111111111111,
             "#46039f"
            ],
            [
             0.2222222222222222,
             "#7201a8"
            ],
            [
             0.3333333333333333,
             "#9c179e"
            ],
            [
             0.4444444444444444,
             "#bd3786"
            ],
            [
             0.5555555555555556,
             "#d8576b"
            ],
            [
             0.6666666666666666,
             "#ed7953"
            ],
            [
             0.7777777777777778,
             "#fb9f3a"
            ],
            [
             0.8888888888888888,
             "#fdca26"
            ],
            [
             1,
             "#f0f921"
            ]
           ]
          },
          "colorway": [
           "#636efa",
           "#EF553B",
           "#00cc96",
           "#ab63fa",
           "#FFA15A",
           "#19d3f3",
           "#FF6692",
           "#B6E880",
           "#FF97FF",
           "#FECB52"
          ],
          "font": {
           "color": "#2a3f5f"
          },
          "geo": {
           "bgcolor": "white",
           "lakecolor": "white",
           "landcolor": "#E5ECF6",
           "showlakes": true,
           "showland": true,
           "subunitcolor": "white"
          },
          "hoverlabel": {
           "align": "left"
          },
          "hovermode": "closest",
          "mapbox": {
           "style": "light"
          },
          "paper_bgcolor": "white",
          "plot_bgcolor": "#E5ECF6",
          "polar": {
           "angularaxis": {
            "gridcolor": "white",
            "linecolor": "white",
            "ticks": ""
           },
           "bgcolor": "#E5ECF6",
           "radialaxis": {
            "gridcolor": "white",
            "linecolor": "white",
            "ticks": ""
           }
          },
          "scene": {
           "xaxis": {
            "backgroundcolor": "#E5ECF6",
            "gridcolor": "white",
            "gridwidth": 2,
            "linecolor": "white",
            "showbackground": true,
            "ticks": "",
            "zerolinecolor": "white"
           },
           "yaxis": {
            "backgroundcolor": "#E5ECF6",
            "gridcolor": "white",
            "gridwidth": 2,
            "linecolor": "white",
            "showbackground": true,
            "ticks": "",
            "zerolinecolor": "white"
           },
           "zaxis": {
            "backgroundcolor": "#E5ECF6",
            "gridcolor": "white",
            "gridwidth": 2,
            "linecolor": "white",
            "showbackground": true,
            "ticks": "",
            "zerolinecolor": "white"
           }
          },
          "shapedefaults": {
           "line": {
            "color": "#2a3f5f"
           }
          },
          "ternary": {
           "aaxis": {
            "gridcolor": "white",
            "linecolor": "white",
            "ticks": ""
           },
           "baxis": {
            "gridcolor": "white",
            "linecolor": "white",
            "ticks": ""
           },
           "bgcolor": "#E5ECF6",
           "caxis": {
            "gridcolor": "white",
            "linecolor": "white",
            "ticks": ""
           }
          },
          "title": {
           "x": 0.05
          },
          "xaxis": {
           "automargin": true,
           "gridcolor": "white",
           "linecolor": "white",
           "ticks": "",
           "title": {
            "standoff": 15
           },
           "zerolinecolor": "white",
           "zerolinewidth": 2
          },
          "yaxis": {
           "automargin": true,
           "gridcolor": "white",
           "linecolor": "white",
           "ticks": "",
           "title": {
            "standoff": 15
           },
           "zerolinecolor": "white",
           "zerolinewidth": 2
          }
         }
        },
        "title": {
         "text": "Number of Phones Released by Brand each Year between 1994 and 2022"
        },
        "width": 1200,
        "xaxis": {
         "anchor": "y",
         "domain": [
          0,
          1
         ],
         "range": [
          1994,
          2022
         ],
         "title": {
          "text": "Release Year"
         }
        },
        "yaxis": {
         "anchor": "x",
         "domain": [
          0,
          1
         ],
         "title": {
          "text": "Count"
         }
        }
       }
      }
     },
     "metadata": {},
     "output_type": "display_data"
    }
   ],
   "source": [
    "import plotly.express as px\n",
    "\n",
    "# Get the phone counts by brand and release year\n",
    "phone_counts = df.groupby(['Brand', 'Release_Year']).size().reset_index(name='count')\n",
    "\n",
    "# Create the line plot\n",
    "fig = px.line(phone_counts, x='Release_Year', y='count', color='Brand')\n",
    "\n",
    "# Set the x-axis label\n",
    "fig.update_xaxes(title_text='Release Year')\n",
    "\n",
    "# Set the y-axis label\n",
    "fig.update_yaxes(title_text='Count')\n",
    "\n",
    "# Set the plot title\n",
    "fig.update_layout(title='Number of Phones Released by Brand each Year between 1994 and 2022')\n",
    "\n",
    "\n",
    "\n",
    "# Set the maximum value of the x-axis to 2022\n",
    "fig.update_layout(xaxis=dict(range=[df['Release_Year'].min(), 2022]))\n",
    "\n",
    "# Remove the legend\n",
    "fig.update_layout(showlegend=False, height=600, width=1200)\n",
    "\n",
    "# Show the plot\n",
    "fig.show()\n"
   ]
  },
  {
   "cell_type": "code",
   "execution_count": 217,
   "metadata": {},
   "outputs": [
    {
     "data": {
      "application/vnd.jupyter.widget-view+json": {
       "model_id": "c6fd6684ab3b4300a822d5b24bd353c8",
       "version_major": 2,
       "version_minor": 0
      },
      "text/plain": [
       "interactive(children=(SelectMultiple(description='Brand:', index=(0,), options=('AT&T', 'Acer', 'Allview', 'Am…"
      ]
     },
     "metadata": {},
     "output_type": "display_data"
    }
   ],
   "source": [
    "import ipywidgets as widgets\n",
    "from ipywidgets import interact\n",
    "\n",
    "# Get the phone counts by brand and release year\n",
    "phone_counts = df.groupby(['Brand', 'Release_Year']).size().reset_index(name='count')\n",
    "\n",
    "# Create a list of all the available brands\n",
    "brands = phone_counts['Brand'].unique().tolist()\n",
    "\n",
    "# Define a function to update the plot based on the selected brand\n",
    "def update_plot(brands):\n",
    "    # Filter the phone counts by the selected brands\n",
    "    brand_counts = phone_counts[phone_counts['Brand'].isin(brands)]\n",
    "    \n",
    "    # Set the size of the figure\n",
    "    plt.figure(figsize=(20,10))\n",
    "\n",
    "    # Create the line plot\n",
    "    sns.set_style('whitegrid')\n",
    "    g = sns.lineplot(x='Release_Year', y='count', hue='Brand', data=brand_counts)\n",
    "\n",
    "    # Set the x-axis label and ticks\n",
    "    g.set(xlabel='Release Year')\n",
    "    g.set(ylabel='Count')\n",
    "    g.set(title=f'Number of Phones Released by {\", \".join(brands)} each Year')\n",
    "    g.set_xticks(range(2010, 2023))\n",
    "\n",
    "    # Show the plot\n",
    "    plt.show()\n",
    "\n",
    "# Create the interactive widget\n",
    "interact(update_plot, brands=widgets.SelectMultiple(options=brands, value=[brands[0]], description='Brand:'));\n"
   ]
  },
  {
   "cell_type": "code",
   "execution_count": 218,
   "metadata": {},
   "outputs": [
    {
     "data": {
      "image/png": "[encoded data removed]",
      "text/plain": [
       "<Figure size 1440x720 with 1 Axes>"
      ]
     },
     "metadata": {},
     "output_type": "display_data"
    }
   ],
   "source": [
    "# Create a pivot table to count the number of models released by each OEM in each year\n",
    "models_per_year = pd.pivot_table(df, values='Model', index='Brand', columns='Release_Year', aggfunc='count', fill_value=0)\n",
    "\n",
    "# Reindex the pivot table to include all years from 1995 to 2022\n",
    "all_years = pd.Index(range(1994, 2023), name='Year')\n",
    "models_per_year = models_per_year.reindex(columns=all_years, fill_value=0)\n",
    "\n",
    "# Reset the index to convert the pivot table into a DataFrame\n",
    "models_per_year = models_per_year.reset_index()\n",
    "\n",
    "# Create a new dataframe to record the changes\n",
    "changes_df = models_per_year.copy()\n",
    "\n",
    "# Iterate over each row starting from the second row\n",
    "for i in range(0, len(models_per_year)):\n",
    "    # Iterate over each year column starting from the second column\n",
    "    for j in range(2, len(models_per_year.columns)):\n",
    "        if j == 0:\n",
    "            continue\n",
    "\n",
    "        prev_value = int(models_per_year.iloc[i, j-1])\n",
    "        curr_value = int(models_per_year.iloc[i, j])\n",
    "\n",
    "        # Check the conditions and label the changes accordingly\n",
    "        if prev_value == 0 and curr_value > 0:\n",
    "            changes_df.iloc[i, j] = \"entered\"\n",
    "        elif prev_value == 0 and curr_value == 0:\n",
    "            changes_df.iloc[i, j] = \"no change\"\n",
    "        elif prev_value > 0 and curr_value > 0:\n",
    "            changes_df.iloc[i, j] = \"no change\"\n",
    "        elif prev_value > 0 and curr_value == 0:\n",
    "            changes_df.iloc[i, j] = \"exited\"\n",
    "\n",
    "# Compute the counts of entered and exited OEMs\n",
    "entered_counts = changes_df[changes_df == \"entered\"].count()\n",
    "exited_counts = changes_df[changes_df == \"exited\"].count()\n",
    "\n",
    "# Create a bar plot\n",
    "fig, ax = plt.subplots(figsize=(20, 10))\n",
    "exited_counts.plot(kind=\"bar\", color=\"red\", label=\"Exited\", ax=ax)\n",
    "entered_counts.plot(kind=\"bar\", color=\"green\", label=\"Entered\", ax=ax, width=0.3)\n",
    "\n",
    "# Set the plot title and axis labels\n",
    "plt.title(\"Smartphone OEM Turnover\", fontsize=20, weight='bold')\n",
    "plt.xlabel(\"Year\")\n",
    "plt.ylabel(\"Count\")\n",
    "\n",
    "# Add a legend\n",
    "plt.legend()\n",
    "\n",
    "# Display the plot\n",
    "plt.show()"
   ]
  },
  {
   "attachments": {},
   "cell_type": "markdown",
   "metadata": {},
   "source": [
    "***** Build *****"
   ]
  },
  {
   "cell_type": "code",
   "execution_count": 219,
   "metadata": {},
   "outputs": [
    {
     "data": {
      "text/plain": [
       "11080    0.0\n",
       "6943     0.0\n",
       "11081    0.0\n",
       "7945     4.7\n",
       "5079     4.9\n",
       "Name: Thickness, dtype: object"
      ]
     },
     "execution_count": 219,
     "metadata": {},
     "output_type": "execute_result"
    }
   ],
   "source": [
    "cleaned_gsm_arena_data[cleaned_gsm_arena_data['Thickness']!= 'Not Measured']['Thickness'].sort_values().head(5)"
   ]
  },
  {
   "cell_type": "code",
   "execution_count": 220,
   "metadata": {},
   "outputs": [
    {
     "name": "stdout",
     "output_type": "stream",
     "text": [
      "          Brand                Model Released Weight Thickness\n",
      "11080    Archos           50b Cobalt  2017-01  160.0       0.0\n",
      "6943   Micromax  Canvas Play 4G Q469  2015-11  100.0       0.0\n",
      "11081    Archos           55b Cobalt  2017-01  188.0       0.0\n",
      "7945     Lenovo       Yoga Tab 3 Pro  2015-12  666.8       4.7\n",
      "5079       Oppo                   R5  2014-12  155.0       4.9\n",
      "5092       Oppo                  R5s  2015-08  155.0       4.9\n",
      "889        Wiko      Highway Pure 4G  2015-04   98.0       5.1\n",
      "10364       BLU         Vivo Air LTE  2015-09   98.0       5.1\n",
      "4356    QMobile              Noir Z9  2015-07   97.0       5.1\n",
      "10341       BLU             Vivo Air  2015-01   97.0       5.1\n"
     ]
    }
   ],
   "source": [
    "#find the thinnest devices\n",
    "thinnest_devices = cleaned_gsm_arena_data.loc[cleaned_gsm_arena_data['Thickness'] != 'Not Measured', ['Brand', 'Model', 'Released', 'Weight', 'Thickness']]\n",
    "thinnest_devices = thinnest_devices.sort_values('Thickness').head(10)\n",
    "print(thinnest_devices)\n"
   ]
  },
  {
   "cell_type": "code",
   "execution_count": 221,
   "metadata": {},
   "outputs": [
    {
     "name": "stdout",
     "output_type": "stream",
     "text": [
      "          Brand              Model          Released        Weight Thickness\n",
      "4022      Sagem            MY 3078           2002-01          85.0      75.0\n",
      "2755    Samsung               Z110  Not Released Yet         120.0      50.0\n",
      "4061      Sagem            MY V-76           2005-07         104.0      47.0\n",
      "4060      Sagem            MY V-56  Not Released Yet          97.0      46.0\n",
      "4062      Sagem            MY V-85  Not Released Yet         120.0      46.0\n",
      "10750      Bird               S698  Not Released Yet          73.0      44.0\n",
      "5419      Nokia  9000 Communicator           1998-01         397.0      38.0\n",
      "9702   Ericsson             GH 218           1994-01  Not Measured      36.0\n",
      "2288       Sony         CM-DX 1000           1997-01         235.0      32.0\n",
      "9725   Ericsson          R250s PRO           2000-01         330.0      32.0\n"
     ]
    }
   ],
   "source": [
    "#find the thickest devices\n",
    "thickest_devices = cleaned_gsm_arena_data.loc[cleaned_gsm_arena_data['Thickness'] != 'Not Measured', ['Brand', 'Model', 'Released', 'Weight', 'Thickness']]\n",
    "thickest_devices = thickest_devices.sort_values('Thickness', ascending=False).head(10)\n",
    "print(thickest_devices)"
   ]
  },
  {
   "cell_type": "code",
   "execution_count": 222,
   "metadata": {},
   "outputs": [
    {
     "data": {
      "image/png": "[encoded data removed]",
      "text/plain": [
       "<Figure size 1440x720 with 1 Axes>"
      ]
     },
     "metadata": {},
     "output_type": "display_data"
    }
   ],
   "source": [
    "# Filter out devices with measured thickness\n",
    "filtered_data = df[cleaned_gsm_arena_data['Thickness'] != 'Not Measured']\n",
    "\n",
    "# Convert 'Thickness' column to numeric values\n",
    "filtered_data['Thickness'] = pd.to_numeric(filtered_data['Thickness'])\n",
    "\n",
    "# Group the data by 'Release_Year' and calculate the average thickness for each year\n",
    "average_thickness_by_year = filtered_data.groupby('Release_Year')['Thickness'].mean()\n",
    "\n",
    "# Plot the average thickness over the years\n",
    "plt.figure(figsize=(20, 10))\n",
    "plt.plot(average_thickness_by_year.index, average_thickness_by_year.values, marker='o')\n",
    "\n",
    "# Set the plot title and axis labels\n",
    "plt.title('Average Thickness of Devices Released Each Year', fontsize=20, weight='bold')\n",
    "plt.xlabel('Year')\n",
    "plt.ylabel('Average Thickness')\n",
    "\n",
    "# Show gridlines\n",
    "plt.grid(True)\n",
    "\n",
    "# Display the plot\n",
    "plt.show()\n"
   ]
  },
  {
   "cell_type": "code",
   "execution_count": 223,
   "metadata": {},
   "outputs": [
    {
     "name": "stdout",
     "output_type": "stream",
     "text": [
      "         Brand                          Model Released     Thickness Weight\n",
      "8920    Huawei                 Watch Fit mini  2021-09          11.0   20.0\n",
      "9367     Honor                       Watch ES  2020-09  Not Measured   21.0\n",
      "8879    Huawei                      Watch Fit  2020-09          10.7   21.0\n",
      "3841   Samsung            Galaxy Watch Active  2019-04          10.5   25.0\n",
      "8901    Huawei              Watch Fit Elegant  2021-03          10.7   27.0\n",
      "6608  Motorola                 Moto Watch 100  2021-12          11.9   29.0\n",
      "296        ZTE                Red Magic Watch  2021-03          12.4   30.0\n",
      "297        ZTE                       Watch GT  2021-03          12.4   30.0\n",
      "3848   Samsung  Galaxy Watch Active2 Aluminum  2019-09          10.9   30.0\n",
      "821     Xiaomi                     Poco Watch  2022-04          10.0   31.0\n"
     ]
    }
   ],
   "source": [
    "# Find the lightest devices\n",
    "lightest_devices = cleaned_gsm_arena_data.loc[cleaned_gsm_arena_data['Weight'] != 'Not Measured', ['Brand', 'Model', 'Released', 'Thickness', 'Weight']]\n",
    "lightest_devices = lightest_devices.sort_values('Weight').head(10)\n",
    "print(lightest_devices)\n"
   ]
  },
  {
   "cell_type": "code",
   "execution_count": 224,
   "metadata": {},
   "outputs": [
    {
     "name": "stdout",
     "output_type": "stream",
     "text": [
      "           Brand               Model          Released     Thickness  Weight\n",
      "11430    Allview           Viva Home           2019-07          19.5  2018.3\n",
      "9270          HP            Slate 17           2014-09          15.8  2005.0\n",
      "1709     Toshiba     Excite 13 AT335           2012-07           9.8   998.0\n",
      "4940   Panasonic      Toughpad FZ-A1  Not Released Yet          17.8   952.5\n",
      "4939   Panasonic      Toughpad JT-B1           2012-01  Not Measured   952.5\n",
      "7905      Lenovo   Yoga Tablet 2 Pro           2014-10          12.6   950.0\n",
      "9268          HP  Pro Slate 10 EE G1           2015-01          14.4   855.0\n",
      "9269          HP        Pro Slate 12           2015-01           8.0   850.0\n",
      "8034      Lenovo         Yoga Tab 13           2021-05  Not Measured   830.0\n",
      "8975         HTC               Shift           2008-02          25.0   800.0\n"
     ]
    }
   ],
   "source": [
    "# Find the heaviest devices\n",
    "heaviest_devices = cleaned_gsm_arena_data.loc[cleaned_gsm_arena_data['Weight'] != 'Not Measured', ['Brand', 'Model', 'Released', 'Thickness', 'Weight']]\n",
    "heaviest_devices = heaviest_devices.sort_values('Weight', ascending=False).head(10)\n",
    "print(heaviest_devices)"
   ]
  },
  {
   "cell_type": "code",
   "execution_count": 225,
   "metadata": {},
   "outputs": [
    {
     "data": {
      "image/png": "[encoded data removed]",
      "text/plain": [
       "<Figure size 1440x720 with 1 Axes>"
      ]
     },
     "metadata": {},
     "output_type": "display_data"
    }
   ],
   "source": [
    "# Filter out devices with measured thickness\n",
    "filtered_data = df[cleaned_gsm_arena_data['Weight'] != 'Not Measured']\n",
    "\n",
    "# Convert 'Thickness' column to numeric values\n",
    "filtered_data['Weight'] = pd.to_numeric(filtered_data['Weight'])\n",
    "\n",
    "# Group the data by 'Release_Year' and calculate the average thickness for each year\n",
    "average_thickness_by_year = filtered_data.groupby('Release_Year')['Weight'].mean()\n",
    "\n",
    "# Plot the average thickness over the years\n",
    "plt.figure(figsize=(20, 10))\n",
    "plt.plot(average_thickness_by_year.index, average_thickness_by_year.values, marker='o')\n",
    "\n",
    "# Set the plot title and axis labels\n",
    "plt.title('Average Weight of Devices Released Each Year', fontsize=20, weight='bold')\n",
    "plt.xlabel('Year')\n",
    "plt.ylabel('Average Weight')\n",
    "\n",
    "# Show gridlines\n",
    "plt.grid(True)\n",
    "\n",
    "# Display the plot\n",
    "plt.show()"
   ]
  },
  {
   "cell_type": "code",
   "execution_count": 226,
   "metadata": {},
   "outputs": [
    {
     "data": {
      "image/png": "[encoded data removed]",
      "text/plain": [
       "<Figure size 1440x720 with 1 Axes>"
      ]
     },
     "metadata": {},
     "output_type": "display_data"
    }
   ],
   "source": [
    "# Create a countplot using seaborn\n",
    "plt.figure(figsize=(20, 10))\n",
    "ax = sns.countplot(x='Back', data=cleaned_gsm_arena_data)\n",
    "\n",
    "# Add labels to the plot\n",
    "plt.xlabel('Material')\n",
    "plt.ylabel('Count')\n",
    "plt.title('Distribution of Materials used for Back', fontsize=20, weight='bold')\n",
    "\n",
    "plt.xticks(rotation=90)\n",
    "\n",
    "# Add percentages to the plot\n",
    "total = float(len(cleaned_gsm_arena_data['Back']))\n",
    "for p in ax.patches:\n",
    "    percentage = '{:.1f}%'.format(100 * p.get_height()/total)\n",
    "    x = p.get_x() + p.get_width() / 2 - 0.1\n",
    "    y = p.get_y() + p.get_height() + 1\n",
    "    ax.annotate(percentage, (x, y), ha='center', fontsize=10)\n",
    "\n",
    "# Show the plot\n",
    "plt.show()"
   ]
  },
  {
   "cell_type": "code",
   "execution_count": null,
   "metadata": {},
   "outputs": [],
   "source": []
  },
  {
   "cell_type": "code",
   "execution_count": null,
   "metadata": {},
   "outputs": [],
   "source": []
  },
  {
   "cell_type": "code",
   "execution_count": null,
   "metadata": {},
   "outputs": [],
   "source": []
  },
  {
   "cell_type": "code",
   "execution_count": null,
   "metadata": {},
   "outputs": [],
   "source": []
  },
  {
   "cell_type": "code",
   "execution_count": null,
   "metadata": {},
   "outputs": [],
   "source": []
  },
  {
   "cell_type": "code",
   "execution_count": null,
   "metadata": {},
   "outputs": [],
   "source": []
  },
  {
   "cell_type": "code",
   "execution_count": null,
   "metadata": {},
   "outputs": [],
   "source": []
  },
  {
   "cell_type": "code",
   "execution_count": null,
   "metadata": {},
   "outputs": [],
   "source": []
  },
  {
   "cell_type": "code",
   "execution_count": null,
   "metadata": {},
   "outputs": [],
   "source": []
  }
 ],
 "metadata": {
  "kernelspec": {
   "display_name": "Python 3",
   "language": "python",
   "name": "python3"
  },
  "language_info": {
   "codemirror_mode": {
    "name": "ipython",
    "version": 3
   },
   "file_extension": ".py",
   "mimetype": "text/x-python",
   "name": "python",
   "nbconvert_exporter": "python",
   "pygments_lexer": "ipython3",
   "version": "3.10.5"
  },
  "orig_nbformat": 4,
  "vscode": {
   "interpreter": {
    "hash": "7600a12950a547366bb7a6732117e300ffd26224351912980486e1126c5d0f9a"
   }
  }
 },
 "nbformat": 4,
 "nbformat_minor": 2
}
