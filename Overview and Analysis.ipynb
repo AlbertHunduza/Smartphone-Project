{
 "cells": [
  {
   "attachments": {},
   "cell_type": "markdown",
   "metadata": {},
   "source": [
    "***** Importing Dependencies *****"
   ]
  },
  {
   "cell_type": "code",
   "execution_count": 49,
   "metadata": {},
   "outputs": [],
   "source": [
    "import numpy as np\n",
    "import pandas as pd\n",
    "import seaborn as sns\n",
    "import matplotlib.pyplot as plt\n",
    "from cleaners import GSMArena_Dataset_Cleaner\n",
    "\n",
    "import warnings\n",
    "warnings.filterwarnings('ignore')"
   ]
  },
  {
   "attachments": {},
   "cell_type": "markdown",
   "metadata": {},
   "source": [
    "***** Loading Dataset *****"
   ]
  },
  {
   "cell_type": "code",
   "execution_count": 50,
   "metadata": {},
   "outputs": [],
   "source": [
    "gsmarena_data = pd.read_csv('C:/Users/alber\\Documents/My Personal Projects/Smartphone Project/Files/GSMArena.csv')\n",
    "\n",
    "cleaner = GSMArena_Dataset_Cleaner(gsmarena_data) # Create a cleaner object\n",
    "\n",
    "cleaned_gsm_arena_data = cleaner.clean() # Clean the data"
   ]
  },
  {
   "cell_type": "code",
   "execution_count": 51,
   "metadata": {},
   "outputs": [
    {
     "data": {
      "text/html": [
       "<div>\n",
       "<style scoped>\n",
       "    .dataframe tbody tr th:only-of-type {\n",
       "        vertical-align: middle;\n",
       "    }\n",
       "\n",
       "    .dataframe tbody tr th {\n",
       "        vertical-align: top;\n",
       "    }\n",
       "\n",
       "    .dataframe thead th {\n",
       "        text-align: right;\n",
       "    }\n",
       "</style>\n",
       "<table border=\"1\" class=\"dataframe\">\n",
       "  <thead>\n",
       "    <tr style=\"text-align: right;\">\n",
       "      <th></th>\n",
       "      <th>Brand</th>\n",
       "      <th>Model</th>\n",
       "      <th>Highest_Network_Technology</th>\n",
       "      <th>Announced</th>\n",
       "      <th>Released</th>\n",
       "      <th>Status</th>\n",
       "      <th>Length</th>\n",
       "      <th>Width</th>\n",
       "      <th>Thickness</th>\n",
       "      <th>Weight</th>\n",
       "      <th>...</th>\n",
       "      <th>Colors</th>\n",
       "      <th>Charging_Speed</th>\n",
       "      <th>Wireless_Charging</th>\n",
       "      <th>Reverse_Charging</th>\n",
       "      <th>Loudspeaker_Voice</th>\n",
       "      <th>Loudspeaker_Noise</th>\n",
       "      <th>Loudspeaker_Ring</th>\n",
       "      <th>Battery_Life</th>\n",
       "      <th>IP_Rating</th>\n",
       "      <th>Price</th>\n",
       "    </tr>\n",
       "  </thead>\n",
       "  <tbody>\n",
       "    <tr>\n",
       "      <th>0</th>\n",
       "      <td>ZTE</td>\n",
       "      <td>nubia X 5G</td>\n",
       "      <td>5G</td>\n",
       "      <td>Not Announced Yet</td>\n",
       "      <td>Not Released Yet</td>\n",
       "      <td>Cancelled</td>\n",
       "      <td>Not Measured</td>\n",
       "      <td>Not Measured</td>\n",
       "      <td>Not Measured</td>\n",
       "      <td>Not Measured</td>\n",
       "      <td>...</td>\n",
       "      <td>5</td>\n",
       "      <td>18</td>\n",
       "      <td>unspecified</td>\n",
       "      <td>unspecified</td>\n",
       "      <td>untested</td>\n",
       "      <td>untested</td>\n",
       "      <td>untested</td>\n",
       "      <td>untested</td>\n",
       "      <td>No Resistance</td>\n",
       "      <td>unspecified</td>\n",
       "    </tr>\n",
       "    <tr>\n",
       "      <th>1</th>\n",
       "      <td>ZTE</td>\n",
       "      <td>Blade V20</td>\n",
       "      <td>LTE</td>\n",
       "      <td>Not Announced Yet</td>\n",
       "      <td>Not Released Yet</td>\n",
       "      <td>Cancelled</td>\n",
       "      <td>Not Measured</td>\n",
       "      <td>Not Measured</td>\n",
       "      <td>Not Measured</td>\n",
       "      <td>Not Measured</td>\n",
       "      <td>...</td>\n",
       "      <td>2</td>\n",
       "      <td>18</td>\n",
       "      <td>unspecified</td>\n",
       "      <td>unspecified</td>\n",
       "      <td>untested</td>\n",
       "      <td>untested</td>\n",
       "      <td>untested</td>\n",
       "      <td>untested</td>\n",
       "      <td>No Resistance</td>\n",
       "      <td>unspecified</td>\n",
       "    </tr>\n",
       "    <tr>\n",
       "      <th>2</th>\n",
       "      <td>ZTE</td>\n",
       "      <td>Coral200 Sollar</td>\n",
       "      <td>GSM</td>\n",
       "      <td>2007-05</td>\n",
       "      <td>2007-01</td>\n",
       "      <td>Discontinued</td>\n",
       "      <td>106.0</td>\n",
       "      <td>45.6</td>\n",
       "      <td>18.1</td>\n",
       "      <td>85.0</td>\n",
       "      <td>...</td>\n",
       "      <td>1</td>\n",
       "      <td>unspecified</td>\n",
       "      <td>unspecified</td>\n",
       "      <td>unspecified</td>\n",
       "      <td>untested</td>\n",
       "      <td>untested</td>\n",
       "      <td>untested</td>\n",
       "      <td>untested</td>\n",
       "      <td>No Resistance</td>\n",
       "      <td>unspecified</td>\n",
       "    </tr>\n",
       "    <tr>\n",
       "      <th>3</th>\n",
       "      <td>ZTE</td>\n",
       "      <td>F100</td>\n",
       "      <td>UMTS</td>\n",
       "      <td>2009-01</td>\n",
       "      <td>2009-01</td>\n",
       "      <td>Discontinued</td>\n",
       "      <td>105.0</td>\n",
       "      <td>46.0</td>\n",
       "      <td>12.6</td>\n",
       "      <td>90.0</td>\n",
       "      <td>...</td>\n",
       "      <td>3</td>\n",
       "      <td>unspecified</td>\n",
       "      <td>unspecified</td>\n",
       "      <td>unspecified</td>\n",
       "      <td>untested</td>\n",
       "      <td>untested</td>\n",
       "      <td>untested</td>\n",
       "      <td>untested</td>\n",
       "      <td>No Resistance</td>\n",
       "      <td>unspecified</td>\n",
       "    </tr>\n",
       "    <tr>\n",
       "      <th>4</th>\n",
       "      <td>ZTE</td>\n",
       "      <td>F101</td>\n",
       "      <td>UMTS</td>\n",
       "      <td>2009-01</td>\n",
       "      <td>2009-01</td>\n",
       "      <td>Discontinued</td>\n",
       "      <td>105.0</td>\n",
       "      <td>46.0</td>\n",
       "      <td>12.6</td>\n",
       "      <td>90.0</td>\n",
       "      <td>...</td>\n",
       "      <td>3</td>\n",
       "      <td>unspecified</td>\n",
       "      <td>unspecified</td>\n",
       "      <td>unspecified</td>\n",
       "      <td>untested</td>\n",
       "      <td>untested</td>\n",
       "      <td>untested</td>\n",
       "      <td>untested</td>\n",
       "      <td>No Resistance</td>\n",
       "      <td>unspecified</td>\n",
       "    </tr>\n",
       "  </tbody>\n",
       "</table>\n",
       "<p>5 rows × 68 columns</p>\n",
       "</div>"
      ],
      "text/plain": [
       "  Brand            Model Highest_Network_Technology          Announced  \\\n",
       "0   ZTE       nubia X 5G                         5G  Not Announced Yet   \n",
       "1   ZTE        Blade V20                        LTE  Not Announced Yet   \n",
       "2   ZTE  Coral200 Sollar                        GSM            2007-05   \n",
       "3   ZTE             F100                       UMTS            2009-01   \n",
       "4   ZTE             F101                       UMTS            2009-01   \n",
       "\n",
       "           Released        Status        Length         Width     Thickness  \\\n",
       "0  Not Released Yet     Cancelled  Not Measured  Not Measured  Not Measured   \n",
       "1  Not Released Yet     Cancelled  Not Measured  Not Measured  Not Measured   \n",
       "2           2007-01  Discontinued         106.0          45.6          18.1   \n",
       "3           2009-01  Discontinued         105.0          46.0          12.6   \n",
       "4           2009-01  Discontinued         105.0          46.0          12.6   \n",
       "\n",
       "         Weight  ... Colors Charging_Speed Wireless_Charging  \\\n",
       "0  Not Measured  ...      5             18       unspecified   \n",
       "1  Not Measured  ...      2             18       unspecified   \n",
       "2          85.0  ...      1    unspecified       unspecified   \n",
       "3          90.0  ...      3    unspecified       unspecified   \n",
       "4          90.0  ...      3    unspecified       unspecified   \n",
       "\n",
       "   Reverse_Charging Loudspeaker_Voice Loudspeaker_Noise Loudspeaker_Ring  \\\n",
       "0       unspecified          untested          untested         untested   \n",
       "1       unspecified          untested          untested         untested   \n",
       "2       unspecified          untested          untested         untested   \n",
       "3       unspecified          untested          untested         untested   \n",
       "4       unspecified          untested          untested         untested   \n",
       "\n",
       "  Battery_Life      IP_Rating        Price  \n",
       "0     untested  No Resistance  unspecified  \n",
       "1     untested  No Resistance  unspecified  \n",
       "2     untested  No Resistance  unspecified  \n",
       "3     untested  No Resistance  unspecified  \n",
       "4     untested  No Resistance  unspecified  \n",
       "\n",
       "[5 rows x 68 columns]"
      ]
     },
     "execution_count": 51,
     "metadata": {},
     "output_type": "execute_result"
    }
   ],
   "source": [
    "cleaned_gsm_arena_data.head()"
   ]
  },
  {
   "cell_type": "code",
   "execution_count": 52,
   "metadata": {},
   "outputs": [
    {
     "data": {
      "text/plain": [
       "(11936, 68)"
      ]
     },
     "execution_count": 52,
     "metadata": {},
     "output_type": "execute_result"
    }
   ],
   "source": [
    "cleaned_gsm_arena_data.shape\n"
   ]
  },
  {
   "cell_type": "code",
   "execution_count": 53,
   "metadata": {},
   "outputs": [
    {
     "name": "stdout",
     "output_type": "stream",
     "text": [
      "Brand                         0\n",
      "Model                         0\n",
      "Highest_Network_Technology    0\n",
      "Announced                     0\n",
      "Released                      0\n",
      "                             ..\n",
      "Loudspeaker_Noise             0\n",
      "Loudspeaker_Ring              0\n",
      "Battery_Life                  0\n",
      "IP_Rating                     0\n",
      "Price                         0\n",
      "Length: 68, dtype: int64\n"
     ]
    }
   ],
   "source": [
    "null_counts = cleaned_gsm_arena_data.isnull().sum()\n",
    "\n",
    "# Display the number of null values for each column\n",
    "print(null_counts)\n"
   ]
  },
  {
   "attachments": {},
   "cell_type": "markdown",
   "metadata": {},
   "source": [
    "To analyze the dataset, we first need to understand its structure. After performing data cleaning, our dataset consists of 11,936 rows and 68 columns.<br>\n",
    "There are no null values present in the dataset, indicating a high data completeness brought about by the rigorous cleaning process."
   ]
  },
  {
   "attachments": {},
   "cell_type": "markdown",
   "metadata": {},
   "source": [
    "***** Brands *****"
   ]
  },
  {
   "attachments": {},
   "cell_type": "markdown",
   "metadata": {},
   "source": [
    "We start our analysis by looking at the distribution of the brands represented in the dataset."
   ]
  },
  {
   "cell_type": "code",
   "execution_count": 54,
   "metadata": {},
   "outputs": [
    {
     "data": {
      "text/plain": [
       "119"
      ]
     },
     "execution_count": 54,
     "metadata": {},
     "output_type": "execute_result"
    }
   ],
   "source": [
    "cleaned_gsm_arena_data['Brand'].unique().size"
   ]
  },
  {
   "attachments": {},
   "cell_type": "markdown",
   "metadata": {},
   "source": [
    "* There are 119 brands represented in the dataset"
   ]
  },
  {
   "cell_type": "code",
   "execution_count": 55,
   "metadata": {},
   "outputs": [
    {
     "data": {
      "image/png": "[encoded data removed]",
      "text/plain": [
       "<Figure size 1440x720 with 1 Axes>"
      ]
     },
     "metadata": {},
     "output_type": "display_data"
    }
   ],
   "source": [
    "sns.set_style('darkgrid')\n",
    "\n",
    "# Count the number of occurrences for each value in the 'Brand' column\n",
    "brand_counts = cleaned_gsm_arena_data['Brand'].value_counts()\n",
    "\n",
    "# Create a bar plot using seaborn\n",
    "plt.figure(figsize=(20, 10))\n",
    "sns.barplot(x=brand_counts.index, y=brand_counts.values)\n",
    "\n",
    "# Add actual values on top of each bar\n",
    "for i, v in enumerate(brand_counts.values):\n",
    "    plt.text(i, v, str(v), fontsize=10, color='black', ha='center', rotation=90)\n",
    "\n",
    "# Rotate the x-axis labels by 90 degrees\n",
    "plt.xticks(rotation=90)\n",
    "\n",
    "# Add labels to the plot\n",
    "plt.xlabel('Brand')\n",
    "plt.ylabel('Count')\n",
    "plt.title('Count of Phones by Brand', fontsize=20, weight='bold')\n",
    "\n",
    "# Show the plot\n",
    "plt.show()\n"
   ]
  },
  {
   "cell_type": "code",
   "execution_count": 56,
   "metadata": {},
   "outputs": [
    {
     "name": "stdout",
     "output_type": "stream",
     "text": [
      "Number of brands accounting for 80% of devices released: 82\n"
     ]
    }
   ],
   "source": [
    "# Sort the brands based on the number of devices released in descending order\n",
    "sorted_brands = brand_counts.sort_values(ascending=False)\n",
    "\n",
    "# Calculate the cumulative percentage of devices released for each brand\n",
    "cumulative_percentage = sorted_brands.cumsum() / sorted_brands.sum()\n",
    "\n",
    "# Find the number of brands whose cumulative percentage reaches or exceeds 80%\n",
    "brands_80_percent = cumulative_percentage[cumulative_percentage >= 0.8]\n",
    "\n",
    "num_brands_80_percent = len(brands_80_percent)\n",
    "\n",
    "print(\"Number of brands accounting for 80% of devices released:\", num_brands_80_percent)\n"
   ]
  },
  {
   "cell_type": "code",
   "execution_count": 80,
   "metadata": {},
   "outputs": [
    {
     "data": {
      "image/png": "[encoded data removed]",
      "text/plain": [
       "<Figure size 1440x720 with 1 Axes>"
      ]
     },
     "metadata": {},
     "output_type": "display_data"
    }
   ],
   "source": [
    "sns.set_style('darkgrid')\n",
    "\n",
    "# Count the number of occurrences for each value in the 'Brand' column\n",
    "brand_counts = cleaned_gsm_arena_data['Brand'].value_counts()\n",
    "not_released_counts = cleaned_gsm_arena_data[cleaned_gsm_arena_data['Released']=='Not Released Yet']['Brand'].value_counts()\n",
    "\n",
    "# Create a bar plot using seaborn\n",
    "plt.figure(figsize=(20, 10))\n",
    "sns.barplot(x=brand_counts.index, y=brand_counts.values, color='blue', label='All Phones from Brand')\n",
    "sns.barplot(x=not_released_counts.index, y=not_released_counts.values, color='gray', label='Phones from band marked as Not Released Yet')\n",
    "\n",
    "# Rotate the x-axis labels by 90 degrees\n",
    "plt.xticks(rotation=90)\n",
    "\n",
    "# Add labels to the plot\n",
    "plt.xlabel('Brand')\n",
    "plt.ylabel('Count')\n",
    "plt.title('Distribution of Not Released Yet Phones', fontsize=20, weight='bold')\n",
    "plt.legend()\n",
    "\n",
    "# Show the plot\n",
    "plt.show()\n"
   ]
  },
  {
   "attachments": {},
   "cell_type": "markdown",
   "metadata": {},
   "source": [
    "* A plot of the distribution of the number of devices released by each brand shows that Samsung has released the most devices, <br>\n",
    "followed by LG, Motorola, Nokia, Alcatel and Huawei respectively. \n",
    "* The distribution is somewhat skewed with 82 brands releasing 80% of the devices\n",
    "* The number of devices announced but not released yet appears to follow the same pattern as the overrall distribution of devices"
   ]
  },
  {
   "cell_type": "code",
   "execution_count": 57,
   "metadata": {},
   "outputs": [
    {
     "data": {
      "image/png": "[encoded data removed]",
      "text/plain": [
       "<Figure size 1440x720 with 1 Axes>"
      ]
     },
     "metadata": {},
     "output_type": "display_data"
    }
   ],
   "source": [
    "# Create a countplot using seaborn\n",
    "plt.figure(figsize=(20, 10))\n",
    "ax = sns.countplot(x='Status', data=cleaned_gsm_arena_data)\n",
    "\n",
    "# Add labels to the plot\n",
    "plt.xlabel('Status')\n",
    "plt.ylabel('Count')\n",
    "plt.title('Distribution of Phone Status', fontsize=20, weight='bold')\n",
    "\n",
    "# Add percentages to the plot\n",
    "total = float(len(cleaned_gsm_arena_data['Status']))\n",
    "for p in ax.patches:\n",
    "    percentage = '{:.1f}%'.format(100 * p.get_height()/total)\n",
    "    x = p.get_x() + p.get_width() / 2 - 0.1\n",
    "    y = p.get_y() + p.get_height() + 1\n",
    "    ax.annotate(percentage, (x, y), ha='center', fontsize=10)\n",
    "\n",
    "# Show the plot\n",
    "plt.show()"
   ]
  },
  {
   "attachments": {},
   "cell_type": "markdown",
   "metadata": {},
   "source": [
    "* As at the time of the creation of the dataset on 04 January 2023, 27% of all devices ever released were still available, <br>\n",
    "70% had been discontinued, 2.4% had been cancelled after announcement and 0.1% were announced and coming soon."
   ]
  },
  {
   "cell_type": "code",
   "execution_count": 58,
   "metadata": {},
   "outputs": [
    {
     "data": {
      "image/png": "[encoded data removed]",
      "text/plain": [
       "<Figure size 1440x720 with 1 Axes>"
      ]
     },
     "metadata": {},
     "output_type": "display_data"
    }
   ],
   "source": [
    "available_devices = cleaned_gsm_arena_data[cleaned_gsm_arena_data['Status'] == 'Available']\n",
    "\n",
    "# Calculate the total count of all devices and available devices\n",
    "total_count = len(cleaned_gsm_arena_data['Highest_Network_Technology'])\n",
    "available_count = len(available_devices['Highest_Network_Technology'])\n",
    "\n",
    "# Create a countplot using seaborn for all devices\n",
    "plt.figure(figsize=(20, 10))\n",
    "ax = sns.countplot(x='Highest_Network_Technology', data=cleaned_gsm_arena_data, color='blue', alpha=0.5, label='All Devices')\n",
    "\n",
    "# Iterate over the bars and add percentage annotations for all devices\n",
    "for p in ax.patches:\n",
    "    category = p.get_x()\n",
    "    count = p.get_height()\n",
    "    percentage = f'{100 * count / total_count:.1f}%'\n",
    "    x = p.get_x() + p.get_width() / 2\n",
    "    y = p.get_height()\n",
    "    ax.annotate(f'{percentage}', (x, y), ha='center', va='bottom')\n",
    "\n",
    "# Create a countplot using seaborn for available devices (superimposed)\n",
    "sns.countplot(x='Highest_Network_Technology', data=available_devices, color='red', alpha=0.5, label='Available Devices')\n",
    "\n",
    "# Iterate over the bars and add percentage annotations for available devices\n",
    "for p in ax.patches[len(ax.patches) // 2:]:\n",
    "    count = p.get_height()\n",
    "    percentage = f'{100 * count / available_count:.1f}%'\n",
    "    x = p.get_x() + p.get_width() / 2\n",
    "    y = p.get_height()\n",
    "    ax.annotate(f'{percentage}', (x, y), ha='center', va='bottom')\n",
    "\n",
    "# Rotate the x-axis labels by 90 degrees\n",
    "plt.xticks(rotation=90)\n",
    "\n",
    "# Add labels to the plot\n",
    "plt.xlabel('Status')\n",
    "plt.ylabel('Count')\n",
    "plt.title('Distribution of Highest Network Technology', fontsize=20, weight='bold')\n",
    "\n",
    "# Add legend\n",
    "plt.legend()\n",
    "\n",
    "# Show the plot\n",
    "plt.show()\n",
    "\n",
    "\n",
    "\n"
   ]
  },
  {
   "attachments": {},
   "cell_type": "markdown",
   "metadata": {},
   "source": [
    "* 67% of devices currently available on the market are LTE capable\n",
    "* almost 25% of devices currently availabel on the market are 5G capable\n",
    "* These 2 technologies have seen rapid adoption in recent years"
   ]
  },
  {
   "cell_type": "code",
   "execution_count": 60,
   "metadata": {},
   "outputs": [
    {
     "name": "stdout",
     "output_type": "stream",
     "text": [
      "Brand  Release_Year\n",
      "AT&T   2006             1\n",
      "       2007             2\n",
      "       2008             1\n",
      "Acer   2009            10\n",
      "       2010             8\n",
      "                       ..\n",
      "vivo   2018            31\n",
      "       2019            47\n",
      "       2020            49\n",
      "       2021            76\n",
      "       2022            83\n",
      "Length: 907, dtype: int64\n"
     ]
    }
   ],
   "source": [
    "top_brand_data = cleaned_gsm_arena_data[cleaned_gsm_arena_data['Released']!='Not Released Yet']\n",
    "top_brand_data['Release_Year'] = top_brand_data['Released'].apply(lambda x: x.year)\n",
    "# group data by 'Brand' and year, and count the number of phones released\n",
    "phone_counts = top_brand_data.groupby(['Brand', 'Release_Year']).size()\n",
    "print(phone_counts)"
   ]
  },
  {
   "cell_type": "code",
   "execution_count": 61,
   "metadata": {},
   "outputs": [
    {
     "data": {
      "application/vnd.plotly.v1+json": {
       "config": {
        "plotlyServerURL": "https://plot.ly"
       },
       "data": [
        {
         "hovertemplate": "Brand=AT&T<br>Release_Year=%{x}<br>count=%{y}<extra></extra>",
         "legendgroup": "AT&T",
         "line": {
          "color": "#636efa",
          "dash": "solid"
         },
         "marker": {
          "symbol": "circle"
         },
         "mode": "lines",
         "name": "AT&T",
         "orientation": "v",
         "showlegend": true,
         "type": "scatter",
         "x": [
          2006,
          2007,
          2008
         ],
         "xaxis": "x",
         "y": [
          1,
          2,
          1
         ],
         "yaxis": "y"
        },
        {
         "hovertemplate": "Brand=Acer<br>Release_Year=%{x}<br>count=%{y}<extra></extra>",
         "legendgroup": "Acer",
         "line": {
          "color": "#EF553B",
          "dash": "solid"
         },
         "marker": {
          "symbol": "circle"
         },
         "mode": "lines",
         "name": "Acer",
         "orientation": "v",
         "showlegend": true,
         "type": "scatter",
         "x": [
          2009,
          2010,
          2011,
          2012,
          2013,
          2014,
          2015,
          2016,
          2018
         ],
         "xaxis": "x",
         "y": [
          10,
          8,
          8,
          12,
          11,
          18,
          16,
          9,
          1
         ],
         "yaxis": "y"
        },
        {
         "hovertemplate": "Brand=Allview<br>Release_Year=%{x}<br>count=%{y}<extra></extra>",
         "legendgroup": "Allview",
         "line": {
          "color": "#00cc96",
          "dash": "solid"
         },
         "marker": {
          "symbol": "circle"
         },
         "mode": "lines",
         "name": "Allview",
         "orientation": "v",
         "showlegend": true,
         "type": "scatter",
         "x": [
          2011,
          2012,
          2013,
          2014,
          2015,
          2016,
          2017,
          2018,
          2019,
          2020
         ],
         "xaxis": "x",
         "y": [
          1,
          9,
          21,
          37,
          23,
          25,
          14,
          12,
          11,
          4
         ],
         "yaxis": "y"
        },
        {
         "hovertemplate": "Brand=Amazon<br>Release_Year=%{x}<br>count=%{y}<extra></extra>",
         "legendgroup": "Amazon",
         "line": {
          "color": "#ab63fa",
          "dash": "solid"
         },
         "marker": {
          "symbol": "circle"
         },
         "mode": "lines",
         "name": "Amazon",
         "orientation": "v",
         "showlegend": true,
         "type": "scatter",
         "x": [
          2011,
          2012,
          2013,
          2014,
          2015,
          2017,
          2019,
          2020,
          2021,
          2022
         ],
         "xaxis": "x",
         "y": [
          1,
          3,
          3,
          4,
          3,
          3,
          1,
          2,
          2,
          2
         ],
         "yaxis": "y"
        },
        {
         "hovertemplate": "Brand=Amoi<br>Release_Year=%{x}<br>count=%{y}<extra></extra>",
         "legendgroup": "Amoi",
         "line": {
          "color": "#FFA15A",
          "dash": "solid"
         },
         "marker": {
          "symbol": "circle"
         },
         "mode": "lines",
         "name": "Amoi",
         "orientation": "v",
         "showlegend": true,
         "type": "scatter",
         "x": [
          2003,
          2004,
          2007
         ],
         "xaxis": "x",
         "y": [
          7,
          1,
          13
         ],
         "yaxis": "y"
        },
        {
         "hovertemplate": "Brand=Apple<br>Release_Year=%{x}<br>count=%{y}<extra></extra>",
         "legendgroup": "Apple",
         "line": {
          "color": "#19d3f3",
          "dash": "solid"
         },
         "marker": {
          "symbol": "circle"
         },
         "mode": "lines",
         "name": "Apple",
         "orientation": "v",
         "showlegend": true,
         "type": "scatter",
         "x": [
          2007,
          2008,
          2009,
          2010,
          2011,
          2012,
          2013,
          2014,
          2015,
          2016,
          2017,
          2018,
          2019,
          2020,
          2021,
          2022
         ],
         "xaxis": "x",
         "y": [
          1,
          1,
          1,
          3,
          5,
          7,
          4,
          4,
          10,
          12,
          9,
          8,
          9,
          13,
          11,
          13
         ],
         "yaxis": "y"
        },
        {
         "hovertemplate": "Brand=Archos<br>Release_Year=%{x}<br>count=%{y}<extra></extra>",
         "legendgroup": "Archos",
         "line": {
          "color": "#FF6692",
          "dash": "solid"
         },
         "marker": {
          "symbol": "circle"
         },
         "mode": "lines",
         "name": "Archos",
         "orientation": "v",
         "showlegend": true,
         "type": "scatter",
         "x": [
          2013,
          2014,
          2015,
          2016,
          2017,
          2018,
          2019
         ],
         "xaxis": "x",
         "y": [
          8,
          11,
          4,
          3,
          12,
          1,
          4
         ],
         "yaxis": "y"
        },
        {
         "hovertemplate": "Brand=Asus<br>Release_Year=%{x}<br>count=%{y}<extra></extra>",
         "legendgroup": "Asus",
         "line": {
          "color": "#B6E880",
          "dash": "solid"
         },
         "marker": {
          "symbol": "circle"
         },
         "mode": "lines",
         "name": "Asus",
         "orientation": "v",
         "showlegend": true,
         "type": "scatter",
         "x": [
          2006,
          2007,
          2008,
          2009,
          2011,
          2012,
          2013,
          2014,
          2015,
          2016,
          2017,
          2018,
          2019,
          2020,
          2021,
          2022
         ],
         "xaxis": "x",
         "y": [
          10,
          5,
          7,
          2,
          2,
          10,
          15,
          24,
          31,
          25,
          22,
          11,
          5,
          4,
          8,
          7
         ],
         "yaxis": "y"
        },
        {
         "hovertemplate": "Brand=BLU<br>Release_Year=%{x}<br>count=%{y}<extra></extra>",
         "legendgroup": "BLU",
         "line": {
          "color": "#FF97FF",
          "dash": "solid"
         },
         "marker": {
          "symbol": "circle"
         },
         "mode": "lines",
         "name": "BLU",
         "orientation": "v",
         "showlegend": true,
         "type": "scatter",
         "x": [
          2009,
          2010,
          2011,
          2012,
          2013,
          2014,
          2015,
          2016,
          2017,
          2018,
          2019,
          2020,
          2021,
          2022
         ],
         "xaxis": "x",
         "y": [
          1,
          15,
          5,
          12,
          33,
          32,
          36,
          56,
          43,
          22,
          23,
          22,
          14,
          20
         ],
         "yaxis": "y"
        },
        {
         "hovertemplate": "Brand=BQ<br>Release_Year=%{x}<br>count=%{y}<extra></extra>",
         "legendgroup": "BQ",
         "line": {
          "color": "#FECB52",
          "dash": "solid"
         },
         "marker": {
          "symbol": "circle"
         },
         "mode": "lines",
         "name": "BQ",
         "orientation": "v",
         "showlegend": true,
         "type": "scatter",
         "x": [
          2015,
          2016,
          2017,
          2018
         ],
         "xaxis": "x",
         "y": [
          6,
          4,
          6,
          4
         ],
         "yaxis": "y"
        },
        {
         "hovertemplate": "Brand=BenQ<br>Release_Year=%{x}<br>count=%{y}<extra></extra>",
         "legendgroup": "BenQ",
         "line": {
          "color": "#636efa",
          "dash": "solid"
         },
         "marker": {
          "symbol": "circle"
         },
         "mode": "lines",
         "name": "BenQ",
         "orientation": "v",
         "showlegend": true,
         "type": "scatter",
         "x": [
          2006,
          2007,
          2008,
          2013,
          2014,
          2015
         ],
         "xaxis": "x",
         "y": [
          1,
          4,
          4,
          2,
          3,
          1
         ],
         "yaxis": "y"
        },
        {
         "hovertemplate": "Brand=BenQ-Siemens<br>Release_Year=%{x}<br>count=%{y}<extra></extra>",
         "legendgroup": "BenQ-Siemens",
         "line": {
          "color": "#EF553B",
          "dash": "solid"
         },
         "marker": {
          "symbol": "circle"
         },
         "mode": "lines",
         "name": "BenQ-Siemens",
         "orientation": "v",
         "showlegend": true,
         "type": "scatter",
         "x": [
          2006,
          2007
         ],
         "xaxis": "x",
         "y": [
          22,
          5
         ],
         "yaxis": "y"
        },
        {
         "hovertemplate": "Brand=Benefon<br>Release_Year=%{x}<br>count=%{y}<extra></extra>",
         "legendgroup": "Benefon",
         "line": {
          "color": "#00cc96",
          "dash": "solid"
         },
         "marker": {
          "symbol": "circle"
         },
         "mode": "lines",
         "name": "Benefon",
         "orientation": "v",
         "showlegend": true,
         "type": "scatter",
         "x": [
          1999,
          2000,
          2006,
          2007
         ],
         "xaxis": "x",
         "y": [
          3,
          4,
          1,
          1
         ],
         "yaxis": "y"
        },
        {
         "hovertemplate": "Brand=Bird<br>Release_Year=%{x}<br>count=%{y}<extra></extra>",
         "legendgroup": "Bird",
         "line": {
          "color": "#ab63fa",
          "dash": "solid"
         },
         "marker": {
          "symbol": "circle"
         },
         "mode": "lines",
         "name": "Bird",
         "orientation": "v",
         "showlegend": true,
         "type": "scatter",
         "x": [
          2007
         ],
         "xaxis": "x",
         "y": [
          25
         ],
         "yaxis": "y"
        },
        {
         "hovertemplate": "Brand=BlackBerry<br>Release_Year=%{x}<br>count=%{y}<extra></extra>",
         "legendgroup": "BlackBerry",
         "line": {
          "color": "#FFA15A",
          "dash": "solid"
         },
         "marker": {
          "symbol": "circle"
         },
         "mode": "lines",
         "name": "BlackBerry",
         "orientation": "v",
         "showlegend": true,
         "type": "scatter",
         "x": [
          2006,
          2007,
          2008,
          2009,
          2010,
          2011,
          2012,
          2013,
          2014,
          2015,
          2016,
          2017,
          2018
         ],
         "xaxis": "x",
         "y": [
          5,
          8,
          6,
          7,
          9,
          13,
          4,
          6,
          4,
          3,
          2,
          3,
          4
         ],
         "yaxis": "y"
        },
        {
         "hovertemplate": "Brand=Blackview<br>Release_Year=%{x}<br>count=%{y}<extra></extra>",
         "legendgroup": "Blackview",
         "line": {
          "color": "#19d3f3",
          "dash": "solid"
         },
         "marker": {
          "symbol": "circle"
         },
         "mode": "lines",
         "name": "Blackview",
         "orientation": "v",
         "showlegend": true,
         "type": "scatter",
         "x": [
          2017,
          2018,
          2019,
          2020,
          2021,
          2022
         ],
         "xaxis": "x",
         "y": [
          5,
          1,
          2,
          8,
          17,
          19
         ],
         "yaxis": "y"
        },
        {
         "hovertemplate": "Brand=Bosch<br>Release_Year=%{x}<br>count=%{y}<extra></extra>",
         "legendgroup": "Bosch",
         "line": {
          "color": "#FF6692",
          "dash": "solid"
         },
         "marker": {
          "symbol": "circle"
         },
         "mode": "lines",
         "name": "Bosch",
         "orientation": "v",
         "showlegend": true,
         "type": "scatter",
         "x": [
          1996,
          1997,
          1998,
          1999
         ],
         "xaxis": "x",
         "y": [
          3,
          2,
          1,
          4
         ],
         "yaxis": "y"
        },
        {
         "hovertemplate": "Brand=Casio<br>Release_Year=%{x}<br>count=%{y}<extra></extra>",
         "legendgroup": "Casio",
         "line": {
          "color": "#B6E880",
          "dash": "solid"
         },
         "marker": {
          "symbol": "circle"
         },
         "mode": "lines",
         "name": "Casio",
         "orientation": "v",
         "showlegend": true,
         "type": "scatter",
         "x": [
          2010,
          2011,
          2013
         ],
         "xaxis": "x",
         "y": [
          1,
          3,
          1
         ],
         "yaxis": "y"
        },
        {
         "hovertemplate": "Brand=Cat<br>Release_Year=%{x}<br>count=%{y}<extra></extra>",
         "legendgroup": "Cat",
         "line": {
          "color": "#FF97FF",
          "dash": "solid"
         },
         "marker": {
          "symbol": "circle"
         },
         "mode": "lines",
         "name": "Cat",
         "orientation": "v",
         "showlegend": true,
         "type": "scatter",
         "x": [
          2013,
          2014,
          2015,
          2016,
          2017,
          2018,
          2019,
          2020,
          2021,
          2022
         ],
         "xaxis": "x",
         "y": [
          3,
          2,
          3,
          1,
          2,
          2,
          1,
          2,
          4,
          1
         ],
         "yaxis": "y"
        },
        {
         "hovertemplate": "Brand=Celkon<br>Release_Year=%{x}<br>count=%{y}<extra></extra>",
         "legendgroup": "Celkon",
         "line": {
          "color": "#FECB52",
          "dash": "solid"
         },
         "marker": {
          "symbol": "circle"
         },
         "mode": "lines",
         "name": "Celkon",
         "orientation": "v",
         "showlegend": true,
         "type": "scatter",
         "x": [
          2010,
          2011,
          2012,
          2013,
          2014,
          2015
         ],
         "xaxis": "x",
         "y": [
          11,
          48,
          43,
          50,
          49,
          21
         ],
         "yaxis": "y"
        },
        {
         "hovertemplate": "Brand=Coolpad<br>Release_Year=%{x}<br>count=%{y}<extra></extra>",
         "legendgroup": "Coolpad",
         "line": {
          "color": "#636efa",
          "dash": "solid"
         },
         "marker": {
          "symbol": "circle"
         },
         "mode": "lines",
         "name": "Coolpad",
         "orientation": "v",
         "showlegend": true,
         "type": "scatter",
         "x": [
          2015,
          2016,
          2017,
          2018,
          2019,
          2020,
          2021,
          2022
         ],
         "xaxis": "x",
         "y": [
          5,
          12,
          7,
          4,
          3,
          4,
          4,
          1
         ],
         "yaxis": "y"
        },
        {
         "hovertemplate": "Brand=Dell<br>Release_Year=%{x}<br>count=%{y}<extra></extra>",
         "legendgroup": "Dell",
         "line": {
          "color": "#EF553B",
          "dash": "solid"
         },
         "marker": {
          "symbol": "circle"
         },
         "mode": "lines",
         "name": "Dell",
         "orientation": "v",
         "showlegend": true,
         "type": "scatter",
         "x": [
          2009,
          2010,
          2011,
          2012,
          2013,
          2015
         ],
         "xaxis": "x",
         "y": [
          2,
          6,
          3,
          1,
          3,
          2
         ],
         "yaxis": "y"
        },
        {
         "hovertemplate": "Brand=Doogee<br>Release_Year=%{x}<br>count=%{y}<extra></extra>",
         "legendgroup": "Doogee",
         "line": {
          "color": "#00cc96",
          "dash": "solid"
         },
         "marker": {
          "symbol": "circle"
         },
         "mode": "lines",
         "name": "Doogee",
         "orientation": "v",
         "showlegend": true,
         "type": "scatter",
         "x": [
          2020,
          2021,
          2022
         ],
         "xaxis": "x",
         "y": [
          7,
          18,
          14
         ],
         "yaxis": "y"
        },
        {
         "hovertemplate": "Brand=Emporia<br>Release_Year=%{x}<br>count=%{y}<extra></extra>",
         "legendgroup": "Emporia",
         "line": {
          "color": "#ab63fa",
          "dash": "solid"
         },
         "marker": {
          "symbol": "circle"
         },
         "mode": "lines",
         "name": "Emporia",
         "orientation": "v",
         "showlegend": true,
         "type": "scatter",
         "x": [
          2010,
          2011,
          2012,
          2013,
          2014
         ],
         "xaxis": "x",
         "y": [
          1,
          3,
          4,
          3,
          4
         ],
         "yaxis": "y"
        },
        {
         "hovertemplate": "Brand=Energizer<br>Release_Year=%{x}<br>count=%{y}<extra></extra>",
         "legendgroup": "Energizer",
         "line": {
          "color": "#FFA15A",
          "dash": "solid"
         },
         "marker": {
          "symbol": "circle"
         },
         "mode": "lines",
         "name": "Energizer",
         "orientation": "v",
         "showlegend": true,
         "type": "scatter",
         "x": [
          2015,
          2016,
          2017,
          2018,
          2019,
          2020,
          2021,
          2022
         ],
         "xaxis": "x",
         "y": [
          4,
          1,
          7,
          12,
          21,
          2,
          10,
          4
         ],
         "yaxis": "y"
        },
        {
         "hovertemplate": "Brand=Ericsson<br>Release_Year=%{x}<br>count=%{y}<extra></extra>",
         "legendgroup": "Ericsson",
         "line": {
          "color": "#19d3f3",
          "dash": "solid"
         },
         "marker": {
          "symbol": "circle"
         },
         "mode": "lines",
         "name": "Ericsson",
         "orientation": "v",
         "showlegend": true,
         "type": "scatter",
         "x": [
          1994,
          1995,
          1996,
          1997,
          1998,
          1999,
          2000,
          2001
         ],
         "xaxis": "x",
         "y": [
          1,
          7,
          3,
          4,
          2,
          6,
          7,
          4
         ],
         "yaxis": "y"
        },
        {
         "hovertemplate": "Brand=Eten<br>Release_Year=%{x}<br>count=%{y}<extra></extra>",
         "legendgroup": "Eten",
         "line": {
          "color": "#FF6692",
          "dash": "solid"
         },
         "marker": {
          "symbol": "circle"
         },
         "mode": "lines",
         "name": "Eten",
         "orientation": "v",
         "showlegend": true,
         "type": "scatter",
         "x": [
          2006,
          2007,
          2008
         ],
         "xaxis": "x",
         "y": [
          5,
          2,
          9
         ],
         "yaxis": "y"
        },
        {
         "hovertemplate": "Brand=Fairphone<br>Release_Year=%{x}<br>count=%{y}<extra></extra>",
         "legendgroup": "Fairphone",
         "line": {
          "color": "#B6E880",
          "dash": "solid"
         },
         "marker": {
          "symbol": "circle"
         },
         "mode": "lines",
         "name": "Fairphone",
         "orientation": "v",
         "showlegend": true,
         "type": "scatter",
         "x": [
          2019,
          2020,
          2021
         ],
         "xaxis": "x",
         "y": [
          1,
          1,
          1
         ],
         "yaxis": "y"
        },
        {
         "hovertemplate": "Brand=Fujitsu Siemens<br>Release_Year=%{x}<br>count=%{y}<extra></extra>",
         "legendgroup": "Fujitsu Siemens",
         "line": {
          "color": "#FF97FF",
          "dash": "solid"
         },
         "marker": {
          "symbol": "circle"
         },
         "mode": "lines",
         "name": "Fujitsu Siemens",
         "orientation": "v",
         "showlegend": true,
         "type": "scatter",
         "x": [
          2006
         ],
         "xaxis": "x",
         "y": [
          2
         ],
         "yaxis": "y"
        },
        {
         "hovertemplate": "Brand=Garmin-Asus<br>Release_Year=%{x}<br>count=%{y}<extra></extra>",
         "legendgroup": "Garmin-Asus",
         "line": {
          "color": "#FECB52",
          "dash": "solid"
         },
         "marker": {
          "symbol": "circle"
         },
         "mode": "lines",
         "name": "Garmin-Asus",
         "orientation": "v",
         "showlegend": true,
         "type": "scatter",
         "x": [
          2009,
          2010
         ],
         "xaxis": "x",
         "y": [
          2,
          2
         ],
         "yaxis": "y"
        },
        {
         "hovertemplate": "Brand=Gigabyte<br>Release_Year=%{x}<br>count=%{y}<extra></extra>",
         "legendgroup": "Gigabyte",
         "line": {
          "color": "#636efa",
          "dash": "solid"
         },
         "marker": {
          "symbol": "circle"
         },
         "mode": "lines",
         "name": "Gigabyte",
         "orientation": "v",
         "showlegend": true,
         "type": "scatter",
         "x": [
          2005,
          2006,
          2007,
          2008,
          2009,
          2010,
          2011,
          2012,
          2013,
          2014,
          2015
         ],
         "xaxis": "x",
         "y": [
          11,
          2,
          2,
          4,
          2,
          2,
          5,
          3,
          10,
          10,
          7
         ],
         "yaxis": "y"
        },
        {
         "hovertemplate": "Brand=Gionee<br>Release_Year=%{x}<br>count=%{y}<extra></extra>",
         "legendgroup": "Gionee",
         "line": {
          "color": "#EF553B",
          "dash": "solid"
         },
         "marker": {
          "symbol": "circle"
         },
         "mode": "lines",
         "name": "Gionee",
         "orientation": "v",
         "showlegend": true,
         "type": "scatter",
         "x": [
          2013,
          2014,
          2015,
          2016,
          2017,
          2018,
          2020,
          2021,
          2022
         ],
         "xaxis": "x",
         "y": [
          15,
          13,
          16,
          15,
          15,
          3,
          9,
          6,
          1
         ],
         "yaxis": "y"
        },
        {
         "hovertemplate": "Brand=Google<br>Release_Year=%{x}<br>count=%{y}<extra></extra>",
         "legendgroup": "Google",
         "line": {
          "color": "#00cc96",
          "dash": "solid"
         },
         "marker": {
          "symbol": "circle"
         },
         "mode": "lines",
         "name": "Google",
         "orientation": "v",
         "showlegend": true,
         "type": "scatter",
         "x": [
          2015,
          2016,
          2017,
          2018,
          2019,
          2020,
          2021,
          2022
         ],
         "xaxis": "x",
         "y": [
          1,
          2,
          2,
          2,
          4,
          3,
          3,
          4
         ],
         "yaxis": "y"
        },
        {
         "hovertemplate": "Brand=HP<br>Release_Year=%{x}<br>count=%{y}<extra></extra>",
         "legendgroup": "HP",
         "line": {
          "color": "#ab63fa",
          "dash": "solid"
         },
         "marker": {
          "symbol": "circle"
         },
         "mode": "lines",
         "name": "HP",
         "orientation": "v",
         "showlegend": true,
         "type": "scatter",
         "x": [
          2006,
          2007,
          2008,
          2009,
          2011,
          2013,
          2014,
          2015,
          2016
         ],
         "xaxis": "x",
         "y": [
          3,
          2,
          1,
          3,
          6,
          5,
          9,
          3,
          1
         ],
         "yaxis": "y"
        },
        {
         "hovertemplate": "Brand=HTC<br>Release_Year=%{x}<br>count=%{y}<extra></extra>",
         "legendgroup": "HTC",
         "line": {
          "color": "#FFA15A",
          "dash": "solid"
         },
         "marker": {
          "symbol": "circle"
         },
         "mode": "lines",
         "name": "HTC",
         "orientation": "v",
         "showlegend": true,
         "type": "scatter",
         "x": [
          2006,
          2007,
          2008,
          2009,
          2010,
          2011,
          2012,
          2013,
          2014,
          2015,
          2016,
          2017,
          2018,
          2019,
          2020,
          2021,
          2022
         ],
         "xaxis": "x",
         "y": [
          8,
          10,
          14,
          18,
          17,
          38,
          27,
          20,
          33,
          25,
          17,
          6,
          7,
          8,
          6,
          3,
          2
         ],
         "yaxis": "y"
        },
        {
         "hovertemplate": "Brand=Haier<br>Release_Year=%{x}<br>count=%{y}<extra></extra>",
         "legendgroup": "Haier",
         "line": {
          "color": "#19d3f3",
          "dash": "solid"
         },
         "marker": {
          "symbol": "circle"
         },
         "mode": "lines",
         "name": "Haier",
         "orientation": "v",
         "showlegend": true,
         "type": "scatter",
         "x": [
          2003,
          2004,
          2005,
          2006,
          2010,
          2017,
          2018
         ],
         "xaxis": "x",
         "y": [
          2,
          17,
          5,
          1,
          14,
          3,
          5
         ],
         "yaxis": "y"
        },
        {
         "hovertemplate": "Brand=Honor<br>Release_Year=%{x}<br>count=%{y}<extra></extra>",
         "legendgroup": "Honor",
         "line": {
          "color": "#FF6692",
          "dash": "solid"
         },
         "marker": {
          "symbol": "circle"
         },
         "mode": "lines",
         "name": "Honor",
         "orientation": "v",
         "showlegend": true,
         "type": "scatter",
         "x": [
          2011,
          2012,
          2013,
          2014,
          2015,
          2016,
          2017,
          2018,
          2019,
          2020,
          2021,
          2022
         ],
         "xaxis": "x",
         "y": [
          1,
          1,
          3,
          8,
          5,
          10,
          6,
          14,
          21,
          29,
          26,
          35
         ],
         "yaxis": "y"
        },
        {
         "hovertemplate": "Brand=Huawei<br>Release_Year=%{x}<br>count=%{y}<extra></extra>",
         "legendgroup": "Huawei",
         "line": {
          "color": "#B6E880",
          "dash": "solid"
         },
         "marker": {
          "symbol": "circle"
         },
         "mode": "lines",
         "name": "Huawei",
         "orientation": "v",
         "showlegend": true,
         "type": "scatter",
         "x": [
          2008,
          2009,
          2010,
          2011,
          2012,
          2013,
          2014,
          2015,
          2016,
          2017,
          2018,
          2019,
          2020,
          2021,
          2022
         ],
         "xaxis": "x",
         "y": [
          4,
          6,
          8,
          23,
          24,
          23,
          26,
          24,
          19,
          29,
          33,
          43,
          48,
          31,
          27
         ],
         "yaxis": "y"
        },
        {
         "hovertemplate": "Brand=Icemobile<br>Release_Year=%{x}<br>count=%{y}<extra></extra>",
         "legendgroup": "Icemobile",
         "line": {
          "color": "#FF97FF",
          "dash": "solid"
         },
         "marker": {
          "symbol": "circle"
         },
         "mode": "lines",
         "name": "Icemobile",
         "orientation": "v",
         "showlegend": true,
         "type": "scatter",
         "x": [
          2010,
          2011,
          2012,
          2013,
          2014,
          2015,
          2016,
          2017
         ],
         "xaxis": "x",
         "y": [
          1,
          14,
          17,
          8,
          12,
          4,
          1,
          1
         ],
         "yaxis": "y"
        },
        {
         "hovertemplate": "Brand=Infinix<br>Release_Year=%{x}<br>count=%{y}<extra></extra>",
         "legendgroup": "Infinix",
         "line": {
          "color": "#FECB52",
          "dash": "solid"
         },
         "marker": {
          "symbol": "circle"
         },
         "mode": "lines",
         "name": "Infinix",
         "orientation": "v",
         "showlegend": true,
         "type": "scatter",
         "x": [
          2016,
          2017,
          2018,
          2019,
          2020,
          2021,
          2022
         ],
         "xaxis": "x",
         "y": [
          3,
          7,
          13,
          13,
          16,
          21,
          27
         ],
         "yaxis": "y"
        },
        {
         "hovertemplate": "Brand=Innostream<br>Release_Year=%{x}<br>count=%{y}<extra></extra>",
         "legendgroup": "Innostream",
         "line": {
          "color": "#636efa",
          "dash": "solid"
         },
         "marker": {
          "symbol": "circle"
         },
         "mode": "lines",
         "name": "Innostream",
         "orientation": "v",
         "showlegend": true,
         "type": "scatter",
         "x": [
          2004,
          2005
         ],
         "xaxis": "x",
         "y": [
          1,
          2
         ],
         "yaxis": "y"
        },
        {
         "hovertemplate": "Brand=Intex<br>Release_Year=%{x}<br>count=%{y}<extra></extra>",
         "legendgroup": "Intex",
         "line": {
          "color": "#EF553B",
          "dash": "solid"
         },
         "marker": {
          "symbol": "circle"
         },
         "mode": "lines",
         "name": "Intex",
         "orientation": "v",
         "showlegend": true,
         "type": "scatter",
         "x": [
          2014,
          2015,
          2016
         ],
         "xaxis": "x",
         "y": [
          3,
          11,
          1
         ],
         "yaxis": "y"
        },
        {
         "hovertemplate": "Brand=Jolla<br>Release_Year=%{x}<br>count=%{y}<extra></extra>",
         "legendgroup": "Jolla",
         "line": {
          "color": "#00cc96",
          "dash": "solid"
         },
         "marker": {
          "symbol": "circle"
         },
         "mode": "lines",
         "name": "Jolla",
         "orientation": "v",
         "showlegend": true,
         "type": "scatter",
         "x": [
          2013,
          2014,
          2016
         ],
         "xaxis": "x",
         "y": [
          1,
          1,
          1
         ],
         "yaxis": "y"
        },
        {
         "hovertemplate": "Brand=Karbonn<br>Release_Year=%{x}<br>count=%{y}<extra></extra>",
         "legendgroup": "Karbonn",
         "line": {
          "color": "#ab63fa",
          "dash": "solid"
         },
         "marker": {
          "symbol": "circle"
         },
         "mode": "lines",
         "name": "Karbonn",
         "orientation": "v",
         "showlegend": true,
         "type": "scatter",
         "x": [
          2012,
          2013,
          2014,
          2015
         ],
         "xaxis": "x",
         "y": [
          28,
          20,
          11,
          1
         ],
         "yaxis": "y"
        },
        {
         "hovertemplate": "Brand=Kyocera<br>Release_Year=%{x}<br>count=%{y}<extra></extra>",
         "legendgroup": "Kyocera",
         "line": {
          "color": "#FFA15A",
          "dash": "solid"
         },
         "marker": {
          "symbol": "circle"
         },
         "mode": "lines",
         "name": "Kyocera",
         "orientation": "v",
         "showlegend": true,
         "type": "scatter",
         "x": [
          2000,
          2008,
          2011,
          2012,
          2013,
          2014,
          2015,
          2016,
          2018
         ],
         "xaxis": "x",
         "y": [
          1,
          5,
          7,
          1,
          2,
          3,
          1,
          1,
          1
         ],
         "yaxis": "y"
        },
        {
         "hovertemplate": "Brand=LG<br>Release_Year=%{x}<br>count=%{y}<extra></extra>",
         "legendgroup": "LG",
         "line": {
          "color": "#19d3f3",
          "dash": "solid"
         },
         "marker": {
          "symbol": "circle"
         },
         "mode": "lines",
         "name": "LG",
         "orientation": "v",
         "showlegend": true,
         "type": "scatter",
         "x": [
          2002,
          2005,
          2006,
          2007,
          2008,
          2009,
          2010,
          2011,
          2012,
          2013,
          2014,
          2015,
          2016,
          2017,
          2018,
          2019,
          2020,
          2021,
          2022
         ],
         "xaxis": "x",
         "y": [
          3,
          11,
          35,
          27,
          47,
          49,
          77,
          50,
          36,
          32,
          52,
          27,
          27,
          17,
          20,
          20,
          27,
          3,
          1
         ],
         "yaxis": "y"
        },
        {
         "hovertemplate": "Brand=Lava<br>Release_Year=%{x}<br>count=%{y}<extra></extra>",
         "legendgroup": "Lava",
         "line": {
          "color": "#FF6692",
          "dash": "solid"
         },
         "marker": {
          "symbol": "circle"
         },
         "mode": "lines",
         "name": "Lava",
         "orientation": "v",
         "showlegend": true,
         "type": "scatter",
         "x": [
          2013,
          2014,
          2015,
          2016,
          2017,
          2018,
          2019,
          2020,
          2021,
          2022
         ],
         "xaxis": "x",
         "y": [
          12,
          27,
          25,
          34,
          10,
          6,
          2,
          2,
          7,
          8
         ],
         "yaxis": "y"
        },
        {
         "hovertemplate": "Brand=LeEco<br>Release_Year=%{x}<br>count=%{y}<extra></extra>",
         "legendgroup": "LeEco",
         "line": {
          "color": "#B6E880",
          "dash": "solid"
         },
         "marker": {
          "symbol": "circle"
         },
         "mode": "lines",
         "name": "LeEco",
         "orientation": "v",
         "showlegend": true,
         "type": "scatter",
         "x": [
          2016,
          2017
         ],
         "xaxis": "x",
         "y": [
          7,
          2
         ],
         "yaxis": "y"
        },
        {
         "hovertemplate": "Brand=Lenovo<br>Release_Year=%{x}<br>count=%{y}<extra></extra>",
         "legendgroup": "Lenovo",
         "line": {
          "color": "#FF97FF",
          "dash": "solid"
         },
         "marker": {
          "symbol": "circle"
         },
         "mode": "lines",
         "name": "Lenovo",
         "orientation": "v",
         "showlegend": true,
         "type": "scatter",
         "x": [
          2011,
          2012,
          2013,
          2014,
          2015,
          2016,
          2017,
          2018,
          2019,
          2020,
          2021,
          2022
         ],
         "xaxis": "x",
         "y": [
          11,
          11,
          26,
          33,
          35,
          30,
          12,
          13,
          15,
          10,
          16,
          10
         ],
         "yaxis": "y"
        },
        {
         "hovertemplate": "Brand=MWg<br>Release_Year=%{x}<br>count=%{y}<extra></extra>",
         "legendgroup": "MWg",
         "line": {
          "color": "#FECB52",
          "dash": "solid"
         },
         "marker": {
          "symbol": "circle"
         },
         "mode": "lines",
         "name": "MWg",
         "orientation": "v",
         "showlegend": true,
         "type": "scatter",
         "x": [
          2007,
          2008
         ],
         "xaxis": "x",
         "y": [
          2,
          3
         ],
         "yaxis": "y"
        },
        {
         "hovertemplate": "Brand=Maxon<br>Release_Year=%{x}<br>count=%{y}<extra></extra>",
         "legendgroup": "Maxon",
         "line": {
          "color": "#636efa",
          "dash": "solid"
         },
         "marker": {
          "symbol": "circle"
         },
         "mode": "lines",
         "name": "Maxon",
         "orientation": "v",
         "showlegend": true,
         "type": "scatter",
         "x": [
          1999,
          2000,
          2003,
          2004
         ],
         "xaxis": "x",
         "y": [
          8,
          4,
          9,
          8
         ],
         "yaxis": "y"
        },
        {
         "hovertemplate": "Brand=Maxwest<br>Release_Year=%{x}<br>count=%{y}<extra></extra>",
         "legendgroup": "Maxwest",
         "line": {
          "color": "#EF553B",
          "dash": "solid"
         },
         "marker": {
          "symbol": "circle"
         },
         "mode": "lines",
         "name": "Maxwest",
         "orientation": "v",
         "showlegend": true,
         "type": "scatter",
         "x": [
          2013,
          2014,
          2015,
          2016,
          2017
         ],
         "xaxis": "x",
         "y": [
          13,
          10,
          10,
          6,
          2
         ],
         "yaxis": "y"
        },
        {
         "hovertemplate": "Brand=Meizu<br>Release_Year=%{x}<br>count=%{y}<extra></extra>",
         "legendgroup": "Meizu",
         "line": {
          "color": "#00cc96",
          "dash": "solid"
         },
         "marker": {
          "symbol": "circle"
         },
         "mode": "lines",
         "name": "Meizu",
         "orientation": "v",
         "showlegend": true,
         "type": "scatter",
         "x": [
          2012,
          2013,
          2014,
          2015,
          2016,
          2017,
          2018,
          2019,
          2020,
          2021
         ],
         "xaxis": "x",
         "y": [
          3,
          1,
          2,
          7,
          15,
          7,
          16,
          7,
          2,
          6
         ],
         "yaxis": "y"
        },
        {
         "hovertemplate": "Brand=Micromax<br>Release_Year=%{x}<br>count=%{y}<extra></extra>",
         "legendgroup": "Micromax",
         "line": {
          "color": "#ab63fa",
          "dash": "solid"
         },
         "marker": {
          "symbol": "circle"
         },
         "mode": "lines",
         "name": "Micromax",
         "orientation": "v",
         "showlegend": true,
         "type": "scatter",
         "x": [
          2008,
          2009,
          2010,
          2011,
          2012,
          2013,
          2014,
          2015,
          2016,
          2017,
          2018,
          2019,
          2020,
          2021,
          2022
         ],
         "xaxis": "x",
         "y": [
          1,
          9,
          33,
          19,
          39,
          40,
          30,
          50,
          25,
          21,
          7,
          1,
          2,
          2,
          2
         ],
         "yaxis": "y"
        },
        {
         "hovertemplate": "Brand=Microsoft<br>Release_Year=%{x}<br>count=%{y}<extra></extra>",
         "legendgroup": "Microsoft",
         "line": {
          "color": "#FFA15A",
          "dash": "solid"
         },
         "marker": {
          "symbol": "circle"
         },
         "mode": "lines",
         "name": "Microsoft",
         "orientation": "v",
         "showlegend": true,
         "type": "scatter",
         "x": [
          2010,
          2012,
          2013,
          2014,
          2015,
          2016,
          2020,
          2021
         ],
         "xaxis": "x",
         "y": [
          4,
          1,
          1,
          2,
          18,
          1,
          1,
          1
         ],
         "yaxis": "y"
        },
        {
         "hovertemplate": "Brand=Mitac<br>Release_Year=%{x}<br>count=%{y}<extra></extra>",
         "legendgroup": "Mitac",
         "line": {
          "color": "#19d3f3",
          "dash": "solid"
         },
         "marker": {
          "symbol": "circle"
         },
         "mode": "lines",
         "name": "Mitac",
         "orientation": "v",
         "showlegend": true,
         "type": "scatter",
         "x": [
          2005,
          2007,
          2009
         ],
         "xaxis": "x",
         "y": [
          1,
          1,
          2
         ],
         "yaxis": "y"
        },
        {
         "hovertemplate": "Brand=Mitsubishi<br>Release_Year=%{x}<br>count=%{y}<extra></extra>",
         "legendgroup": "Mitsubishi",
         "line": {
          "color": "#FF6692",
          "dash": "solid"
         },
         "marker": {
          "symbol": "circle"
         },
         "mode": "lines",
         "name": "Mitsubishi",
         "orientation": "v",
         "showlegend": true,
         "type": "scatter",
         "x": [
          1999,
          2000,
          2003
         ],
         "xaxis": "x",
         "y": [
          4,
          7,
          1
         ],
         "yaxis": "y"
        },
        {
         "hovertemplate": "Brand=Modu<br>Release_Year=%{x}<br>count=%{y}<extra></extra>",
         "legendgroup": "Modu",
         "line": {
          "color": "#B6E880",
          "dash": "solid"
         },
         "marker": {
          "symbol": "circle"
         },
         "mode": "lines",
         "name": "Modu",
         "orientation": "v",
         "showlegend": true,
         "type": "scatter",
         "x": [
          2009
         ],
         "xaxis": "x",
         "y": [
          6
         ],
         "yaxis": "y"
        },
        {
         "hovertemplate": "Brand=Motorola<br>Release_Year=%{x}<br>count=%{y}<extra></extra>",
         "legendgroup": "Motorola",
         "line": {
          "color": "#FF97FF",
          "dash": "solid"
         },
         "marker": {
          "symbol": "circle"
         },
         "mode": "lines",
         "name": "Motorola",
         "orientation": "v",
         "showlegend": true,
         "type": "scatter",
         "x": [
          1997,
          1998,
          1999,
          2000,
          2001,
          2002,
          2003,
          2005,
          2006,
          2007,
          2008,
          2009,
          2010,
          2011,
          2012,
          2013,
          2014,
          2015,
          2016,
          2017,
          2018,
          2019,
          2020,
          2021,
          2022
         ],
         "xaxis": "x",
         "y": [
          5,
          5,
          7,
          8,
          7,
          13,
          7,
          9,
          13,
          19,
          30,
          21,
          45,
          47,
          31,
          8,
          12,
          15,
          10,
          13,
          13,
          14,
          27,
          37,
          37
         ],
         "yaxis": "y"
        },
        {
         "hovertemplate": "Brand=NEC<br>Release_Year=%{x}<br>count=%{y}<extra></extra>",
         "legendgroup": "NEC",
         "line": {
          "color": "#FECB52",
          "dash": "solid"
         },
         "marker": {
          "symbol": "circle"
         },
         "mode": "lines",
         "name": "NEC",
         "orientation": "v",
         "showlegend": true,
         "type": "scatter",
         "x": [
          1997,
          1999,
          2000,
          2001,
          2002,
          2003,
          2004,
          2005,
          2006,
          2013
         ],
         "xaxis": "x",
         "y": [
          1,
          2,
          2,
          2,
          2,
          4,
          3,
          1,
          7,
          1
         ],
         "yaxis": "y"
        },
        {
         "hovertemplate": "Brand=NIU<br>Release_Year=%{x}<br>count=%{y}<extra></extra>",
         "legendgroup": "NIU",
         "line": {
          "color": "#636efa",
          "dash": "solid"
         },
         "marker": {
          "symbol": "circle"
         },
         "mode": "lines",
         "name": "NIU",
         "orientation": "v",
         "showlegend": true,
         "type": "scatter",
         "x": [
          2012,
          2013,
          2014,
          2015,
          2016
         ],
         "xaxis": "x",
         "y": [
          10,
          6,
          9,
          3,
          1
         ],
         "yaxis": "y"
        },
        {
         "hovertemplate": "Brand=Neonode<br>Release_Year=%{x}<br>count=%{y}<extra></extra>",
         "legendgroup": "Neonode",
         "line": {
          "color": "#EF553B",
          "dash": "solid"
         },
         "marker": {
          "symbol": "circle"
         },
         "mode": "lines",
         "name": "Neonode",
         "orientation": "v",
         "showlegend": true,
         "type": "scatter",
         "x": [
          2003,
          2007
         ],
         "xaxis": "x",
         "y": [
          1,
          1
         ],
         "yaxis": "y"
        },
        {
         "hovertemplate": "Brand=Nokia<br>Release_Year=%{x}<br>count=%{y}<extra></extra>",
         "legendgroup": "Nokia",
         "line": {
          "color": "#00cc96",
          "dash": "solid"
         },
         "marker": {
          "symbol": "circle"
         },
         "mode": "lines",
         "name": "Nokia",
         "orientation": "v",
         "showlegend": true,
         "type": "scatter",
         "x": [
          1995,
          1996,
          1997,
          1998,
          1999,
          2000,
          2001,
          2002,
          2003,
          2004,
          2005,
          2006,
          2007,
          2008,
          2009,
          2010,
          2011,
          2012,
          2013,
          2014,
          2015,
          2016,
          2017,
          2018,
          2019,
          2020,
          2021,
          2022
         ],
         "xaxis": "x",
         "y": [
          1,
          1,
          1,
          6,
          4,
          6,
          4,
          6,
          3,
          2,
          16,
          29,
          37,
          36,
          44,
          33,
          34,
          30,
          26,
          23,
          9,
          1,
          11,
          15,
          18,
          19,
          23,
          22
         ],
         "yaxis": "y"
        },
        {
         "hovertemplate": "Brand=Nothing<br>Release_Year=%{x}<br>count=%{y}<extra></extra>",
         "legendgroup": "Nothing",
         "line": {
          "color": "#ab63fa",
          "dash": "solid"
         },
         "marker": {
          "symbol": "circle"
         },
         "mode": "lines",
         "name": "Nothing",
         "orientation": "v",
         "showlegend": true,
         "type": "scatter",
         "x": [
          2022
         ],
         "xaxis": "x",
         "y": [
          1
         ],
         "yaxis": "y"
        },
        {
         "hovertemplate": "Brand=Nvidia<br>Release_Year=%{x}<br>count=%{y}<extra></extra>",
         "legendgroup": "Nvidia",
         "line": {
          "color": "#FFA15A",
          "dash": "solid"
         },
         "marker": {
          "symbol": "circle"
         },
         "mode": "lines",
         "name": "Nvidia",
         "orientation": "v",
         "showlegend": true,
         "type": "scatter",
         "x": [
          2014,
          2015
         ],
         "xaxis": "x",
         "y": [
          2,
          1
         ],
         "yaxis": "y"
        },
        {
         "hovertemplate": "Brand=O2<br>Release_Year=%{x}<br>count=%{y}<extra></extra>",
         "legendgroup": "O2",
         "line": {
          "color": "#19d3f3",
          "dash": "solid"
         },
         "marker": {
          "symbol": "circle"
         },
         "mode": "lines",
         "name": "O2",
         "orientation": "v",
         "showlegend": true,
         "type": "scatter",
         "x": [
          2003,
          2005,
          2006,
          2007,
          2008,
          2009
         ],
         "xaxis": "x",
         "y": [
          3,
          5,
          10,
          9,
          4,
          1
         ],
         "yaxis": "y"
        },
        {
         "hovertemplate": "Brand=OnePlus<br>Release_Year=%{x}<br>count=%{y}<extra></extra>",
         "legendgroup": "OnePlus",
         "line": {
          "color": "#FF6692",
          "dash": "solid"
         },
         "marker": {
          "symbol": "circle"
         },
         "mode": "lines",
         "name": "OnePlus",
         "orientation": "v",
         "showlegend": true,
         "type": "scatter",
         "x": [
          2014,
          2015,
          2016,
          2017,
          2018,
          2019,
          2020,
          2021,
          2022,
          2023
         ],
         "xaxis": "x",
         "y": [
          1,
          2,
          2,
          2,
          3,
          6,
          9,
          8,
          14,
          1
         ],
         "yaxis": "y"
        },
        {
         "hovertemplate": "Brand=Oppo<br>Release_Year=%{x}<br>count=%{y}<extra></extra>",
         "legendgroup": "Oppo",
         "line": {
          "color": "#B6E880",
          "dash": "solid"
         },
         "marker": {
          "symbol": "circle"
         },
         "mode": "lines",
         "name": "Oppo",
         "orientation": "v",
         "showlegend": true,
         "type": "scatter",
         "x": [
          2012,
          2013,
          2014,
          2015,
          2016,
          2017,
          2018,
          2019,
          2020,
          2021,
          2022
         ],
         "xaxis": "x",
         "y": [
          7,
          6,
          11,
          19,
          9,
          12,
          20,
          25,
          42,
          51,
          51
         ],
         "yaxis": "y"
        },
        {
         "hovertemplate": "Brand=Orange<br>Release_Year=%{x}<br>count=%{y}<extra></extra>",
         "legendgroup": "Orange",
         "line": {
          "color": "#FF97FF",
          "dash": "solid"
         },
         "marker": {
          "symbol": "circle"
         },
         "mode": "lines",
         "name": "Orange",
         "orientation": "v",
         "showlegend": true,
         "type": "scatter",
         "x": [
          2011,
          2012,
          2014,
          2019
         ],
         "xaxis": "x",
         "y": [
          7,
          2,
          3,
          1
         ],
         "yaxis": "y"
        },
        {
         "hovertemplate": "Brand=Palm<br>Release_Year=%{x}<br>count=%{y}<extra></extra>",
         "legendgroup": "Palm",
         "line": {
          "color": "#FECB52",
          "dash": "solid"
         },
         "marker": {
          "symbol": "circle"
         },
         "mode": "lines",
         "name": "Palm",
         "orientation": "v",
         "showlegend": true,
         "type": "scatter",
         "x": [
          2002,
          2003,
          2006,
          2007,
          2008,
          2009,
          2010,
          2018
         ],
         "xaxis": "x",
         "y": [
          1,
          1,
          2,
          1,
          3,
          1,
          4,
          1
         ],
         "yaxis": "y"
        },
        {
         "hovertemplate": "Brand=Panasonic<br>Release_Year=%{x}<br>count=%{y}<extra></extra>",
         "legendgroup": "Panasonic",
         "line": {
          "color": "#636efa",
          "dash": "solid"
         },
         "marker": {
          "symbol": "circle"
         },
         "mode": "lines",
         "name": "Panasonic",
         "orientation": "v",
         "showlegend": true,
         "type": "scatter",
         "x": [
          1998,
          1999,
          2000,
          2001,
          2002,
          2011,
          2012,
          2013,
          2014,
          2015,
          2016,
          2017,
          2018,
          2019
         ],
         "xaxis": "x",
         "y": [
          1,
          3,
          2,
          3,
          3,
          2,
          3,
          2,
          11,
          10,
          14,
          21,
          11,
          2
         ],
         "yaxis": "y"
        },
        {
         "hovertemplate": "Brand=Pantech<br>Release_Year=%{x}<br>count=%{y}<extra></extra>",
         "legendgroup": "Pantech",
         "line": {
          "color": "#EF553B",
          "dash": "solid"
         },
         "marker": {
          "symbol": "circle"
         },
         "mode": "lines",
         "name": "Pantech",
         "orientation": "v",
         "showlegend": true,
         "type": "scatter",
         "x": [
          2003,
          2004,
          2006,
          2007,
          2008,
          2009,
          2010,
          2011,
          2012,
          2013
         ],
         "xaxis": "x",
         "y": [
          3,
          5,
          9,
          1,
          2,
          3,
          8,
          7,
          8,
          3
         ],
         "yaxis": "y"
        },
        {
         "hovertemplate": "Brand=Parla<br>Release_Year=%{x}<br>count=%{y}<extra></extra>",
         "legendgroup": "Parla",
         "line": {
          "color": "#00cc96",
          "dash": "solid"
         },
         "marker": {
          "symbol": "circle"
         },
         "mode": "lines",
         "name": "Parla",
         "orientation": "v",
         "showlegend": true,
         "type": "scatter",
         "x": [
          2014,
          2015,
          2016
         ],
         "xaxis": "x",
         "y": [
          1,
          1,
          1
         ],
         "yaxis": "y"
        },
        {
         "hovertemplate": "Brand=Philips<br>Release_Year=%{x}<br>count=%{y}<extra></extra>",
         "legendgroup": "Philips",
         "line": {
          "color": "#ab63fa",
          "dash": "solid"
         },
         "marker": {
          "symbol": "circle"
         },
         "mode": "lines",
         "name": "Philips",
         "orientation": "v",
         "showlegend": true,
         "type": "scatter",
         "x": [
          1996,
          1997,
          1999,
          2000,
          2001,
          2002,
          2005,
          2006,
          2007,
          2008,
          2009,
          2010,
          2011,
          2012,
          2013,
          2014,
          2015,
          2021
         ],
         "xaxis": "x",
         "y": [
          1,
          2,
          5,
          8,
          1,
          6,
          4,
          15,
          15,
          15,
          13,
          23,
          17,
          23,
          23,
          3,
          9,
          2
         ],
         "yaxis": "y"
        },
        {
         "hovertemplate": "Brand=Plum<br>Release_Year=%{x}<br>count=%{y}<extra></extra>",
         "legendgroup": "Plum",
         "line": {
          "color": "#FFA15A",
          "dash": "solid"
         },
         "marker": {
          "symbol": "circle"
         },
         "mode": "lines",
         "name": "Plum",
         "orientation": "v",
         "showlegend": true,
         "type": "scatter",
         "x": [
          2011,
          2012,
          2013,
          2014,
          2015,
          2016,
          2017,
          2018,
          2019,
          2020,
          2021,
          2022
         ],
         "xaxis": "x",
         "y": [
          19,
          16,
          16,
          18,
          9,
          9,
          6,
          11,
          3,
          2,
          1,
          3
         ],
         "yaxis": "y"
        },
        {
         "hovertemplate": "Brand=Posh<br>Release_Year=%{x}<br>count=%{y}<extra></extra>",
         "legendgroup": "Posh",
         "line": {
          "color": "#19d3f3",
          "dash": "solid"
         },
         "marker": {
          "symbol": "circle"
         },
         "mode": "lines",
         "name": "Posh",
         "orientation": "v",
         "showlegend": true,
         "type": "scatter",
         "x": [
          2014,
          2015,
          2016,
          2017
         ],
         "xaxis": "x",
         "y": [
          12,
          9,
          8,
          1
         ],
         "yaxis": "y"
        },
        {
         "hovertemplate": "Brand=Prestigio<br>Release_Year=%{x}<br>count=%{y}<extra></extra>",
         "legendgroup": "Prestigio",
         "line": {
          "color": "#FF6692",
          "dash": "solid"
         },
         "marker": {
          "symbol": "circle"
         },
         "mode": "lines",
         "name": "Prestigio",
         "orientation": "v",
         "showlegend": true,
         "type": "scatter",
         "x": [
          2013,
          2014
         ],
         "xaxis": "x",
         "y": [
          42,
          5
         ],
         "yaxis": "y"
        },
        {
         "hovertemplate": "Brand=QMobile<br>Release_Year=%{x}<br>count=%{y}<extra></extra>",
         "legendgroup": "QMobile",
         "line": {
          "color": "#B6E880",
          "dash": "solid"
         },
         "marker": {
          "symbol": "circle"
         },
         "mode": "lines",
         "name": "QMobile",
         "orientation": "v",
         "showlegend": true,
         "type": "scatter",
         "x": [
          2013,
          2014,
          2015,
          2016,
          2017
         ],
         "xaxis": "x",
         "y": [
          5,
          28,
          35,
          13,
          9
         ],
         "yaxis": "y"
        },
        {
         "hovertemplate": "Brand=Qtek<br>Release_Year=%{x}<br>count=%{y}<extra></extra>",
         "legendgroup": "Qtek",
         "line": {
          "color": "#FF97FF",
          "dash": "solid"
         },
         "marker": {
          "symbol": "circle"
         },
         "mode": "lines",
         "name": "Qtek",
         "orientation": "v",
         "showlegend": true,
         "type": "scatter",
         "x": [
          2003,
          2005,
          2006
         ],
         "xaxis": "x",
         "y": [
          1,
          3,
          4
         ],
         "yaxis": "y"
        },
        {
         "hovertemplate": "Brand=Razer<br>Release_Year=%{x}<br>count=%{y}<extra></extra>",
         "legendgroup": "Razer",
         "line": {
          "color": "#FECB52",
          "dash": "solid"
         },
         "marker": {
          "symbol": "circle"
         },
         "mode": "lines",
         "name": "Razer",
         "orientation": "v",
         "showlegend": true,
         "type": "scatter",
         "x": [
          2017,
          2018
         ],
         "xaxis": "x",
         "y": [
          1,
          1
         ],
         "yaxis": "y"
        },
        {
         "hovertemplate": "Brand=Realme<br>Release_Year=%{x}<br>count=%{y}<extra></extra>",
         "legendgroup": "Realme",
         "line": {
          "color": "#636efa",
          "dash": "solid"
         },
         "marker": {
          "symbol": "circle"
         },
         "mode": "lines",
         "name": "Realme",
         "orientation": "v",
         "showlegend": true,
         "type": "scatter",
         "x": [
          2018,
          2019,
          2020,
          2021,
          2022
         ],
         "xaxis": "x",
         "y": [
          5,
          14,
          44,
          43,
          42
         ],
         "yaxis": "y"
        },
        {
         "hovertemplate": "Brand=Sagem<br>Release_Year=%{x}<br>count=%{y}<extra></extra>",
         "legendgroup": "Sagem",
         "line": {
          "color": "#EF553B",
          "dash": "solid"
         },
         "marker": {
          "symbol": "circle"
         },
         "mode": "lines",
         "name": "Sagem",
         "orientation": "v",
         "showlegend": true,
         "type": "scatter",
         "x": [
          1997,
          1998,
          1999,
          2000,
          2001,
          2002,
          2005,
          2006,
          2007,
          2008,
          2010
         ],
         "xaxis": "x",
         "y": [
          1,
          4,
          3,
          5,
          8,
          4,
          2,
          18,
          10,
          23,
          1
         ],
         "yaxis": "y"
        },
        {
         "hovertemplate": "Brand=Samsung<br>Release_Year=%{x}<br>count=%{y}<extra></extra>",
         "legendgroup": "Samsung",
         "line": {
          "color": "#00cc96",
          "dash": "solid"
         },
         "marker": {
          "symbol": "circle"
         },
         "mode": "lines",
         "name": "Samsung",
         "orientation": "v",
         "showlegend": true,
         "type": "scatter",
         "x": [
          1996,
          1998,
          1999,
          2000,
          2001,
          2002,
          2003,
          2004,
          2005,
          2006,
          2007,
          2008,
          2009,
          2010,
          2011,
          2012,
          2013,
          2014,
          2015,
          2016,
          2017,
          2018,
          2019,
          2020,
          2021,
          2022,
          2023
         ],
         "xaxis": "x",
         "y": [
          1,
          1,
          4,
          6,
          10,
          8,
          3,
          6,
          2,
          66,
          64,
          96,
          121,
          98,
          114,
          84,
          64,
          89,
          52,
          43,
          28,
          31,
          45,
          55,
          43,
          37,
          1
         ],
         "yaxis": "y"
        },
        {
         "hovertemplate": "Brand=Sendo<br>Release_Year=%{x}<br>count=%{y}<extra></extra>",
         "legendgroup": "Sendo",
         "line": {
          "color": "#ab63fa",
          "dash": "solid"
         },
         "marker": {
          "symbol": "circle"
         },
         "mode": "lines",
         "name": "Sendo",
         "orientation": "v",
         "showlegend": true,
         "type": "scatter",
         "x": [
          2000,
          2002
         ],
         "xaxis": "x",
         "y": [
          1,
          2
         ],
         "yaxis": "y"
        },
        {
         "hovertemplate": "Brand=Sewon<br>Release_Year=%{x}<br>count=%{y}<extra></extra>",
         "legendgroup": "Sewon",
         "line": {
          "color": "#FFA15A",
          "dash": "solid"
         },
         "marker": {
          "symbol": "circle"
         },
         "mode": "lines",
         "name": "Sewon",
         "orientation": "v",
         "showlegend": true,
         "type": "scatter",
         "x": [
          2002
         ],
         "xaxis": "x",
         "y": [
          4
         ],
         "yaxis": "y"
        },
        {
         "hovertemplate": "Brand=Sharp<br>Release_Year=%{x}<br>count=%{y}<extra></extra>",
         "legendgroup": "Sharp",
         "line": {
          "color": "#19d3f3",
          "dash": "solid"
         },
         "marker": {
          "symbol": "circle"
         },
         "mode": "lines",
         "name": "Sharp",
         "orientation": "v",
         "showlegend": true,
         "type": "scatter",
         "x": [
          2002,
          2003,
          2004,
          2005,
          2006,
          2007,
          2008,
          2009,
          2010,
          2011,
          2012,
          2014,
          2015,
          2016,
          2017,
          2018,
          2019,
          2020,
          2021,
          2022
         ],
         "xaxis": "x",
         "y": [
          2,
          1,
          1,
          2,
          5,
          2,
          5,
          2,
          3,
          2,
          2,
          1,
          2,
          2,
          2,
          9,
          4,
          3,
          2,
          3
         ],
         "yaxis": "y"
        },
        {
         "hovertemplate": "Brand=Siemens<br>Release_Year=%{x}<br>count=%{y}<extra></extra>",
         "legendgroup": "Siemens",
         "line": {
          "color": "#FF6692",
          "dash": "solid"
         },
         "marker": {
          "symbol": "circle"
         },
         "mode": "lines",
         "name": "Siemens",
         "orientation": "v",
         "showlegend": true,
         "type": "scatter",
         "x": [
          1998,
          1999,
          2000,
          2001,
          2002,
          2003,
          2004,
          2005
         ],
         "xaxis": "x",
         "y": [
          5,
          3,
          9,
          7,
          6,
          1,
          9,
          13
         ],
         "yaxis": "y"
        },
        {
         "hovertemplate": "Brand=Sonim<br>Release_Year=%{x}<br>count=%{y}<extra></extra>",
         "legendgroup": "Sonim",
         "line": {
          "color": "#B6E880",
          "dash": "solid"
         },
         "marker": {
          "symbol": "circle"
         },
         "mode": "lines",
         "name": "Sonim",
         "orientation": "v",
         "showlegend": true,
         "type": "scatter",
         "x": [
          2007,
          2008,
          2009,
          2010,
          2011,
          2014,
          2015,
          2018,
          2019,
          2021,
          2022
         ],
         "xaxis": "x",
         "y": [
          1,
          1,
          1,
          3,
          3,
          1,
          1,
          2,
          1,
          1,
          1
         ],
         "yaxis": "y"
        },
        {
         "hovertemplate": "Brand=Sony<br>Release_Year=%{x}<br>count=%{y}<extra></extra>",
         "legendgroup": "Sony",
         "line": {
          "color": "#FF97FF",
          "dash": "solid"
         },
         "marker": {
          "symbol": "circle"
         },
         "mode": "lines",
         "name": "Sony",
         "orientation": "v",
         "showlegend": true,
         "type": "scatter",
         "x": [
          1997,
          1999,
          2000,
          2001,
          2011,
          2012,
          2013,
          2014,
          2015,
          2016,
          2017,
          2018,
          2019,
          2020,
          2021,
          2022
         ],
         "xaxis": "x",
         "y": [
          4,
          1,
          3,
          2,
          3,
          24,
          14,
          24,
          22,
          8,
          9,
          8,
          5,
          4,
          6,
          3
         ],
         "yaxis": "y"
        },
        {
         "hovertemplate": "Brand=Sony Ericsson<br>Release_Year=%{x}<br>count=%{y}<extra></extra>",
         "legendgroup": "Sony Ericsson",
         "line": {
          "color": "#FECB52",
          "dash": "solid"
         },
         "marker": {
          "symbol": "circle"
         },
         "mode": "lines",
         "name": "Sony Ericsson",
         "orientation": "v",
         "showlegend": true,
         "type": "scatter",
         "x": [
          2002,
          2003,
          2004,
          2005,
          2006,
          2007,
          2008,
          2009,
          2010,
          2011
         ],
         "xaxis": "x",
         "y": [
          6,
          1,
          3,
          11,
          24,
          26,
          34,
          21,
          14,
          16
         ],
         "yaxis": "y"
        },
        {
         "hovertemplate": "Brand=Spice<br>Release_Year=%{x}<br>count=%{y}<extra></extra>",
         "legendgroup": "Spice",
         "line": {
          "color": "#636efa",
          "dash": "solid"
         },
         "marker": {
          "symbol": "circle"
         },
         "mode": "lines",
         "name": "Spice",
         "orientation": "v",
         "showlegend": true,
         "type": "scatter",
         "x": [
          2010,
          2011,
          2012,
          2013,
          2014
         ],
         "xaxis": "x",
         "y": [
          36,
          15,
          16,
          23,
          26
         ],
         "yaxis": "y"
        },
        {
         "hovertemplate": "Brand=T-Mobile<br>Release_Year=%{x}<br>count=%{y}<extra></extra>",
         "legendgroup": "T-Mobile",
         "line": {
          "color": "#EF553B",
          "dash": "solid"
         },
         "marker": {
          "symbol": "circle"
         },
         "mode": "lines",
         "name": "T-Mobile",
         "orientation": "v",
         "showlegend": true,
         "type": "scatter",
         "x": [
          2006,
          2007,
          2008,
          2009,
          2010,
          2011,
          2012,
          2013,
          2017,
          2019,
          2020,
          2021,
          2022
         ],
         "xaxis": "x",
         "y": [
          3,
          3,
          3,
          12,
          10,
          13,
          4,
          1,
          1,
          2,
          3,
          1,
          2
         ],
         "yaxis": "y"
        },
        {
         "hovertemplate": "Brand=TCL<br>Release_Year=%{x}<br>count=%{y}<extra></extra>",
         "legendgroup": "TCL",
         "line": {
          "color": "#00cc96",
          "dash": "solid"
         },
         "marker": {
          "symbol": "circle"
         },
         "mode": "lines",
         "name": "TCL",
         "orientation": "v",
         "showlegend": true,
         "type": "scatter",
         "x": [
          2019,
          2020,
          2021,
          2022
         ],
         "xaxis": "x",
         "y": [
          1,
          10,
          16,
          18
         ],
         "yaxis": "y"
        },
        {
         "hovertemplate": "Brand=Tecno<br>Release_Year=%{x}<br>count=%{y}<extra></extra>",
         "legendgroup": "Tecno",
         "line": {
          "color": "#ab63fa",
          "dash": "solid"
         },
         "marker": {
          "symbol": "circle"
         },
         "mode": "lines",
         "name": "Tecno",
         "orientation": "v",
         "showlegend": true,
         "type": "scatter",
         "x": [
          2016,
          2017,
          2018,
          2019,
          2020,
          2021,
          2022
         ],
         "xaxis": "x",
         "y": [
          1,
          7,
          17,
          18,
          20,
          24,
          23
         ],
         "yaxis": "y"
        },
        {
         "hovertemplate": "Brand=Tel.Me.<br>Release_Year=%{x}<br>count=%{y}<extra></extra>",
         "legendgroup": "Tel.Me.",
         "line": {
          "color": "#FFA15A",
          "dash": "solid"
         },
         "marker": {
          "symbol": "circle"
         },
         "mode": "lines",
         "name": "Tel.Me.",
         "orientation": "v",
         "showlegend": true,
         "type": "scatter",
         "x": [
          2002,
          2003
         ],
         "xaxis": "x",
         "y": [
          1,
          3
         ],
         "yaxis": "y"
        },
        {
         "hovertemplate": "Brand=Telit<br>Release_Year=%{x}<br>count=%{y}<extra></extra>",
         "legendgroup": "Telit",
         "line": {
          "color": "#19d3f3",
          "dash": "solid"
         },
         "marker": {
          "symbol": "circle"
         },
         "mode": "lines",
         "name": "Telit",
         "orientation": "v",
         "showlegend": true,
         "type": "scatter",
         "x": [
          1999,
          2002
         ],
         "xaxis": "x",
         "y": [
          5,
          3
         ],
         "yaxis": "y"
        },
        {
         "hovertemplate": "Brand=Thuraya<br>Release_Year=%{x}<br>count=%{y}<extra></extra>",
         "legendgroup": "Thuraya",
         "line": {
          "color": "#FF6692",
          "dash": "solid"
         },
         "marker": {
          "symbol": "circle"
         },
         "mode": "lines",
         "name": "Thuraya",
         "orientation": "v",
         "showlegend": true,
         "type": "scatter",
         "x": [
          2007
         ],
         "xaxis": "x",
         "y": [
          1
         ],
         "yaxis": "y"
        },
        {
         "hovertemplate": "Brand=Toshiba<br>Release_Year=%{x}<br>count=%{y}<extra></extra>",
         "legendgroup": "Toshiba",
         "line": {
          "color": "#B6E880",
          "dash": "solid"
         },
         "marker": {
          "symbol": "circle"
         },
         "mode": "lines",
         "name": "Toshiba",
         "orientation": "v",
         "showlegend": true,
         "type": "scatter",
         "x": [
          2005,
          2006,
          2007,
          2008,
          2009,
          2010,
          2011,
          2012,
          2013,
          2014
         ],
         "xaxis": "x",
         "y": [
          1,
          8,
          2,
          4,
          1,
          2,
          2,
          5,
          3,
          2
         ],
         "yaxis": "y"
        },
        {
         "hovertemplate": "Brand=Ulefone<br>Release_Year=%{x}<br>count=%{y}<extra></extra>",
         "legendgroup": "Ulefone",
         "line": {
          "color": "#FF97FF",
          "dash": "solid"
         },
         "marker": {
          "symbol": "circle"
         },
         "mode": "lines",
         "name": "Ulefone",
         "orientation": "v",
         "showlegend": true,
         "type": "scatter",
         "x": [
          2017,
          2018,
          2019,
          2020,
          2021,
          2022
         ],
         "xaxis": "x",
         "y": [
          1,
          4,
          13,
          17,
          18,
          11
         ],
         "yaxis": "y"
        },
        {
         "hovertemplate": "Brand=Unnecto<br>Release_Year=%{x}<br>count=%{y}<extra></extra>",
         "legendgroup": "Unnecto",
         "line": {
          "color": "#FECB52",
          "dash": "solid"
         },
         "marker": {
          "symbol": "circle"
         },
         "mode": "lines",
         "name": "Unnecto",
         "orientation": "v",
         "showlegend": true,
         "type": "scatter",
         "x": [
          2011,
          2012,
          2013,
          2014,
          2015,
          2016
         ],
         "xaxis": "x",
         "y": [
          6,
          5,
          2,
          3,
          8,
          6
         ],
         "yaxis": "y"
        },
        {
         "hovertemplate": "Brand=VK Mobile<br>Release_Year=%{x}<br>count=%{y}<extra></extra>",
         "legendgroup": "VK Mobile",
         "line": {
          "color": "#636efa",
          "dash": "solid"
         },
         "marker": {
          "symbol": "circle"
         },
         "mode": "lines",
         "name": "VK Mobile",
         "orientation": "v",
         "showlegend": true,
         "type": "scatter",
         "x": [
          2005,
          2006,
          2008
         ],
         "xaxis": "x",
         "y": [
          1,
          8,
          1
         ],
         "yaxis": "y"
        },
        {
         "hovertemplate": "Brand=Vertu<br>Release_Year=%{x}<br>count=%{y}<extra></extra>",
         "legendgroup": "Vertu",
         "line": {
          "color": "#EF553B",
          "dash": "solid"
         },
         "marker": {
          "symbol": "circle"
         },
         "mode": "lines",
         "name": "Vertu",
         "orientation": "v",
         "showlegend": true,
         "type": "scatter",
         "x": [
          2003,
          2004,
          2005,
          2006,
          2008,
          2009,
          2010,
          2011,
          2013,
          2014,
          2015
         ],
         "xaxis": "x",
         "y": [
          1,
          1,
          1,
          1,
          2,
          1,
          2,
          1,
          2,
          2,
          1
         ],
         "yaxis": "y"
        },
        {
         "hovertemplate": "Brand=Vodafone<br>Release_Year=%{x}<br>count=%{y}<extra></extra>",
         "legendgroup": "Vodafone",
         "line": {
          "color": "#00cc96",
          "dash": "solid"
         },
         "marker": {
          "symbol": "circle"
         },
         "mode": "lines",
         "name": "Vodafone",
         "orientation": "v",
         "showlegend": true,
         "type": "scatter",
         "x": [
          2006,
          2007,
          2008,
          2009,
          2010,
          2011,
          2012,
          2013,
          2014,
          2015,
          2016,
          2017,
          2018,
          2019
         ],
         "xaxis": "x",
         "y": [
          1,
          6,
          7,
          11,
          11,
          2,
          6,
          5,
          5,
          6,
          6,
          4,
          4,
          2
         ],
         "yaxis": "y"
        },
        {
         "hovertemplate": "Brand=WND<br>Release_Year=%{x}<br>count=%{y}<extra></extra>",
         "legendgroup": "WND",
         "line": {
          "color": "#ab63fa",
          "dash": "solid"
         },
         "marker": {
          "symbol": "circle"
         },
         "mode": "lines",
         "name": "WND",
         "orientation": "v",
         "showlegend": true,
         "type": "scatter",
         "x": [
          2007
         ],
         "xaxis": "x",
         "y": [
          5
         ],
         "yaxis": "y"
        },
        {
         "hovertemplate": "Brand=Wiko<br>Release_Year=%{x}<br>count=%{y}<extra></extra>",
         "legendgroup": "Wiko",
         "line": {
          "color": "#FFA15A",
          "dash": "solid"
         },
         "marker": {
          "symbol": "circle"
         },
         "mode": "lines",
         "name": "Wiko",
         "orientation": "v",
         "showlegend": true,
         "type": "scatter",
         "x": [
          2014,
          2015,
          2016,
          2017,
          2018,
          2019,
          2020,
          2021,
          2022
         ],
         "xaxis": "x",
         "y": [
          11,
          17,
          13,
          17,
          5,
          9,
          11,
          7,
          4
         ],
         "yaxis": "y"
        },
        {
         "hovertemplate": "Brand=XCute<br>Release_Year=%{x}<br>count=%{y}<extra></extra>",
         "legendgroup": "XCute",
         "line": {
          "color": "#19d3f3",
          "dash": "solid"
         },
         "marker": {
          "symbol": "circle"
         },
         "mode": "lines",
         "name": "XCute",
         "orientation": "v",
         "showlegend": true,
         "type": "scatter",
         "x": [
          2006
         ],
         "xaxis": "x",
         "y": [
          2
         ],
         "yaxis": "y"
        },
        {
         "hovertemplate": "Brand=XOLO<br>Release_Year=%{x}<br>count=%{y}<extra></extra>",
         "legendgroup": "XOLO",
         "line": {
          "color": "#FF6692",
          "dash": "solid"
         },
         "marker": {
          "symbol": "circle"
         },
         "mode": "lines",
         "name": "XOLO",
         "orientation": "v",
         "showlegend": true,
         "type": "scatter",
         "x": [
          2013,
          2014,
          2015,
          2016,
          2017
         ],
         "xaxis": "x",
         "y": [
          24,
          37,
          12,
          6,
          1
         ],
         "yaxis": "y"
        },
        {
         "hovertemplate": "Brand=Xiaomi<br>Release_Year=%{x}<br>count=%{y}<extra></extra>",
         "legendgroup": "Xiaomi",
         "line": {
          "color": "#B6E880",
          "dash": "solid"
         },
         "marker": {
          "symbol": "circle"
         },
         "mode": "lines",
         "name": "Xiaomi",
         "orientation": "v",
         "showlegend": true,
         "type": "scatter",
         "x": [
          2012,
          2013,
          2014,
          2015,
          2016,
          2017,
          2018,
          2019,
          2020,
          2021,
          2022,
          2023
         ],
         "xaxis": "x",
         "y": [
          2,
          4,
          6,
          12,
          18,
          14,
          23,
          35,
          55,
          65,
          71,
          4
         ],
         "yaxis": "y"
        },
        {
         "hovertemplate": "Brand=YU<br>Release_Year=%{x}<br>count=%{y}<extra></extra>",
         "legendgroup": "YU",
         "line": {
          "color": "#FF97FF",
          "dash": "solid"
         },
         "marker": {
          "symbol": "circle"
         },
         "mode": "lines",
         "name": "YU",
         "orientation": "v",
         "showlegend": true,
         "type": "scatter",
         "x": [
          2015,
          2016,
          2017,
          2018
         ],
         "xaxis": "x",
         "y": [
          5,
          4,
          3,
          1
         ],
         "yaxis": "y"
        },
        {
         "hovertemplate": "Brand=Yezz<br>Release_Year=%{x}<br>count=%{y}<extra></extra>",
         "legendgroup": "Yezz",
         "line": {
          "color": "#FECB52",
          "dash": "solid"
         },
         "marker": {
          "symbol": "circle"
         },
         "mode": "lines",
         "name": "Yezz",
         "orientation": "v",
         "showlegend": true,
         "type": "scatter",
         "x": [
          2011,
          2012,
          2013,
          2014,
          2015,
          2016,
          2018,
          2019,
          2020,
          2021,
          2022
         ],
         "xaxis": "x",
         "y": [
          10,
          8,
          15,
          21,
          19,
          14,
          4,
          2,
          4,
          5,
          5
         ],
         "yaxis": "y"
        },
        {
         "hovertemplate": "Brand=Yota<br>Release_Year=%{x}<br>count=%{y}<extra></extra>",
         "legendgroup": "Yota",
         "line": {
          "color": "#636efa",
          "dash": "solid"
         },
         "marker": {
          "symbol": "circle"
         },
         "mode": "lines",
         "name": "Yota",
         "orientation": "v",
         "showlegend": true,
         "type": "scatter",
         "x": [
          2013,
          2014,
          2017
         ],
         "xaxis": "x",
         "y": [
          1,
          1,
          1
         ],
         "yaxis": "y"
        },
        {
         "hovertemplate": "Brand=ZTE<br>Release_Year=%{x}<br>count=%{y}<extra></extra>",
         "legendgroup": "ZTE",
         "line": {
          "color": "#EF553B",
          "dash": "solid"
         },
         "marker": {
          "symbol": "circle"
         },
         "mode": "lines",
         "name": "ZTE",
         "orientation": "v",
         "showlegend": true,
         "type": "scatter",
         "x": [
          2007,
          2008,
          2009,
          2010,
          2011,
          2012,
          2013,
          2014,
          2015,
          2016,
          2017,
          2018,
          2019,
          2020,
          2021,
          2022
         ],
         "xaxis": "x",
         "y": [
          1,
          2,
          14,
          14,
          15,
          31,
          20,
          27,
          38,
          25,
          31,
          12,
          18,
          23,
          31,
          24
         ],
         "yaxis": "y"
        },
        {
         "hovertemplate": "Brand=alcatel<br>Release_Year=%{x}<br>count=%{y}<extra></extra>",
         "legendgroup": "alcatel",
         "line": {
          "color": "#00cc96",
          "dash": "solid"
         },
         "marker": {
          "symbol": "circle"
         },
         "mode": "lines",
         "name": "alcatel",
         "orientation": "v",
         "showlegend": true,
         "type": "scatter",
         "x": [
          1998,
          1999,
          2000,
          2001,
          2002,
          2003,
          2006,
          2007,
          2008,
          2009,
          2010,
          2011,
          2012,
          2013,
          2014,
          2015,
          2016,
          2017,
          2018,
          2019,
          2020,
          2021,
          2022
         ],
         "xaxis": "x",
         "y": [
          1,
          1,
          9,
          2,
          2,
          4,
          9,
          18,
          21,
          19,
          21,
          20,
          27,
          28,
          33,
          26,
          14,
          12,
          13,
          12,
          6,
          7,
          1
         ],
         "yaxis": "y"
        },
        {
         "hovertemplate": "Brand=i-mate<br>Release_Year=%{x}<br>count=%{y}<extra></extra>",
         "legendgroup": "i-mate",
         "line": {
          "color": "#ab63fa",
          "dash": "solid"
         },
         "marker": {
          "symbol": "circle"
         },
         "mode": "lines",
         "name": "i-mate",
         "orientation": "v",
         "showlegend": true,
         "type": "scatter",
         "x": [
          2005,
          2006,
          2007,
          2008,
          2009
         ],
         "xaxis": "x",
         "y": [
          5,
          7,
          7,
          4,
          1
         ],
         "yaxis": "y"
        },
        {
         "hovertemplate": "Brand=i-mobile<br>Release_Year=%{x}<br>count=%{y}<extra></extra>",
         "legendgroup": "i-mobile",
         "line": {
          "color": "#FFA15A",
          "dash": "solid"
         },
         "marker": {
          "symbol": "circle"
         },
         "mode": "lines",
         "name": "i-mobile",
         "orientation": "v",
         "showlegend": true,
         "type": "scatter",
         "x": [
          2006,
          2007,
          2008,
          2009,
          2010
         ],
         "xaxis": "x",
         "y": [
          1,
          6,
          12,
          6,
          5
         ],
         "yaxis": "y"
        },
        {
         "hovertemplate": "Brand=iNQ<br>Release_Year=%{x}<br>count=%{y}<extra></extra>",
         "legendgroup": "iNQ",
         "line": {
          "color": "#19d3f3",
          "dash": "solid"
         },
         "marker": {
          "symbol": "circle"
         },
         "mode": "lines",
         "name": "iNQ",
         "orientation": "v",
         "showlegend": true,
         "type": "scatter",
         "x": [
          2009,
          2011
         ],
         "xaxis": "x",
         "y": [
          3,
          2
         ],
         "yaxis": "y"
        },
        {
         "hovertemplate": "Brand=verykool<br>Release_Year=%{x}<br>count=%{y}<extra></extra>",
         "legendgroup": "verykool",
         "line": {
          "color": "#FF6692",
          "dash": "solid"
         },
         "marker": {
          "symbol": "circle"
         },
         "mode": "lines",
         "name": "verykool",
         "orientation": "v",
         "showlegend": true,
         "type": "scatter",
         "x": [
          2011,
          2012,
          2013,
          2014,
          2015,
          2016,
          2017,
          2018
         ],
         "xaxis": "x",
         "y": [
          23,
          17,
          19,
          19,
          19,
          13,
          21,
          3
         ],
         "yaxis": "y"
        },
        {
         "hovertemplate": "Brand=vivo<br>Release_Year=%{x}<br>count=%{y}<extra></extra>",
         "legendgroup": "vivo",
         "line": {
          "color": "#B6E880",
          "dash": "solid"
         },
         "marker": {
          "symbol": "circle"
         },
         "mode": "lines",
         "name": "vivo",
         "orientation": "v",
         "showlegend": true,
         "type": "scatter",
         "x": [
          2013,
          2014,
          2015,
          2016,
          2017,
          2018,
          2019,
          2020,
          2021,
          2022
         ],
         "xaxis": "x",
         "y": [
          3,
          6,
          12,
          14,
          14,
          31,
          47,
          49,
          76,
          83
         ],
         "yaxis": "y"
        }
       ],
       "layout": {
        "height": 600,
        "legend": {
         "title": {
          "text": "Brand"
         },
         "tracegroupgap": 0
        },
        "margin": {
         "t": 60
        },
        "showlegend": false,
        "template": {
         "data": {
          "bar": [
           {
            "error_x": {
             "color": "#2a3f5f"
            },
            "error_y": {
             "color": "#2a3f5f"
            },
            "marker": {
             "line": {
              "color": "#E5ECF6",
              "width": 0.5
             },
             "pattern": {
              "fillmode": "overlay",
              "size": 10,
              "solidity": 0.2
             }
            },
            "type": "bar"
           }
          ],
          "barpolar": [
           {
            "marker": {
             "line": {
              "color": "#E5ECF6",
              "width": 0.5
             },
             "pattern": {
              "fillmode": "overlay",
              "size": 10,
              "solidity": 0.2
             }
            },
            "type": "barpolar"
           }
          ],
          "carpet": [
           {
            "aaxis": {
             "endlinecolor": "#2a3f5f",
             "gridcolor": "white",
             "linecolor": "white",
             "minorgridcolor": "white",
             "startlinecolor": "#2a3f5f"
            },
            "baxis": {
             "endlinecolor": "#2a3f5f",
             "gridcolor": "white",
             "linecolor": "white",
             "minorgridcolor": "white",
             "startlinecolor": "#2a3f5f"
            },
            "type": "carpet"
           }
          ],
          "choropleth": [
           {
            "colorbar": {
             "outlinewidth": 0,
             "ticks": ""
            },
            "type": "choropleth"
           }
          ],
          "contour": [
           {
            "colorbar": {
             "outlinewidth": 0,
             "ticks": ""
            },
            "colorscale": [
             [
              0,
              "#0d0887"
             ],
             [
              0.1111111111111111,
              "#46039f"
             ],
             [
              0.2222222222222222,
              "#7201a8"
             ],
             [
              0.3333333333333333,
              "#9c179e"
             ],
             [
              0.4444444444444444,
              "#bd3786"
             ],
             [
              0.5555555555555556,
              "#d8576b"
             ],
             [
              0.6666666666666666,
              "#ed7953"
             ],
             [
              0.7777777777777778,
              "#fb9f3a"
             ],
             [
              0.8888888888888888,
              "#fdca26"
             ],
             [
              1,
              "#f0f921"
             ]
            ],
            "type": "contour"
           }
          ],
          "contourcarpet": [
           {
            "colorbar": {
             "outlinewidth": 0,
             "ticks": ""
            },
            "type": "contourcarpet"
           }
          ],
          "heatmap": [
           {
            "colorbar": {
             "outlinewidth": 0,
             "ticks": ""
            },
            "colorscale": [
             [
              0,
              "#0d0887"
             ],
             [
              0.1111111111111111,
              "#46039f"
             ],
             [
              0.2222222222222222,
              "#7201a8"
             ],
             [
              0.3333333333333333,
              "#9c179e"
             ],
             [
              0.4444444444444444,
              "#bd3786"
             ],
             [
              0.5555555555555556,
              "#d8576b"
             ],
             [
              0.6666666666666666,
              "#ed7953"
             ],
             [
              0.7777777777777778,
              "#fb9f3a"
             ],
             [
              0.8888888888888888,
              "#fdca26"
             ],
             [
              1,
              "#f0f921"
             ]
            ],
            "type": "heatmap"
           }
          ],
          "heatmapgl": [
           {
            "colorbar": {
             "outlinewidth": 0,
             "ticks": ""
            },
            "colorscale": [
             [
              0,
              "#0d0887"
             ],
             [
              0.1111111111111111,
              "#46039f"
             ],
             [
              0.2222222222222222,
              "#7201a8"
             ],
             [
              0.3333333333333333,
              "#9c179e"
             ],
             [
              0.4444444444444444,
              "#bd3786"
             ],
             [
              0.5555555555555556,
              "#d8576b"
             ],
             [
              0.6666666666666666,
              "#ed7953"
             ],
             [
              0.7777777777777778,
              "#fb9f3a"
             ],
             [
              0.8888888888888888,
              "#fdca26"
             ],
             [
              1,
              "#f0f921"
             ]
            ],
            "type": "heatmapgl"
           }
          ],
          "histogram": [
           {
            "marker": {
             "pattern": {
              "fillmode": "overlay",
              "size": 10,
              "solidity": 0.2
             }
            },
            "type": "histogram"
           }
          ],
          "histogram2d": [
           {
            "colorbar": {
             "outlinewidth": 0,
             "ticks": ""
            },
            "colorscale": [
             [
              0,
              "#0d0887"
             ],
             [
              0.1111111111111111,
              "#46039f"
             ],
             [
              0.2222222222222222,
              "#7201a8"
             ],
             [
              0.3333333333333333,
              "#9c179e"
             ],
             [
              0.4444444444444444,
              "#bd3786"
             ],
             [
              0.5555555555555556,
              "#d8576b"
             ],
             [
              0.6666666666666666,
              "#ed7953"
             ],
             [
              0.7777777777777778,
              "#fb9f3a"
             ],
             [
              0.8888888888888888,
              "#fdca26"
             ],
             [
              1,
              "#f0f921"
             ]
            ],
            "type": "histogram2d"
           }
          ],
          "histogram2dcontour": [
           {
            "colorbar": {
             "outlinewidth": 0,
             "ticks": ""
            },
            "colorscale": [
             [
              0,
              "#0d0887"
             ],
             [
              0.1111111111111111,
              "#46039f"
             ],
             [
              0.2222222222222222,
              "#7201a8"
             ],
             [
              0.3333333333333333,
              "#9c179e"
             ],
             [
              0.4444444444444444,
              "#bd3786"
             ],
             [
              0.5555555555555556,
              "#d8576b"
             ],
             [
              0.6666666666666666,
              "#ed7953"
             ],
             [
              0.7777777777777778,
              "#fb9f3a"
             ],
             [
              0.8888888888888888,
              "#fdca26"
             ],
             [
              1,
              "#f0f921"
             ]
            ],
            "type": "histogram2dcontour"
           }
          ],
          "mesh3d": [
           {
            "colorbar": {
             "outlinewidth": 0,
             "ticks": ""
            },
            "type": "mesh3d"
           }
          ],
          "parcoords": [
           {
            "line": {
             "colorbar": {
              "outlinewidth": 0,
              "ticks": ""
             }
            },
            "type": "parcoords"
           }
          ],
          "pie": [
           {
            "automargin": true,
            "type": "pie"
           }
          ],
          "scatter": [
           {
            "fillpattern": {
             "fillmode": "overlay",
             "size": 10,
             "solidity": 0.2
            },
            "type": "scatter"
           }
          ],
          "scatter3d": [
           {
            "line": {
             "colorbar": {
              "outlinewidth": 0,
              "ticks": ""
             }
            },
            "marker": {
             "colorbar": {
              "outlinewidth": 0,
              "ticks": ""
             }
            },
            "type": "scatter3d"
           }
          ],
          "scattercarpet": [
           {
            "marker": {
             "colorbar": {
              "outlinewidth": 0,
              "ticks": ""
             }
            },
            "type": "scattercarpet"
           }
          ],
          "scattergeo": [
           {
            "marker": {
             "colorbar": {
              "outlinewidth": 0,
              "ticks": ""
             }
            },
            "type": "scattergeo"
           }
          ],
          "scattergl": [
           {
            "marker": {
             "colorbar": {
              "outlinewidth": 0,
              "ticks": ""
             }
            },
            "type": "scattergl"
           }
          ],
          "scattermapbox": [
           {
            "marker": {
             "colorbar": {
              "outlinewidth": 0,
              "ticks": ""
             }
            },
            "type": "scattermapbox"
           }
          ],
          "scatterpolar": [
           {
            "marker": {
             "colorbar": {
              "outlinewidth": 0,
              "ticks": ""
             }
            },
            "type": "scatterpolar"
           }
          ],
          "scatterpolargl": [
           {
            "marker": {
             "colorbar": {
              "outlinewidth": 0,
              "ticks": ""
             }
            },
            "type": "scatterpolargl"
           }
          ],
          "scatterternary": [
           {
            "marker": {
             "colorbar": {
              "outlinewidth": 0,
              "ticks": ""
             }
            },
            "type": "scatterternary"
           }
          ],
          "surface": [
           {
            "colorbar": {
             "outlinewidth": 0,
             "ticks": ""
            },
            "colorscale": [
             [
              0,
              "#0d0887"
             ],
             [
              0.1111111111111111,
              "#46039f"
             ],
             [
              0.2222222222222222,
              "#7201a8"
             ],
             [
              0.3333333333333333,
              "#9c179e"
             ],
             [
              0.4444444444444444,
              "#bd3786"
             ],
             [
              0.5555555555555556,
              "#d8576b"
             ],
             [
              0.6666666666666666,
              "#ed7953"
             ],
             [
              0.7777777777777778,
              "#fb9f3a"
             ],
             [
              0.8888888888888888,
              "#fdca26"
             ],
             [
              1,
              "#f0f921"
             ]
            ],
            "type": "surface"
           }
          ],
          "table": [
           {
            "cells": {
             "fill": {
              "color": "#EBF0F8"
             },
             "line": {
              "color": "white"
             }
            },
            "header": {
             "fill": {
              "color": "#C8D4E3"
             },
             "line": {
              "color": "white"
             }
            },
            "type": "table"
           }
          ]
         },
         "layout": {
          "annotationdefaults": {
           "arrowcolor": "#2a3f5f",
           "arrowhead": 0,
           "arrowwidth": 1
          },
          "autotypenumbers": "strict",
          "coloraxis": {
           "colorbar": {
            "outlinewidth": 0,
            "ticks": ""
           }
          },
          "colorscale": {
           "diverging": [
            [
             0,
             "#8e0152"
            ],
            [
             0.1,
             "#c51b7d"
            ],
            [
             0.2,
             "#de77ae"
            ],
            [
             0.3,
             "#f1b6da"
            ],
            [
             0.4,
             "#fde0ef"
            ],
            [
             0.5,
             "#f7f7f7"
            ],
            [
             0.6,
             "#e6f5d0"
            ],
            [
             0.7,
             "#b8e186"
            ],
            [
             0.8,
             "#7fbc41"
            ],
            [
             0.9,
             "#4d9221"
            ],
            [
             1,
             "#276419"
            ]
           ],
           "sequential": [
            [
             0,
             "#0d0887"
            ],
            [
             0.1111111111111111,
             "#46039f"
            ],
            [
             0.2222222222222222,
             "#7201a8"
            ],
            [
             0.3333333333333333,
             "#9c179e"
            ],
            [
             0.4444444444444444,
             "#bd3786"
            ],
            [
             0.5555555555555556,
             "#d8576b"
            ],
            [
             0.6666666666666666,
             "#ed7953"
            ],
            [
             0.7777777777777778,
             "#fb9f3a"
            ],
            [
             0.8888888888888888,
             "#fdca26"
            ],
            [
             1,
             "#f0f921"
            ]
           ],
           "sequentialminus": [
            [
             0,
             "#0d0887"
            ],
            [
             0.1111111111111111,
             "#46039f"
            ],
            [
             0.2222222222222222,
             "#7201a8"
            ],
            [
             0.3333333333333333,
             "#9c179e"
            ],
            [
             0.4444444444444444,
             "#bd3786"
            ],
            [
             0.5555555555555556,
             "#d8576b"
            ],
            [
             0.6666666666666666,
             "#ed7953"
            ],
            [
             0.7777777777777778,
             "#fb9f3a"
            ],
            [
             0.8888888888888888,
             "#fdca26"
            ],
            [
             1,
             "#f0f921"
            ]
           ]
          },
          "colorway": [
           "#636efa",
           "#EF553B",
           "#00cc96",
           "#ab63fa",
           "#FFA15A",
           "#19d3f3",
           "#FF6692",
           "#B6E880",
           "#FF97FF",
           "#FECB52"
          ],
          "font": {
           "color": "#2a3f5f"
          },
          "geo": {
           "bgcolor": "white",
           "lakecolor": "white",
           "landcolor": "#E5ECF6",
           "showlakes": true,
           "showland": true,
           "subunitcolor": "white"
          },
          "hoverlabel": {
           "align": "left"
          },
          "hovermode": "closest",
          "mapbox": {
           "style": "light"
          },
          "paper_bgcolor": "white",
          "plot_bgcolor": "#E5ECF6",
          "polar": {
           "angularaxis": {
            "gridcolor": "white",
            "linecolor": "white",
            "ticks": ""
           },
           "bgcolor": "#E5ECF6",
           "radialaxis": {
            "gridcolor": "white",
            "linecolor": "white",
            "ticks": ""
           }
          },
          "scene": {
           "xaxis": {
            "backgroundcolor": "#E5ECF6",
            "gridcolor": "white",
            "gridwidth": 2,
            "linecolor": "white",
            "showbackground": true,
            "ticks": "",
            "zerolinecolor": "white"
           },
           "yaxis": {
            "backgroundcolor": "#E5ECF6",
            "gridcolor": "white",
            "gridwidth": 2,
            "linecolor": "white",
            "showbackground": true,
            "ticks": "",
            "zerolinecolor": "white"
           },
           "zaxis": {
            "backgroundcolor": "#E5ECF6",
            "gridcolor": "white",
            "gridwidth": 2,
            "linecolor": "white",
            "showbackground": true,
            "ticks": "",
            "zerolinecolor": "white"
           }
          },
          "shapedefaults": {
           "line": {
            "color": "#2a3f5f"
           }
          },
          "ternary": {
           "aaxis": {
            "gridcolor": "white",
            "linecolor": "white",
            "ticks": ""
           },
           "baxis": {
            "gridcolor": "white",
            "linecolor": "white",
            "ticks": ""
           },
           "bgcolor": "#E5ECF6",
           "caxis": {
            "gridcolor": "white",
            "linecolor": "white",
            "ticks": ""
           }
          },
          "title": {
           "x": 0.05
          },
          "xaxis": {
           "automargin": true,
           "gridcolor": "white",
           "linecolor": "white",
           "ticks": "",
           "title": {
            "standoff": 15
           },
           "zerolinecolor": "white",
           "zerolinewidth": 2
          },
          "yaxis": {
           "automargin": true,
           "gridcolor": "white",
           "linecolor": "white",
           "ticks": "",
           "title": {
            "standoff": 15
           },
           "zerolinecolor": "white",
           "zerolinewidth": 2
          }
         }
        },
        "title": {
         "text": "Number of Phones Released by Brand each Year between 1994 and 2022"
        },
        "width": 1200,
        "xaxis": {
         "anchor": "y",
         "domain": [
          0,
          1
         ],
         "range": [
          1994,
          2022
         ],
         "title": {
          "text": "Release Year"
         }
        },
        "yaxis": {
         "anchor": "x",
         "domain": [
          0,
          1
         ],
         "title": {
          "text": "Count"
         }
        }
       }
      }
     },
     "metadata": {},
     "output_type": "display_data"
    }
   ],
   "source": [
    "import plotly.express as px\n",
    "\n",
    "# Get the phone counts by brand and release year\n",
    "phone_counts = top_brand_data.groupby(['Brand', 'Release_Year']).size().reset_index(name='count')\n",
    "\n",
    "# Create the line plot\n",
    "fig = px.line(phone_counts, x='Release_Year', y='count', color='Brand')\n",
    "\n",
    "# Set the x-axis label\n",
    "fig.update_xaxes(title_text='Release Year')\n",
    "\n",
    "# Set the y-axis label\n",
    "fig.update_yaxes(title_text='Count')\n",
    "\n",
    "# Set the plot title\n",
    "fig.update_layout(title='Number of Phones Released by Brand each Year between 1994 and 2022')\n",
    "\n",
    "\n",
    "\n",
    "# Set the maximum value of the x-axis to 2022\n",
    "fig.update_layout(xaxis=dict(range=[top_brand_data['Release_Year'].min(), 2022]))\n",
    "\n",
    "# Remove the legend\n",
    "fig.update_layout(showlegend=False, height=600, width=1200)\n",
    "\n",
    "# Show the plot\n",
    "fig.show()\n"
   ]
  },
  {
   "cell_type": "code",
   "execution_count": 62,
   "metadata": {},
   "outputs": [
    {
     "data": {
      "application/vnd.jupyter.widget-view+json": {
       "model_id": "b67c33d2169a41a2bcc0ff5190288e3c",
       "version_major": 2,
       "version_minor": 0
      },
      "text/plain": [
       "interactive(children=(SelectMultiple(description='Brand:', index=(0,), options=('AT&T', 'Acer', 'Allview', 'Am…"
      ]
     },
     "metadata": {},
     "output_type": "display_data"
    }
   ],
   "source": [
    "import ipywidgets as widgets\n",
    "from ipywidgets import interact\n",
    "\n",
    "# Get the phone counts by brand and release year\n",
    "phone_counts = top_brand_data.groupby(['Brand', 'Release_Year']).size().reset_index(name='count')\n",
    "\n",
    "# Create a list of all the available brands\n",
    "brands = phone_counts['Brand'].unique().tolist()\n",
    "\n",
    "# Define a function to update the plot based on the selected brand\n",
    "def update_plot(brands):\n",
    "    # Filter the phone counts by the selected brands\n",
    "    brand_counts = phone_counts[phone_counts['Brand'].isin(brands)]\n",
    "    \n",
    "    # Set the size of the figure\n",
    "    plt.figure(figsize=(20,10))\n",
    "\n",
    "    # Create the line plot\n",
    "    sns.set_style('whitegrid')\n",
    "    g = sns.lineplot(x='Release_Year', y='count', hue='Brand', data=brand_counts)\n",
    "\n",
    "    # Set the x-axis label and ticks\n",
    "    g.set(xlabel='Release Year')\n",
    "    g.set(ylabel='Count')\n",
    "    g.set(title=f'Number of Phones Released by {\", \".join(brands)} each Year')\n",
    "    g.set_xticks(range(2010, 2023))\n",
    "\n",
    "    # Show the plot\n",
    "    plt.show()\n",
    "\n",
    "# Create the interactive widget\n",
    "interact(update_plot, brands=widgets.SelectMultiple(options=brands, value=[brands[0]], description='Brand:'));\n"
   ]
  },
  {
   "attachments": {},
   "cell_type": "markdown",
   "metadata": {},
   "source": [
    "* The first graph shows the number of devices each of the brands released over the timeframe covered by the dataset\n",
    "* The second graph allows one to choose the Brands they want to see, since the first graph is somewhat overwhelming"
   ]
  },
  {
   "cell_type": "code",
   "execution_count": 63,
   "metadata": {},
   "outputs": [
    {
     "data": {
      "image/png": "[encoded data removed]",
      "text/plain": [
       "<Figure size 1440x720 with 1 Axes>"
      ]
     },
     "metadata": {},
     "output_type": "display_data"
    }
   ],
   "source": [
    "# Create a pivot table to count the number of models released by each OEM in each year\n",
    "chipset_per_year = pd.pivot_table(top_brand_data, values='Model', index='Brand', columns='Release_Year', aggfunc='count', fill_value=0)\n",
    "\n",
    "# Reindex the pivot table to include all years from 1995 to 2022\n",
    "all_years = pd.Index(range(1994, 2023), name='Year')\n",
    "chipset_per_year = chipset_per_year.reindex(columns=all_years, fill_value=0)\n",
    "\n",
    "# Reset the index to convert the pivot table into a DataFrame\n",
    "chipset_per_year = chipset_per_year.reset_index()\n",
    "\n",
    "# Create a new dataframe to record the changes\n",
    "changes_df = chipset_per_year.copy()\n",
    "\n",
    "# Iterate over each row starting from the second row\n",
    "for i in range(0, len(chipset_per_year)):\n",
    "    # Iterate over each year column starting from the second column\n",
    "    for j in range(2, len(chipset_per_year.columns)):\n",
    "        if j == 0:\n",
    "            continue\n",
    "\n",
    "        prev_value = int(chipset_per_year.iloc[i, j-1])\n",
    "        curr_value = int(chipset_per_year.iloc[i, j])\n",
    "\n",
    "        # Check the conditions and label the changes accordingly\n",
    "        if prev_value == 0 and curr_value > 0:\n",
    "            changes_df.iloc[i, j] = \"entered\"\n",
    "        elif prev_value == 0 and curr_value == 0:\n",
    "            changes_df.iloc[i, j] = \"no change\"\n",
    "        elif prev_value > 0 and curr_value > 0:\n",
    "            changes_df.iloc[i, j] = \"no change\"\n",
    "        elif prev_value > 0 and curr_value == 0:\n",
    "            changes_df.iloc[i, j] = \"exited\"\n",
    "\n",
    "# Compute the counts of entered and exited OEMs\n",
    "entered_counts = changes_df[changes_df == \"entered\"].count()\n",
    "exited_counts = changes_df[changes_df == \"exited\"].count()\n",
    "\n",
    "# Create a bar plot\n",
    "fig, ax = plt.subplots(figsize=(20, 10))\n",
    "exited_counts.plot(kind=\"bar\", color=\"red\", label=\"Exited\", ax=ax)\n",
    "entered_counts.plot(kind=\"bar\", color=\"green\", label=\"Entered\", ax=ax, width=0.3)\n",
    "\n",
    "# Set the plot title and axis labels\n",
    "plt.title(\"Smartphone OEM Turnover\", fontsize=20, weight='bold')\n",
    "plt.xlabel(\"Year\")\n",
    "plt.ylabel(\"Count\")\n",
    "\n",
    "# Add a legend\n",
    "plt.legend()\n",
    "\n",
    "# Display the plot\n",
    "plt.show()"
   ]
  },
  {
   "attachments": {},
   "cell_type": "markdown",
   "metadata": {},
   "source": [
    "* The graph of Smartphone OEM Turnover is particularly interesting\n",
    "* There was a huge growth in the market from 1995 to 2000, and then in 2001 several OEMs exited the market.\n",
    "* The exits in 2001 and 2008-2010 could have been brought about by periods of economic depression\n",
    "* 2006, 2011 and 2011 had the largets number of market entrants.\n",
    "* In recent years, there have consistently been more OEMs exiting the market than entering it.\n",
    "* This is consistent with sales data that shows that a few OEMs like Apple and Samsung account for most of the sales in the smartphone market\n",
    "* This may be pushing out smaller OEMs"
   ]
  },
  {
   "attachments": {},
   "cell_type": "markdown",
   "metadata": {},
   "source": [
    "***** Build *****"
   ]
  },
  {
   "cell_type": "code",
   "execution_count": 64,
   "metadata": {},
   "outputs": [
    {
     "name": "stdout",
     "output_type": "stream",
     "text": [
      "          Brand                Model Released Weight Thickness\n",
      "11080    Archos           50b Cobalt  2017-01  160.0       0.0\n",
      "6943   Micromax  Canvas Play 4G Q469  2015-11  100.0       0.0\n",
      "11081    Archos           55b Cobalt  2017-01  188.0       0.0\n",
      "7945     Lenovo       Yoga Tab 3 Pro  2015-12  666.8       4.7\n",
      "5079       Oppo                   R5  2014-12  155.0       4.9\n",
      "5092       Oppo                  R5s  2015-08  155.0       4.9\n",
      "889        Wiko      Highway Pure 4G  2015-04   98.0       5.1\n",
      "10364       BLU         Vivo Air LTE  2015-09   98.0       5.1\n",
      "4356    QMobile              Noir Z9  2015-07   97.0       5.1\n",
      "10341       BLU             Vivo Air  2015-01   97.0       5.1\n"
     ]
    }
   ],
   "source": [
    "#find the thinnest devices\n",
    "thinnest_devices = cleaned_gsm_arena_data.loc[cleaned_gsm_arena_data['Thickness'] != 'Not Measured', ['Brand', 'Model', 'Released', 'Weight', 'Thickness']]\n",
    "thinnest_devices = thinnest_devices.sort_values('Thickness').head(10)\n",
    "print(thinnest_devices)\n"
   ]
  },
  {
   "cell_type": "code",
   "execution_count": 65,
   "metadata": {},
   "outputs": [
    {
     "name": "stdout",
     "output_type": "stream",
     "text": [
      "          Brand              Model          Released        Weight Thickness\n",
      "4022      Sagem            MY 3078           2002-01          85.0      75.0\n",
      "2755    Samsung               Z110  Not Released Yet         120.0      50.0\n",
      "4061      Sagem            MY V-76           2005-07         104.0      47.0\n",
      "4060      Sagem            MY V-56  Not Released Yet          97.0      46.0\n",
      "4062      Sagem            MY V-85  Not Released Yet         120.0      46.0\n",
      "10750      Bird               S698  Not Released Yet          73.0      44.0\n",
      "5419      Nokia  9000 Communicator           1998-01         397.0      38.0\n",
      "9702   Ericsson             GH 218           1994-01  Not Measured      36.0\n",
      "2288       Sony         CM-DX 1000           1997-01         235.0      32.0\n",
      "9725   Ericsson          R250s PRO           2000-01         330.0      32.0\n"
     ]
    }
   ],
   "source": [
    "#find the thickest devices\n",
    "thickest_devices = cleaned_gsm_arena_data.loc[cleaned_gsm_arena_data['Thickness'] != 'Not Measured', ['Brand', 'Model', 'Released', 'Weight', 'Thickness']]\n",
    "thickest_devices = thickest_devices.sort_values('Thickness', ascending=False).head(10)\n",
    "print(thickest_devices)"
   ]
  },
  {
   "cell_type": "code",
   "execution_count": 66,
   "metadata": {},
   "outputs": [
    {
     "data": {
      "image/png": "[encoded data removed]",
      "text/plain": [
       "<Figure size 1440x720 with 1 Axes>"
      ]
     },
     "metadata": {},
     "output_type": "display_data"
    }
   ],
   "source": [
    "# Filter out devices with measured thickness\n",
    "measured_screen_to_body_ratio = top_brand_data[cleaned_gsm_arena_data['Thickness'] != 'Not Measured']\n",
    "\n",
    "# Convert 'Thickness' column to numeric values\n",
    "measured_screen_to_body_ratio['Thickness'] = pd.to_numeric(measured_screen_to_body_ratio['Thickness'])\n",
    "\n",
    "# Group the data by 'Release_Year' and calculate the average thickness for each year\n",
    "average_thickness_by_year = measured_screen_to_body_ratio.groupby('Release_Year')['Thickness'].mean()\n",
    "\n",
    "# Plot the average thickness over the years\n",
    "plt.figure(figsize=(20, 10))\n",
    "plt.plot(average_thickness_by_year.index, average_thickness_by_year.values, marker='o')\n",
    "\n",
    "# Set the plot title and axis labels\n",
    "plt.title('Average Thickness of Devices Released Each Year', fontsize=20, weight='bold')\n",
    "plt.xlabel('Year')\n",
    "plt.ylabel('Average Thickness')\n",
    "\n",
    "# Show gridlines\n",
    "plt.grid(True)\n",
    "\n",
    "# Display the plot\n",
    "plt.show()\n"
   ]
  },
  {
   "cell_type": "code",
   "execution_count": 67,
   "metadata": {},
   "outputs": [
    {
     "name": "stdout",
     "output_type": "stream",
     "text": [
      "         Brand                          Model Released     Thickness Weight\n",
      "8920    Huawei                 Watch Fit mini  2021-09          11.0   20.0\n",
      "9367     Honor                       Watch ES  2020-09  Not Measured   21.0\n",
      "8879    Huawei                      Watch Fit  2020-09          10.7   21.0\n",
      "3841   Samsung            Galaxy Watch Active  2019-04          10.5   25.0\n",
      "8901    Huawei              Watch Fit Elegant  2021-03          10.7   27.0\n",
      "6608  Motorola                 Moto Watch 100  2021-12          11.9   29.0\n",
      "296        ZTE                Red Magic Watch  2021-03          12.4   30.0\n",
      "297        ZTE                       Watch GT  2021-03          12.4   30.0\n",
      "3848   Samsung  Galaxy Watch Active2 Aluminum  2019-09          10.9   30.0\n",
      "821     Xiaomi                     Poco Watch  2022-04          10.0   31.0\n"
     ]
    }
   ],
   "source": [
    "# Find the lightest devices\n",
    "lightest_devices = cleaned_gsm_arena_data.loc[cleaned_gsm_arena_data['Weight'] != 'Not Measured', ['Brand', 'Model', 'Released', 'Thickness', 'Weight']]\n",
    "lightest_devices = lightest_devices.sort_values('Weight').head(10)\n",
    "print(lightest_devices)\n"
   ]
  },
  {
   "cell_type": "code",
   "execution_count": 68,
   "metadata": {},
   "outputs": [
    {
     "name": "stdout",
     "output_type": "stream",
     "text": [
      "           Brand               Model          Released     Thickness  Weight\n",
      "11430    Allview           Viva Home           2019-07          19.5  2018.3\n",
      "9270          HP            Slate 17           2014-09          15.8  2005.0\n",
      "1709     Toshiba     Excite 13 AT335           2012-07           9.8   998.0\n",
      "4940   Panasonic      Toughpad FZ-A1  Not Released Yet          17.8   952.5\n",
      "4939   Panasonic      Toughpad JT-B1           2012-01  Not Measured   952.5\n",
      "7905      Lenovo   Yoga Tablet 2 Pro           2014-10          12.6   950.0\n",
      "9268          HP  Pro Slate 10 EE G1           2015-01          14.4   855.0\n",
      "9269          HP        Pro Slate 12           2015-01           8.0   850.0\n",
      "8034      Lenovo         Yoga Tab 13           2021-05  Not Measured   830.0\n",
      "8975         HTC               Shift           2008-02          25.0   800.0\n"
     ]
    }
   ],
   "source": [
    "# Find the heaviest devices\n",
    "heaviest_devices = cleaned_gsm_arena_data.loc[cleaned_gsm_arena_data['Weight'] != 'Not Measured', ['Brand', 'Model', 'Released', 'Thickness', 'Weight']]\n",
    "heaviest_devices = heaviest_devices.sort_values('Weight', ascending=False).head(10)\n",
    "print(heaviest_devices)"
   ]
  },
  {
   "cell_type": "code",
   "execution_count": 69,
   "metadata": {},
   "outputs": [
    {
     "data": {
      "image/png": "[encoded data removed]",
      "text/plain": [
       "<Figure size 1440x720 with 1 Axes>"
      ]
     },
     "metadata": {},
     "output_type": "display_data"
    }
   ],
   "source": [
    "# Filter out devices with measured thickness\n",
    "measured_screen_to_body_ratio = top_brand_data[cleaned_gsm_arena_data['Weight'] != 'Not Measured']\n",
    "\n",
    "# Convert 'Thickness' column to numeric values\n",
    "measured_screen_to_body_ratio['Weight'] = pd.to_numeric(measured_screen_to_body_ratio['Weight'])\n",
    "\n",
    "# Group the data by 'Release_Year' and calculate the average thickness for each year\n",
    "average_thickness_by_year = measured_screen_to_body_ratio.groupby('Release_Year')['Weight'].mean()\n",
    "\n",
    "# Plot the average thickness over the years\n",
    "plt.figure(figsize=(20, 10))\n",
    "plt.plot(average_thickness_by_year.index, average_thickness_by_year.values, marker='o')\n",
    "\n",
    "# Set the plot title and axis labels\n",
    "plt.title('Average Weight of Devices Released Each Year', fontsize=20, weight='bold')\n",
    "plt.xlabel('Year')\n",
    "plt.ylabel('Average Weight')\n",
    "\n",
    "# Show gridlines\n",
    "plt.grid(True)\n",
    "\n",
    "# Display the plot\n",
    "plt.show()"
   ]
  },
  {
   "attachments": {},
   "cell_type": "markdown",
   "metadata": {},
   "source": [
    "***** Display *****"
   ]
  },
  {
   "cell_type": "code",
   "execution_count": 70,
   "metadata": {},
   "outputs": [
    {
     "data": {
      "text/html": [
       "<div>\n",
       "<style scoped>\n",
       "    .dataframe tbody tr th:only-of-type {\n",
       "        vertical-align: middle;\n",
       "    }\n",
       "\n",
       "    .dataframe tbody tr th {\n",
       "        vertical-align: top;\n",
       "    }\n",
       "\n",
       "    .dataframe thead th {\n",
       "        text-align: right;\n",
       "    }\n",
       "</style>\n",
       "<table border=\"1\" class=\"dataframe\">\n",
       "  <thead>\n",
       "    <tr style=\"text-align: right;\">\n",
       "      <th></th>\n",
       "      <th>Brand</th>\n",
       "      <th>Display_Type</th>\n",
       "      <th>Display_Brightness</th>\n",
       "      <th>Display_HDR_Capability</th>\n",
       "      <th>Display_Size_(inches)</th>\n",
       "      <th>Screen_To_Body_Ratio_(%)</th>\n",
       "      <th>Display_Aspect_Ratio</th>\n",
       "      <th>Pixel_Density</th>\n",
       "      <th>Display_Protection</th>\n",
       "    </tr>\n",
       "  </thead>\n",
       "  <tbody>\n",
       "    <tr>\n",
       "      <th>0</th>\n",
       "      <td>ZTE</td>\n",
       "      <td>LCD</td>\n",
       "      <td>Not Specified</td>\n",
       "      <td>No HDR</td>\n",
       "      <td>6.26</td>\n",
       "      <td>Not Measured</td>\n",
       "      <td>19:9</td>\n",
       "      <td>403</td>\n",
       "      <td>Corning Gorilla Glass 3</td>\n",
       "    </tr>\n",
       "    <tr>\n",
       "      <th>1</th>\n",
       "      <td>ZTE</td>\n",
       "      <td>LCD</td>\n",
       "      <td>Not Specified</td>\n",
       "      <td>No HDR</td>\n",
       "      <td>6.1</td>\n",
       "      <td>Not Measured</td>\n",
       "      <td>19.5:9</td>\n",
       "      <td>282</td>\n",
       "      <td>no special protection</td>\n",
       "    </tr>\n",
       "    <tr>\n",
       "      <th>2</th>\n",
       "      <td>ZTE</td>\n",
       "      <td>CSTN</td>\n",
       "      <td>Not Specified</td>\n",
       "      <td>No HDR</td>\n",
       "      <td>Not Measured</td>\n",
       "      <td>Not Measured</td>\n",
       "      <td>1:1</td>\n",
       "      <td>Not Measured</td>\n",
       "      <td>no special protection</td>\n",
       "    </tr>\n",
       "    <tr>\n",
       "      <th>3</th>\n",
       "      <td>ZTE</td>\n",
       "      <td>TFT</td>\n",
       "      <td>Not Specified</td>\n",
       "      <td>No HDR</td>\n",
       "      <td>2.0</td>\n",
       "      <td>26.1</td>\n",
       "      <td>Not Measured</td>\n",
       "      <td>141</td>\n",
       "      <td>no special protection</td>\n",
       "    </tr>\n",
       "    <tr>\n",
       "      <th>4</th>\n",
       "      <td>ZTE</td>\n",
       "      <td>TFT</td>\n",
       "      <td>Not Specified</td>\n",
       "      <td>No HDR</td>\n",
       "      <td>2.0</td>\n",
       "      <td>26.1</td>\n",
       "      <td>Not Measured</td>\n",
       "      <td>141</td>\n",
       "      <td>no special protection</td>\n",
       "    </tr>\n",
       "    <tr>\n",
       "      <th>...</th>\n",
       "      <td>...</td>\n",
       "      <td>...</td>\n",
       "      <td>...</td>\n",
       "      <td>...</td>\n",
       "      <td>...</td>\n",
       "      <td>...</td>\n",
       "      <td>...</td>\n",
       "      <td>...</td>\n",
       "      <td>...</td>\n",
       "    </tr>\n",
       "    <tr>\n",
       "      <th>11931</th>\n",
       "      <td>Acer</td>\n",
       "      <td>LCD</td>\n",
       "      <td>Not Specified</td>\n",
       "      <td>No HDR</td>\n",
       "      <td>10.1</td>\n",
       "      <td>68.4</td>\n",
       "      <td>16:10</td>\n",
       "      <td>224</td>\n",
       "      <td>no special protection</td>\n",
       "    </tr>\n",
       "    <tr>\n",
       "      <th>11932</th>\n",
       "      <td>Acer</td>\n",
       "      <td>LCD</td>\n",
       "      <td>Not Specified</td>\n",
       "      <td>No HDR</td>\n",
       "      <td>5.0</td>\n",
       "      <td>65.3</td>\n",
       "      <td>16:9</td>\n",
       "      <td>294</td>\n",
       "      <td>no special protection</td>\n",
       "    </tr>\n",
       "    <tr>\n",
       "      <th>11933</th>\n",
       "      <td>Acer</td>\n",
       "      <td>LCD</td>\n",
       "      <td>Not Specified</td>\n",
       "      <td>No HDR</td>\n",
       "      <td>5.5</td>\n",
       "      <td>71.7</td>\n",
       "      <td>16:9</td>\n",
       "      <td>401</td>\n",
       "      <td>no special protection</td>\n",
       "    </tr>\n",
       "    <tr>\n",
       "      <th>11934</th>\n",
       "      <td>Acer</td>\n",
       "      <td>LCD</td>\n",
       "      <td>Not Specified</td>\n",
       "      <td>No HDR</td>\n",
       "      <td>7.0</td>\n",
       "      <td>69.8</td>\n",
       "      <td>16:9</td>\n",
       "      <td>210</td>\n",
       "      <td>no special protection</td>\n",
       "    </tr>\n",
       "    <tr>\n",
       "      <th>11935</th>\n",
       "      <td>Acer</td>\n",
       "      <td>LCD</td>\n",
       "      <td>Not Specified</td>\n",
       "      <td>No HDR</td>\n",
       "      <td>9.7</td>\n",
       "      <td>71.0</td>\n",
       "      <td>4:3</td>\n",
       "      <td>264</td>\n",
       "      <td>no special protection</td>\n",
       "    </tr>\n",
       "  </tbody>\n",
       "</table>\n",
       "<p>11936 rows × 9 columns</p>\n",
       "</div>"
      ],
      "text/plain": [
       "      Brand Display_Type Display_Brightness Display_HDR_Capability  \\\n",
       "0       ZTE          LCD      Not Specified                 No HDR   \n",
       "1       ZTE          LCD      Not Specified                 No HDR   \n",
       "2       ZTE         CSTN      Not Specified                 No HDR   \n",
       "3       ZTE          TFT      Not Specified                 No HDR   \n",
       "4       ZTE          TFT      Not Specified                 No HDR   \n",
       "...     ...          ...                ...                    ...   \n",
       "11931  Acer          LCD      Not Specified                 No HDR   \n",
       "11932  Acer          LCD      Not Specified                 No HDR   \n",
       "11933  Acer          LCD      Not Specified                 No HDR   \n",
       "11934  Acer          LCD      Not Specified                 No HDR   \n",
       "11935  Acer          LCD      Not Specified                 No HDR   \n",
       "\n",
       "      Display_Size_(inches) Screen_To_Body_Ratio_(%) Display_Aspect_Ratio  \\\n",
       "0                      6.26             Not Measured                 19:9   \n",
       "1                       6.1             Not Measured               19.5:9   \n",
       "2              Not Measured             Not Measured                  1:1   \n",
       "3                       2.0                     26.1         Not Measured   \n",
       "4                       2.0                     26.1         Not Measured   \n",
       "...                     ...                      ...                  ...   \n",
       "11931                  10.1                     68.4                16:10   \n",
       "11932                   5.0                     65.3                 16:9   \n",
       "11933                   5.5                     71.7                 16:9   \n",
       "11934                   7.0                     69.8                 16:9   \n",
       "11935                   9.7                     71.0                  4:3   \n",
       "\n",
       "      Pixel_Density       Display_Protection  \n",
       "0               403  Corning Gorilla Glass 3  \n",
       "1               282    no special protection  \n",
       "2      Not Measured    no special protection  \n",
       "3               141    no special protection  \n",
       "4               141    no special protection  \n",
       "...             ...                      ...  \n",
       "11931           224    no special protection  \n",
       "11932           294    no special protection  \n",
       "11933           401    no special protection  \n",
       "11934           210    no special protection  \n",
       "11935           264    no special protection  \n",
       "\n",
       "[11936 rows x 9 columns]"
      ]
     },
     "execution_count": 70,
     "metadata": {},
     "output_type": "execute_result"
    }
   ],
   "source": [
    "cleaned_gsm_arena_data[['Brand', 'Display_Type',\n",
    "       'Display_Brightness', 'Display_HDR_Capability', 'Display_Size_(inches)',\n",
    "       'Screen_To_Body_Ratio_(%)', 'Display_Aspect_Ratio', 'Pixel_Density',\n",
    "       'Display_Protection']]"
   ]
  },
  {
   "cell_type": "code",
   "execution_count": 71,
   "metadata": {},
   "outputs": [
    {
     "data": {
      "image/png": "[encoded data removed]",
      "text/plain": [
       "<Figure size 1440x720 with 1 Axes>"
      ]
     },
     "metadata": {},
     "output_type": "display_data"
    }
   ],
   "source": [
    "# Exclude rows with \"Not Specified\" display brightness\n",
    "measured_screen_to_body_ratio = top_brand_data[top_brand_data['Display_Brightness'] != 'Not Specified']\n",
    "\n",
    "# Convert display brightness to numeric values\n",
    "measured_screen_to_body_ratio['Display_Brightness'] = pd.to_numeric(measured_screen_to_body_ratio['Display_Brightness'])\n",
    "\n",
    "# Exclude the year 2023\n",
    "measured_screen_to_body_ratio = measured_screen_to_body_ratio[measured_screen_to_body_ratio['Release_Year'] <= 2022]\n",
    "\n",
    "# Group the data by year and calculate the average display brightness\n",
    "avg_brightness_by_year = measured_screen_to_body_ratio.groupby('Release_Year')['Display_Brightness'].mean()\n",
    "\n",
    "# Plotting the line graph\n",
    "plt.figure(figsize=(20, 10))\n",
    "plt.plot(avg_brightness_by_year.index, avg_brightness_by_year.values, marker='o')\n",
    "plt.xlabel('Year')\n",
    "plt.ylabel('Average Display Brightness')\n",
    "plt.title('Average Display Brightness Over Time', fontsize=20, weight='bold')\n",
    "plt.grid(True)\n",
    "plt.show()\n"
   ]
  },
  {
   "cell_type": "code",
   "execution_count": 72,
   "metadata": {},
   "outputs": [
    {
     "data": {
      "image/png": "[encoded data removed]",
      "text/plain": [
       "<Figure size 1440x720 with 1 Axes>"
      ]
     },
     "metadata": {},
     "output_type": "display_data"
    }
   ],
   "source": [
    "# Exclude rows with \"Not Measured\" display size\n",
    "measured_screen_to_body_ratio = top_brand_data[top_brand_data['Display_Size_(inches)'] != 'Not Measured']\n",
    "\n",
    "# Convert display size to numeric values\n",
    "measured_screen_to_body_ratio['Display_Size_(inches)'] = pd.to_numeric(measured_screen_to_body_ratio['Display_Size_(inches)'])\n",
    "\n",
    "# Exclude the year 2023\n",
    "measured_screen_to_body_ratio = measured_screen_to_body_ratio[measured_screen_to_body_ratio['Release_Year'] <= 2022]\n",
    "\n",
    "# Group the data by year and calculate the average display size\n",
    "avg_brightness_by_year = measured_screen_to_body_ratio.groupby('Release_Year')['Display_Size_(inches)'].mean()\n",
    "\n",
    "# Plotting the line graph\n",
    "plt.figure(figsize=(20, 10))\n",
    "plt.plot(avg_brightness_by_year.index, avg_brightness_by_year.values, marker='o')\n",
    "plt.xlabel('Year')\n",
    "plt.ylabel('Average Display Size in Inches')\n",
    "plt.title('Average Display Size Over Time', fontsize=20, weight='bold')\n",
    "plt.grid(True)\n",
    "plt.show()"
   ]
  },
  {
   "cell_type": "code",
   "execution_count": 73,
   "metadata": {},
   "outputs": [
    {
     "data": {
      "image/png": "[encoded data removed]",
      "text/plain": [
       "<Figure size 1440x720 with 1 Axes>"
      ]
     },
     "metadata": {},
     "output_type": "display_data"
    }
   ],
   "source": [
    "# Exclude rows with \"Not Specified\" display brightness\n",
    "measured_screen_to_body_ratio = top_brand_data[top_brand_data['Screen_To_Body_Ratio_(%)'] != 'Not Measured']\n",
    "\n",
    "# Convert display brightness to numeric values\n",
    "measured_screen_to_body_ratio['Screen_To_Body_Ratio_(%)'] = pd.to_numeric(measured_screen_to_body_ratio['Screen_To_Body_Ratio_(%)'])\n",
    "\n",
    "# Exclude the year 2023\n",
    "measured_screen_to_body_ratio = measured_screen_to_body_ratio[measured_screen_to_body_ratio['Release_Year'] <= 2022]\n",
    "\n",
    "# Group the data by year and calculate the average display brightness\n",
    "avg_brightness_by_year = measured_screen_to_body_ratio.groupby('Release_Year')['Screen_To_Body_Ratio_(%)'].mean()\n",
    "\n",
    "# Plotting the line graph\n",
    "plt.figure(figsize=(20, 10))\n",
    "plt.plot(avg_brightness_by_year.index, avg_brightness_by_year.values, marker='o')\n",
    "plt.xlabel('Year')\n",
    "plt.ylabel('Average Screen To Body Ratio')\n",
    "plt.title('Average Screen to Body Ratio Over Time', fontsize=20, weight='bold')\n",
    "plt.grid(True)\n",
    "plt.show()"
   ]
  },
  {
   "cell_type": "code",
   "execution_count": 74,
   "metadata": {},
   "outputs": [
    {
     "data": {
      "image/png": "[encoded data removed]",
      "text/plain": [
       "<Figure size 1440x720 with 1 Axes>"
      ]
     },
     "metadata": {},
     "output_type": "display_data"
    }
   ],
   "source": [
    "# Exclude rows with \"Not Measured\" display PPI\n",
    "measured_pixel_density = top_brand_data[top_brand_data['Pixel_Density'] != 'Not Measured']\n",
    "\n",
    "# Convert display brightness to numeric values\n",
    "measured_pixel_density['Pixel_Density'] = pd.to_numeric(measured_pixel_density['Pixel_Density'])\n",
    "\n",
    "# Exclude the year 2023\n",
    "measured_pixel_density = measured_pixel_density[measured_pixel_density['Release_Year'] <= 2022]\n",
    "\n",
    "# Group the data by year and calculate the average display brightness\n",
    "avg_brightness_by_year = measured_pixel_density.groupby('Release_Year')['Pixel_Density'].mean()\n",
    "\n",
    "# Plotting the line graph\n",
    "plt.figure(figsize=(20, 10))\n",
    "plt.plot(avg_brightness_by_year.index, avg_brightness_by_year.values, marker='o')\n",
    "plt.xlabel('Year')\n",
    "plt.ylabel('Average Display PPI')\n",
    "plt.title('Average Display Pixel Density Over Time', fontsize=20, weight='bold')\n",
    "plt.grid(True)\n",
    "plt.show()"
   ]
  },
  {
   "cell_type": "code",
   "execution_count": 75,
   "metadata": {},
   "outputs": [
    {
     "data": {
      "image/png": "[encoded data removed]",
      "text/plain": [
       "<Figure size 1440x720 with 1 Axes>"
      ]
     },
     "metadata": {},
     "output_type": "display_data"
    }
   ],
   "source": [
    "# Count the number of devices for each brand\n",
    "brand_counts = cleaned_gsm_arena_data['Brand'].value_counts()\n",
    "\n",
    "# Select the top 20 brands with the most number of devices\n",
    "top_brands = brand_counts.head(20)\n",
    "\n",
    "# add Apple and Google to the list of top brands\n",
    "top_brands = top_brands.append(pd.Series({'Apple': 0, 'Google': 0}))\n",
    "\n",
    "# Filter the data for the top brands\n",
    "top_brand_data = cleaned_gsm_arena_data[cleaned_gsm_arena_data['Brand'].isin(top_brands.index)]\n",
    "\n",
    "\n",
    "\n",
    "# Define the columns to compare\n",
    "columns_to_compare = ['Display_Brightness', 'Screen_To_Body_Ratio_(%)', 'Pixel_Density']\n",
    "\n",
    "# Filter out non-numeric and \"Not Specified\" or \"Not Measured\" values\n",
    "numeric_data = top_brand_data.replace(['Not Specified', 'Not Measured'], float('NaN'))\n",
    "numeric_data[columns_to_compare] = numeric_data[columns_to_compare].apply(pd.to_numeric, errors='coerce')\n",
    "\n",
    "# Set the figure size\n",
    "plt.figure(figsize=(20, 10))\n",
    "\n",
    "# Get the number of columns to compare\n",
    "num_columns = len(columns_to_compare)\n",
    "\n",
    "# Set the width of each bar\n",
    "bar_width = 0.8 / num_columns\n",
    "\n",
    "# Filter brands that have non-null values for Display_Brightness\n",
    "valid_brands = numeric_data.dropna(subset=['Display_Brightness'])['Brand'].unique()\n",
    "\n",
    "# Loop through the columns and plot the bar chart for each\n",
    "for i, column in enumerate(columns_to_compare):\n",
    "    # Get the average values for each brand, excluding NaN values\n",
    "    avg_values = numeric_data[numeric_data['Brand'].isin(valid_brands)].groupby('Brand')[column].mean().dropna()\n",
    "    \n",
    "    # Calculate the x positions for the bars\n",
    "    x_pos = np.arange(len(avg_values)) + (i * bar_width) - (0.4 * bar_width)\n",
    "    \n",
    "    # Plot the bars\n",
    "    plt.bar(x_pos, avg_values, width=bar_width, label=column)\n",
    "    \n",
    "# Set the x-axis ticks and labels\n",
    "plt.xticks(np.arange(len(avg_values)), avg_values.index)\n",
    "plt.xlabel('Brand')\n",
    "plt.ylabel('Average Value')\n",
    "plt.title('Comparison of Display Features on Top Brands', fontsize=20, weight='bold')\n",
    "\n",
    "# Add a legend\n",
    "plt.legend()\n",
    "\n",
    "# Show the plot\n",
    "plt.show()\n"
   ]
  },
  {
   "cell_type": "code",
   "execution_count": 76,
   "metadata": {},
   "outputs": [
    {
     "data": {
      "image/png": "[encoded data removed]",
      "text/plain": [
       "<Figure size 1440x720 with 1 Axes>"
      ]
     },
     "metadata": {},
     "output_type": "display_data"
    }
   ],
   "source": [
    "# Filter out non-numeric and \"Not Specified\" or \"Not Measured\" values\n",
    "numeric_data = top_brand_data.replace(['Not Specified', 'Not Measured'], float('NaN'))\n",
    "numeric_data['Display_Size_(inches)'] = numeric_data['Display_Size_(inches)'].apply(pd.to_numeric, errors='coerce')\n",
    "\n",
    "# Set the figure size\n",
    "plt.figure(figsize=(20, 10))\n",
    "\n",
    "# Define the order of brands based on their average screen size\n",
    "brand_order = numeric_data.groupby('Brand')['Display_Size_(inches)'].mean().dropna().sort_values().index\n",
    "\n",
    "# Create the boxplot\n",
    "sns.boxplot(x='Brand', y='Display_Size_(inches)', data=numeric_data, order=brand_order)\n",
    "\n",
    "# Set the x-axis label, y-axis label, and title\n",
    "plt.xlabel('Brand')\n",
    "plt.ylabel('Screen Size (inches)')\n",
    "plt.title('Comparison of Screen Sizes among Top Brands', fontsize=20, weight='bold')\n",
    "\n",
    "# Rotate the x-axis labels for better readability\n",
    "plt.xticks(rotation=45)\n",
    "\n",
    "# Show the plot\n",
    "plt.show()\n"
   ]
  },
  {
   "cell_type": "code",
   "execution_count": 77,
   "metadata": {},
   "outputs": [
    {
     "data": {
      "text/plain": [
       "No HDR    11319\n",
       "HDR10+      334\n",
       "HDR10       230\n",
       "HDR          53\n",
       "Name: Display_HDR_Capability, dtype: int64"
      ]
     },
     "execution_count": 77,
     "metadata": {},
     "output_type": "execute_result"
    }
   ],
   "source": [
    "cleaned_gsm_arena_data['Display_HDR_Capability'].value_counts()"
   ]
  },
  {
   "cell_type": "code",
   "execution_count": 78,
   "metadata": {},
   "outputs": [
    {
     "data": {
      "image/png": "[encoded data removed]",
      "text/plain": [
       "<Figure size 1440x720 with 1 Axes>"
      ]
     },
     "metadata": {},
     "output_type": "display_data"
    }
   ],
   "source": [
    "# Exclude \"No HDR\" values\n",
    "cam_hdr_data = top_brand_data[top_brand_data['Display_HDR_Capability'] != 'No HDR']\n",
    "\n",
    "# Get the counts of each HDR type for each brand\n",
    "cam_hdr_counts = cam_hdr_data.pivot_table(index='Brand', columns='Display_HDR_Capability', aggfunc='size', fill_value=0)\n",
    "\n",
    "# Get the HDR types\n",
    "hdr_types = cam_hdr_counts.columns.tolist()\n",
    "\n",
    "# Set the figure size\n",
    "plt.figure(figsize=(20, 10))\n",
    "\n",
    "# Set the width of each bar\n",
    "bar_width = 0.2\n",
    "\n",
    "# Calculate the x positions for the bars\n",
    "x_pos = np.arange(len(cam_hdr_counts.index))\n",
    "\n",
    "# Loop through the HDR types and plot the bar graphs side by side for each brand\n",
    "for i, hdr_type in enumerate(hdr_types):\n",
    "    # Get the counts for the current HDR type\n",
    "    counts = cam_hdr_counts[hdr_type]\n",
    "    \n",
    "    # Calculate the offset for the current HDR type\n",
    "    offset = (i - 1.5) * bar_width\n",
    "    \n",
    "    # Plot the bar graph for the current HDR type\n",
    "    plt.bar(x_pos + offset, counts.values, width=bar_width, label=hdr_type)\n",
    "\n",
    "# Set the x-axis ticks and labels\n",
    "plt.xticks(x_pos, cam_hdr_counts.index)\n",
    "\n",
    "# Set the x-axis label, y-axis label, and title\n",
    "plt.xlabel('Brand')\n",
    "plt.ylabel('Count')\n",
    "plt.title('Number of HDR Capable Devices released by Top Brands', fontsize=20, weight='bold')\n",
    "\n",
    "# Add a legend\n",
    "plt.legend()\n",
    "\n",
    "# Show the plot\n",
    "plt.show()\n"
   ]
  },
  {
   "cell_type": "code",
   "execution_count": 79,
   "metadata": {},
   "outputs": [
    {
     "ename": "KeyError",
     "evalue": "'Release_Year'",
     "output_type": "error",
     "traceback": [
      "\u001b[1;31m---------------------------------------------------------------------------\u001b[0m",
      "\u001b[1;31mKeyError\u001b[0m                                  Traceback (most recent call last)",
      "File \u001b[1;32mc:\\Users\\alber\\AppData\\Local\\Programs\\Python\\Python310\\lib\\site-packages\\pandas\\core\\indexes\\base.py:3621\u001b[0m, in \u001b[0;36mIndex.get_loc\u001b[1;34m(self, key, method, tolerance)\u001b[0m\n\u001b[0;32m   3620\u001b[0m \u001b[39mtry\u001b[39;00m:\n\u001b[1;32m-> 3621\u001b[0m     \u001b[39mreturn\u001b[39;00m \u001b[39mself\u001b[39;49m\u001b[39m.\u001b[39;49m_engine\u001b[39m.\u001b[39;49mget_loc(casted_key)\n\u001b[0;32m   3622\u001b[0m \u001b[39mexcept\u001b[39;00m \u001b[39mKeyError\u001b[39;00m \u001b[39mas\u001b[39;00m err:\n",
      "File \u001b[1;32mc:\\Users\\alber\\AppData\\Local\\Programs\\Python\\Python310\\lib\\site-packages\\pandas\\_libs\\index.pyx:136\u001b[0m, in \u001b[0;36mpandas._libs.index.IndexEngine.get_loc\u001b[1;34m()\u001b[0m\n",
      "File \u001b[1;32mc:\\Users\\alber\\AppData\\Local\\Programs\\Python\\Python310\\lib\\site-packages\\pandas\\_libs\\index.pyx:163\u001b[0m, in \u001b[0;36mpandas._libs.index.IndexEngine.get_loc\u001b[1;34m()\u001b[0m\n",
      "File \u001b[1;32mpandas\\_libs\\hashtable_class_helper.pxi:5198\u001b[0m, in \u001b[0;36mpandas._libs.hashtable.PyObjectHashTable.get_item\u001b[1;34m()\u001b[0m\n",
      "File \u001b[1;32mpandas\\_libs\\hashtable_class_helper.pxi:5206\u001b[0m, in \u001b[0;36mpandas._libs.hashtable.PyObjectHashTable.get_item\u001b[1;34m()\u001b[0m\n",
      "\u001b[1;31mKeyError\u001b[0m: 'Release_Year'",
      "\nThe above exception was the direct cause of the following exception:\n",
      "\u001b[1;31mKeyError\u001b[0m                                  Traceback (most recent call last)",
      "\u001b[1;32mc:\\Users\\alber\\Documents\\My Personal Projects\\Smartphone-Project\\Overview and Analysis.ipynb Cell 41\u001b[0m in \u001b[0;36m<cell line: 7>\u001b[1;34m()\u001b[0m\n\u001b[0;32m      <a href='vscode-notebook-cell:/c%3A/Users/alber/Documents/My%20Personal%20Projects/Smartphone-Project/Overview%20and%20Analysis.ipynb#X43sZmlsZQ%3D%3D?line=3'>4</a>\u001b[0m protected_data \u001b[39m=\u001b[39m top_brand_data[top_brand_data[\u001b[39m'\u001b[39m\u001b[39mDisplay_Protection\u001b[39m\u001b[39m'\u001b[39m] \u001b[39m!=\u001b[39m \u001b[39m'\u001b[39m\u001b[39mno special protection\u001b[39m\u001b[39m'\u001b[39m]\n\u001b[0;32m      <a href='vscode-notebook-cell:/c%3A/Users/alber/Documents/My%20Personal%20Projects/Smartphone-Project/Overview%20and%20Analysis.ipynb#X43sZmlsZQ%3D%3D?line=5'>6</a>\u001b[0m \u001b[39m# Extract the year from the Release_Year column\u001b[39;00m\n\u001b[1;32m----> <a href='vscode-notebook-cell:/c%3A/Users/alber/Documents/My%20Personal%20Projects/Smartphone-Project/Overview%20and%20Analysis.ipynb#X43sZmlsZQ%3D%3D?line=6'>7</a>\u001b[0m protected_data[\u001b[39m'\u001b[39m\u001b[39mYear\u001b[39m\u001b[39m'\u001b[39m] \u001b[39m=\u001b[39m protected_data[\u001b[39m'\u001b[39;49m\u001b[39mRelease_Year\u001b[39;49m\u001b[39m'\u001b[39;49m]\u001b[39m.\u001b[39mapply(\u001b[39mlambda\u001b[39;00m x: \u001b[39mint\u001b[39m(\u001b[39mstr\u001b[39m(x)[:\u001b[39m4\u001b[39m]))\n\u001b[0;32m      <a href='vscode-notebook-cell:/c%3A/Users/alber/Documents/My%20Personal%20Projects/Smartphone-Project/Overview%20and%20Analysis.ipynb#X43sZmlsZQ%3D%3D?line=8'>9</a>\u001b[0m \u001b[39m# Group by year and calculate the percentage of protected devices\u001b[39;00m\n\u001b[0;32m     <a href='vscode-notebook-cell:/c%3A/Users/alber/Documents/My%20Personal%20Projects/Smartphone-Project/Overview%20and%20Analysis.ipynb#X43sZmlsZQ%3D%3D?line=9'>10</a>\u001b[0m yearly_protection_percentage \u001b[39m=\u001b[39m protected_data\u001b[39m.\u001b[39mgroupby(\u001b[39m'\u001b[39m\u001b[39mYear\u001b[39m\u001b[39m'\u001b[39m)[\u001b[39m'\u001b[39m\u001b[39mDisplay_Protection\u001b[39m\u001b[39m'\u001b[39m]\u001b[39m.\u001b[39mcount() \u001b[39m/\u001b[39m top_brand_data\u001b[39m.\u001b[39mgroupby(\u001b[39m'\u001b[39m\u001b[39mRelease_Year\u001b[39m\u001b[39m'\u001b[39m)[\u001b[39m'\u001b[39m\u001b[39mBrand\u001b[39m\u001b[39m'\u001b[39m]\u001b[39m.\u001b[39mcount() \u001b[39m*\u001b[39m \u001b[39m100\u001b[39m\n",
      "File \u001b[1;32mc:\\Users\\alber\\AppData\\Local\\Programs\\Python\\Python310\\lib\\site-packages\\pandas\\core\\frame.py:3505\u001b[0m, in \u001b[0;36mDataFrame.__getitem__\u001b[1;34m(self, key)\u001b[0m\n\u001b[0;32m   3503\u001b[0m \u001b[39mif\u001b[39;00m \u001b[39mself\u001b[39m\u001b[39m.\u001b[39mcolumns\u001b[39m.\u001b[39mnlevels \u001b[39m>\u001b[39m \u001b[39m1\u001b[39m:\n\u001b[0;32m   3504\u001b[0m     \u001b[39mreturn\u001b[39;00m \u001b[39mself\u001b[39m\u001b[39m.\u001b[39m_getitem_multilevel(key)\n\u001b[1;32m-> 3505\u001b[0m indexer \u001b[39m=\u001b[39m \u001b[39mself\u001b[39;49m\u001b[39m.\u001b[39;49mcolumns\u001b[39m.\u001b[39;49mget_loc(key)\n\u001b[0;32m   3506\u001b[0m \u001b[39mif\u001b[39;00m is_integer(indexer):\n\u001b[0;32m   3507\u001b[0m     indexer \u001b[39m=\u001b[39m [indexer]\n",
      "File \u001b[1;32mc:\\Users\\alber\\AppData\\Local\\Programs\\Python\\Python310\\lib\\site-packages\\pandas\\core\\indexes\\base.py:3623\u001b[0m, in \u001b[0;36mIndex.get_loc\u001b[1;34m(self, key, method, tolerance)\u001b[0m\n\u001b[0;32m   3621\u001b[0m     \u001b[39mreturn\u001b[39;00m \u001b[39mself\u001b[39m\u001b[39m.\u001b[39m_engine\u001b[39m.\u001b[39mget_loc(casted_key)\n\u001b[0;32m   3622\u001b[0m \u001b[39mexcept\u001b[39;00m \u001b[39mKeyError\u001b[39;00m \u001b[39mas\u001b[39;00m err:\n\u001b[1;32m-> 3623\u001b[0m     \u001b[39mraise\u001b[39;00m \u001b[39mKeyError\u001b[39;00m(key) \u001b[39mfrom\u001b[39;00m \u001b[39merr\u001b[39;00m\n\u001b[0;32m   3624\u001b[0m \u001b[39mexcept\u001b[39;00m \u001b[39mTypeError\u001b[39;00m:\n\u001b[0;32m   3625\u001b[0m     \u001b[39m# If we have a listlike key, _check_indexing_error will raise\u001b[39;00m\n\u001b[0;32m   3626\u001b[0m     \u001b[39m#  InvalidIndexError. Otherwise we fall through and re-raise\u001b[39;00m\n\u001b[0;32m   3627\u001b[0m     \u001b[39m#  the TypeError.\u001b[39;00m\n\u001b[0;32m   3628\u001b[0m     \u001b[39mself\u001b[39m\u001b[39m.\u001b[39m_check_indexing_error(key)\n",
      "\u001b[1;31mKeyError\u001b[0m: 'Release_Year'"
     ]
    }
   ],
   "source": [
    "import matplotlib.pyplot as plt\n",
    "\n",
    "# Exclude devices with \"no special protection\"\n",
    "protected_data = top_brand_data[top_brand_data['Display_Protection'] != 'no special protection']\n",
    "\n",
    "# Extract the year from the Release_Year column\n",
    "protected_data['Year'] = protected_data['Release_Year'].apply(lambda x: int(str(x)[:4]))\n",
    "\n",
    "# Group by year and calculate the percentage of protected devices\n",
    "yearly_protection_percentage = protected_data.groupby('Year')['Display_Protection'].count() / top_brand_data.groupby('Release_Year')['Brand'].count() * 100\n",
    "\n",
    "# Exclude 2022 data\n",
    "yearly_protection_percentage = yearly_protection_percentage[yearly_protection_percentage.index < 2022]\n",
    "\n",
    "# Plot the line graph\n",
    "plt.figure(figsize=(20, 10))\n",
    "plt.plot(yearly_protection_percentage.index, yearly_protection_percentage.values, marker='o')\n",
    "\n",
    "# Set the x-axis and y-axis labels\n",
    "plt.xlabel('Year')\n",
    "plt.ylabel('Percentage of Devices with Protection')\n",
    "\n",
    "# Set the title\n",
    "plt.title('Percentage of Devices with some Display Protection Over Time', fontsize=20, weight='bold')\n",
    "\n",
    "# Show the plot\n",
    "plt.show()\n"
   ]
  },
  {
   "cell_type": "code",
   "execution_count": null,
   "metadata": {},
   "outputs": [],
   "source": [
    "# Group the data by year and display type and calculate the count\n",
    "os_counts = top_brand_data.groupby(['Release_Year', 'Display_Type'])['Brand'].count().unstack()\n",
    "\n",
    "# Exclude the \"Not Specified\" display type\n",
    "os_counts = os_counts.drop('Not Specified', axis=1)\n",
    "\n",
    "# Create the figure and axes\n",
    "fig, ax = plt.subplots(figsize=(20, 10))\n",
    "\n",
    "# Create the stacked area plot\n",
    "os_counts.plot(kind='area', stacked=True, cmap='tab20', ax=ax)\n",
    "\n",
    "# Set the x-axis and y-axis labels\n",
    "ax.set_xlabel('Year')\n",
    "ax.set_ylabel('Number of Devices')\n",
    "\n",
    "# Set the title\n",
    "ax.set_title('Evolution of Display Types Over Time', fontsize=20, weight='bold')\n",
    "\n",
    "# Move the legend outside the plot to the right\n",
    "ax.legend(loc='center left', bbox_to_anchor=(1, 0.5))\n",
    "\n",
    "# Show the plot\n",
    "plt.show()\n"
   ]
  },
  {
   "attachments": {},
   "cell_type": "markdown",
   "metadata": {},
   "source": [
    "***** Cameras *****"
   ]
  },
  {
   "cell_type": "code",
   "execution_count": null,
   "metadata": {},
   "outputs": [],
   "source": [
    "cleaned_gsm_arena_data.columns"
   ]
  },
  {
   "cell_type": "code",
   "execution_count": null,
   "metadata": {},
   "outputs": [],
   "source": [
    "top_brand_data['Number_of_Rear_Cameras'].value_counts()"
   ]
  },
  {
   "cell_type": "code",
   "execution_count": null,
   "metadata": {},
   "outputs": [],
   "source": [
    "# Group the data by year and calculate the average number of rear cameras\n",
    "average_cameras_per_year = top_brand_data.groupby('Release_Year')['Number_of_Rear_Cameras'].mean()\n",
    "\n",
    "# Create a line plot\n",
    "plt.figure(figsize=(20, 10))\n",
    "plt.plot(average_cameras_per_year.index, average_cameras_per_year.values)\n",
    "\n",
    "# Set the x-axis and y-axis labels\n",
    "plt.xlabel('Year')\n",
    "plt.ylabel('Average Number of Rear Cameras')\n",
    "\n",
    "# Set the title\n",
    "plt.title('Average Number of Rear Cameras per Year', fontsize=20, weight='bold')\n",
    "\n",
    "# Show the plot\n",
    "plt.show()\n"
   ]
  },
  {
   "cell_type": "code",
   "execution_count": null,
   "metadata": {},
   "outputs": [],
   "source": [
    "# Create a boxplot for each year\n",
    "plt.figure(figsize=(20, 10))\n",
    "sns.boxplot(data=top_brand_data, x='Release_Year', y='Number_of_Rear_Cameras')\n",
    "\n",
    "# Set the x-axis and y-axis labels\n",
    "plt.xlabel('Year')\n",
    "plt.ylabel('Number of Rear Cameras')\n",
    "\n",
    "# Set the title\n",
    "plt.title('Distribution of Rear Cameras by Year', fontsize=20, weight='bold')\n",
    "\n",
    "# Rotate x-axis labels for better readability\n",
    "plt.xticks(rotation=45)\n",
    "\n",
    "# Show the plot\n",
    "plt.show()\n"
   ]
  },
  {
   "cell_type": "code",
   "execution_count": null,
   "metadata": {},
   "outputs": [],
   "source": [
    "import seaborn as sns\n",
    "\n",
    "# Convert \"VGA\" to 0.3 and \"no camera\" to 0\n",
    "top_brand_data['Highest_Camera_Resolution'] = top_brand_data['Highest_Camera_Resolution'].replace({'VGA': 0.3, 'no camera': 0})\n",
    "\n",
    "# Convert the column to numeric type\n",
    "top_brand_data['Highest_Camera_Resolution'] = pd.to_numeric(top_brand_data['Highest_Camera_Resolution'])\n",
    "\n",
    "# Calculate the average camera resolution per year\n",
    "average_resolution_per_year = top_brand_data.groupby('Release_Year')['Highest_Camera_Resolution'].mean()\n",
    "\n",
    "# Create a line plot of average camera resolution per year\n",
    "plt.figure(figsize=(20, 10))\n",
    "plt.plot(average_resolution_per_year.index, average_resolution_per_year.values, marker='o')\n",
    "\n",
    "# Set the x-axis and y-axis labels\n",
    "plt.xlabel('Year')\n",
    "plt.ylabel('Average Camera Resolution')\n",
    "\n",
    "# Set the title\n",
    "plt.title('Average Rear Camera Resolution per Year in Megapixels', fontsize=20, weight='bold')\n",
    "\n",
    "# Rotate x-axis labels for better readability\n",
    "plt.xticks(rotation=45)\n",
    "\n",
    "# Show the plot\n",
    "plt.show()\n",
    "\n",
    "# Create boxplots of camera resolutions per year\n",
    "plt.figure(figsize=(20, 10))\n",
    "sns.boxplot(data=top_brand_data, x='Release_Year', y='Highest_Camera_Resolution')\n",
    "\n",
    "# Set the x-axis and y-axis labels\n",
    "plt.xlabel('Year')\n",
    "plt.ylabel('Camera Resolution')\n",
    "\n",
    "# Set the title\n",
    "plt.title('Rear Camera Resolution per Year in Megapixels', fontsize=20, weight='bold')\n",
    "\n",
    "# Rotate x-axis labels for better readability\n",
    "plt.xticks(rotation=45)\n",
    "\n",
    "# Show the plot\n",
    "plt.show()\n"
   ]
  },
  {
   "cell_type": "code",
   "execution_count": null,
   "metadata": {},
   "outputs": [],
   "source": [
    "# filter out data after 2022\n",
    "cam_hdr_data = top_brand_data[top_brand_data['Release_Year'] <= 2022]\n",
    "\n",
    "# Group the data by year and calculate the percentage of HDR capable devices\n",
    "cam_hdr_percentage = cam_hdr_data.groupby('Release_Year')['HDR'].apply(lambda x: (x != 'no HDR').sum() / len(x) * 100)\n",
    "\n",
    "# Set the figure size\n",
    "plt.figure(figsize=(20, 10))\n",
    "\n",
    "# Set the width of each bar\n",
    "bar_width = 0.2\n",
    "\n",
    "# Calculate the x positions for the bars\n",
    "x_pos = np.arange(len(cam_hdr_percentage.index))\n",
    "\n",
    "# Plot the bar graph for HDR percentages\n",
    "plt.bar(x_pos, cam_hdr_percentage.values, width=bar_width)\n",
    "\n",
    "# Set the x-axis ticks and labels\n",
    "plt.xticks(x_pos, cam_hdr_percentage.index)\n",
    "\n",
    "# Set the x-axis label, y-axis label, and title\n",
    "plt.xlabel('Year')\n",
    "plt.ylabel('Percentage of HDR Capable Devices')\n",
    "plt.title('Percentage of HDR Capable Devices Released Each Year', fontsize=20, weight='bold')\n",
    "\n",
    "# Show the plot\n",
    "plt.show()\n"
   ]
  },
  {
   "cell_type": "code",
   "execution_count": null,
   "metadata": {},
   "outputs": [],
   "source": [
    "# Create a boxplot for each year\n",
    "plt.figure(figsize=(20, 10))\n",
    "sns.boxplot(data=top_brand_data, x='Release_Year', y='Number_of_Selfie_Cameras')\n",
    "\n",
    "# Set the x-axis and y-axis labels\n",
    "plt.xlabel('Year')\n",
    "plt.ylabel('Number of Selfie Cameras')\n",
    "\n",
    "# Set the title\n",
    "plt.title('Distribution of Selfie Cameras by Year', fontsize=20, weight='bold')\n",
    "\n",
    "# Rotate x-axis labels for better readability\n",
    "plt.xticks(rotation=45)\n",
    "\n",
    "# Show the plot\n",
    "plt.show()\n"
   ]
  },
  {
   "attachments": {},
   "cell_type": "markdown",
   "metadata": {},
   "source": [
    "***** OS + Chipset *****"
   ]
  },
  {
   "cell_type": "code",
   "execution_count": null,
   "metadata": {},
   "outputs": [],
   "source": [
    "# Group the data by year and display type and calculate the count\n",
    "os_data = top_brand_data[top_brand_data['Release_Year'] <= 2022]\n",
    "os_counts = os_data.groupby(['Release_Year', 'Mobile_OS'])['Mobile_OS'].count().unstack()\n",
    "\n",
    "# Exclude the \"Not Specified\" display type\n",
    "os_counts = os_counts.drop('unspecified', axis=1)\n",
    "\n",
    "# Create the figure and axes\n",
    "fig, ax = plt.subplots(figsize=(20, 10))\n",
    "\n",
    "# Create the stacked area plot\n",
    "os_counts.plot(kind='area', stacked=True, cmap='Set1', ax=ax)\n",
    "\n",
    "# Set the x-axis and y-axis labels\n",
    "ax.set_xlabel('Year')\n",
    "ax.set_ylabel('Number of Devices')\n",
    "\n",
    "# Set the title\n",
    "ax.set_title('Evolution of Mobile OSs Over Time', fontsize=20, weight='bold')\n",
    "\n",
    "# Move the legend outside the plot to the right\n",
    "ax.legend(loc='center left', bbox_to_anchor=(1, 0.5))\n",
    "\n",
    "# Show the plot\n",
    "plt.show()\n"
   ]
  },
  {
   "cell_type": "code",
   "execution_count": null,
   "metadata": {},
   "outputs": [],
   "source": [
    "# Create a pivot table to count the number of models released for each Mobile OS in each year\n",
    "chipset_per_year = pd.pivot_table(top_brand_data, values='Model', index='Mobile_OS', columns='Release_Year', aggfunc='count', fill_value=0)\n",
    "\n",
    "# Reindex the pivot table to include all years from 1995 to 2022\n",
    "all_years = pd.Index(range(1994, 2023), name='Year')\n",
    "chipset_per_year = chipset_per_year.reindex(columns=all_years, fill_value=0)\n",
    "\n",
    "# Reset the index to convert the pivot table into a DataFrame\n",
    "chipset_per_year = chipset_per_year.reset_index()\n",
    "\n",
    "# Create a new dataframe to record the changes\n",
    "changes_df = chipset_per_year.copy()\n",
    "\n",
    "# Iterate over each row starting from the second row\n",
    "for i in range(0, len(chipset_per_year)):\n",
    "    # Iterate over each year column starting from the second column\n",
    "    for j in range(2, len(chipset_per_year.columns)):\n",
    "        if j == 0:\n",
    "            continue\n",
    "\n",
    "        prev_value = int(chipset_per_year.iloc[i, j-1])\n",
    "        curr_value = int(chipset_per_year.iloc[i, j])\n",
    "\n",
    "        # Check the conditions and label the changes accordingly\n",
    "        if prev_value == 0 and curr_value > 0:\n",
    "            changes_df.iloc[i, j] = \"entered\"\n",
    "        elif prev_value == 0 and curr_value == 0:\n",
    "            changes_df.iloc[i, j] = \"no change\"\n",
    "        elif prev_value > 0 and curr_value > 0:\n",
    "            changes_df.iloc[i, j] = \"no change\"\n",
    "        elif prev_value > 0 and curr_value == 0:\n",
    "            changes_df.iloc[i, j] = \"exited\"\n",
    "\n",
    "# Compute the counts of entered and exited Mobile OSs\n",
    "entered_counts = changes_df[changes_df == \"entered\"].count()\n",
    "exited_counts = changes_df[changes_df == \"exited\"].count()\n",
    "\n",
    "# Create a bar plot\n",
    "fig, ax = plt.subplots(figsize=(20, 10))\n",
    "exited_counts.plot(kind=\"bar\", color=\"red\", label=\"Exited\", ax=ax)\n",
    "entered_counts.plot(kind=\"bar\", color=\"green\", label=\"Entered\", ax=ax, width=0.3)\n",
    "\n",
    "# Set the plot title and axis labels\n",
    "plt.title(\"Mobile OS Turnover\", fontsize=20, weight='bold')\n",
    "plt.xlabel(\"Year\")\n",
    "plt.ylabel(\"Count\")\n",
    "\n",
    "# Add a legend\n",
    "plt.legend()\n",
    "\n",
    "# Display the plot\n",
    "plt.show()\n"
   ]
  },
  {
   "cell_type": "code",
   "execution_count": null,
   "metadata": {},
   "outputs": [],
   "source": [
    "cleaned_gsm_arena_data['Mobile_OS_Version'].value_counts()"
   ]
  },
  {
   "cell_type": "code",
   "execution_count": null,
   "metadata": {},
   "outputs": [],
   "source": [
    "# Group the data by year and display type and calculate the count\n",
    "chipset_data = top_brand_data[top_brand_data['Release_Year'] <= 2022]\n",
    "chipset_counts = chipset_data.groupby(['Release_Year', 'Chipset_Maker'])['Chipset_Maker'].count().unstack()\n",
    "\n",
    "# Exclude the \"Not Specified\" display type\n",
    "chipset_counts = chipset_counts.drop('unspecified', axis=1)\n",
    "\n",
    "# Create the figure and axes\n",
    "fig, ax = plt.subplots(figsize=(20, 10))\n",
    "\n",
    "# Create the stacked area plot\n",
    "chipset_counts.plot(kind='area', stacked=True, cmap='Set1', ax=ax)\n",
    "\n",
    "# Set the x-axis and y-axis labels\n",
    "ax.set_xlabel('Year')\n",
    "ax.set_ylabel('Number of Devices')\n",
    "\n",
    "# Set the title\n",
    "ax.set_title('Evolution of Mobile Chipset Makers Over Time', fontsize=20, weight='bold')\n",
    "\n",
    "# Move the legend outside the plot to the right\n",
    "ax.legend(loc='center left', bbox_to_anchor=(1, 0.5))\n",
    "\n",
    "# Show the plot\n",
    "plt.show()"
   ]
  },
  {
   "cell_type": "code",
   "execution_count": null,
   "metadata": {},
   "outputs": [],
   "source": [
    "# Create a pivot table to count the number of models released for each Mobile OS in each year\n",
    "chipset_per_year = pd.pivot_table(top_brand_data, values='Model', index='Chipset_Maker', columns='Release_Year', aggfunc='count', fill_value=0)\n",
    "\n",
    "# Reindex the pivot table to include all years from 1995 to 2022\n",
    "all_years = pd.Index(range(1994, 2023), name='Year')\n",
    "chipset_per_year = chipset_per_year.reindex(columns=all_years, fill_value=0)\n",
    "\n",
    "# Reset the index to convert the pivot table into a DataFrame\n",
    "chipset_per_year = chipset_per_year.reset_index()\n",
    "\n",
    "# Create a new dataframe to record the changes\n",
    "changes_df = chipset_per_year.copy()\n",
    "\n",
    "# Iterate over each row starting from the second row\n",
    "for i in range(0, len(chipset_per_year)):\n",
    "    # Iterate over each year column starting from the second column\n",
    "    for j in range(2, len(chipset_per_year.columns)):\n",
    "        if j == 0:\n",
    "            continue\n",
    "\n",
    "        prev_value = int(chipset_per_year.iloc[i, j-1])\n",
    "        curr_value = int(chipset_per_year.iloc[i, j])\n",
    "\n",
    "        # Check the conditions and label the changes accordingly\n",
    "        if prev_value == 0 and curr_value > 0:\n",
    "            changes_df.iloc[i, j] = \"entered\"\n",
    "        elif prev_value == 0 and curr_value == 0:\n",
    "            changes_df.iloc[i, j] = \"no change\"\n",
    "        elif prev_value > 0 and curr_value > 0:\n",
    "            changes_df.iloc[i, j] = \"no change\"\n",
    "        elif prev_value > 0 and curr_value == 0:\n",
    "            changes_df.iloc[i, j] = \"exited\"\n",
    "\n",
    "# Compute the counts of entered and exited Mobile OSs\n",
    "entered_counts = changes_df[changes_df == \"entered\"].count()\n",
    "exited_counts = changes_df[changes_df == \"exited\"].count()\n",
    "\n",
    "# Create a bar plot\n",
    "fig, ax = plt.subplots(figsize=(20, 10))\n",
    "exited_counts.plot(kind=\"bar\", color=\"red\", label=\"Exited\", ax=ax)\n",
    "entered_counts.plot(kind=\"bar\", color=\"green\", label=\"Entered\", ax=ax, width=0.3)\n",
    "\n",
    "# Set the plot title and axis labels\n",
    "plt.title(\"Chipset Maker Turnover over Time\", fontsize=20, weight='bold')\n",
    "plt.xlabel(\"Year\")\n",
    "plt.ylabel(\"Count\")\n",
    "\n",
    "# Add a legend\n",
    "plt.legend()\n",
    "\n",
    "# Display the plot\n",
    "plt.show()\n"
   ]
  },
  {
   "cell_type": "code",
   "execution_count": null,
   "metadata": {},
   "outputs": [],
   "source": [
    "# Filter the DataFrame to exclude 0 values and data for the year 2023\n",
    "filtered_df5 = top_brand_data[(top_brand_data['Fabrication_Process'] != 0) & (top_brand_data['Release_Year'] <= 2022)]\n",
    "\n",
    "# Calculate the average Fabrication Process per year\n",
    "avg_battery_capacity = filtered_df5.groupby('Release_Year')['Fabrication_Process'].mean()\n",
    "\n",
    "# Create the line plot\n",
    "plt.figure(figsize=(20, 10))\n",
    "plt.plot(avg_battery_capacity.index, avg_battery_capacity.values, marker='o')\n",
    "\n",
    "# Set the x-axis ticks and labels\n",
    "plt.xticks(avg_battery_capacity.index)\n",
    "\n",
    "# Set the x-axis label, y-axis label, and title\n",
    "plt.xlabel('Year')\n",
    "plt.ylabel('Average Fabrication Process')\n",
    "plt.title('Average Fabrication Process per Year in nm', fontsize=20, weight='bold')\n",
    "\n",
    "# Show the plot\n",
    "plt.show()\n"
   ]
  },
  {
   "cell_type": "code",
   "execution_count": null,
   "metadata": {},
   "outputs": [],
   "source": [
    "# Filter the DataFrame to exclude 0 values and data for the year 2023\n",
    "filtered_df5 = top_brand_data[(top_brand_data['Number_of_CPU_Cores'] != 'Unspecified') & (top_brand_data['Release_Year'] <= 2022)]\n",
    "\n",
    "# Calculate the average Fabrication Process per year\n",
    "avg_battery_capacity = filtered_df5.groupby('Release_Year')['Number_of_CPU_Cores'].mean()\n",
    "\n",
    "# Create the line plot\n",
    "plt.figure(figsize=(20, 10))\n",
    "plt.plot(avg_battery_capacity.index, avg_battery_capacity.values, marker='o')\n",
    "\n",
    "# Set the x-axis ticks and labels\n",
    "plt.xticks(avg_battery_capacity.index)\n",
    "\n",
    "# Set the x-axis label, y-axis label, and title\n",
    "plt.xlabel('Year')\n",
    "plt.ylabel('Average Number of CPU Cores')\n",
    "plt.title('Average Number of CPU Cores per Year', fontsize=20, weight='bold')\n",
    "\n",
    "# Show the plot\n",
    "plt.show()"
   ]
  },
  {
   "cell_type": "code",
   "execution_count": null,
   "metadata": {},
   "outputs": [],
   "source": [
    "# Exclude \"unspecified\" values, data for the year 2023, and values above 10\n",
    "filtered_df = top_brand_data[(top_brand_data['CPU_Performance_Core_Frequency'] != 'unspecified') & \n",
    "                  (top_brand_data['Release_Year'] <= 2022) & \n",
    "                  (pd.to_numeric(top_brand_data['CPU_Performance_Core_Frequency'], errors='coerce') <= 10)]\n",
    "\n",
    "# Convert the CPU_Performance_Core_Frequency column to numeric\n",
    "filtered_df['CPU_Performance_Core_Frequency'] = pd.to_numeric(filtered_df['CPU_Performance_Core_Frequency'], errors='coerce')\n",
    "\n",
    "# Create boxplots for each year\n",
    "plt.figure(figsize=(20, 10))\n",
    "sns.boxplot(data=filtered_df, x='Release_Year', y='CPU_Performance_Core_Frequency')\n",
    "\n",
    "# Set the x-axis label, y-axis label, and title\n",
    "plt.xlabel('Year')\n",
    "plt.ylabel('CPU Performance Core Frequency in GHz')\n",
    "plt.title('Distribution of CPU Performance Core Frequency by Year', fontsize=20, weight='bold')\n",
    "\n",
    "# Rotate the x-axis labels for better visibility\n",
    "plt.xticks(rotation=45)\n",
    "\n",
    "# Show the plot\n",
    "plt.show()\n"
   ]
  },
  {
   "cell_type": "code",
   "execution_count": null,
   "metadata": {},
   "outputs": [],
   "source": [
    "# Exclude \"unspecified\" values, data for the year 2023, and values above 10\n",
    "filtered_df = top_brand_data[(top_brand_data['CPU_Efficiency_Core_Frequency'] != 'unspecified') & \n",
    "                  (top_brand_data['CPU_Performance_Core_Frequency'] != 'unspecified') & \n",
    "                  (top_brand_data['Release_Year'] <= 2022) & \n",
    "                  (pd.to_numeric(top_brand_data['CPU_Efficiency_Core_Frequency'], errors='coerce') <= 10) & \n",
    "                  (pd.to_numeric(top_brand_data['CPU_Performance_Core_Frequency'], errors='coerce') <= 10)]\n",
    "\n",
    "# Convert the CPU_Efficiency_Core_Frequency and CPU_Performance_Core_Frequency columns to numeric\n",
    "filtered_df['CPU_Efficiency_Core_Frequency'] = pd.to_numeric(filtered_df['CPU_Efficiency_Core_Frequency'], errors='coerce')\n",
    "filtered_df['CPU_Performance_Core_Frequency'] = pd.to_numeric(filtered_df['CPU_Performance_Core_Frequency'], errors='coerce')\n",
    "\n",
    "# Calculate the average values per year\n",
    "average_efficiency_freq = filtered_df.groupby('Release_Year')['CPU_Efficiency_Core_Frequency'].mean()\n",
    "average_performance_freq = filtered_df.groupby('Release_Year')['CPU_Performance_Core_Frequency'].mean()\n",
    "\n",
    "# Plot the average CPU efficiency core frequency\n",
    "plt.figure(figsize=(20, 10))\n",
    "sns.lineplot(data=average_efficiency_freq, marker='o', label='CPU Efficiency Core Frequency')\n",
    "\n",
    "# Plot the average CPU performance core frequency\n",
    "sns.lineplot(data=average_performance_freq, marker='o', label='CPU Performance Core Frequency')\n",
    "\n",
    "# Set the x-axis label, y-axis label, and title\n",
    "plt.xlabel('Year')\n",
    "plt.ylabel('Frequency (GHz)')\n",
    "plt.title('Average CPU Efficiency and Performance Core Frequency per Year', fontsize=20, weight='bold')\n",
    "\n",
    "# Show the legend\n",
    "plt.legend()\n",
    "\n",
    "# Show the plot\n",
    "plt.show()\n"
   ]
  },
  {
   "cell_type": "code",
   "execution_count": null,
   "metadata": {},
   "outputs": [],
   "source": [
    "# Exclude \"unspecified\" values, data for the year 2023, and values above 10\n",
    "filtered_df = top_brand_data[(top_brand_data['ROM'] != 'unspecified') & \n",
    "                  (top_brand_data['Release_Year'] <= 2022)]\n",
    "#& \n",
    " #                 (pd.to_numeric(df['CPU_Performance_Core_Frequency'], errors='coerce') <= 10)]\n",
    "\n",
    "# Convert the CPU_Performance_Core_Frequency column to numeric\n",
    "filtered_df['ROM'] = pd.to_numeric(filtered_df['ROM'], errors='coerce')\n",
    "\n",
    "# Create boxplots for each year\n",
    "plt.figure(figsize=(20, 10))\n",
    "sns.boxplot(data=filtered_df, x='Release_Year', y='ROM')\n",
    "\n",
    "# Set the x-axis label, y-axis label, and title\n",
    "plt.xlabel('Year')\n",
    "plt.ylabel('ROM in GB')\n",
    "plt.title('Distribution of ROM Capacity by Year', fontsize=20, weight='bold')\n",
    "\n",
    "# Rotate the x-axis labels for better visibility\n",
    "plt.xticks(rotation=45)\n",
    "\n",
    "# Show the plot\n",
    "plt.show()"
   ]
  },
  {
   "cell_type": "code",
   "execution_count": null,
   "metadata": {},
   "outputs": [],
   "source": [
    "# Exclude \"unspecified\" values, data for the year 2023, and values above 10\n",
    "filtered_df = top_brand_data[(top_brand_data['RAM'] != 'unspecified') & \n",
    "                  (top_brand_data['Release_Year'] <= 2022)]\n",
    "#& \n",
    " #                 (pd.to_numeric(df['CPU_Performance_Core_Frequency'], errors='coerce') <= 10)]\n",
    "\n",
    "# Convert the CPU_Performance_Core_Frequency column to numeric\n",
    "filtered_df['RAM'] = pd.to_numeric(filtered_df['RAM'], errors='coerce')\n",
    "\n",
    "# Create boxplots for each year\n",
    "plt.figure(figsize=(20, 10))\n",
    "sns.boxplot(data=filtered_df, x='Release_Year', y='RAM')\n",
    "\n",
    "# Set the x-axis label, y-axis label, and title\n",
    "plt.xlabel('Year')\n",
    "plt.ylabel('RAM in GB')\n",
    "plt.title('Distribution of RAM Capacity by Year', fontsize=20, weight='bold')\n",
    "\n",
    "# Rotate the x-axis labels for better visibility\n",
    "plt.xticks(rotation=45)\n",
    "\n",
    "# Show the plot\n",
    "plt.show()"
   ]
  },
  {
   "cell_type": "code",
   "execution_count": null,
   "metadata": {},
   "outputs": [],
   "source": [
    "# Group the data by year and display type and calculate the count\n",
    "chipset_data = top_brand_data[top_brand_data['Release_Year'] <= 2022]\n",
    "chipset_counts = chipset_data.groupby(['Release_Year', 'SD Card Slot'])['SD Card Slot'].count().unstack()\n",
    "\n",
    "# Exclude the \"Not Specified\" display type\n",
    "#chipset_counts = chipset_counts.drop('unspecified', axis=1)\n",
    "\n",
    "# Create the figure and axes\n",
    "fig, ax = plt.subplots(figsize=(20, 10))\n",
    "\n",
    "# Create the stacked area plot\n",
    "chipset_counts.plot(kind='area', stacked=True, cmap='Set1', ax=ax)\n",
    "\n",
    "# Set the x-axis and y-axis labels\n",
    "ax.set_xlabel('Year')\n",
    "ax.set_ylabel('Number of Devices')\n",
    "\n",
    "# Set the title\n",
    "ax.set_title('Evolution of Memory Expansion Slot Over Time', fontsize=20, weight='bold')\n",
    "\n",
    "# Move the legend outside the plot to the right\n",
    "ax.legend(loc='center left', bbox_to_anchor=(1, 0.5))\n",
    "\n",
    "# Show the plot\n",
    "plt.show()"
   ]
  },
  {
   "attachments": {},
   "cell_type": "markdown",
   "metadata": {},
   "source": [
    "***** Battery *****"
   ]
  },
  {
   "cell_type": "code",
   "execution_count": null,
   "metadata": {},
   "outputs": [],
   "source": [
    "top_brand_data['Removable'].value_counts()"
   ]
  },
  {
   "cell_type": "code",
   "execution_count": null,
   "metadata": {},
   "outputs": [],
   "source": [
    "# Exclude the year 2023\n",
    "filtered_df = top_brand_data[top_brand_data['Release_Year'] != 2023]\n",
    "\n",
    "# Filter the dataframe for Li-Ion and Li-Po battery types\n",
    "yes_counts = filtered_df[filtered_df['Battery_Type'] == 'Li-Ion']['Release_Year'].value_counts().sort_index()\n",
    "no_counts = filtered_df[filtered_df['Battery_Type'] == 'Li-Po']['Release_Year'].value_counts().sort_index()\n",
    "\n",
    "# Plot the count of Li-Ion battery devices released in each year\n",
    "plt.figure(figsize=(20, 10))\n",
    "yes_counts.plot(marker='o', label='Li-Ion')\n",
    "\n",
    "# Plot the count of Li-Po battery devices released in each year\n",
    "no_counts.plot(marker='o', label='Li-Po')\n",
    "\n",
    "# Set the x-axis label, y-axis label, and title\n",
    "plt.xlabel('Year')\n",
    "plt.ylabel('Count')\n",
    "plt.title('Count of Li-Ion and Li-Po Battery Devices Released per Year', fontsize=20, weight='bold')\n",
    "\n",
    "# Show the legend\n",
    "plt.legend()\n",
    "\n",
    "# Show the plot\n",
    "plt.show()\n"
   ]
  },
  {
   "cell_type": "code",
   "execution_count": null,
   "metadata": {},
   "outputs": [],
   "source": [
    "# Exclude the year 2023\n",
    "filtered_df = top_brand_data[top_brand_data['Release_Year'] != 2023]\n",
    "\n",
    "# Filter the dataframe for Li-Ion and Li-Po battery types\n",
    "yes_counts = filtered_df[filtered_df['Removable'] == 'Yes']['Release_Year'].value_counts().sort_index()\n",
    "no_counts = filtered_df[filtered_df['Removable'] == 'No']['Release_Year'].value_counts().sort_index()\n",
    "\n",
    "# Plot the count of Li-Ion battery devices released in each year\n",
    "plt.figure(figsize=(20, 10))\n",
    "yes_counts.plot(marker='o', label='Removable')\n",
    "\n",
    "# Plot the count of Li-Po battery devices released in each year\n",
    "no_counts.plot(marker='o', label='Non-Removable')\n",
    "\n",
    "# Set the x-axis label, y-axis label, and title\n",
    "plt.xlabel('Year')\n",
    "plt.ylabel('Count')\n",
    "plt.title('Count of Removable and Non-Removable Battery Devices Released per Year', fontsize=20, weight='bold')\n",
    "\n",
    "# Show the legend\n",
    "plt.legend()\n",
    "\n",
    "# Show the plot\n",
    "plt.show()"
   ]
  },
  {
   "cell_type": "code",
   "execution_count": null,
   "metadata": {},
   "outputs": [],
   "source": [
    "top_brand_data['Battery_Capacity'].value_counts()"
   ]
  },
  {
   "cell_type": "code",
   "execution_count": null,
   "metadata": {},
   "outputs": [],
   "source": [
    "# Filter the DataFrame to exclude 0 values and data for the year 2023\n",
    "filtered_df5 = top_brand_data[(top_brand_data['Battery_Capacity'] != 'unspecified') & (top_brand_data['Release_Year'] <= 2022)]\n",
    "\n",
    "# Calculate the average Fabrication Process per year\n",
    "avg_battery_capacity = filtered_df5.groupby('Release_Year')['Battery_Capacity'].mean()\n",
    "\n",
    "# Create the line plot\n",
    "plt.figure(figsize=(20, 10))\n",
    "plt.plot(avg_battery_capacity.index, avg_battery_capacity.values, marker='o')\n",
    "\n",
    "# Set the x-axis ticks and labels\n",
    "plt.xticks(avg_battery_capacity.index)\n",
    "\n",
    "# Set the x-axis label, y-axis label, and title\n",
    "plt.xlabel('Year')\n",
    "plt.ylabel('Average Battery Capacity in mAh')\n",
    "plt.title('Average Battery Capacity per Year', fontsize=20, weight='bold')\n",
    "\n",
    "# Show the plot\n",
    "plt.show()"
   ]
  },
  {
   "cell_type": "code",
   "execution_count": null,
   "metadata": {},
   "outputs": [],
   "source": [
    "top_brand_data['Reverse_Charging'].value_counts()"
   ]
  },
  {
   "cell_type": "code",
   "execution_count": null,
   "metadata": {},
   "outputs": [],
   "source": [
    "import matplotlib.pyplot as plt\n",
    "\n",
    "# Replace \"unspecified\" values with \"No\" in both columns\n",
    "top_brand_data['Wireless_Charging'] = top_brand_data['Wireless_Charging'].replace('unspecified', 'No')\n",
    "top_brand_data['Reverse_Charging'] = top_brand_data['Reverse_Charging'].replace('unspecified', 'No')\n",
    "\n",
    "# Exclude the year 2023\n",
    "filtered_df = top_brand_data[top_brand_data['Release_Year'] != 2023]\n",
    "\n",
    "# Calculate the percentage of mobile devices with wireless charging in each year\n",
    "wireless_charging_percentages = (filtered_df[filtered_df['Wireless_Charging'] == 'Yes']['Release_Year']\n",
    "                                 .value_counts(normalize=True).sort_index() * 100)\n",
    "\n",
    "# Calculate the percentage of mobile devices with reverse charging in each year\n",
    "reverse_charging_percentages = (filtered_df[filtered_df['Reverse_Charging'] == 'Yes']['Release_Year']\n",
    "                                .value_counts(normalize=True).sort_index() * 100)\n",
    "\n",
    "# Plot the line graph for wireless charging percentages\n",
    "plt.figure(figsize=(20, 10))\n",
    "wireless_charging_percentages.plot(marker='o', label='Wireless Charging')\n",
    "\n",
    "# Plot the line graph for reverse charging percentages\n",
    "reverse_charging_percentages.plot(marker='o', label='Reverse Charging')\n",
    "\n",
    "# Set the x-axis label, y-axis label, and title\n",
    "plt.xlabel('Year')\n",
    "plt.ylabel('Percentage')\n",
    "plt.title('Percentage of Mobile Devices with Wireless Charging and Reverse Charging per Year', fontsize=20, weight='bold')\n",
    "\n",
    "# Show the legend\n",
    "plt.legend()\n",
    "\n",
    "# Show the plot\n",
    "plt.show()\n"
   ]
  },
  {
   "cell_type": "code",
   "execution_count": null,
   "metadata": {},
   "outputs": [],
   "source": [
    "'Charging_Speed','Battery_Life'"
   ]
  },
  {
   "cell_type": "code",
   "execution_count": null,
   "metadata": {},
   "outputs": [],
   "source": [
    "# Exclude \"unspecified\" values, data for the year 2023, and values above 10\n",
    "filtered_df = top_brand_data[(top_brand_data['Battery_Life'] != 'untested') & \n",
    "                  (top_brand_data['Release_Year'] <= 2022)]\n",
    "#& \n",
    " #                 (pd.to_numeric(df['CPU_Performance_Core_Frequency'], errors='coerce') <= 10)]\n",
    "\n",
    "# Convert the CPU_Performance_Core_Frequency column to numeric\n",
    "filtered_df['Battery_Life'] = pd.to_numeric(filtered_df['Battery_Life'], errors='coerce')\n",
    "\n",
    "# Create boxplots for each year\n",
    "plt.figure(figsize=(20, 10))\n",
    "sns.boxplot(data=filtered_df, x='Release_Year', y='Battery_Life')\n",
    "\n",
    "# Set the x-axis label, y-axis label, and title\n",
    "plt.xlabel('Year')\n",
    "plt.ylabel('Battery Life in Hours')\n",
    "plt.title('Distribution of Battery Life by Year', fontsize=20, weight='bold')\n",
    "\n",
    "# Rotate the x-axis labels for better visibility\n",
    "plt.xticks(rotation=45)\n",
    "\n",
    "# Show the plot\n",
    "plt.show()"
   ]
  },
  {
   "cell_type": "code",
   "execution_count": null,
   "metadata": {},
   "outputs": [],
   "source": [
    "# Exclude \"unspecified\" values, data for the year 2023, and values above 10\n",
    "filtered_df = top_brand_data[(top_brand_data['Charging_Speed'] != 'unspecified') & \n",
    "                  (top_brand_data['Release_Year'] <= 2022)]\n",
    "#& \n",
    " #                 (pd.to_numeric(df['CPU_Performance_Core_Frequency'], errors='coerce') <= 10)]\n",
    "\n",
    "# Convert the CPU_Performance_Core_Frequency column to numeric\n",
    "filtered_df['Charging_Speed'] = pd.to_numeric(filtered_df['Charging_Speed'], errors='coerce')\n",
    "\n",
    "# Create boxplots for each year\n",
    "plt.figure(figsize=(20, 10))\n",
    "sns.boxplot(data=filtered_df, x='Release_Year', y='Charging_Speed')\n",
    "\n",
    "# Set the x-axis label, y-axis label, and title\n",
    "plt.xlabel('Year')\n",
    "plt.ylabel('Charging Speed in Watts')\n",
    "plt.title('Distribution Charging Speed by Year', fontsize=20, weight='bold')\n",
    "\n",
    "# Rotate the x-axis labels for better visibility\n",
    "plt.xticks(rotation=45)\n",
    "\n",
    "# Show the plot\n",
    "plt.show()"
   ]
  },
  {
   "cell_type": "code",
   "execution_count": null,
   "metadata": {},
   "outputs": [],
   "source": [
    "# Define the columns to compare\n",
    "columns_to_compare = ['Battery_Life', 'Charging_Speed']\n",
    "\n",
    "# Filter out non-numeric and \"Not Specified\" or \"Not Measured\" values\n",
    "numeric_data = top_brand_data.replace(['unspecified', 'untested'], float('NaN'))\n",
    "numeric_data[columns_to_compare] = numeric_data[columns_to_compare].apply(pd.to_numeric, errors='coerce')\n",
    "\n",
    "# Set the figure size\n",
    "plt.figure(figsize=(20, 10))\n",
    "\n",
    "# Get the number of columns to compare\n",
    "num_columns = len(columns_to_compare)\n",
    "\n",
    "# Set the width of each bar\n",
    "bar_width = 0.8 / num_columns\n",
    "\n",
    "# Filter brands that have non-null values for Display_Brightness\n",
    "#valid_brands = numeric_data.dropna(subset=['Display_Brightness'])['Brand'].unique()\n",
    "\n",
    "# Loop through the columns and plot the bar chart for each\n",
    "for i, column in enumerate(columns_to_compare):\n",
    "    # Get the average values for each brand, excluding NaN values\n",
    "    avg_values = numeric_data[numeric_data['Brand'].isin(valid_brands)].groupby('Brand')[column].mean().dropna()\n",
    "    \n",
    "    # Calculate the x positions for the bars\n",
    "    x_pos = np.arange(len(avg_values)) + (i * bar_width) - (0.4 * bar_width)\n",
    "    \n",
    "    # Plot the bars\n",
    "    plt.bar(x_pos, avg_values, width=bar_width, label=column)\n",
    "    \n",
    "# Set the x-axis ticks and labels\n",
    "plt.xticks(np.arange(len(avg_values)), avg_values.index)\n",
    "plt.xlabel('Brand')\n",
    "plt.ylabel('Average Value')\n",
    "plt.title('Comparison of Battery Features on Top Brands', fontsize=20, weight='bold')\n",
    "\n",
    "# Add a legend\n",
    "plt.legend()\n",
    "\n",
    "# Show the plot\n",
    "plt.show()\n"
   ]
  },
  {
   "cell_type": "code",
   "execution_count": null,
   "metadata": {},
   "outputs": [],
   "source": [
    "# Exclude \"unspecified\" and \"untested\" values from the columns\n",
    "filtered_df = top_brand_data[(top_brand_data['Battery_Life'] != 'unspecified') &\n",
    "                  (top_brand_data['Battery_Life'] != 'untested') &\n",
    "                  (top_brand_data['Battery_Capacity'] != 'unspecified') &\n",
    "                  (top_brand_data['Battery_Capacity'] != 'untested')]\n",
    "\n",
    "# Convert columns to numeric data types\n",
    "filtered_df['Battery_Life'] = pd.to_numeric(filtered_df['Battery_Life'])\n",
    "filtered_df['Battery_Capacity'] = pd.to_numeric(filtered_df['Battery_Capacity'])\n",
    "\n",
    "# Create scatterplot using Seaborn\n",
    "plt.figure(figsize=(20, 10))\n",
    "sns.scatterplot(data=filtered_df, x='Battery_Capacity', y='Battery_Life')\n",
    "\n",
    "# Set plot title and axis labels\n",
    "plt.title('Battery Capacity vs. Battery Life', fontsize=20, weight='bold')\n",
    "plt.xlabel('Battery Capacity (mAh)')\n",
    "plt.ylabel('Battery Life (hours)')\n",
    "\n",
    "# Display the scatterplot\n",
    "plt.show()\n"
   ]
  },
  {
   "cell_type": "code",
   "execution_count": null,
   "metadata": {},
   "outputs": [],
   "source": [
    "# Exclude \"unspecified\" and \"untested\" values from the columns\n",
    "filtered_df = top_brand_data[(top_brand_data['Battery_Life'] != 'unspecified') &\n",
    "                  (top_brand_data['Battery_Life'] != 'untested') &\n",
    "                  (top_brand_data['Charging_Speed'] != 'unspecified') &\n",
    "                  (top_brand_data['Charging_Speed'] != 'untested')]\n",
    "\n",
    "# Convert columns to numeric data types\n",
    "filtered_df['Battery_Life'] = pd.to_numeric(filtered_df['Battery_Life'])\n",
    "filtered_df['Battery_Capacity'] = pd.to_numeric(filtered_df['Battery_Capacity'])\n",
    "filtered_df['Charging_Speed'] = pd.to_numeric(filtered_df['Charging_Speed'])\n",
    "\n",
    "# Set the size of the plot\n",
    "plt.figure(figsize=(20, 10))\n",
    "\n",
    "# Create scatterplot for Battery_Capacity and Charging_Speed\n",
    "plt.subplot(1, 2, 1)\n",
    "sns.scatterplot(data=filtered_df, x='Battery_Capacity', y='Charging_Speed')\n",
    "plt.title('Battery Capacity vs. Charging Speed', fontsize=20, weight='bold')\n",
    "plt.xlabel('Battery Capacity (mAh)')\n",
    "plt.ylabel('Charging Speed')\n",
    "\n",
    "# Create scatterplot for Battery_Life and Charging_Speed\n",
    "plt.subplot(1, 2, 2)\n",
    "sns.scatterplot(data=filtered_df, x='Battery_Life', y='Charging_Speed')\n",
    "plt.title('Battery Life vs. Charging Speed', fontsize=20, weight='bold')\n",
    "plt.xlabel('Battery Life (hours)')\n",
    "plt.ylabel('Charging Speed')\n",
    "\n",
    "# Adjust spacing between subplots\n",
    "plt.tight_layout()\n",
    "\n",
    "# Display the scatterplots\n",
    "plt.show()\n"
   ]
  },
  {
   "attachments": {},
   "cell_type": "markdown",
   "metadata": {},
   "source": [
    "***** Special Features *****"
   ]
  },
  {
   "cell_type": "code",
   "execution_count": null,
   "metadata": {},
   "outputs": [],
   "source": [
    "cleaned_gsm_arena_data.columns"
   ]
  },
  {
   "cell_type": "code",
   "execution_count": null,
   "metadata": {},
   "outputs": [],
   "source": [
    "# Exclude \"unspecified\" values, data for the year 2023, and values above 10\n",
    "filtered_df = top_brand_data[top_brand_data['Release_Year'] <= 2022]\n",
    "#& \n",
    " #                 (pd.to_numeric(df['CPU_Performance_Core_Frequency'], errors='coerce') <= 10)]\n",
    "\n",
    "# Convert the CPU_Performance_Core_Frequency column to numeric\n",
    "filtered_df['Colors'] = pd.to_numeric(filtered_df['Colors'], errors='coerce')\n",
    "\n",
    "# Create boxplots for each year\n",
    "plt.figure(figsize=(20, 10))\n",
    "sns.boxplot(data=filtered_df, x='Release_Year', y='Colors')\n",
    "\n",
    "# Set the x-axis label, y-axis label, and title\n",
    "plt.xlabel('Year')\n",
    "plt.ylabel('Number of Color Options')\n",
    "plt.title('Distribution of Color Options by Year', fontsize=20, weight='bold')\n",
    "\n",
    "# Rotate the x-axis labels for better visibility\n",
    "plt.xticks(rotation=45)\n",
    "\n",
    "# Show the plot\n",
    "plt.show()"
   ]
  },
  {
   "cell_type": "code",
   "execution_count": null,
   "metadata": {},
   "outputs": [],
   "source": [
    "# Exclude the \"unspecified\" values and year 2023 for Radio\n",
    "radio_filtered = top_brand_data[(top_brand_data['Radio'] != 'unspecified') & (top_brand_data['Release_Year'] != 2023)]\n",
    "radio_filtered['Radio'] = radio_filtered['Radio'].replace('Yes (Market/Model/Software Dependent)', 'Yes')\n",
    "radio_percentage = radio_filtered.groupby('Release_Year')['Radio'].apply(lambda x: (x == 'Yes').mean() * 100)\n",
    "\n",
    "# Exclude the \"unspecified\" values and year 2023 for NFC\n",
    "nfc_filtered = top_brand_data[(top_brand_data['NFC'] != 'unspecified') & (top_brand_data['Release_Year'] != 2023)]\n",
    "nfc_filtered['NFC'] = nfc_filtered['NFC'].replace('Yes (Market/Model/Use Case Dependent)', 'Yes')\n",
    "nfc_percentage = nfc_filtered.groupby('Release_Year')['NFC'].apply(lambda x: (x == 'Yes').mean() * 100)\n",
    "\n",
    "# Exclude the \"unspecified\" values and year 2023 for Headphone Jack\n",
    "headphone_jack_filtered = top_brand_data[(top_brand_data['Headphone_Jack'] != 'unspecified') & (top_brand_data['Release_Year'] != 2023)]\n",
    "headphone_jack_percentage = headphone_jack_filtered.groupby('Release_Year')['Headphone_Jack'].apply(lambda x: (x == 'Yes').mean() * 100)\n",
    "\n",
    "# Change \"No Resistance\" values to \"No\" and all other values to \"Yes\" for IP Rating\n",
    "ip_rating_unique = top_brand_data['IP_Rating'].unique()\n",
    "replace_dict = {'No Resistance': 'No'}\n",
    "for rating in ip_rating_unique[1:]:\n",
    "    replace_dict[rating] = 'Yes'\n",
    "top_brand_data['IP_Rating'] = top_brand_data['IP_Rating'].replace(replace_dict)\n",
    "\n",
    "# Filter the data up to 2022 for IP Rating\n",
    "ip_rating_filtered = top_brand_data[top_brand_data['Release_Year'] <= 2022]\n",
    "ip_rating_percentage = ip_rating_filtered.groupby('Release_Year')['IP_Rating'].apply(lambda x: (x == 'Yes').mean() * 100)\n",
    "\n",
    "# Create a figure and axes\n",
    "fig, ax = plt.subplots(figsize=(20, 10))\n",
    "\n",
    "# Plot the four line graphs with markers\n",
    "sns.lineplot(data=radio_percentage, ax=ax, marker='o', label='Radio')\n",
    "sns.lineplot(data=nfc_percentage, ax=ax, marker='o', label='NFC')\n",
    "sns.lineplot(data=headphone_jack_percentage, ax=ax, marker='o', label='Headphone Jack')\n",
    "sns.lineplot(data=ip_rating_percentage, ax=ax, marker='o', label='IP Rating')\n",
    "\n",
    "# Annotate the lines with their respective titles\n",
    "for line in ax.lines:\n",
    "    x = line.get_xdata()[-1]\n",
    "    y = line.get_ydata()[-1]\n",
    "    label = line.get_label()\n",
    "    ax.annotate(label, (x, y), textcoords=\"offset points\", xytext=(-5, 10), ha='center')\n",
    "\n",
    "# Set the title, x-axis label, y-axis label, and y-axis limits\n",
    "ax.set_title('Evolution of Special Features', fontsize=20, weight='bold')\n",
    "ax.set_xlabel('Release Year')\n",
    "ax.set_ylabel('Percentage')\n",
    "ax.set_ylim(0, 100)\n",
    "\n",
    "# Remove the legend\n",
    "ax.legend_.remove()\n",
    "\n",
    "# Show the plot\n",
    "plt.show()\n"
   ]
  },
  {
   "attachments": {},
   "cell_type": "markdown",
   "metadata": {},
   "source": [
    "***** Price *****"
   ]
  },
  {
   "cell_type": "code",
   "execution_count": null,
   "metadata": {},
   "outputs": [],
   "source": [
    "top_brand_data['Price'].value_counts()"
   ]
  },
  {
   "cell_type": "code",
   "execution_count": null,
   "metadata": {},
   "outputs": [],
   "source": [
    "# Filter out unspecified and non-numeric values in the Price column\n",
    "filtered_data = top_brand_data[(top_brand_data['Price'] != 'unspecified') & (top_brand_data['Release_Year'] != 2023)]\n",
    "filtered_data['Price'] = pd.to_numeric(filtered_data['Price'])\n",
    "\n",
    "# Group the filtered data by Release_Year and calculate the average price\n",
    "average_price = filtered_data.groupby('Release_Year')['Price'].mean()\n",
    "\n",
    "# Create a line plot for the average price over the years\n",
    "plt.figure(figsize=(20, 10))\n",
    "plt.plot(average_price.index, average_price.values)\n",
    "plt.title('Average Price of Devices Over the Years', fontsize=20, weight='bold')\n",
    "plt.xlabel('Release Year')\n",
    "plt.ylabel('Average Price')\n",
    "plt.ylim(0)  # Set the y-axis lower limit to 0\n",
    "\n",
    "# Show the plot\n",
    "plt.show()\n"
   ]
  },
  {
   "cell_type": "code",
   "execution_count": null,
   "metadata": {},
   "outputs": [],
   "source": [
    "# Filter out unspecified and non-numeric values in the Price column\n",
    "filtered_data = top_brand_data[top_brand_data['Price'] != 'unspecified']\n",
    "filtered_data['Price'] = pd.to_numeric(filtered_data['Price'])\n",
    "\n",
    "# Sort the data by Price in descending order and select the top 10 rows\n",
    "top_10_expensive = filtered_data.nlargest(20, 'Price')\n",
    "\n",
    "# Select the desired columns\n",
    "result = top_10_expensive[['Price', 'Brand', 'Model', 'Release_Year']]\n",
    "\n",
    "# Display the result as a table\n",
    "print(result)\n"
   ]
  },
  {
   "cell_type": "code",
   "execution_count": null,
   "metadata": {},
   "outputs": [],
   "source": [
    "# Filter out unspecified and non-numeric values in the Price column\n",
    "filtered_data = top_brand_data[top_brand_data['Price'] != 'unspecified']\n",
    "filtered_data['Price'] = pd.to_numeric(filtered_data['Price'])\n",
    "\n",
    "# Sort the data by Price in ascending order and select the top 10 rows\n",
    "top_10_cheapest = filtered_data.nsmallest(100, 'Price')\n",
    "\n",
    "# Select the desired columns\n",
    "result = top_10_cheapest[['Price', 'Brand', 'Model', 'Release_Year']]\n",
    "\n",
    "# Display the result as a table\n",
    "print(result)\n"
   ]
  },
  {
   "cell_type": "code",
   "execution_count": null,
   "metadata": {},
   "outputs": [],
   "source": [
    "# Filter out the \"unspecified\" values from the \"Price\" column\n",
    "filtered_data = top_brand_data[top_brand_data['Price'] != 'unspecified']\n",
    "\n",
    "# Convert the \"Price\" column to numeric\n",
    "filtered_data['Price'] = pd.to_numeric(filtered_data['Price'], errors='coerce')\n",
    "\n",
    "# Filter out prices above 6000\n",
    "filtered_data = filtered_data[filtered_data['Price'] <= 6000]\n",
    "\n",
    "# Calculate the average price per brand\n",
    "average_price = filtered_data.groupby('Brand')['Price'].mean().sort_values(ascending=False)\n",
    "\n",
    "# Set the figure size\n",
    "plt.figure(figsize=(20, 10))\n",
    "\n",
    "# Create a bar plot of average price per brand\n",
    "sns.barplot(x=average_price.index, y=average_price.values, color='blue')\n",
    "\n",
    "# Set the title and labels\n",
    "plt.title('Average Price per Brand', fontsize=20, weight='bold')\n",
    "plt.xlabel('Brand', fontsize=12)\n",
    "plt.ylabel('Average Price', fontsize=12)\n",
    "\n",
    "# Rotate x-axis labels for better visibility\n",
    "plt.xticks(rotation=45)\n",
    "\n",
    "# Display the plot\n",
    "plt.show()\n"
   ]
  },
  {
   "cell_type": "code",
   "execution_count": null,
   "metadata": {},
   "outputs": [],
   "source": [
    "# Filter out the \"unspecified\" values from the \"Price\" column\n",
    "filtered_data = top_brand_data[top_brand_data['Price'] != 'unspecified']\n",
    "\n",
    "# Convert the \"Price\" column to numeric\n",
    "filtered_data['Price'] = pd.to_numeric(filtered_data['Price'], errors='coerce')\n",
    "\n",
    "# Set the figure size\n",
    "plt.figure(figsize=(20, 10))\n",
    "\n",
    "# Create a boxplot of Price distribution for each brand\n",
    "sns.boxplot(x='Brand', y='Price', data=filtered_data)\n",
    "\n",
    "# Set the title and labels\n",
    "plt.title('Price Distribution by Brand', fontsize=20, weight='bold')\n",
    "plt.xlabel('Brand', fontsize=12)\n",
    "plt.ylabel('Price', fontsize=12)\n",
    "\n",
    "# Rotate x-axis labels for better visibility\n",
    "plt.xticks(rotation=45)\n",
    "\n",
    "# Display the plot\n",
    "plt.show()\n"
   ]
  },
  {
   "cell_type": "code",
   "execution_count": null,
   "metadata": {},
   "outputs": [],
   "source": [
    "# Filter out the \"unspecified\" values from the \"Price\" column\n",
    "filtered_data = top_brand_data[top_brand_data['Price'] != 'unspecified']\n",
    "\n",
    "# Convert the \"Price\" column to numeric\n",
    "filtered_data['Price'] = pd.to_numeric(filtered_data['Price'], errors='coerce')\n",
    "\n",
    "# Filter out prices above 6000\n",
    "filtered_data = filtered_data[filtered_data['Price'] <= 3000]\n",
    "\n",
    "# Set the figure size\n",
    "plt.figure(figsize=(20, 10))\n",
    "\n",
    "# Create a boxplot of Price distribution for each brand\n",
    "sns.boxplot(x='Brand', y='Price', data=filtered_data)\n",
    "\n",
    "# Set the title and labels\n",
    "plt.title('Price Distribution by Brand', fontsize=20, weight='bold')\n",
    "plt.xlabel('Brand', fontsize=12)\n",
    "plt.ylabel('Price', fontsize=12)\n",
    "\n",
    "# Rotate x-axis labels for better visibility\n",
    "plt.xticks(rotation=45)\n",
    "\n",
    "# Display the plot\n",
    "plt.show()\n"
   ]
  },
  {
   "cell_type": "code",
   "execution_count": null,
   "metadata": {},
   "outputs": [],
   "source": [
    "# Replace \"unspecified\" values with NaN\n",
    "top_brand_data['Price'] = top_brand_data['Price'].replace('unspecified', np.nan)\n",
    "\n",
    "# Convert the 'Price' column to numeric data type\n",
    "top_brand_data['Price'] = pd.to_numeric(top_brand_data['Price'])\n",
    "\n",
    "\n",
    "\n",
    "\n",
    "# Select the relevant numerical columns and drop rows with missing values\n",
    "numeric_columns = ['Length', 'Width', 'Thickness', 'Weight', 'Display_Brightness', 'Display_Size_(inches)', 'Screen_To_Body_Ratio_(%)', 'Pixel_Density', 'CPU_Performance_Core_Frequency', 'CPU_Efficiency_Core_Frequency', 'ROM', 'RAM', 'Rear_Video_Resolution', 'Rear_Video_Framerate', 'Number_of_Selfie_Cameras', 'Selfie_Video_Resolution', 'Selfie_Video_Framerate', 'Battery_Capacity', 'Price']\n",
    "numeric_df = top_brand_data[numeric_columns].dropna()\n",
    "\n",
    "# Calculate the correlation coefficients\n",
    "correlation_coeffs = top_brand_data[numeric_columns].corr()['Price'].abs().sort_values(ascending=False)\n",
    "\n",
    "# Display the top influential columns\n",
    "top_influential_columns = correlation_coeffs[1:40]  # Exclude 'Price' column\n",
    "\n",
    "# Replace specified values with NaN\n",
    "specified_values = ['Unspecified', 'unspecified', 'untested', 'not measured', 'Not measured']\n",
    "top_brand_data = top_brand_data.replace(specified_values)\n",
    "\n",
    "# Convert numeric columns to numeric data type\n",
    "numeric_columns = top_brand_data.select_dtypes(include=np.number).columns\n",
    "top_brand_data[numeric_columns] = top_brand_data[numeric_columns].apply(pd.to_numeric)\n",
    "\n",
    "# Add 'Price' column back to the numeric columns\n",
    "numeric_columns = numeric_columns.union(['Price'])\n",
    "\n",
    "# Calculate the correlation coefficients\n",
    "correlation_coeffs = top_brand_data[numeric_columns].corr()['Price'].abs().sort_values(ascending=False)\n",
    "\n",
    "# Create a bar plot\n",
    "plt.figure(figsize=(20, 10))\n",
    "correlation_coeffs.drop('Price').plot(kind='bar')\n",
    "plt.title('Top Influential Numerical Columns for Price', fontsize=20, weight='bold')\n",
    "plt.xlabel('Features')\n",
    "plt.ylabel('Correlation Coefficient (absolute value)')\n",
    "plt.xticks(rotation=85)\n",
    "plt.show()\n"
   ]
  },
  {
   "cell_type": "code",
   "execution_count": null,
   "metadata": {},
   "outputs": [],
   "source": [
    "non_numeric_columns = top_brand_data.select_dtypes(exclude=np.number).columns\n",
    "df_encoded = pd.get_dummies(top_brand_data[non_numeric_columns], drop_first=True)\n",
    "\n",
    "# Combine numeric and encoded columns\n",
    "df_combined = pd.concat([top_brand_data[numeric_columns], df_encoded], axis=1)\n",
    "target_column = 'Price'\n",
    "non_target_columns = df_combined.columns.drop(target_column)\n",
    "\n",
    "correlation_coeffs = df_combined[non_target_columns].corrwith(df_combined[target_column])\n",
    "\n",
    "# Sort the correlation coefficients in descending order\n",
    "sorted_coeffs = correlation_coeffs.abs().sort_values(ascending=False)\n",
    "\n",
    "# Select the top N columns with the highest correlations\n",
    "top_columns = sorted_coeffs.head(50)\n",
    "\n",
    "# Create a colormap with varying intensities\n",
    "colormap = plt.cm.get_cmap('Blues')\n",
    "\n",
    "# Plot the bar graph\n",
    "plt.figure(figsize=(20, 10))\n",
    "bars = plt.bar(top_columns.index, top_columns.values, color=colormap(sorted_coeffs.head(10) / sorted_coeffs.max()))\n",
    "\n",
    "# Set the title and labels\n",
    "plt.title('Top Correlated Columns with Price', fontsize=20, weight='bold')\n",
    "plt.xlabel('Columns')\n",
    "plt.ylabel('Correlation Coefficient (absolute value)')\n",
    "\n",
    "# Rotate the x-axis labels for better visibility\n",
    "plt.xticks(rotation=90)\n",
    "\n",
    "# Add color legend\n",
    "sm = plt.cm.ScalarMappable(cmap=colormap, norm=plt.Normalize(vmin=0, vmax=1))\n",
    "sm.set_array([])\n",
    "cbar = plt.colorbar(sm)\n",
    "cbar.set_label('Correlation Intensity')\n",
    "\n",
    "# Show the plot\n",
    "plt.show()\n"
   ]
  },
  {
   "attachments": {},
   "cell_type": "markdown",
   "metadata": {},
   "source": [
    "***** PCA *****"
   ]
  },
  {
   "cell_type": "code",
   "execution_count": null,
   "metadata": {},
   "outputs": [],
   "source": [
    "from sklearn.decomposition import PCA\n",
    "from sklearn.preprocessing import StandardScaler, OneHotEncoder\n",
    "import pandas as pd\n",
    "import numpy as np\n",
    "import matplotlib.pyplot as plt\n",
    "\n",
    "# Subset the dataset with relevant features\n",
    "selected_features = ['Colors', 'Fabrication_Process', 'Highest_Camera_Resolution', 'Number_of_Rear_Cameras', 'Number_of_SIMs', 'Number_of_Selfie_Cameras', 'Battery_Life', 'Battery_Capacity', 'Charging_Speed', 'NFC', 'Display_HDR_Capability', 'Display_Type', 'Biometric_Sensor', 'ROM', 'RAM', 'Brand']\n",
    "subset_df = top_brand_data[selected_features]\n",
    "\n",
    "# Drop rows with specified string values\n",
    "specified_values = ['unspecified', 'untested']\n",
    "subset_df = subset_df[~subset_df.isin(specified_values)].dropna()\n",
    "\n",
    "# Separate the features and the brand labels\n",
    "features = subset_df.drop('Brand', axis=1)\n",
    "brands = subset_df['Brand']\n",
    "\n",
    "# Preprocess the categorical variables\n",
    "categorical_features = ['Colors', 'Fabrication_Process', 'Highest_Camera_Resolution', 'Number_of_Rear_Cameras', 'Number_of_SIMs', 'Number_of_Selfie_Cameras', 'NFC', 'Display_HDR_Capability', 'Display_Type', 'Biometric_Sensor', 'ROM', 'RAM']\n",
    "features = pd.get_dummies(features, columns=categorical_features)\n",
    "\n",
    "# Standardize the numerical features\n",
    "numerical_features = ['Battery_Life', 'Battery_Capacity', 'Charging_Speed']\n",
    "scaler = StandardScaler()\n",
    "features[numerical_features] = scaler.fit_transform(features[numerical_features])\n",
    "\n",
    "# Perform PCA\n",
    "pca = PCA(n_components=2)\n",
    "pca_result = pca.fit_transform(features)\n",
    "\n",
    "# Get the feature contributions of the principal components\n",
    "feature_contributions = pd.DataFrame(pca.components_.T, columns=['PC1', 'PC2'], index=features.columns)\n",
    "\n",
    "# Visualize the results with brand context\n",
    "plt.figure(figsize=(30, 15))\n",
    "for brand in set(brands):\n",
    "    indices = brands == brand\n",
    "    plt.scatter(pca_result[indices, 0], pca_result[indices, 1])\n",
    "    # Add brand names next to the data points\n",
    "    for i in range(len(pca_result[indices, 0])):\n",
    "        plt.text(pca_result[indices, 0][i], pca_result[indices, 1][i], brand, fontsize=8, ha='left', va='bottom')\n",
    "\n",
    "plt.xlabel('Principal Component 1')\n",
    "plt.ylabel('Principal Component 2')\n",
    "plt.title('PCA Analysis with Top Brand Context', fontsize=20, weight='bold')\n",
    "plt.show()\n",
    "\n",
    "# Print the feature contributions for the two principal components\n",
    "print(\"Feature Contributions for Principal Component 1:\")\n",
    "print(feature_contributions['PC1'].nlargest(5))\n",
    "print(\"\\nFeature Contributions for Principal Component 2:\")\n",
    "print(feature_contributions['PC2'].nlargest(5))\n"
   ]
  }
 ],
 "metadata": {
  "kernelspec": {
   "display_name": "Python 3",
   "language": "python",
   "name": "python3"
  },
  "language_info": {
   "codemirror_mode": {
    "name": "ipython",
    "version": 3
   },
   "file_extension": ".py",
   "mimetype": "text/x-python",
   "name": "python",
   "nbconvert_exporter": "python",
   "pygments_lexer": "ipython3",
   "version": "3.10.5"
  },
  "orig_nbformat": 4,
  "vscode": {
   "interpreter": {
    "hash": "7600a12950a547366bb7a6732117e300ffd26224351912980486e1126c5d0f9a"
   }
  }
 },
 "nbformat": 4,
 "nbformat_minor": 2
}
