{
 "cells": [
  {
   "cell_type": "code",
   "execution_count": 39,
   "metadata": {},
   "outputs": [],
   "source": [
    "import re\n",
    "import numpy as np\n",
    "import pandas as pd\n",
    "import seaborn as sns\n",
    "import matplotlib.pyplot as plt\n",
    "from cleaners import GSMArena_Dataset_Cleaner"
   ]
  },
  {
   "cell_type": "code",
   "execution_count": 40,
   "metadata": {},
   "outputs": [
    {
     "name": "stderr",
     "output_type": "stream",
     "text": [
      "c:\\Users\\alber\\Documents\\My Personal Projects\\Smartphone Project\\cleaners.py:116: FutureWarning:\n",
      "\n",
      "The default value of regex will change from True to False in a future version.\n",
      "\n",
      "c:\\Users\\alber\\Documents\\My Personal Projects\\Smartphone Project\\cleaners.py:142: FutureWarning:\n",
      "\n",
      "The default value of regex will change from True to False in a future version.\n",
      "\n",
      "c:\\Users\\alber\\Documents\\My Personal Projects\\Smartphone Project\\cleaners.py:170: FutureWarning:\n",
      "\n",
      "The default value of regex will change from True to False in a future version.\n",
      "\n",
      "c:\\Users\\alber\\Documents\\My Personal Projects\\Smartphone Project\\cleaners.py:171: FutureWarning:\n",
      "\n",
      "The default value of regex will change from True to False in a future version.\n",
      "\n",
      "c:\\Users\\alber\\Documents\\My Personal Projects\\Smartphone Project\\cleaners.py:172: FutureWarning:\n",
      "\n",
      "The default value of regex will change from True to False in a future version.\n",
      "\n"
     ]
    }
   ],
   "source": [
    "gsmarena_data = pd.read_csv('C:/Users/alber\\Documents/My Personal Projects/Smartphone Project/Files/GSMArena.csv')\n",
    "\n",
    "cleaner = GSMArena_Dataset_Cleaner(gsmarena_data)\n",
    "\n",
    "cleaned_gsm_arena_data = cleaner.clean()"
   ]
  },
  {
   "cell_type": "code",
   "execution_count": 41,
   "metadata": {},
   "outputs": [
    {
     "data": {
      "text/html": [
       "<div>\n",
       "<style scoped>\n",
       "    .dataframe tbody tr th:only-of-type {\n",
       "        vertical-align: middle;\n",
       "    }\n",
       "\n",
       "    .dataframe tbody tr th {\n",
       "        vertical-align: top;\n",
       "    }\n",
       "\n",
       "    .dataframe thead th {\n",
       "        text-align: right;\n",
       "    }\n",
       "</style>\n",
       "<table border=\"1\" class=\"dataframe\">\n",
       "  <thead>\n",
       "    <tr style=\"text-align: right;\">\n",
       "      <th></th>\n",
       "      <th>Brand</th>\n",
       "      <th>Model</th>\n",
       "      <th>Highest_Network_Technology</th>\n",
       "      <th>Announced</th>\n",
       "      <th>Released</th>\n",
       "      <th>Status</th>\n",
       "      <th>Length</th>\n",
       "      <th>Width</th>\n",
       "      <th>Thickness</th>\n",
       "      <th>Weight</th>\n",
       "      <th>...</th>\n",
       "      <th>Colors</th>\n",
       "      <th>Charging_Speed</th>\n",
       "      <th>Wireless_Charging</th>\n",
       "      <th>Reverse_Charging</th>\n",
       "      <th>Loudspeaker_Voice</th>\n",
       "      <th>Loudspeaker_Noise</th>\n",
       "      <th>Loudspeaker_Ring</th>\n",
       "      <th>Battery_Life</th>\n",
       "      <th>IP_Rating</th>\n",
       "      <th>Price</th>\n",
       "    </tr>\n",
       "  </thead>\n",
       "  <tbody>\n",
       "    <tr>\n",
       "      <th>0</th>\n",
       "      <td>ZTE</td>\n",
       "      <td>nubia X 5G</td>\n",
       "      <td>5G</td>\n",
       "      <td>Not Announced Yet</td>\n",
       "      <td>Not Released Yet</td>\n",
       "      <td>Cancelled</td>\n",
       "      <td>Not Measured</td>\n",
       "      <td>Not Measured</td>\n",
       "      <td>Not Measured</td>\n",
       "      <td>Not Measured</td>\n",
       "      <td>...</td>\n",
       "      <td>5</td>\n",
       "      <td>18</td>\n",
       "      <td>unspecified</td>\n",
       "      <td>unspecified</td>\n",
       "      <td>untested</td>\n",
       "      <td>untested</td>\n",
       "      <td>untested</td>\n",
       "      <td>untested</td>\n",
       "      <td>No Resistance</td>\n",
       "      <td>unspecified</td>\n",
       "    </tr>\n",
       "    <tr>\n",
       "      <th>1</th>\n",
       "      <td>ZTE</td>\n",
       "      <td>Blade V20</td>\n",
       "      <td>LTE</td>\n",
       "      <td>Not Announced Yet</td>\n",
       "      <td>Not Released Yet</td>\n",
       "      <td>Cancelled</td>\n",
       "      <td>Not Measured</td>\n",
       "      <td>Not Measured</td>\n",
       "      <td>Not Measured</td>\n",
       "      <td>Not Measured</td>\n",
       "      <td>...</td>\n",
       "      <td>2</td>\n",
       "      <td>18</td>\n",
       "      <td>unspecified</td>\n",
       "      <td>unspecified</td>\n",
       "      <td>untested</td>\n",
       "      <td>untested</td>\n",
       "      <td>untested</td>\n",
       "      <td>untested</td>\n",
       "      <td>No Resistance</td>\n",
       "      <td>unspecified</td>\n",
       "    </tr>\n",
       "    <tr>\n",
       "      <th>2</th>\n",
       "      <td>ZTE</td>\n",
       "      <td>Coral200 Sollar</td>\n",
       "      <td>GSM</td>\n",
       "      <td>2007-05</td>\n",
       "      <td>2007-01</td>\n",
       "      <td>Discontinued</td>\n",
       "      <td>106.0</td>\n",
       "      <td>45.6</td>\n",
       "      <td>18.1</td>\n",
       "      <td>85.0</td>\n",
       "      <td>...</td>\n",
       "      <td>1</td>\n",
       "      <td>unspecified</td>\n",
       "      <td>unspecified</td>\n",
       "      <td>unspecified</td>\n",
       "      <td>untested</td>\n",
       "      <td>untested</td>\n",
       "      <td>untested</td>\n",
       "      <td>untested</td>\n",
       "      <td>No Resistance</td>\n",
       "      <td>unspecified</td>\n",
       "    </tr>\n",
       "    <tr>\n",
       "      <th>3</th>\n",
       "      <td>ZTE</td>\n",
       "      <td>F100</td>\n",
       "      <td>UMTS</td>\n",
       "      <td>2009-01</td>\n",
       "      <td>2009-01</td>\n",
       "      <td>Discontinued</td>\n",
       "      <td>105.0</td>\n",
       "      <td>46.0</td>\n",
       "      <td>12.6</td>\n",
       "      <td>90.0</td>\n",
       "      <td>...</td>\n",
       "      <td>3</td>\n",
       "      <td>unspecified</td>\n",
       "      <td>unspecified</td>\n",
       "      <td>unspecified</td>\n",
       "      <td>untested</td>\n",
       "      <td>untested</td>\n",
       "      <td>untested</td>\n",
       "      <td>untested</td>\n",
       "      <td>No Resistance</td>\n",
       "      <td>unspecified</td>\n",
       "    </tr>\n",
       "    <tr>\n",
       "      <th>4</th>\n",
       "      <td>ZTE</td>\n",
       "      <td>F101</td>\n",
       "      <td>UMTS</td>\n",
       "      <td>2009-01</td>\n",
       "      <td>2009-01</td>\n",
       "      <td>Discontinued</td>\n",
       "      <td>105.0</td>\n",
       "      <td>46.0</td>\n",
       "      <td>12.6</td>\n",
       "      <td>90.0</td>\n",
       "      <td>...</td>\n",
       "      <td>3</td>\n",
       "      <td>unspecified</td>\n",
       "      <td>unspecified</td>\n",
       "      <td>unspecified</td>\n",
       "      <td>untested</td>\n",
       "      <td>untested</td>\n",
       "      <td>untested</td>\n",
       "      <td>untested</td>\n",
       "      <td>No Resistance</td>\n",
       "      <td>unspecified</td>\n",
       "    </tr>\n",
       "  </tbody>\n",
       "</table>\n",
       "<p>5 rows × 68 columns</p>\n",
       "</div>"
      ],
      "text/plain": [
       "  Brand            Model Highest_Network_Technology          Announced  \\\n",
       "0   ZTE       nubia X 5G                         5G  Not Announced Yet   \n",
       "1   ZTE        Blade V20                        LTE  Not Announced Yet   \n",
       "2   ZTE  Coral200 Sollar                        GSM            2007-05   \n",
       "3   ZTE             F100                       UMTS            2009-01   \n",
       "4   ZTE             F101                       UMTS            2009-01   \n",
       "\n",
       "           Released        Status        Length         Width     Thickness  \\\n",
       "0  Not Released Yet     Cancelled  Not Measured  Not Measured  Not Measured   \n",
       "1  Not Released Yet     Cancelled  Not Measured  Not Measured  Not Measured   \n",
       "2           2007-01  Discontinued         106.0          45.6          18.1   \n",
       "3           2009-01  Discontinued         105.0          46.0          12.6   \n",
       "4           2009-01  Discontinued         105.0          46.0          12.6   \n",
       "\n",
       "         Weight  ... Colors Charging_Speed Wireless_Charging  \\\n",
       "0  Not Measured  ...      5             18       unspecified   \n",
       "1  Not Measured  ...      2             18       unspecified   \n",
       "2          85.0  ...      1    unspecified       unspecified   \n",
       "3          90.0  ...      3    unspecified       unspecified   \n",
       "4          90.0  ...      3    unspecified       unspecified   \n",
       "\n",
       "   Reverse_Charging Loudspeaker_Voice Loudspeaker_Noise Loudspeaker_Ring  \\\n",
       "0       unspecified          untested          untested         untested   \n",
       "1       unspecified          untested          untested         untested   \n",
       "2       unspecified          untested          untested         untested   \n",
       "3       unspecified          untested          untested         untested   \n",
       "4       unspecified          untested          untested         untested   \n",
       "\n",
       "  Battery_Life      IP_Rating        Price  \n",
       "0     untested  No Resistance  unspecified  \n",
       "1     untested  No Resistance  unspecified  \n",
       "2     untested  No Resistance  unspecified  \n",
       "3     untested  No Resistance  unspecified  \n",
       "4     untested  No Resistance  unspecified  \n",
       "\n",
       "[5 rows x 68 columns]"
      ]
     },
     "execution_count": 41,
     "metadata": {},
     "output_type": "execute_result"
    }
   ],
   "source": [
    "cleaned_gsm_arena_data.head()"
   ]
  },
  {
   "cell_type": "code",
   "execution_count": 43,
   "metadata": {},
   "outputs": [
    {
     "data": {
      "text/plain": [
       "(11936, 68)"
      ]
     },
     "execution_count": 43,
     "metadata": {},
     "output_type": "execute_result"
    }
   ],
   "source": [
    "cleaned_gsm_arena_data.shape\n"
   ]
  },
  {
   "attachments": {},
   "cell_type": "markdown",
   "metadata": {},
   "source": [
    "***** Brands *****"
   ]
  },
  {
   "cell_type": "code",
   "execution_count": 44,
   "metadata": {},
   "outputs": [
    {
     "data": {
      "text/plain": [
       "119"
      ]
     },
     "execution_count": 44,
     "metadata": {},
     "output_type": "execute_result"
    }
   ],
   "source": [
    "cleaned_gsm_arena_data['Brand'].unique().size"
   ]
  },
  {
   "cell_type": "code",
   "execution_count": 53,
   "metadata": {},
   "outputs": [
    {
     "data": {
      "image/png": "[encoded data removed]",
      "text/plain": [
       "<Figure size 1440x720 with 1 Axes>"
      ]
     },
     "metadata": {},
     "output_type": "display_data"
    }
   ],
   "source": [
    "sns.set_style('darkgrid')\n",
    "\n",
    "# Count the number of occurrences for each value in the 'Brand' column\n",
    "brand_counts = cleaned_gsm_arena_data['Brand'].value_counts()\n",
    "\n",
    "# Create a bar plot using seaborn\n",
    "plt.figure(figsize=(20, 10))\n",
    "sns.barplot(x=brand_counts.index, y=brand_counts.values)\n",
    "\n",
    "# Add actual values on top of each bar\n",
    "for i, v in enumerate(brand_counts.values):\n",
    "    plt.text(i, v, str(v), fontsize=10, color='black', ha='center', rotation=90)\n",
    "\n",
    "# Rotate the x-axis labels by 90 degrees\n",
    "plt.xticks(rotation=90)\n",
    "\n",
    "# Add labels to the plot\n",
    "plt.xlabel('Brand')\n",
    "plt.ylabel('Count')\n",
    "plt.title('Count of Phones by Brand', fontsize=20, weight='bold')\n",
    "\n",
    "# Show the plot\n",
    "plt.show()\n"
   ]
  },
  {
   "cell_type": "code",
   "execution_count": 54,
   "metadata": {},
   "outputs": [
    {
     "data": {
      "image/png": "[encoded data removed]",
      "text/plain": [
       "<Figure size 1440x720 with 1 Axes>"
      ]
     },
     "metadata": {},
     "output_type": "display_data"
    }
   ],
   "source": [
    "# Create a countplot using seaborn\n",
    "plt.figure(figsize=(20, 10))\n",
    "ax = sns.countplot(x='Status', data=cleaned_gsm_arena_data)\n",
    "\n",
    "# Add labels to the plot\n",
    "plt.xlabel('Status')\n",
    "plt.ylabel('Count')\n",
    "plt.title('Distribution of Phone Status', fontsize=20, weight='bold')\n",
    "\n",
    "# Add percentages to the plot\n",
    "total = float(len(cleaned_gsm_arena_data['Status']))\n",
    "for p in ax.patches:\n",
    "    percentage = '{:.1f}%'.format(100 * p.get_height()/total)\n",
    "    x = p.get_x() + p.get_width() / 2 - 0.1\n",
    "    y = p.get_y() + p.get_height() + 1\n",
    "    ax.annotate(percentage, (x, y), ha='center', fontsize=10)\n",
    "\n",
    "# Show the plot\n",
    "plt.show()"
   ]
  },
  {
   "cell_type": "code",
   "execution_count": 52,
   "metadata": {},
   "outputs": [
    {
     "data": {
      "image/png": "[encoded data removed]",
      "text/plain": [
       "<Figure size 1440x720 with 1 Axes>"
      ]
     },
     "metadata": {},
     "output_type": "display_data"
    }
   ],
   "source": [
    "# Create a countplot using seaborn\n",
    "plt.figure(figsize=(20, 10))\n",
    "ax = sns.countplot(x='Highest_Network_Technology', data=cleaned_gsm_arena_data)\n",
    "\n",
    "# Rotate the x-axis labels by 90 degrees\n",
    "plt.xticks(rotation=90)\n",
    "\n",
    "# Add labels to the plot\n",
    "plt.xlabel('Status')\n",
    "plt.ylabel('Count')\n",
    "plt.title('Distribution of Highest Network Technology', fontsize=20, weight='bold')\n",
    "\n",
    "# Add percentages to the plot\n",
    "total = float(len(cleaned_gsm_arena_data['Highest_Network_Technology']))\n",
    "for p in ax.patches:\n",
    "    percentage = '{:.1f}%'.format(100 * p.get_height()/total)\n",
    "    x = p.get_x() + p.get_width() / 2 - 0.1\n",
    "    y = p.get_y() + p.get_height() + 1\n",
    "    ax.annotate(percentage, (x, y), ha='center', fontsize=10)\n",
    "\n",
    "# Show the plot\n",
    "plt.show()"
   ]
  },
  {
   "cell_type": "code",
   "execution_count": 48,
   "metadata": {},
   "outputs": [
    {
     "data": {
      "image/png": "[encoded data removed]",
      "text/plain": [
       "<Figure size 1440x720 with 1 Axes>"
      ]
     },
     "metadata": {},
     "output_type": "display_data"
    }
   ],
   "source": [
    "sns.set_style('darkgrid')\n",
    "\n",
    "# Count the number of occurrences for each value in the 'Brand' column\n",
    "brand_counts = cleaned_gsm_arena_data['Brand'].value_counts()\n",
    "not_released_counts = cleaned_gsm_arena_data[cleaned_gsm_arena_data['Released']=='Not Released Yet']['Brand'].value_counts()\n",
    "\n",
    "# Create a bar plot using seaborn\n",
    "plt.figure(figsize=(20, 10))\n",
    "sns.barplot(x=brand_counts.index, y=brand_counts.values, color='blue', label='All Phones from Brand')\n",
    "sns.barplot(x=not_released_counts.index, y=not_released_counts.values, color='gray', label='Phones from band marked as Not Released Yet')\n",
    "\n",
    "# Rotate the x-axis labels by 90 degrees\n",
    "plt.xticks(rotation=90)\n",
    "\n",
    "# Add labels to the plot\n",
    "plt.xlabel('Brand')\n",
    "plt.ylabel('Count')\n",
    "plt.title('Distribution of Not Released Yet Phones', fontsize=20, weight='bold')\n",
    "plt.legend()\n",
    "\n",
    "# Show the plot\n",
    "plt.show()\n"
   ]
  },
  {
   "cell_type": "code",
   "execution_count": 49,
   "metadata": {},
   "outputs": [
    {
     "name": "stdout",
     "output_type": "stream",
     "text": [
      "Brand  Release_Year\n",
      "AT&T   2006             1\n",
      "       2007             2\n",
      "       2008             1\n",
      "Acer   2009            10\n",
      "       2010             8\n",
      "                       ..\n",
      "vivo   2018            31\n",
      "       2019            47\n",
      "       2020            49\n",
      "       2021            76\n",
      "       2022            83\n",
      "Length: 907, dtype: int64\n"
     ]
    },
    {
     "name": "stderr",
     "output_type": "stream",
     "text": [
      "C:\\Users\\alber\\AppData\\Local\\Temp\\ipykernel_11916\\785385047.py:2: SettingWithCopyWarning:\n",
      "\n",
      "\n",
      "A value is trying to be set on a copy of a slice from a DataFrame.\n",
      "Try using .loc[row_indexer,col_indexer] = value instead\n",
      "\n",
      "See the caveats in the documentation: https://pandas.pydata.org/pandas-docs/stable/user_guide/indexing.html#returning-a-view-versus-a-copy\n",
      "\n"
     ]
    }
   ],
   "source": [
    "df = cleaned_gsm_arena_data[cleaned_gsm_arena_data['Released']!='Not Released Yet']\n",
    "df['Release_Year'] = df['Released'].apply(lambda x: x.year)\n",
    "# group data by 'Brand' and year, and count the number of phones released\n",
    "phone_counts = df.groupby(['Brand', 'Release_Year']).size()\n",
    "print(phone_counts)"
   ]
  },
  {
   "cell_type": "code",
   "execution_count": 56,
   "metadata": {},
   "outputs": [
    {
     "data": {
      "application/vnd.plotly.v1+json": {
       "config": {
        "plotlyServerURL": "https://plot.ly"
       },
       "data": [
        {
         "hovertemplate": "Brand=AT&T<br>Release_Year=%{x}<br>count=%{y}<extra></extra>",
         "legendgroup": "AT&T",
         "line": {
          "color": "#636efa",
          "dash": "solid"
         },
         "marker": {
          "symbol": "circle"
         },
         "mode": "lines",
         "name": "AT&T",
         "orientation": "v",
         "showlegend": true,
         "type": "scatter",
         "x": [
          2006,
          2007,
          2008
         ],
         "xaxis": "x",
         "y": [
          1,
          2,
          1
         ],
         "yaxis": "y"
        },
        {
         "hovertemplate": "Brand=Acer<br>Release_Year=%{x}<br>count=%{y}<extra></extra>",
         "legendgroup": "Acer",
         "line": {
          "color": "#EF553B",
          "dash": "solid"
         },
         "marker": {
          "symbol": "circle"
         },
         "mode": "lines",
         "name": "Acer",
         "orientation": "v",
         "showlegend": true,
         "type": "scatter",
         "x": [
          2009,
          2010,
          2011,
          2012,
          2013,
          2014,
          2015,
          2016,
          2018
         ],
         "xaxis": "x",
         "y": [
          10,
          8,
          8,
          12,
          11,
          18,
          16,
          9,
          1
         ],
         "yaxis": "y"
        },
        {
         "hovertemplate": "Brand=Allview<br>Release_Year=%{x}<br>count=%{y}<extra></extra>",
         "legendgroup": "Allview",
         "line": {
          "color": "#00cc96",
          "dash": "solid"
         },
         "marker": {
          "symbol": "circle"
         },
         "mode": "lines",
         "name": "Allview",
         "orientation": "v",
         "showlegend": true,
         "type": "scatter",
         "x": [
          2011,
          2012,
          2013,
          2014,
          2015,
          2016,
          2017,
          2018,
          2019,
          2020
         ],
         "xaxis": "x",
         "y": [
          1,
          9,
          21,
          37,
          23,
          25,
          14,
          12,
          11,
          4
         ],
         "yaxis": "y"
        },
        {
         "hovertemplate": "Brand=Amazon<br>Release_Year=%{x}<br>count=%{y}<extra></extra>",
         "legendgroup": "Amazon",
         "line": {
          "color": "#ab63fa",
          "dash": "solid"
         },
         "marker": {
          "symbol": "circle"
         },
         "mode": "lines",
         "name": "Amazon",
         "orientation": "v",
         "showlegend": true,
         "type": "scatter",
         "x": [
          2011,
          2012,
          2013,
          2014,
          2015,
          2017,
          2019,
          2020,
          2021,
          2022
         ],
         "xaxis": "x",
         "y": [
          1,
          3,
          3,
          4,
          3,
          3,
          1,
          2,
          2,
          2
         ],
         "yaxis": "y"
        },
        {
         "hovertemplate": "Brand=Amoi<br>Release_Year=%{x}<br>count=%{y}<extra></extra>",
         "legendgroup": "Amoi",
         "line": {
          "color": "#FFA15A",
          "dash": "solid"
         },
         "marker": {
          "symbol": "circle"
         },
         "mode": "lines",
         "name": "Amoi",
         "orientation": "v",
         "showlegend": true,
         "type": "scatter",
         "x": [
          2003,
          2004,
          2007
         ],
         "xaxis": "x",
         "y": [
          7,
          1,
          13
         ],
         "yaxis": "y"
        },
        {
         "hovertemplate": "Brand=Apple<br>Release_Year=%{x}<br>count=%{y}<extra></extra>",
         "legendgroup": "Apple",
         "line": {
          "color": "#19d3f3",
          "dash": "solid"
         },
         "marker": {
          "symbol": "circle"
         },
         "mode": "lines",
         "name": "Apple",
         "orientation": "v",
         "showlegend": true,
         "type": "scatter",
         "x": [
          2007,
          2008,
          2009,
          2010,
          2011,
          2012,
          2013,
          2014,
          2015,
          2016,
          2017,
          2018,
          2019,
          2020,
          2021,
          2022
         ],
         "xaxis": "x",
         "y": [
          1,
          1,
          1,
          3,
          5,
          7,
          4,
          4,
          10,
          12,
          9,
          8,
          9,
          13,
          11,
          13
         ],
         "yaxis": "y"
        },
        {
         "hovertemplate": "Brand=Archos<br>Release_Year=%{x}<br>count=%{y}<extra></extra>",
         "legendgroup": "Archos",
         "line": {
          "color": "#FF6692",
          "dash": "solid"
         },
         "marker": {
          "symbol": "circle"
         },
         "mode": "lines",
         "name": "Archos",
         "orientation": "v",
         "showlegend": true,
         "type": "scatter",
         "x": [
          2013,
          2014,
          2015,
          2016,
          2017,
          2018,
          2019
         ],
         "xaxis": "x",
         "y": [
          8,
          11,
          4,
          3,
          12,
          1,
          4
         ],
         "yaxis": "y"
        },
        {
         "hovertemplate": "Brand=Asus<br>Release_Year=%{x}<br>count=%{y}<extra></extra>",
         "legendgroup": "Asus",
         "line": {
          "color": "#B6E880",
          "dash": "solid"
         },
         "marker": {
          "symbol": "circle"
         },
         "mode": "lines",
         "name": "Asus",
         "orientation": "v",
         "showlegend": true,
         "type": "scatter",
         "x": [
          2006,
          2007,
          2008,
          2009,
          2011,
          2012,
          2013,
          2014,
          2015,
          2016,
          2017,
          2018,
          2019,
          2020,
          2021,
          2022
         ],
         "xaxis": "x",
         "y": [
          10,
          5,
          7,
          2,
          2,
          10,
          15,
          24,
          31,
          25,
          22,
          11,
          5,
          4,
          8,
          7
         ],
         "yaxis": "y"
        },
        {
         "hovertemplate": "Brand=BLU<br>Release_Year=%{x}<br>count=%{y}<extra></extra>",
         "legendgroup": "BLU",
         "line": {
          "color": "#FF97FF",
          "dash": "solid"
         },
         "marker": {
          "symbol": "circle"
         },
         "mode": "lines",
         "name": "BLU",
         "orientation": "v",
         "showlegend": true,
         "type": "scatter",
         "x": [
          2009,
          2010,
          2011,
          2012,
          2013,
          2014,
          2015,
          2016,
          2017,
          2018,
          2019,
          2020,
          2021,
          2022
         ],
         "xaxis": "x",
         "y": [
          1,
          15,
          5,
          12,
          33,
          32,
          36,
          56,
          43,
          22,
          23,
          22,
          14,
          20
         ],
         "yaxis": "y"
        },
        {
         "hovertemplate": "Brand=BQ<br>Release_Year=%{x}<br>count=%{y}<extra></extra>",
         "legendgroup": "BQ",
         "line": {
          "color": "#FECB52",
          "dash": "solid"
         },
         "marker": {
          "symbol": "circle"
         },
         "mode": "lines",
         "name": "BQ",
         "orientation": "v",
         "showlegend": true,
         "type": "scatter",
         "x": [
          2015,
          2016,
          2017,
          2018
         ],
         "xaxis": "x",
         "y": [
          6,
          4,
          6,
          4
         ],
         "yaxis": "y"
        },
        {
         "hovertemplate": "Brand=BenQ<br>Release_Year=%{x}<br>count=%{y}<extra></extra>",
         "legendgroup": "BenQ",
         "line": {
          "color": "#636efa",
          "dash": "solid"
         },
         "marker": {
          "symbol": "circle"
         },
         "mode": "lines",
         "name": "BenQ",
         "orientation": "v",
         "showlegend": true,
         "type": "scatter",
         "x": [
          2006,
          2007,
          2008,
          2013,
          2014,
          2015
         ],
         "xaxis": "x",
         "y": [
          1,
          4,
          4,
          2,
          3,
          1
         ],
         "yaxis": "y"
        },
        {
         "hovertemplate": "Brand=BenQ-Siemens<br>Release_Year=%{x}<br>count=%{y}<extra></extra>",
         "legendgroup": "BenQ-Siemens",
         "line": {
          "color": "#EF553B",
          "dash": "solid"
         },
         "marker": {
          "symbol": "circle"
         },
         "mode": "lines",
         "name": "BenQ-Siemens",
         "orientation": "v",
         "showlegend": true,
         "type": "scatter",
         "x": [
          2006,
          2007
         ],
         "xaxis": "x",
         "y": [
          22,
          5
         ],
         "yaxis": "y"
        },
        {
         "hovertemplate": "Brand=Benefon<br>Release_Year=%{x}<br>count=%{y}<extra></extra>",
         "legendgroup": "Benefon",
         "line": {
          "color": "#00cc96",
          "dash": "solid"
         },
         "marker": {
          "symbol": "circle"
         },
         "mode": "lines",
         "name": "Benefon",
         "orientation": "v",
         "showlegend": true,
         "type": "scatter",
         "x": [
          1999,
          2000,
          2006,
          2007
         ],
         "xaxis": "x",
         "y": [
          3,
          4,
          1,
          1
         ],
         "yaxis": "y"
        },
        {
         "hovertemplate": "Brand=Bird<br>Release_Year=%{x}<br>count=%{y}<extra></extra>",
         "legendgroup": "Bird",
         "line": {
          "color": "#ab63fa",
          "dash": "solid"
         },
         "marker": {
          "symbol": "circle"
         },
         "mode": "lines",
         "name": "Bird",
         "orientation": "v",
         "showlegend": true,
         "type": "scatter",
         "x": [
          2007
         ],
         "xaxis": "x",
         "y": [
          25
         ],
         "yaxis": "y"
        },
        {
         "hovertemplate": "Brand=BlackBerry<br>Release_Year=%{x}<br>count=%{y}<extra></extra>",
         "legendgroup": "BlackBerry",
         "line": {
          "color": "#FFA15A",
          "dash": "solid"
         },
         "marker": {
          "symbol": "circle"
         },
         "mode": "lines",
         "name": "BlackBerry",
         "orientation": "v",
         "showlegend": true,
         "type": "scatter",
         "x": [
          2006,
          2007,
          2008,
          2009,
          2010,
          2011,
          2012,
          2013,
          2014,
          2015,
          2016,
          2017,
          2018
         ],
         "xaxis": "x",
         "y": [
          5,
          8,
          6,
          7,
          9,
          13,
          4,
          6,
          4,
          3,
          2,
          3,
          4
         ],
         "yaxis": "y"
        },
        {
         "hovertemplate": "Brand=Blackview<br>Release_Year=%{x}<br>count=%{y}<extra></extra>",
         "legendgroup": "Blackview",
         "line": {
          "color": "#19d3f3",
          "dash": "solid"
         },
         "marker": {
          "symbol": "circle"
         },
         "mode": "lines",
         "name": "Blackview",
         "orientation": "v",
         "showlegend": true,
         "type": "scatter",
         "x": [
          2017,
          2018,
          2019,
          2020,
          2021,
          2022
         ],
         "xaxis": "x",
         "y": [
          5,
          1,
          2,
          8,
          17,
          19
         ],
         "yaxis": "y"
        },
        {
         "hovertemplate": "Brand=Bosch<br>Release_Year=%{x}<br>count=%{y}<extra></extra>",
         "legendgroup": "Bosch",
         "line": {
          "color": "#FF6692",
          "dash": "solid"
         },
         "marker": {
          "symbol": "circle"
         },
         "mode": "lines",
         "name": "Bosch",
         "orientation": "v",
         "showlegend": true,
         "type": "scatter",
         "x": [
          1996,
          1997,
          1998,
          1999
         ],
         "xaxis": "x",
         "y": [
          3,
          2,
          1,
          4
         ],
         "yaxis": "y"
        },
        {
         "hovertemplate": "Brand=Casio<br>Release_Year=%{x}<br>count=%{y}<extra></extra>",
         "legendgroup": "Casio",
         "line": {
          "color": "#B6E880",
          "dash": "solid"
         },
         "marker": {
          "symbol": "circle"
         },
         "mode": "lines",
         "name": "Casio",
         "orientation": "v",
         "showlegend": true,
         "type": "scatter",
         "x": [
          2010,
          2011,
          2013
         ],
         "xaxis": "x",
         "y": [
          1,
          3,
          1
         ],
         "yaxis": "y"
        },
        {
         "hovertemplate": "Brand=Cat<br>Release_Year=%{x}<br>count=%{y}<extra></extra>",
         "legendgroup": "Cat",
         "line": {
          "color": "#FF97FF",
          "dash": "solid"
         },
         "marker": {
          "symbol": "circle"
         },
         "mode": "lines",
         "name": "Cat",
         "orientation": "v",
         "showlegend": true,
         "type": "scatter",
         "x": [
          2013,
          2014,
          2015,
          2016,
          2017,
          2018,
          2019,
          2020,
          2021,
          2022
         ],
         "xaxis": "x",
         "y": [
          3,
          2,
          3,
          1,
          2,
          2,
          1,
          2,
          4,
          1
         ],
         "yaxis": "y"
        },
        {
         "hovertemplate": "Brand=Celkon<br>Release_Year=%{x}<br>count=%{y}<extra></extra>",
         "legendgroup": "Celkon",
         "line": {
          "color": "#FECB52",
          "dash": "solid"
         },
         "marker": {
          "symbol": "circle"
         },
         "mode": "lines",
         "name": "Celkon",
         "orientation": "v",
         "showlegend": true,
         "type": "scatter",
         "x": [
          2010,
          2011,
          2012,
          2013,
          2014,
          2015
         ],
         "xaxis": "x",
         "y": [
          11,
          48,
          43,
          50,
          49,
          21
         ],
         "yaxis": "y"
        },
        {
         "hovertemplate": "Brand=Coolpad<br>Release_Year=%{x}<br>count=%{y}<extra></extra>",
         "legendgroup": "Coolpad",
         "line": {
          "color": "#636efa",
          "dash": "solid"
         },
         "marker": {
          "symbol": "circle"
         },
         "mode": "lines",
         "name": "Coolpad",
         "orientation": "v",
         "showlegend": true,
         "type": "scatter",
         "x": [
          2015,
          2016,
          2017,
          2018,
          2019,
          2020,
          2021,
          2022
         ],
         "xaxis": "x",
         "y": [
          5,
          12,
          7,
          4,
          3,
          4,
          4,
          1
         ],
         "yaxis": "y"
        },
        {
         "hovertemplate": "Brand=Dell<br>Release_Year=%{x}<br>count=%{y}<extra></extra>",
         "legendgroup": "Dell",
         "line": {
          "color": "#EF553B",
          "dash": "solid"
         },
         "marker": {
          "symbol": "circle"
         },
         "mode": "lines",
         "name": "Dell",
         "orientation": "v",
         "showlegend": true,
         "type": "scatter",
         "x": [
          2009,
          2010,
          2011,
          2012,
          2013,
          2015
         ],
         "xaxis": "x",
         "y": [
          2,
          6,
          3,
          1,
          3,
          2
         ],
         "yaxis": "y"
        },
        {
         "hovertemplate": "Brand=Doogee<br>Release_Year=%{x}<br>count=%{y}<extra></extra>",
         "legendgroup": "Doogee",
         "line": {
          "color": "#00cc96",
          "dash": "solid"
         },
         "marker": {
          "symbol": "circle"
         },
         "mode": "lines",
         "name": "Doogee",
         "orientation": "v",
         "showlegend": true,
         "type": "scatter",
         "x": [
          2020,
          2021,
          2022
         ],
         "xaxis": "x",
         "y": [
          7,
          18,
          14
         ],
         "yaxis": "y"
        },
        {
         "hovertemplate": "Brand=Emporia<br>Release_Year=%{x}<br>count=%{y}<extra></extra>",
         "legendgroup": "Emporia",
         "line": {
          "color": "#ab63fa",
          "dash": "solid"
         },
         "marker": {
          "symbol": "circle"
         },
         "mode": "lines",
         "name": "Emporia",
         "orientation": "v",
         "showlegend": true,
         "type": "scatter",
         "x": [
          2010,
          2011,
          2012,
          2013,
          2014
         ],
         "xaxis": "x",
         "y": [
          1,
          3,
          4,
          3,
          4
         ],
         "yaxis": "y"
        },
        {
         "hovertemplate": "Brand=Energizer<br>Release_Year=%{x}<br>count=%{y}<extra></extra>",
         "legendgroup": "Energizer",
         "line": {
          "color": "#FFA15A",
          "dash": "solid"
         },
         "marker": {
          "symbol": "circle"
         },
         "mode": "lines",
         "name": "Energizer",
         "orientation": "v",
         "showlegend": true,
         "type": "scatter",
         "x": [
          2015,
          2016,
          2017,
          2018,
          2019,
          2020,
          2021,
          2022
         ],
         "xaxis": "x",
         "y": [
          4,
          1,
          7,
          12,
          21,
          2,
          10,
          4
         ],
         "yaxis": "y"
        },
        {
         "hovertemplate": "Brand=Ericsson<br>Release_Year=%{x}<br>count=%{y}<extra></extra>",
         "legendgroup": "Ericsson",
         "line": {
          "color": "#19d3f3",
          "dash": "solid"
         },
         "marker": {
          "symbol": "circle"
         },
         "mode": "lines",
         "name": "Ericsson",
         "orientation": "v",
         "showlegend": true,
         "type": "scatter",
         "x": [
          1994,
          1995,
          1996,
          1997,
          1998,
          1999,
          2000,
          2001
         ],
         "xaxis": "x",
         "y": [
          1,
          7,
          3,
          4,
          2,
          6,
          7,
          4
         ],
         "yaxis": "y"
        },
        {
         "hovertemplate": "Brand=Eten<br>Release_Year=%{x}<br>count=%{y}<extra></extra>",
         "legendgroup": "Eten",
         "line": {
          "color": "#FF6692",
          "dash": "solid"
         },
         "marker": {
          "symbol": "circle"
         },
         "mode": "lines",
         "name": "Eten",
         "orientation": "v",
         "showlegend": true,
         "type": "scatter",
         "x": [
          2006,
          2007,
          2008
         ],
         "xaxis": "x",
         "y": [
          5,
          2,
          9
         ],
         "yaxis": "y"
        },
        {
         "hovertemplate": "Brand=Fairphone<br>Release_Year=%{x}<br>count=%{y}<extra></extra>",
         "legendgroup": "Fairphone",
         "line": {
          "color": "#B6E880",
          "dash": "solid"
         },
         "marker": {
          "symbol": "circle"
         },
         "mode": "lines",
         "name": "Fairphone",
         "orientation": "v",
         "showlegend": true,
         "type": "scatter",
         "x": [
          2019,
          2020,
          2021
         ],
         "xaxis": "x",
         "y": [
          1,
          1,
          1
         ],
         "yaxis": "y"
        },
        {
         "hovertemplate": "Brand=Fujitsu Siemens<br>Release_Year=%{x}<br>count=%{y}<extra></extra>",
         "legendgroup": "Fujitsu Siemens",
         "line": {
          "color": "#FF97FF",
          "dash": "solid"
         },
         "marker": {
          "symbol": "circle"
         },
         "mode": "lines",
         "name": "Fujitsu Siemens",
         "orientation": "v",
         "showlegend": true,
         "type": "scatter",
         "x": [
          2006
         ],
         "xaxis": "x",
         "y": [
          2
         ],
         "yaxis": "y"
        },
        {
         "hovertemplate": "Brand=Garmin-Asus<br>Release_Year=%{x}<br>count=%{y}<extra></extra>",
         "legendgroup": "Garmin-Asus",
         "line": {
          "color": "#FECB52",
          "dash": "solid"
         },
         "marker": {
          "symbol": "circle"
         },
         "mode": "lines",
         "name": "Garmin-Asus",
         "orientation": "v",
         "showlegend": true,
         "type": "scatter",
         "x": [
          2009,
          2010
         ],
         "xaxis": "x",
         "y": [
          2,
          2
         ],
         "yaxis": "y"
        },
        {
         "hovertemplate": "Brand=Gigabyte<br>Release_Year=%{x}<br>count=%{y}<extra></extra>",
         "legendgroup": "Gigabyte",
         "line": {
          "color": "#636efa",
          "dash": "solid"
         },
         "marker": {
          "symbol": "circle"
         },
         "mode": "lines",
         "name": "Gigabyte",
         "orientation": "v",
         "showlegend": true,
         "type": "scatter",
         "x": [
          2005,
          2006,
          2007,
          2008,
          2009,
          2010,
          2011,
          2012,
          2013,
          2014,
          2015
         ],
         "xaxis": "x",
         "y": [
          11,
          2,
          2,
          4,
          2,
          2,
          5,
          3,
          10,
          10,
          7
         ],
         "yaxis": "y"
        },
        {
         "hovertemplate": "Brand=Gionee<br>Release_Year=%{x}<br>count=%{y}<extra></extra>",
         "legendgroup": "Gionee",
         "line": {
          "color": "#EF553B",
          "dash": "solid"
         },
         "marker": {
          "symbol": "circle"
         },
         "mode": "lines",
         "name": "Gionee",
         "orientation": "v",
         "showlegend": true,
         "type": "scatter",
         "x": [
          2013,
          2014,
          2015,
          2016,
          2017,
          2018,
          2020,
          2021,
          2022
         ],
         "xaxis": "x",
         "y": [
          15,
          13,
          16,
          15,
          15,
          3,
          9,
          6,
          1
         ],
         "yaxis": "y"
        },
        {
         "hovertemplate": "Brand=Google<br>Release_Year=%{x}<br>count=%{y}<extra></extra>",
         "legendgroup": "Google",
         "line": {
          "color": "#00cc96",
          "dash": "solid"
         },
         "marker": {
          "symbol": "circle"
         },
         "mode": "lines",
         "name": "Google",
         "orientation": "v",
         "showlegend": true,
         "type": "scatter",
         "x": [
          2015,
          2016,
          2017,
          2018,
          2019,
          2020,
          2021,
          2022
         ],
         "xaxis": "x",
         "y": [
          1,
          2,
          2,
          2,
          4,
          3,
          3,
          4
         ],
         "yaxis": "y"
        },
        {
         "hovertemplate": "Brand=HP<br>Release_Year=%{x}<br>count=%{y}<extra></extra>",
         "legendgroup": "HP",
         "line": {
          "color": "#ab63fa",
          "dash": "solid"
         },
         "marker": {
          "symbol": "circle"
         },
         "mode": "lines",
         "name": "HP",
         "orientation": "v",
         "showlegend": true,
         "type": "scatter",
         "x": [
          2006,
          2007,
          2008,
          2009,
          2011,
          2013,
          2014,
          2015,
          2016
         ],
         "xaxis": "x",
         "y": [
          3,
          2,
          1,
          3,
          6,
          5,
          9,
          3,
          1
         ],
         "yaxis": "y"
        },
        {
         "hovertemplate": "Brand=HTC<br>Release_Year=%{x}<br>count=%{y}<extra></extra>",
         "legendgroup": "HTC",
         "line": {
          "color": "#FFA15A",
          "dash": "solid"
         },
         "marker": {
          "symbol": "circle"
         },
         "mode": "lines",
         "name": "HTC",
         "orientation": "v",
         "showlegend": true,
         "type": "scatter",
         "x": [
          2006,
          2007,
          2008,
          2009,
          2010,
          2011,
          2012,
          2013,
          2014,
          2015,
          2016,
          2017,
          2018,
          2019,
          2020,
          2021,
          2022
         ],
         "xaxis": "x",
         "y": [
          8,
          10,
          14,
          18,
          17,
          38,
          27,
          20,
          33,
          25,
          17,
          6,
          7,
          8,
          6,
          3,
          2
         ],
         "yaxis": "y"
        },
        {
         "hovertemplate": "Brand=Haier<br>Release_Year=%{x}<br>count=%{y}<extra></extra>",
         "legendgroup": "Haier",
         "line": {
          "color": "#19d3f3",
          "dash": "solid"
         },
         "marker": {
          "symbol": "circle"
         },
         "mode": "lines",
         "name": "Haier",
         "orientation": "v",
         "showlegend": true,
         "type": "scatter",
         "x": [
          2003,
          2004,
          2005,
          2006,
          2010,
          2017,
          2018
         ],
         "xaxis": "x",
         "y": [
          2,
          17,
          5,
          1,
          14,
          3,
          5
         ],
         "yaxis": "y"
        },
        {
         "hovertemplate": "Brand=Honor<br>Release_Year=%{x}<br>count=%{y}<extra></extra>",
         "legendgroup": "Honor",
         "line": {
          "color": "#FF6692",
          "dash": "solid"
         },
         "marker": {
          "symbol": "circle"
         },
         "mode": "lines",
         "name": "Honor",
         "orientation": "v",
         "showlegend": true,
         "type": "scatter",
         "x": [
          2011,
          2012,
          2013,
          2014,
          2015,
          2016,
          2017,
          2018,
          2019,
          2020,
          2021,
          2022
         ],
         "xaxis": "x",
         "y": [
          1,
          1,
          3,
          8,
          5,
          10,
          6,
          14,
          21,
          29,
          26,
          35
         ],
         "yaxis": "y"
        },
        {
         "hovertemplate": "Brand=Huawei<br>Release_Year=%{x}<br>count=%{y}<extra></extra>",
         "legendgroup": "Huawei",
         "line": {
          "color": "#B6E880",
          "dash": "solid"
         },
         "marker": {
          "symbol": "circle"
         },
         "mode": "lines",
         "name": "Huawei",
         "orientation": "v",
         "showlegend": true,
         "type": "scatter",
         "x": [
          2008,
          2009,
          2010,
          2011,
          2012,
          2013,
          2014,
          2015,
          2016,
          2017,
          2018,
          2019,
          2020,
          2021,
          2022
         ],
         "xaxis": "x",
         "y": [
          4,
          6,
          8,
          23,
          24,
          23,
          26,
          24,
          19,
          29,
          33,
          43,
          48,
          31,
          27
         ],
         "yaxis": "y"
        },
        {
         "hovertemplate": "Brand=Icemobile<br>Release_Year=%{x}<br>count=%{y}<extra></extra>",
         "legendgroup": "Icemobile",
         "line": {
          "color": "#FF97FF",
          "dash": "solid"
         },
         "marker": {
          "symbol": "circle"
         },
         "mode": "lines",
         "name": "Icemobile",
         "orientation": "v",
         "showlegend": true,
         "type": "scatter",
         "x": [
          2010,
          2011,
          2012,
          2013,
          2014,
          2015,
          2016,
          2017
         ],
         "xaxis": "x",
         "y": [
          1,
          14,
          17,
          8,
          12,
          4,
          1,
          1
         ],
         "yaxis": "y"
        },
        {
         "hovertemplate": "Brand=Infinix<br>Release_Year=%{x}<br>count=%{y}<extra></extra>",
         "legendgroup": "Infinix",
         "line": {
          "color": "#FECB52",
          "dash": "solid"
         },
         "marker": {
          "symbol": "circle"
         },
         "mode": "lines",
         "name": "Infinix",
         "orientation": "v",
         "showlegend": true,
         "type": "scatter",
         "x": [
          2016,
          2017,
          2018,
          2019,
          2020,
          2021,
          2022
         ],
         "xaxis": "x",
         "y": [
          3,
          7,
          13,
          13,
          16,
          21,
          27
         ],
         "yaxis": "y"
        },
        {
         "hovertemplate": "Brand=Innostream<br>Release_Year=%{x}<br>count=%{y}<extra></extra>",
         "legendgroup": "Innostream",
         "line": {
          "color": "#636efa",
          "dash": "solid"
         },
         "marker": {
          "symbol": "circle"
         },
         "mode": "lines",
         "name": "Innostream",
         "orientation": "v",
         "showlegend": true,
         "type": "scatter",
         "x": [
          2004,
          2005
         ],
         "xaxis": "x",
         "y": [
          1,
          2
         ],
         "yaxis": "y"
        },
        {
         "hovertemplate": "Brand=Intex<br>Release_Year=%{x}<br>count=%{y}<extra></extra>",
         "legendgroup": "Intex",
         "line": {
          "color": "#EF553B",
          "dash": "solid"
         },
         "marker": {
          "symbol": "circle"
         },
         "mode": "lines",
         "name": "Intex",
         "orientation": "v",
         "showlegend": true,
         "type": "scatter",
         "x": [
          2014,
          2015,
          2016
         ],
         "xaxis": "x",
         "y": [
          3,
          11,
          1
         ],
         "yaxis": "y"
        },
        {
         "hovertemplate": "Brand=Jolla<br>Release_Year=%{x}<br>count=%{y}<extra></extra>",
         "legendgroup": "Jolla",
         "line": {
          "color": "#00cc96",
          "dash": "solid"
         },
         "marker": {
          "symbol": "circle"
         },
         "mode": "lines",
         "name": "Jolla",
         "orientation": "v",
         "showlegend": true,
         "type": "scatter",
         "x": [
          2013,
          2014,
          2016
         ],
         "xaxis": "x",
         "y": [
          1,
          1,
          1
         ],
         "yaxis": "y"
        },
        {
         "hovertemplate": "Brand=Karbonn<br>Release_Year=%{x}<br>count=%{y}<extra></extra>",
         "legendgroup": "Karbonn",
         "line": {
          "color": "#ab63fa",
          "dash": "solid"
         },
         "marker": {
          "symbol": "circle"
         },
         "mode": "lines",
         "name": "Karbonn",
         "orientation": "v",
         "showlegend": true,
         "type": "scatter",
         "x": [
          2012,
          2013,
          2014,
          2015
         ],
         "xaxis": "x",
         "y": [
          28,
          20,
          11,
          1
         ],
         "yaxis": "y"
        },
        {
         "hovertemplate": "Brand=Kyocera<br>Release_Year=%{x}<br>count=%{y}<extra></extra>",
         "legendgroup": "Kyocera",
         "line": {
          "color": "#FFA15A",
          "dash": "solid"
         },
         "marker": {
          "symbol": "circle"
         },
         "mode": "lines",
         "name": "Kyocera",
         "orientation": "v",
         "showlegend": true,
         "type": "scatter",
         "x": [
          2000,
          2008,
          2011,
          2012,
          2013,
          2014,
          2015,
          2016,
          2018
         ],
         "xaxis": "x",
         "y": [
          1,
          5,
          7,
          1,
          2,
          3,
          1,
          1,
          1
         ],
         "yaxis": "y"
        },
        {
         "hovertemplate": "Brand=LG<br>Release_Year=%{x}<br>count=%{y}<extra></extra>",
         "legendgroup": "LG",
         "line": {
          "color": "#19d3f3",
          "dash": "solid"
         },
         "marker": {
          "symbol": "circle"
         },
         "mode": "lines",
         "name": "LG",
         "orientation": "v",
         "showlegend": true,
         "type": "scatter",
         "x": [
          2002,
          2005,
          2006,
          2007,
          2008,
          2009,
          2010,
          2011,
          2012,
          2013,
          2014,
          2015,
          2016,
          2017,
          2018,
          2019,
          2020,
          2021,
          2022
         ],
         "xaxis": "x",
         "y": [
          3,
          11,
          35,
          27,
          47,
          49,
          77,
          50,
          36,
          32,
          52,
          27,
          27,
          17,
          20,
          20,
          27,
          3,
          1
         ],
         "yaxis": "y"
        },
        {
         "hovertemplate": "Brand=Lava<br>Release_Year=%{x}<br>count=%{y}<extra></extra>",
         "legendgroup": "Lava",
         "line": {
          "color": "#FF6692",
          "dash": "solid"
         },
         "marker": {
          "symbol": "circle"
         },
         "mode": "lines",
         "name": "Lava",
         "orientation": "v",
         "showlegend": true,
         "type": "scatter",
         "x": [
          2013,
          2014,
          2015,
          2016,
          2017,
          2018,
          2019,
          2020,
          2021,
          2022
         ],
         "xaxis": "x",
         "y": [
          12,
          27,
          25,
          34,
          10,
          6,
          2,
          2,
          7,
          8
         ],
         "yaxis": "y"
        },
        {
         "hovertemplate": "Brand=LeEco<br>Release_Year=%{x}<br>count=%{y}<extra></extra>",
         "legendgroup": "LeEco",
         "line": {
          "color": "#B6E880",
          "dash": "solid"
         },
         "marker": {
          "symbol": "circle"
         },
         "mode": "lines",
         "name": "LeEco",
         "orientation": "v",
         "showlegend": true,
         "type": "scatter",
         "x": [
          2016,
          2017
         ],
         "xaxis": "x",
         "y": [
          7,
          2
         ],
         "yaxis": "y"
        },
        {
         "hovertemplate": "Brand=Lenovo<br>Release_Year=%{x}<br>count=%{y}<extra></extra>",
         "legendgroup": "Lenovo",
         "line": {
          "color": "#FF97FF",
          "dash": "solid"
         },
         "marker": {
          "symbol": "circle"
         },
         "mode": "lines",
         "name": "Lenovo",
         "orientation": "v",
         "showlegend": true,
         "type": "scatter",
         "x": [
          2011,
          2012,
          2013,
          2014,
          2015,
          2016,
          2017,
          2018,
          2019,
          2020,
          2021,
          2022
         ],
         "xaxis": "x",
         "y": [
          11,
          11,
          26,
          33,
          35,
          30,
          12,
          13,
          15,
          10,
          16,
          10
         ],
         "yaxis": "y"
        },
        {
         "hovertemplate": "Brand=MWg<br>Release_Year=%{x}<br>count=%{y}<extra></extra>",
         "legendgroup": "MWg",
         "line": {
          "color": "#FECB52",
          "dash": "solid"
         },
         "marker": {
          "symbol": "circle"
         },
         "mode": "lines",
         "name": "MWg",
         "orientation": "v",
         "showlegend": true,
         "type": "scatter",
         "x": [
          2007,
          2008
         ],
         "xaxis": "x",
         "y": [
          2,
          3
         ],
         "yaxis": "y"
        },
        {
         "hovertemplate": "Brand=Maxon<br>Release_Year=%{x}<br>count=%{y}<extra></extra>",
         "legendgroup": "Maxon",
         "line": {
          "color": "#636efa",
          "dash": "solid"
         },
         "marker": {
          "symbol": "circle"
         },
         "mode": "lines",
         "name": "Maxon",
         "orientation": "v",
         "showlegend": true,
         "type": "scatter",
         "x": [
          1999,
          2000,
          2003,
          2004
         ],
         "xaxis": "x",
         "y": [
          8,
          4,
          9,
          8
         ],
         "yaxis": "y"
        },
        {
         "hovertemplate": "Brand=Maxwest<br>Release_Year=%{x}<br>count=%{y}<extra></extra>",
         "legendgroup": "Maxwest",
         "line": {
          "color": "#EF553B",
          "dash": "solid"
         },
         "marker": {
          "symbol": "circle"
         },
         "mode": "lines",
         "name": "Maxwest",
         "orientation": "v",
         "showlegend": true,
         "type": "scatter",
         "x": [
          2013,
          2014,
          2015,
          2016,
          2017
         ],
         "xaxis": "x",
         "y": [
          13,
          10,
          10,
          6,
          2
         ],
         "yaxis": "y"
        },
        {
         "hovertemplate": "Brand=Meizu<br>Release_Year=%{x}<br>count=%{y}<extra></extra>",
         "legendgroup": "Meizu",
         "line": {
          "color": "#00cc96",
          "dash": "solid"
         },
         "marker": {
          "symbol": "circle"
         },
         "mode": "lines",
         "name": "Meizu",
         "orientation": "v",
         "showlegend": true,
         "type": "scatter",
         "x": [
          2012,
          2013,
          2014,
          2015,
          2016,
          2017,
          2018,
          2019,
          2020,
          2021
         ],
         "xaxis": "x",
         "y": [
          3,
          1,
          2,
          7,
          15,
          7,
          16,
          7,
          2,
          6
         ],
         "yaxis": "y"
        },
        {
         "hovertemplate": "Brand=Micromax<br>Release_Year=%{x}<br>count=%{y}<extra></extra>",
         "legendgroup": "Micromax",
         "line": {
          "color": "#ab63fa",
          "dash": "solid"
         },
         "marker": {
          "symbol": "circle"
         },
         "mode": "lines",
         "name": "Micromax",
         "orientation": "v",
         "showlegend": true,
         "type": "scatter",
         "x": [
          2008,
          2009,
          2010,
          2011,
          2012,
          2013,
          2014,
          2015,
          2016,
          2017,
          2018,
          2019,
          2020,
          2021,
          2022
         ],
         "xaxis": "x",
         "y": [
          1,
          9,
          33,
          19,
          39,
          40,
          30,
          50,
          25,
          21,
          7,
          1,
          2,
          2,
          2
         ],
         "yaxis": "y"
        },
        {
         "hovertemplate": "Brand=Microsoft<br>Release_Year=%{x}<br>count=%{y}<extra></extra>",
         "legendgroup": "Microsoft",
         "line": {
          "color": "#FFA15A",
          "dash": "solid"
         },
         "marker": {
          "symbol": "circle"
         },
         "mode": "lines",
         "name": "Microsoft",
         "orientation": "v",
         "showlegend": true,
         "type": "scatter",
         "x": [
          2010,
          2012,
          2013,
          2014,
          2015,
          2016,
          2020,
          2021
         ],
         "xaxis": "x",
         "y": [
          4,
          1,
          1,
          2,
          18,
          1,
          1,
          1
         ],
         "yaxis": "y"
        },
        {
         "hovertemplate": "Brand=Mitac<br>Release_Year=%{x}<br>count=%{y}<extra></extra>",
         "legendgroup": "Mitac",
         "line": {
          "color": "#19d3f3",
          "dash": "solid"
         },
         "marker": {
          "symbol": "circle"
         },
         "mode": "lines",
         "name": "Mitac",
         "orientation": "v",
         "showlegend": true,
         "type": "scatter",
         "x": [
          2005,
          2007,
          2009
         ],
         "xaxis": "x",
         "y": [
          1,
          1,
          2
         ],
         "yaxis": "y"
        },
        {
         "hovertemplate": "Brand=Mitsubishi<br>Release_Year=%{x}<br>count=%{y}<extra></extra>",
         "legendgroup": "Mitsubishi",
         "line": {
          "color": "#FF6692",
          "dash": "solid"
         },
         "marker": {
          "symbol": "circle"
         },
         "mode": "lines",
         "name": "Mitsubishi",
         "orientation": "v",
         "showlegend": true,
         "type": "scatter",
         "x": [
          1999,
          2000,
          2003
         ],
         "xaxis": "x",
         "y": [
          4,
          7,
          1
         ],
         "yaxis": "y"
        },
        {
         "hovertemplate": "Brand=Modu<br>Release_Year=%{x}<br>count=%{y}<extra></extra>",
         "legendgroup": "Modu",
         "line": {
          "color": "#B6E880",
          "dash": "solid"
         },
         "marker": {
          "symbol": "circle"
         },
         "mode": "lines",
         "name": "Modu",
         "orientation": "v",
         "showlegend": true,
         "type": "scatter",
         "x": [
          2009
         ],
         "xaxis": "x",
         "y": [
          6
         ],
         "yaxis": "y"
        },
        {
         "hovertemplate": "Brand=Motorola<br>Release_Year=%{x}<br>count=%{y}<extra></extra>",
         "legendgroup": "Motorola",
         "line": {
          "color": "#FF97FF",
          "dash": "solid"
         },
         "marker": {
          "symbol": "circle"
         },
         "mode": "lines",
         "name": "Motorola",
         "orientation": "v",
         "showlegend": true,
         "type": "scatter",
         "x": [
          1997,
          1998,
          1999,
          2000,
          2001,
          2002,
          2003,
          2005,
          2006,
          2007,
          2008,
          2009,
          2010,
          2011,
          2012,
          2013,
          2014,
          2015,
          2016,
          2017,
          2018,
          2019,
          2020,
          2021,
          2022
         ],
         "xaxis": "x",
         "y": [
          5,
          5,
          7,
          8,
          7,
          13,
          7,
          9,
          13,
          19,
          30,
          21,
          45,
          47,
          31,
          8,
          12,
          15,
          10,
          13,
          13,
          14,
          27,
          37,
          37
         ],
         "yaxis": "y"
        },
        {
         "hovertemplate": "Brand=NEC<br>Release_Year=%{x}<br>count=%{y}<extra></extra>",
         "legendgroup": "NEC",
         "line": {
          "color": "#FECB52",
          "dash": "solid"
         },
         "marker": {
          "symbol": "circle"
         },
         "mode": "lines",
         "name": "NEC",
         "orientation": "v",
         "showlegend": true,
         "type": "scatter",
         "x": [
          1997,
          1999,
          2000,
          2001,
          2002,
          2003,
          2004,
          2005,
          2006,
          2013
         ],
         "xaxis": "x",
         "y": [
          1,
          2,
          2,
          2,
          2,
          4,
          3,
          1,
          7,
          1
         ],
         "yaxis": "y"
        },
        {
         "hovertemplate": "Brand=NIU<br>Release_Year=%{x}<br>count=%{y}<extra></extra>",
         "legendgroup": "NIU",
         "line": {
          "color": "#636efa",
          "dash": "solid"
         },
         "marker": {
          "symbol": "circle"
         },
         "mode": "lines",
         "name": "NIU",
         "orientation": "v",
         "showlegend": true,
         "type": "scatter",
         "x": [
          2012,
          2013,
          2014,
          2015,
          2016
         ],
         "xaxis": "x",
         "y": [
          10,
          6,
          9,
          3,
          1
         ],
         "yaxis": "y"
        },
        {
         "hovertemplate": "Brand=Neonode<br>Release_Year=%{x}<br>count=%{y}<extra></extra>",
         "legendgroup": "Neonode",
         "line": {
          "color": "#EF553B",
          "dash": "solid"
         },
         "marker": {
          "symbol": "circle"
         },
         "mode": "lines",
         "name": "Neonode",
         "orientation": "v",
         "showlegend": true,
         "type": "scatter",
         "x": [
          2003,
          2007
         ],
         "xaxis": "x",
         "y": [
          1,
          1
         ],
         "yaxis": "y"
        },
        {
         "hovertemplate": "Brand=Nokia<br>Release_Year=%{x}<br>count=%{y}<extra></extra>",
         "legendgroup": "Nokia",
         "line": {
          "color": "#00cc96",
          "dash": "solid"
         },
         "marker": {
          "symbol": "circle"
         },
         "mode": "lines",
         "name": "Nokia",
         "orientation": "v",
         "showlegend": true,
         "type": "scatter",
         "x": [
          1995,
          1996,
          1997,
          1998,
          1999,
          2000,
          2001,
          2002,
          2003,
          2004,
          2005,
          2006,
          2007,
          2008,
          2009,
          2010,
          2011,
          2012,
          2013,
          2014,
          2015,
          2016,
          2017,
          2018,
          2019,
          2020,
          2021,
          2022
         ],
         "xaxis": "x",
         "y": [
          1,
          1,
          1,
          6,
          4,
          6,
          4,
          6,
          3,
          2,
          16,
          29,
          37,
          36,
          44,
          33,
          34,
          30,
          26,
          23,
          9,
          1,
          11,
          15,
          18,
          19,
          23,
          22
         ],
         "yaxis": "y"
        },
        {
         "hovertemplate": "Brand=Nothing<br>Release_Year=%{x}<br>count=%{y}<extra></extra>",
         "legendgroup": "Nothing",
         "line": {
          "color": "#ab63fa",
          "dash": "solid"
         },
         "marker": {
          "symbol": "circle"
         },
         "mode": "lines",
         "name": "Nothing",
         "orientation": "v",
         "showlegend": true,
         "type": "scatter",
         "x": [
          2022
         ],
         "xaxis": "x",
         "y": [
          1
         ],
         "yaxis": "y"
        },
        {
         "hovertemplate": "Brand=Nvidia<br>Release_Year=%{x}<br>count=%{y}<extra></extra>",
         "legendgroup": "Nvidia",
         "line": {
          "color": "#FFA15A",
          "dash": "solid"
         },
         "marker": {
          "symbol": "circle"
         },
         "mode": "lines",
         "name": "Nvidia",
         "orientation": "v",
         "showlegend": true,
         "type": "scatter",
         "x": [
          2014,
          2015
         ],
         "xaxis": "x",
         "y": [
          2,
          1
         ],
         "yaxis": "y"
        },
        {
         "hovertemplate": "Brand=O2<br>Release_Year=%{x}<br>count=%{y}<extra></extra>",
         "legendgroup": "O2",
         "line": {
          "color": "#19d3f3",
          "dash": "solid"
         },
         "marker": {
          "symbol": "circle"
         },
         "mode": "lines",
         "name": "O2",
         "orientation": "v",
         "showlegend": true,
         "type": "scatter",
         "x": [
          2003,
          2005,
          2006,
          2007,
          2008,
          2009
         ],
         "xaxis": "x",
         "y": [
          3,
          5,
          10,
          9,
          4,
          1
         ],
         "yaxis": "y"
        },
        {
         "hovertemplate": "Brand=OnePlus<br>Release_Year=%{x}<br>count=%{y}<extra></extra>",
         "legendgroup": "OnePlus",
         "line": {
          "color": "#FF6692",
          "dash": "solid"
         },
         "marker": {
          "symbol": "circle"
         },
         "mode": "lines",
         "name": "OnePlus",
         "orientation": "v",
         "showlegend": true,
         "type": "scatter",
         "x": [
          2014,
          2015,
          2016,
          2017,
          2018,
          2019,
          2020,
          2021,
          2022,
          2023
         ],
         "xaxis": "x",
         "y": [
          1,
          2,
          2,
          2,
          3,
          6,
          9,
          8,
          14,
          1
         ],
         "yaxis": "y"
        },
        {
         "hovertemplate": "Brand=Oppo<br>Release_Year=%{x}<br>count=%{y}<extra></extra>",
         "legendgroup": "Oppo",
         "line": {
          "color": "#B6E880",
          "dash": "solid"
         },
         "marker": {
          "symbol": "circle"
         },
         "mode": "lines",
         "name": "Oppo",
         "orientation": "v",
         "showlegend": true,
         "type": "scatter",
         "x": [
          2012,
          2013,
          2014,
          2015,
          2016,
          2017,
          2018,
          2019,
          2020,
          2021,
          2022
         ],
         "xaxis": "x",
         "y": [
          7,
          6,
          11,
          19,
          9,
          12,
          20,
          25,
          42,
          51,
          51
         ],
         "yaxis": "y"
        },
        {
         "hovertemplate": "Brand=Orange<br>Release_Year=%{x}<br>count=%{y}<extra></extra>",
         "legendgroup": "Orange",
         "line": {
          "color": "#FF97FF",
          "dash": "solid"
         },
         "marker": {
          "symbol": "circle"
         },
         "mode": "lines",
         "name": "Orange",
         "orientation": "v",
         "showlegend": true,
         "type": "scatter",
         "x": [
          2011,
          2012,
          2014,
          2019
         ],
         "xaxis": "x",
         "y": [
          7,
          2,
          3,
          1
         ],
         "yaxis": "y"
        },
        {
         "hovertemplate": "Brand=Palm<br>Release_Year=%{x}<br>count=%{y}<extra></extra>",
         "legendgroup": "Palm",
         "line": {
          "color": "#FECB52",
          "dash": "solid"
         },
         "marker": {
          "symbol": "circle"
         },
         "mode": "lines",
         "name": "Palm",
         "orientation": "v",
         "showlegend": true,
         "type": "scatter",
         "x": [
          2002,
          2003,
          2006,
          2007,
          2008,
          2009,
          2010,
          2018
         ],
         "xaxis": "x",
         "y": [
          1,
          1,
          2,
          1,
          3,
          1,
          4,
          1
         ],
         "yaxis": "y"
        },
        {
         "hovertemplate": "Brand=Panasonic<br>Release_Year=%{x}<br>count=%{y}<extra></extra>",
         "legendgroup": "Panasonic",
         "line": {
          "color": "#636efa",
          "dash": "solid"
         },
         "marker": {
          "symbol": "circle"
         },
         "mode": "lines",
         "name": "Panasonic",
         "orientation": "v",
         "showlegend": true,
         "type": "scatter",
         "x": [
          1998,
          1999,
          2000,
          2001,
          2002,
          2011,
          2012,
          2013,
          2014,
          2015,
          2016,
          2017,
          2018,
          2019
         ],
         "xaxis": "x",
         "y": [
          1,
          3,
          2,
          3,
          3,
          2,
          3,
          2,
          11,
          10,
          14,
          21,
          11,
          2
         ],
         "yaxis": "y"
        },
        {
         "hovertemplate": "Brand=Pantech<br>Release_Year=%{x}<br>count=%{y}<extra></extra>",
         "legendgroup": "Pantech",
         "line": {
          "color": "#EF553B",
          "dash": "solid"
         },
         "marker": {
          "symbol": "circle"
         },
         "mode": "lines",
         "name": "Pantech",
         "orientation": "v",
         "showlegend": true,
         "type": "scatter",
         "x": [
          2003,
          2004,
          2006,
          2007,
          2008,
          2009,
          2010,
          2011,
          2012,
          2013
         ],
         "xaxis": "x",
         "y": [
          3,
          5,
          9,
          1,
          2,
          3,
          8,
          7,
          8,
          3
         ],
         "yaxis": "y"
        },
        {
         "hovertemplate": "Brand=Parla<br>Release_Year=%{x}<br>count=%{y}<extra></extra>",
         "legendgroup": "Parla",
         "line": {
          "color": "#00cc96",
          "dash": "solid"
         },
         "marker": {
          "symbol": "circle"
         },
         "mode": "lines",
         "name": "Parla",
         "orientation": "v",
         "showlegend": true,
         "type": "scatter",
         "x": [
          2014,
          2015,
          2016
         ],
         "xaxis": "x",
         "y": [
          1,
          1,
          1
         ],
         "yaxis": "y"
        },
        {
         "hovertemplate": "Brand=Philips<br>Release_Year=%{x}<br>count=%{y}<extra></extra>",
         "legendgroup": "Philips",
         "line": {
          "color": "#ab63fa",
          "dash": "solid"
         },
         "marker": {
          "symbol": "circle"
         },
         "mode": "lines",
         "name": "Philips",
         "orientation": "v",
         "showlegend": true,
         "type": "scatter",
         "x": [
          1996,
          1997,
          1999,
          2000,
          2001,
          2002,
          2005,
          2006,
          2007,
          2008,
          2009,
          2010,
          2011,
          2012,
          2013,
          2014,
          2015,
          2021
         ],
         "xaxis": "x",
         "y": [
          1,
          2,
          5,
          8,
          1,
          6,
          4,
          15,
          15,
          15,
          13,
          23,
          17,
          23,
          23,
          3,
          9,
          2
         ],
         "yaxis": "y"
        },
        {
         "hovertemplate": "Brand=Plum<br>Release_Year=%{x}<br>count=%{y}<extra></extra>",
         "legendgroup": "Plum",
         "line": {
          "color": "#FFA15A",
          "dash": "solid"
         },
         "marker": {
          "symbol": "circle"
         },
         "mode": "lines",
         "name": "Plum",
         "orientation": "v",
         "showlegend": true,
         "type": "scatter",
         "x": [
          2011,
          2012,
          2013,
          2014,
          2015,
          2016,
          2017,
          2018,
          2019,
          2020,
          2021,
          2022
         ],
         "xaxis": "x",
         "y": [
          19,
          16,
          16,
          18,
          9,
          9,
          6,
          11,
          3,
          2,
          1,
          3
         ],
         "yaxis": "y"
        },
        {
         "hovertemplate": "Brand=Posh<br>Release_Year=%{x}<br>count=%{y}<extra></extra>",
         "legendgroup": "Posh",
         "line": {
          "color": "#19d3f3",
          "dash": "solid"
         },
         "marker": {
          "symbol": "circle"
         },
         "mode": "lines",
         "name": "Posh",
         "orientation": "v",
         "showlegend": true,
         "type": "scatter",
         "x": [
          2014,
          2015,
          2016,
          2017
         ],
         "xaxis": "x",
         "y": [
          12,
          9,
          8,
          1
         ],
         "yaxis": "y"
        },
        {
         "hovertemplate": "Brand=Prestigio<br>Release_Year=%{x}<br>count=%{y}<extra></extra>",
         "legendgroup": "Prestigio",
         "line": {
          "color": "#FF6692",
          "dash": "solid"
         },
         "marker": {
          "symbol": "circle"
         },
         "mode": "lines",
         "name": "Prestigio",
         "orientation": "v",
         "showlegend": true,
         "type": "scatter",
         "x": [
          2013,
          2014
         ],
         "xaxis": "x",
         "y": [
          42,
          5
         ],
         "yaxis": "y"
        },
        {
         "hovertemplate": "Brand=QMobile<br>Release_Year=%{x}<br>count=%{y}<extra></extra>",
         "legendgroup": "QMobile",
         "line": {
          "color": "#B6E880",
          "dash": "solid"
         },
         "marker": {
          "symbol": "circle"
         },
         "mode": "lines",
         "name": "QMobile",
         "orientation": "v",
         "showlegend": true,
         "type": "scatter",
         "x": [
          2013,
          2014,
          2015,
          2016,
          2017
         ],
         "xaxis": "x",
         "y": [
          5,
          28,
          35,
          13,
          9
         ],
         "yaxis": "y"
        },
        {
         "hovertemplate": "Brand=Qtek<br>Release_Year=%{x}<br>count=%{y}<extra></extra>",
         "legendgroup": "Qtek",
         "line": {
          "color": "#FF97FF",
          "dash": "solid"
         },
         "marker": {
          "symbol": "circle"
         },
         "mode": "lines",
         "name": "Qtek",
         "orientation": "v",
         "showlegend": true,
         "type": "scatter",
         "x": [
          2003,
          2005,
          2006
         ],
         "xaxis": "x",
         "y": [
          1,
          3,
          4
         ],
         "yaxis": "y"
        },
        {
         "hovertemplate": "Brand=Razer<br>Release_Year=%{x}<br>count=%{y}<extra></extra>",
         "legendgroup": "Razer",
         "line": {
          "color": "#FECB52",
          "dash": "solid"
         },
         "marker": {
          "symbol": "circle"
         },
         "mode": "lines",
         "name": "Razer",
         "orientation": "v",
         "showlegend": true,
         "type": "scatter",
         "x": [
          2017,
          2018
         ],
         "xaxis": "x",
         "y": [
          1,
          1
         ],
         "yaxis": "y"
        },
        {
         "hovertemplate": "Brand=Realme<br>Release_Year=%{x}<br>count=%{y}<extra></extra>",
         "legendgroup": "Realme",
         "line": {
          "color": "#636efa",
          "dash": "solid"
         },
         "marker": {
          "symbol": "circle"
         },
         "mode": "lines",
         "name": "Realme",
         "orientation": "v",
         "showlegend": true,
         "type": "scatter",
         "x": [
          2018,
          2019,
          2020,
          2021,
          2022
         ],
         "xaxis": "x",
         "y": [
          5,
          14,
          44,
          43,
          42
         ],
         "yaxis": "y"
        },
        {
         "hovertemplate": "Brand=Sagem<br>Release_Year=%{x}<br>count=%{y}<extra></extra>",
         "legendgroup": "Sagem",
         "line": {
          "color": "#EF553B",
          "dash": "solid"
         },
         "marker": {
          "symbol": "circle"
         },
         "mode": "lines",
         "name": "Sagem",
         "orientation": "v",
         "showlegend": true,
         "type": "scatter",
         "x": [
          1997,
          1998,
          1999,
          2000,
          2001,
          2002,
          2005,
          2006,
          2007,
          2008,
          2010
         ],
         "xaxis": "x",
         "y": [
          1,
          4,
          3,
          5,
          8,
          4,
          2,
          18,
          10,
          23,
          1
         ],
         "yaxis": "y"
        },
        {
         "hovertemplate": "Brand=Samsung<br>Release_Year=%{x}<br>count=%{y}<extra></extra>",
         "legendgroup": "Samsung",
         "line": {
          "color": "#00cc96",
          "dash": "solid"
         },
         "marker": {
          "symbol": "circle"
         },
         "mode": "lines",
         "name": "Samsung",
         "orientation": "v",
         "showlegend": true,
         "type": "scatter",
         "x": [
          1996,
          1998,
          1999,
          2000,
          2001,
          2002,
          2003,
          2004,
          2005,
          2006,
          2007,
          2008,
          2009,
          2010,
          2011,
          2012,
          2013,
          2014,
          2015,
          2016,
          2017,
          2018,
          2019,
          2020,
          2021,
          2022,
          2023
         ],
         "xaxis": "x",
         "y": [
          1,
          1,
          4,
          6,
          10,
          8,
          3,
          6,
          2,
          66,
          64,
          96,
          121,
          98,
          114,
          84,
          64,
          89,
          52,
          43,
          28,
          31,
          45,
          55,
          43,
          37,
          1
         ],
         "yaxis": "y"
        },
        {
         "hovertemplate": "Brand=Sendo<br>Release_Year=%{x}<br>count=%{y}<extra></extra>",
         "legendgroup": "Sendo",
         "line": {
          "color": "#ab63fa",
          "dash": "solid"
         },
         "marker": {
          "symbol": "circle"
         },
         "mode": "lines",
         "name": "Sendo",
         "orientation": "v",
         "showlegend": true,
         "type": "scatter",
         "x": [
          2000,
          2002
         ],
         "xaxis": "x",
         "y": [
          1,
          2
         ],
         "yaxis": "y"
        },
        {
         "hovertemplate": "Brand=Sewon<br>Release_Year=%{x}<br>count=%{y}<extra></extra>",
         "legendgroup": "Sewon",
         "line": {
          "color": "#FFA15A",
          "dash": "solid"
         },
         "marker": {
          "symbol": "circle"
         },
         "mode": "lines",
         "name": "Sewon",
         "orientation": "v",
         "showlegend": true,
         "type": "scatter",
         "x": [
          2002
         ],
         "xaxis": "x",
         "y": [
          4
         ],
         "yaxis": "y"
        },
        {
         "hovertemplate": "Brand=Sharp<br>Release_Year=%{x}<br>count=%{y}<extra></extra>",
         "legendgroup": "Sharp",
         "line": {
          "color": "#19d3f3",
          "dash": "solid"
         },
         "marker": {
          "symbol": "circle"
         },
         "mode": "lines",
         "name": "Sharp",
         "orientation": "v",
         "showlegend": true,
         "type": "scatter",
         "x": [
          2002,
          2003,
          2004,
          2005,
          2006,
          2007,
          2008,
          2009,
          2010,
          2011,
          2012,
          2014,
          2015,
          2016,
          2017,
          2018,
          2019,
          2020,
          2021,
          2022
         ],
         "xaxis": "x",
         "y": [
          2,
          1,
          1,
          2,
          5,
          2,
          5,
          2,
          3,
          2,
          2,
          1,
          2,
          2,
          2,
          9,
          4,
          3,
          2,
          3
         ],
         "yaxis": "y"
        },
        {
         "hovertemplate": "Brand=Siemens<br>Release_Year=%{x}<br>count=%{y}<extra></extra>",
         "legendgroup": "Siemens",
         "line": {
          "color": "#FF6692",
          "dash": "solid"
         },
         "marker": {
          "symbol": "circle"
         },
         "mode": "lines",
         "name": "Siemens",
         "orientation": "v",
         "showlegend": true,
         "type": "scatter",
         "x": [
          1998,
          1999,
          2000,
          2001,
          2002,
          2003,
          2004,
          2005
         ],
         "xaxis": "x",
         "y": [
          5,
          3,
          9,
          7,
          6,
          1,
          9,
          13
         ],
         "yaxis": "y"
        },
        {
         "hovertemplate": "Brand=Sonim<br>Release_Year=%{x}<br>count=%{y}<extra></extra>",
         "legendgroup": "Sonim",
         "line": {
          "color": "#B6E880",
          "dash": "solid"
         },
         "marker": {
          "symbol": "circle"
         },
         "mode": "lines",
         "name": "Sonim",
         "orientation": "v",
         "showlegend": true,
         "type": "scatter",
         "x": [
          2007,
          2008,
          2009,
          2010,
          2011,
          2014,
          2015,
          2018,
          2019,
          2021,
          2022
         ],
         "xaxis": "x",
         "y": [
          1,
          1,
          1,
          3,
          3,
          1,
          1,
          2,
          1,
          1,
          1
         ],
         "yaxis": "y"
        },
        {
         "hovertemplate": "Brand=Sony<br>Release_Year=%{x}<br>count=%{y}<extra></extra>",
         "legendgroup": "Sony",
         "line": {
          "color": "#FF97FF",
          "dash": "solid"
         },
         "marker": {
          "symbol": "circle"
         },
         "mode": "lines",
         "name": "Sony",
         "orientation": "v",
         "showlegend": true,
         "type": "scatter",
         "x": [
          1997,
          1999,
          2000,
          2001,
          2011,
          2012,
          2013,
          2014,
          2015,
          2016,
          2017,
          2018,
          2019,
          2020,
          2021,
          2022
         ],
         "xaxis": "x",
         "y": [
          4,
          1,
          3,
          2,
          3,
          24,
          14,
          24,
          22,
          8,
          9,
          8,
          5,
          4,
          6,
          3
         ],
         "yaxis": "y"
        },
        {
         "hovertemplate": "Brand=Sony Ericsson<br>Release_Year=%{x}<br>count=%{y}<extra></extra>",
         "legendgroup": "Sony Ericsson",
         "line": {
          "color": "#FECB52",
          "dash": "solid"
         },
         "marker": {
          "symbol": "circle"
         },
         "mode": "lines",
         "name": "Sony Ericsson",
         "orientation": "v",
         "showlegend": true,
         "type": "scatter",
         "x": [
          2002,
          2003,
          2004,
          2005,
          2006,
          2007,
          2008,
          2009,
          2010,
          2011
         ],
         "xaxis": "x",
         "y": [
          6,
          1,
          3,
          11,
          24,
          26,
          34,
          21,
          14,
          16
         ],
         "yaxis": "y"
        },
        {
         "hovertemplate": "Brand=Spice<br>Release_Year=%{x}<br>count=%{y}<extra></extra>",
         "legendgroup": "Spice",
         "line": {
          "color": "#636efa",
          "dash": "solid"
         },
         "marker": {
          "symbol": "circle"
         },
         "mode": "lines",
         "name": "Spice",
         "orientation": "v",
         "showlegend": true,
         "type": "scatter",
         "x": [
          2010,
          2011,
          2012,
          2013,
          2014
         ],
         "xaxis": "x",
         "y": [
          36,
          15,
          16,
          23,
          26
         ],
         "yaxis": "y"
        },
        {
         "hovertemplate": "Brand=T-Mobile<br>Release_Year=%{x}<br>count=%{y}<extra></extra>",
         "legendgroup": "T-Mobile",
         "line": {
          "color": "#EF553B",
          "dash": "solid"
         },
         "marker": {
          "symbol": "circle"
         },
         "mode": "lines",
         "name": "T-Mobile",
         "orientation": "v",
         "showlegend": true,
         "type": "scatter",
         "x": [
          2006,
          2007,
          2008,
          2009,
          2010,
          2011,
          2012,
          2013,
          2017,
          2019,
          2020,
          2021,
          2022
         ],
         "xaxis": "x",
         "y": [
          3,
          3,
          3,
          12,
          10,
          13,
          4,
          1,
          1,
          2,
          3,
          1,
          2
         ],
         "yaxis": "y"
        },
        {
         "hovertemplate": "Brand=TCL<br>Release_Year=%{x}<br>count=%{y}<extra></extra>",
         "legendgroup": "TCL",
         "line": {
          "color": "#00cc96",
          "dash": "solid"
         },
         "marker": {
          "symbol": "circle"
         },
         "mode": "lines",
         "name": "TCL",
         "orientation": "v",
         "showlegend": true,
         "type": "scatter",
         "x": [
          2019,
          2020,
          2021,
          2022
         ],
         "xaxis": "x",
         "y": [
          1,
          10,
          16,
          18
         ],
         "yaxis": "y"
        },
        {
         "hovertemplate": "Brand=Tecno<br>Release_Year=%{x}<br>count=%{y}<extra></extra>",
         "legendgroup": "Tecno",
         "line": {
          "color": "#ab63fa",
          "dash": "solid"
         },
         "marker": {
          "symbol": "circle"
         },
         "mode": "lines",
         "name": "Tecno",
         "orientation": "v",
         "showlegend": true,
         "type": "scatter",
         "x": [
          2016,
          2017,
          2018,
          2019,
          2020,
          2021,
          2022
         ],
         "xaxis": "x",
         "y": [
          1,
          7,
          17,
          18,
          20,
          24,
          23
         ],
         "yaxis": "y"
        },
        {
         "hovertemplate": "Brand=Tel.Me.<br>Release_Year=%{x}<br>count=%{y}<extra></extra>",
         "legendgroup": "Tel.Me.",
         "line": {
          "color": "#FFA15A",
          "dash": "solid"
         },
         "marker": {
          "symbol": "circle"
         },
         "mode": "lines",
         "name": "Tel.Me.",
         "orientation": "v",
         "showlegend": true,
         "type": "scatter",
         "x": [
          2002,
          2003
         ],
         "xaxis": "x",
         "y": [
          1,
          3
         ],
         "yaxis": "y"
        },
        {
         "hovertemplate": "Brand=Telit<br>Release_Year=%{x}<br>count=%{y}<extra></extra>",
         "legendgroup": "Telit",
         "line": {
          "color": "#19d3f3",
          "dash": "solid"
         },
         "marker": {
          "symbol": "circle"
         },
         "mode": "lines",
         "name": "Telit",
         "orientation": "v",
         "showlegend": true,
         "type": "scatter",
         "x": [
          1999,
          2002
         ],
         "xaxis": "x",
         "y": [
          5,
          3
         ],
         "yaxis": "y"
        },
        {
         "hovertemplate": "Brand=Thuraya<br>Release_Year=%{x}<br>count=%{y}<extra></extra>",
         "legendgroup": "Thuraya",
         "line": {
          "color": "#FF6692",
          "dash": "solid"
         },
         "marker": {
          "symbol": "circle"
         },
         "mode": "lines",
         "name": "Thuraya",
         "orientation": "v",
         "showlegend": true,
         "type": "scatter",
         "x": [
          2007
         ],
         "xaxis": "x",
         "y": [
          1
         ],
         "yaxis": "y"
        },
        {
         "hovertemplate": "Brand=Toshiba<br>Release_Year=%{x}<br>count=%{y}<extra></extra>",
         "legendgroup": "Toshiba",
         "line": {
          "color": "#B6E880",
          "dash": "solid"
         },
         "marker": {
          "symbol": "circle"
         },
         "mode": "lines",
         "name": "Toshiba",
         "orientation": "v",
         "showlegend": true,
         "type": "scatter",
         "x": [
          2005,
          2006,
          2007,
          2008,
          2009,
          2010,
          2011,
          2012,
          2013,
          2014
         ],
         "xaxis": "x",
         "y": [
          1,
          8,
          2,
          4,
          1,
          2,
          2,
          5,
          3,
          2
         ],
         "yaxis": "y"
        },
        {
         "hovertemplate": "Brand=Ulefone<br>Release_Year=%{x}<br>count=%{y}<extra></extra>",
         "legendgroup": "Ulefone",
         "line": {
          "color": "#FF97FF",
          "dash": "solid"
         },
         "marker": {
          "symbol": "circle"
         },
         "mode": "lines",
         "name": "Ulefone",
         "orientation": "v",
         "showlegend": true,
         "type": "scatter",
         "x": [
          2017,
          2018,
          2019,
          2020,
          2021,
          2022
         ],
         "xaxis": "x",
         "y": [
          1,
          4,
          13,
          17,
          18,
          11
         ],
         "yaxis": "y"
        },
        {
         "hovertemplate": "Brand=Unnecto<br>Release_Year=%{x}<br>count=%{y}<extra></extra>",
         "legendgroup": "Unnecto",
         "line": {
          "color": "#FECB52",
          "dash": "solid"
         },
         "marker": {
          "symbol": "circle"
         },
         "mode": "lines",
         "name": "Unnecto",
         "orientation": "v",
         "showlegend": true,
         "type": "scatter",
         "x": [
          2011,
          2012,
          2013,
          2014,
          2015,
          2016
         ],
         "xaxis": "x",
         "y": [
          6,
          5,
          2,
          3,
          8,
          6
         ],
         "yaxis": "y"
        },
        {
         "hovertemplate": "Brand=VK Mobile<br>Release_Year=%{x}<br>count=%{y}<extra></extra>",
         "legendgroup": "VK Mobile",
         "line": {
          "color": "#636efa",
          "dash": "solid"
         },
         "marker": {
          "symbol": "circle"
         },
         "mode": "lines",
         "name": "VK Mobile",
         "orientation": "v",
         "showlegend": true,
         "type": "scatter",
         "x": [
          2005,
          2006,
          2008
         ],
         "xaxis": "x",
         "y": [
          1,
          8,
          1
         ],
         "yaxis": "y"
        },
        {
         "hovertemplate": "Brand=Vertu<br>Release_Year=%{x}<br>count=%{y}<extra></extra>",
         "legendgroup": "Vertu",
         "line": {
          "color": "#EF553B",
          "dash": "solid"
         },
         "marker": {
          "symbol": "circle"
         },
         "mode": "lines",
         "name": "Vertu",
         "orientation": "v",
         "showlegend": true,
         "type": "scatter",
         "x": [
          2003,
          2004,
          2005,
          2006,
          2008,
          2009,
          2010,
          2011,
          2013,
          2014,
          2015
         ],
         "xaxis": "x",
         "y": [
          1,
          1,
          1,
          1,
          2,
          1,
          2,
          1,
          2,
          2,
          1
         ],
         "yaxis": "y"
        },
        {
         "hovertemplate": "Brand=Vodafone<br>Release_Year=%{x}<br>count=%{y}<extra></extra>",
         "legendgroup": "Vodafone",
         "line": {
          "color": "#00cc96",
          "dash": "solid"
         },
         "marker": {
          "symbol": "circle"
         },
         "mode": "lines",
         "name": "Vodafone",
         "orientation": "v",
         "showlegend": true,
         "type": "scatter",
         "x": [
          2006,
          2007,
          2008,
          2009,
          2010,
          2011,
          2012,
          2013,
          2014,
          2015,
          2016,
          2017,
          2018,
          2019
         ],
         "xaxis": "x",
         "y": [
          1,
          6,
          7,
          11,
          11,
          2,
          6,
          5,
          5,
          6,
          6,
          4,
          4,
          2
         ],
         "yaxis": "y"
        },
        {
         "hovertemplate": "Brand=WND<br>Release_Year=%{x}<br>count=%{y}<extra></extra>",
         "legendgroup": "WND",
         "line": {
          "color": "#ab63fa",
          "dash": "solid"
         },
         "marker": {
          "symbol": "circle"
         },
         "mode": "lines",
         "name": "WND",
         "orientation": "v",
         "showlegend": true,
         "type": "scatter",
         "x": [
          2007
         ],
         "xaxis": "x",
         "y": [
          5
         ],
         "yaxis": "y"
        },
        {
         "hovertemplate": "Brand=Wiko<br>Release_Year=%{x}<br>count=%{y}<extra></extra>",
         "legendgroup": "Wiko",
         "line": {
          "color": "#FFA15A",
          "dash": "solid"
         },
         "marker": {
          "symbol": "circle"
         },
         "mode": "lines",
         "name": "Wiko",
         "orientation": "v",
         "showlegend": true,
         "type": "scatter",
         "x": [
          2014,
          2015,
          2016,
          2017,
          2018,
          2019,
          2020,
          2021,
          2022
         ],
         "xaxis": "x",
         "y": [
          11,
          17,
          13,
          17,
          5,
          9,
          11,
          7,
          4
         ],
         "yaxis": "y"
        },
        {
         "hovertemplate": "Brand=XCute<br>Release_Year=%{x}<br>count=%{y}<extra></extra>",
         "legendgroup": "XCute",
         "line": {
          "color": "#19d3f3",
          "dash": "solid"
         },
         "marker": {
          "symbol": "circle"
         },
         "mode": "lines",
         "name": "XCute",
         "orientation": "v",
         "showlegend": true,
         "type": "scatter",
         "x": [
          2006
         ],
         "xaxis": "x",
         "y": [
          2
         ],
         "yaxis": "y"
        },
        {
         "hovertemplate": "Brand=XOLO<br>Release_Year=%{x}<br>count=%{y}<extra></extra>",
         "legendgroup": "XOLO",
         "line": {
          "color": "#FF6692",
          "dash": "solid"
         },
         "marker": {
          "symbol": "circle"
         },
         "mode": "lines",
         "name": "XOLO",
         "orientation": "v",
         "showlegend": true,
         "type": "scatter",
         "x": [
          2013,
          2014,
          2015,
          2016,
          2017
         ],
         "xaxis": "x",
         "y": [
          24,
          37,
          12,
          6,
          1
         ],
         "yaxis": "y"
        },
        {
         "hovertemplate": "Brand=Xiaomi<br>Release_Year=%{x}<br>count=%{y}<extra></extra>",
         "legendgroup": "Xiaomi",
         "line": {
          "color": "#B6E880",
          "dash": "solid"
         },
         "marker": {
          "symbol": "circle"
         },
         "mode": "lines",
         "name": "Xiaomi",
         "orientation": "v",
         "showlegend": true,
         "type": "scatter",
         "x": [
          2012,
          2013,
          2014,
          2015,
          2016,
          2017,
          2018,
          2019,
          2020,
          2021,
          2022,
          2023
         ],
         "xaxis": "x",
         "y": [
          2,
          4,
          6,
          12,
          18,
          14,
          23,
          35,
          55,
          65,
          71,
          4
         ],
         "yaxis": "y"
        },
        {
         "hovertemplate": "Brand=YU<br>Release_Year=%{x}<br>count=%{y}<extra></extra>",
         "legendgroup": "YU",
         "line": {
          "color": "#FF97FF",
          "dash": "solid"
         },
         "marker": {
          "symbol": "circle"
         },
         "mode": "lines",
         "name": "YU",
         "orientation": "v",
         "showlegend": true,
         "type": "scatter",
         "x": [
          2015,
          2016,
          2017,
          2018
         ],
         "xaxis": "x",
         "y": [
          5,
          4,
          3,
          1
         ],
         "yaxis": "y"
        },
        {
         "hovertemplate": "Brand=Yezz<br>Release_Year=%{x}<br>count=%{y}<extra></extra>",
         "legendgroup": "Yezz",
         "line": {
          "color": "#FECB52",
          "dash": "solid"
         },
         "marker": {
          "symbol": "circle"
         },
         "mode": "lines",
         "name": "Yezz",
         "orientation": "v",
         "showlegend": true,
         "type": "scatter",
         "x": [
          2011,
          2012,
          2013,
          2014,
          2015,
          2016,
          2018,
          2019,
          2020,
          2021,
          2022
         ],
         "xaxis": "x",
         "y": [
          10,
          8,
          15,
          21,
          19,
          14,
          4,
          2,
          4,
          5,
          5
         ],
         "yaxis": "y"
        },
        {
         "hovertemplate": "Brand=Yota<br>Release_Year=%{x}<br>count=%{y}<extra></extra>",
         "legendgroup": "Yota",
         "line": {
          "color": "#636efa",
          "dash": "solid"
         },
         "marker": {
          "symbol": "circle"
         },
         "mode": "lines",
         "name": "Yota",
         "orientation": "v",
         "showlegend": true,
         "type": "scatter",
         "x": [
          2013,
          2014,
          2017
         ],
         "xaxis": "x",
         "y": [
          1,
          1,
          1
         ],
         "yaxis": "y"
        },
        {
         "hovertemplate": "Brand=ZTE<br>Release_Year=%{x}<br>count=%{y}<extra></extra>",
         "legendgroup": "ZTE",
         "line": {
          "color": "#EF553B",
          "dash": "solid"
         },
         "marker": {
          "symbol": "circle"
         },
         "mode": "lines",
         "name": "ZTE",
         "orientation": "v",
         "showlegend": true,
         "type": "scatter",
         "x": [
          2007,
          2008,
          2009,
          2010,
          2011,
          2012,
          2013,
          2014,
          2015,
          2016,
          2017,
          2018,
          2019,
          2020,
          2021,
          2022
         ],
         "xaxis": "x",
         "y": [
          1,
          2,
          14,
          14,
          15,
          31,
          20,
          27,
          38,
          25,
          31,
          12,
          18,
          23,
          31,
          24
         ],
         "yaxis": "y"
        },
        {
         "hovertemplate": "Brand=alcatel<br>Release_Year=%{x}<br>count=%{y}<extra></extra>",
         "legendgroup": "alcatel",
         "line": {
          "color": "#00cc96",
          "dash": "solid"
         },
         "marker": {
          "symbol": "circle"
         },
         "mode": "lines",
         "name": "alcatel",
         "orientation": "v",
         "showlegend": true,
         "type": "scatter",
         "x": [
          1998,
          1999,
          2000,
          2001,
          2002,
          2003,
          2006,
          2007,
          2008,
          2009,
          2010,
          2011,
          2012,
          2013,
          2014,
          2015,
          2016,
          2017,
          2018,
          2019,
          2020,
          2021,
          2022
         ],
         "xaxis": "x",
         "y": [
          1,
          1,
          9,
          2,
          2,
          4,
          9,
          18,
          21,
          19,
          21,
          20,
          27,
          28,
          33,
          26,
          14,
          12,
          13,
          12,
          6,
          7,
          1
         ],
         "yaxis": "y"
        },
        {
         "hovertemplate": "Brand=i-mate<br>Release_Year=%{x}<br>count=%{y}<extra></extra>",
         "legendgroup": "i-mate",
         "line": {
          "color": "#ab63fa",
          "dash": "solid"
         },
         "marker": {
          "symbol": "circle"
         },
         "mode": "lines",
         "name": "i-mate",
         "orientation": "v",
         "showlegend": true,
         "type": "scatter",
         "x": [
          2005,
          2006,
          2007,
          2008,
          2009
         ],
         "xaxis": "x",
         "y": [
          5,
          7,
          7,
          4,
          1
         ],
         "yaxis": "y"
        },
        {
         "hovertemplate": "Brand=i-mobile<br>Release_Year=%{x}<br>count=%{y}<extra></extra>",
         "legendgroup": "i-mobile",
         "line": {
          "color": "#FFA15A",
          "dash": "solid"
         },
         "marker": {
          "symbol": "circle"
         },
         "mode": "lines",
         "name": "i-mobile",
         "orientation": "v",
         "showlegend": true,
         "type": "scatter",
         "x": [
          2006,
          2007,
          2008,
          2009,
          2010
         ],
         "xaxis": "x",
         "y": [
          1,
          6,
          12,
          6,
          5
         ],
         "yaxis": "y"
        },
        {
         "hovertemplate": "Brand=iNQ<br>Release_Year=%{x}<br>count=%{y}<extra></extra>",
         "legendgroup": "iNQ",
         "line": {
          "color": "#19d3f3",
          "dash": "solid"
         },
         "marker": {
          "symbol": "circle"
         },
         "mode": "lines",
         "name": "iNQ",
         "orientation": "v",
         "showlegend": true,
         "type": "scatter",
         "x": [
          2009,
          2011
         ],
         "xaxis": "x",
         "y": [
          3,
          2
         ],
         "yaxis": "y"
        },
        {
         "hovertemplate": "Brand=verykool<br>Release_Year=%{x}<br>count=%{y}<extra></extra>",
         "legendgroup": "verykool",
         "line": {
          "color": "#FF6692",
          "dash": "solid"
         },
         "marker": {
          "symbol": "circle"
         },
         "mode": "lines",
         "name": "verykool",
         "orientation": "v",
         "showlegend": true,
         "type": "scatter",
         "x": [
          2011,
          2012,
          2013,
          2014,
          2015,
          2016,
          2017,
          2018
         ],
         "xaxis": "x",
         "y": [
          23,
          17,
          19,
          19,
          19,
          13,
          21,
          3
         ],
         "yaxis": "y"
        },
        {
         "hovertemplate": "Brand=vivo<br>Release_Year=%{x}<br>count=%{y}<extra></extra>",
         "legendgroup": "vivo",
         "line": {
          "color": "#B6E880",
          "dash": "solid"
         },
         "marker": {
          "symbol": "circle"
         },
         "mode": "lines",
         "name": "vivo",
         "orientation": "v",
         "showlegend": true,
         "type": "scatter",
         "x": [
          2013,
          2014,
          2015,
          2016,
          2017,
          2018,
          2019,
          2020,
          2021,
          2022
         ],
         "xaxis": "x",
         "y": [
          3,
          6,
          12,
          14,
          14,
          31,
          47,
          49,
          76,
          83
         ],
         "yaxis": "y"
        }
       ],
       "layout": {
        "height": 600,
        "legend": {
         "title": {
          "text": "Brand"
         },
         "tracegroupgap": 0
        },
        "margin": {
         "t": 60
        },
        "showlegend": false,
        "template": {
         "data": {
          "bar": [
           {
            "error_x": {
             "color": "#2a3f5f"
            },
            "error_y": {
             "color": "#2a3f5f"
            },
            "marker": {
             "line": {
              "color": "#E5ECF6",
              "width": 0.5
             },
             "pattern": {
              "fillmode": "overlay",
              "size": 10,
              "solidity": 0.2
             }
            },
            "type": "bar"
           }
          ],
          "barpolar": [
           {
            "marker": {
             "line": {
              "color": "#E5ECF6",
              "width": 0.5
             },
             "pattern": {
              "fillmode": "overlay",
              "size": 10,
              "solidity": 0.2
             }
            },
            "type": "barpolar"
           }
          ],
          "carpet": [
           {
            "aaxis": {
             "endlinecolor": "#2a3f5f",
             "gridcolor": "white",
             "linecolor": "white",
             "minorgridcolor": "white",
             "startlinecolor": "#2a3f5f"
            },
            "baxis": {
             "endlinecolor": "#2a3f5f",
             "gridcolor": "white",
             "linecolor": "white",
             "minorgridcolor": "white",
             "startlinecolor": "#2a3f5f"
            },
            "type": "carpet"
           }
          ],
          "choropleth": [
           {
            "colorbar": {
             "outlinewidth": 0,
             "ticks": ""
            },
            "type": "choropleth"
           }
          ],
          "contour": [
           {
            "colorbar": {
             "outlinewidth": 0,
             "ticks": ""
            },
            "colorscale": [
             [
              0,
              "#0d0887"
             ],
             [
              0.1111111111111111,
              "#46039f"
             ],
             [
              0.2222222222222222,
              "#7201a8"
             ],
             [
              0.3333333333333333,
              "#9c179e"
             ],
             [
              0.4444444444444444,
              "#bd3786"
             ],
             [
              0.5555555555555556,
              "#d8576b"
             ],
             [
              0.6666666666666666,
              "#ed7953"
             ],
             [
              0.7777777777777778,
              "#fb9f3a"
             ],
             [
              0.8888888888888888,
              "#fdca26"
             ],
             [
              1,
              "#f0f921"
             ]
            ],
            "type": "contour"
           }
          ],
          "contourcarpet": [
           {
            "colorbar": {
             "outlinewidth": 0,
             "ticks": ""
            },
            "type": "contourcarpet"
           }
          ],
          "heatmap": [
           {
            "colorbar": {
             "outlinewidth": 0,
             "ticks": ""
            },
            "colorscale": [
             [
              0,
              "#0d0887"
             ],
             [
              0.1111111111111111,
              "#46039f"
             ],
             [
              0.2222222222222222,
              "#7201a8"
             ],
             [
              0.3333333333333333,
              "#9c179e"
             ],
             [
              0.4444444444444444,
              "#bd3786"
             ],
             [
              0.5555555555555556,
              "#d8576b"
             ],
             [
              0.6666666666666666,
              "#ed7953"
             ],
             [
              0.7777777777777778,
              "#fb9f3a"
             ],
             [
              0.8888888888888888,
              "#fdca26"
             ],
             [
              1,
              "#f0f921"
             ]
            ],
            "type": "heatmap"
           }
          ],
          "heatmapgl": [
           {
            "colorbar": {
             "outlinewidth": 0,
             "ticks": ""
            },
            "colorscale": [
             [
              0,
              "#0d0887"
             ],
             [
              0.1111111111111111,
              "#46039f"
             ],
             [
              0.2222222222222222,
              "#7201a8"
             ],
             [
              0.3333333333333333,
              "#9c179e"
             ],
             [
              0.4444444444444444,
              "#bd3786"
             ],
             [
              0.5555555555555556,
              "#d8576b"
             ],
             [
              0.6666666666666666,
              "#ed7953"
             ],
             [
              0.7777777777777778,
              "#fb9f3a"
             ],
             [
              0.8888888888888888,
              "#fdca26"
             ],
             [
              1,
              "#f0f921"
             ]
            ],
            "type": "heatmapgl"
           }
          ],
          "histogram": [
           {
            "marker": {
             "pattern": {
              "fillmode": "overlay",
              "size": 10,
              "solidity": 0.2
             }
            },
            "type": "histogram"
           }
          ],
          "histogram2d": [
           {
            "colorbar": {
             "outlinewidth": 0,
             "ticks": ""
            },
            "colorscale": [
             [
              0,
              "#0d0887"
             ],
             [
              0.1111111111111111,
              "#46039f"
             ],
             [
              0.2222222222222222,
              "#7201a8"
             ],
             [
              0.3333333333333333,
              "#9c179e"
             ],
             [
              0.4444444444444444,
              "#bd3786"
             ],
             [
              0.5555555555555556,
              "#d8576b"
             ],
             [
              0.6666666666666666,
              "#ed7953"
             ],
             [
              0.7777777777777778,
              "#fb9f3a"
             ],
             [
              0.8888888888888888,
              "#fdca26"
             ],
             [
              1,
              "#f0f921"
             ]
            ],
            "type": "histogram2d"
           }
          ],
          "histogram2dcontour": [
           {
            "colorbar": {
             "outlinewidth": 0,
             "ticks": ""
            },
            "colorscale": [
             [
              0,
              "#0d0887"
             ],
             [
              0.1111111111111111,
              "#46039f"
             ],
             [
              0.2222222222222222,
              "#7201a8"
             ],
             [
              0.3333333333333333,
              "#9c179e"
             ],
             [
              0.4444444444444444,
              "#bd3786"
             ],
             [
              0.5555555555555556,
              "#d8576b"
             ],
             [
              0.6666666666666666,
              "#ed7953"
             ],
             [
              0.7777777777777778,
              "#fb9f3a"
             ],
             [
              0.8888888888888888,
              "#fdca26"
             ],
             [
              1,
              "#f0f921"
             ]
            ],
            "type": "histogram2dcontour"
           }
          ],
          "mesh3d": [
           {
            "colorbar": {
             "outlinewidth": 0,
             "ticks": ""
            },
            "type": "mesh3d"
           }
          ],
          "parcoords": [
           {
            "line": {
             "colorbar": {
              "outlinewidth": 0,
              "ticks": ""
             }
            },
            "type": "parcoords"
           }
          ],
          "pie": [
           {
            "automargin": true,
            "type": "pie"
           }
          ],
          "scatter": [
           {
            "fillpattern": {
             "fillmode": "overlay",
             "size": 10,
             "solidity": 0.2
            },
            "type": "scatter"
           }
          ],
          "scatter3d": [
           {
            "line": {
             "colorbar": {
              "outlinewidth": 0,
              "ticks": ""
             }
            },
            "marker": {
             "colorbar": {
              "outlinewidth": 0,
              "ticks": ""
             }
            },
            "type": "scatter3d"
           }
          ],
          "scattercarpet": [
           {
            "marker": {
             "colorbar": {
              "outlinewidth": 0,
              "ticks": ""
             }
            },
            "type": "scattercarpet"
           }
          ],
          "scattergeo": [
           {
            "marker": {
             "colorbar": {
              "outlinewidth": 0,
              "ticks": ""
             }
            },
            "type": "scattergeo"
           }
          ],
          "scattergl": [
           {
            "marker": {
             "colorbar": {
              "outlinewidth": 0,
              "ticks": ""
             }
            },
            "type": "scattergl"
           }
          ],
          "scattermapbox": [
           {
            "marker": {
             "colorbar": {
              "outlinewidth": 0,
              "ticks": ""
             }
            },
            "type": "scattermapbox"
           }
          ],
          "scatterpolar": [
           {
            "marker": {
             "colorbar": {
              "outlinewidth": 0,
              "ticks": ""
             }
            },
            "type": "scatterpolar"
           }
          ],
          "scatterpolargl": [
           {
            "marker": {
             "colorbar": {
              "outlinewidth": 0,
              "ticks": ""
             }
            },
            "type": "scatterpolargl"
           }
          ],
          "scatterternary": [
           {
            "marker": {
             "colorbar": {
              "outlinewidth": 0,
              "ticks": ""
             }
            },
            "type": "scatterternary"
           }
          ],
          "surface": [
           {
            "colorbar": {
             "outlinewidth": 0,
             "ticks": ""
            },
            "colorscale": [
             [
              0,
              "#0d0887"
             ],
             [
              0.1111111111111111,
              "#46039f"
             ],
             [
              0.2222222222222222,
              "#7201a8"
             ],
             [
              0.3333333333333333,
              "#9c179e"
             ],
             [
              0.4444444444444444,
              "#bd3786"
             ],
             [
              0.5555555555555556,
              "#d8576b"
             ],
             [
              0.6666666666666666,
              "#ed7953"
             ],
             [
              0.7777777777777778,
              "#fb9f3a"
             ],
             [
              0.8888888888888888,
              "#fdca26"
             ],
             [
              1,
              "#f0f921"
             ]
            ],
            "type": "surface"
           }
          ],
          "table": [
           {
            "cells": {
             "fill": {
              "color": "#EBF0F8"
             },
             "line": {
              "color": "white"
             }
            },
            "header": {
             "fill": {
              "color": "#C8D4E3"
             },
             "line": {
              "color": "white"
             }
            },
            "type": "table"
           }
          ]
         },
         "layout": {
          "annotationdefaults": {
           "arrowcolor": "#2a3f5f",
           "arrowhead": 0,
           "arrowwidth": 1
          },
          "autotypenumbers": "strict",
          "coloraxis": {
           "colorbar": {
            "outlinewidth": 0,
            "ticks": ""
           }
          },
          "colorscale": {
           "diverging": [
            [
             0,
             "#8e0152"
            ],
            [
             0.1,
             "#c51b7d"
            ],
            [
             0.2,
             "#de77ae"
            ],
            [
             0.3,
             "#f1b6da"
            ],
            [
             0.4,
             "#fde0ef"
            ],
            [
             0.5,
             "#f7f7f7"
            ],
            [
             0.6,
             "#e6f5d0"
            ],
            [
             0.7,
             "#b8e186"
            ],
            [
             0.8,
             "#7fbc41"
            ],
            [
             0.9,
             "#4d9221"
            ],
            [
             1,
             "#276419"
            ]
           ],
           "sequential": [
            [
             0,
             "#0d0887"
            ],
            [
             0.1111111111111111,
             "#46039f"
            ],
            [
             0.2222222222222222,
             "#7201a8"
            ],
            [
             0.3333333333333333,
             "#9c179e"
            ],
            [
             0.4444444444444444,
             "#bd3786"
            ],
            [
             0.5555555555555556,
             "#d8576b"
            ],
            [
             0.6666666666666666,
             "#ed7953"
            ],
            [
             0.7777777777777778,
             "#fb9f3a"
            ],
            [
             0.8888888888888888,
             "#fdca26"
            ],
            [
             1,
             "#f0f921"
            ]
           ],
           "sequentialminus": [
            [
             0,
             "#0d0887"
            ],
            [
             0.1111111111111111,
             "#46039f"
            ],
            [
             0.2222222222222222,
             "#7201a8"
            ],
            [
             0.3333333333333333,
             "#9c179e"
            ],
            [
             0.4444444444444444,
             "#bd3786"
            ],
            [
             0.5555555555555556,
             "#d8576b"
            ],
            [
             0.6666666666666666,
             "#ed7953"
            ],
            [
             0.7777777777777778,
             "#fb9f3a"
            ],
            [
             0.8888888888888888,
             "#fdca26"
            ],
            [
             1,
             "#f0f921"
            ]
           ]
          },
          "colorway": [
           "#636efa",
           "#EF553B",
           "#00cc96",
           "#ab63fa",
           "#FFA15A",
           "#19d3f3",
           "#FF6692",
           "#B6E880",
           "#FF97FF",
           "#FECB52"
          ],
          "font": {
           "color": "#2a3f5f"
          },
          "geo": {
           "bgcolor": "white",
           "lakecolor": "white",
           "landcolor": "#E5ECF6",
           "showlakes": true,
           "showland": true,
           "subunitcolor": "white"
          },
          "hoverlabel": {
           "align": "left"
          },
          "hovermode": "closest",
          "mapbox": {
           "style": "light"
          },
          "paper_bgcolor": "white",
          "plot_bgcolor": "#E5ECF6",
          "polar": {
           "angularaxis": {
            "gridcolor": "white",
            "linecolor": "white",
            "ticks": ""
           },
           "bgcolor": "#E5ECF6",
           "radialaxis": {
            "gridcolor": "white",
            "linecolor": "white",
            "ticks": ""
           }
          },
          "scene": {
           "xaxis": {
            "backgroundcolor": "#E5ECF6",
            "gridcolor": "white",
            "gridwidth": 2,
            "linecolor": "white",
            "showbackground": true,
            "ticks": "",
            "zerolinecolor": "white"
           },
           "yaxis": {
            "backgroundcolor": "#E5ECF6",
            "gridcolor": "white",
            "gridwidth": 2,
            "linecolor": "white",
            "showbackground": true,
            "ticks": "",
            "zerolinecolor": "white"
           },
           "zaxis": {
            "backgroundcolor": "#E5ECF6",
            "gridcolor": "white",
            "gridwidth": 2,
            "linecolor": "white",
            "showbackground": true,
            "ticks": "",
            "zerolinecolor": "white"
           }
          },
          "shapedefaults": {
           "line": {
            "color": "#2a3f5f"
           }
          },
          "ternary": {
           "aaxis": {
            "gridcolor": "white",
            "linecolor": "white",
            "ticks": ""
           },
           "baxis": {
            "gridcolor": "white",
            "linecolor": "white",
            "ticks": ""
           },
           "bgcolor": "#E5ECF6",
           "caxis": {
            "gridcolor": "white",
            "linecolor": "white",
            "ticks": ""
           }
          },
          "title": {
           "x": 0.05
          },
          "xaxis": {
           "automargin": true,
           "gridcolor": "white",
           "linecolor": "white",
           "ticks": "",
           "title": {
            "standoff": 15
           },
           "zerolinecolor": "white",
           "zerolinewidth": 2
          },
          "yaxis": {
           "automargin": true,
           "gridcolor": "white",
           "linecolor": "white",
           "ticks": "",
           "title": {
            "standoff": 15
           },
           "zerolinecolor": "white",
           "zerolinewidth": 2
          }
         }
        },
        "title": {
         "text": "Number of Phones Released by Brand each Year between 1994 and 2022"
        },
        "width": 1200,
        "xaxis": {
         "anchor": "y",
         "domain": [
          0,
          1
         ],
         "range": [
          1994,
          2022
         ],
         "title": {
          "text": "Release Year"
         }
        },
        "yaxis": {
         "anchor": "x",
         "domain": [
          0,
          1
         ],
         "title": {
          "text": "Count"
         }
        }
       }
      }
     },
     "metadata": {},
     "output_type": "display_data"
    }
   ],
   "source": [
    "import plotly.express as px\n",
    "\n",
    "# Get the phone counts by brand and release year\n",
    "phone_counts = df.groupby(['Brand', 'Release_Year']).size().reset_index(name='count')\n",
    "\n",
    "# Create the line plot\n",
    "fig = px.line(phone_counts, x='Release_Year', y='count', color='Brand')\n",
    "\n",
    "# Set the x-axis label\n",
    "fig.update_xaxes(title_text='Release Year')\n",
    "\n",
    "# Set the y-axis label\n",
    "fig.update_yaxes(title_text='Count')\n",
    "\n",
    "# Set the plot title\n",
    "fig.update_layout(title='Number of Phones Released by Brand each Year between 1994 and 2022')\n",
    "\n",
    "\n",
    "\n",
    "# Set the maximum value of the x-axis to 2022\n",
    "fig.update_layout(xaxis=dict(range=[df['Release_Year'].min(), 2022]))\n",
    "\n",
    "# Remove the legend\n",
    "fig.update_layout(showlegend=False, height=600, width=1200)\n",
    "\n",
    "# Show the plot\n",
    "fig.show()\n"
   ]
  },
  {
   "cell_type": "code",
   "execution_count": 57,
   "metadata": {},
   "outputs": [
    {
     "data": {
      "application/vnd.jupyter.widget-view+json": {
       "model_id": "77eb0ad600a24da388f399efcf7c7c26",
       "version_major": 2,
       "version_minor": 0
      },
      "text/plain": [
       "interactive(children=(SelectMultiple(description='Brand:', index=(0,), options=('AT&T', 'Acer', 'Allview', 'Am…"
      ]
     },
     "metadata": {},
     "output_type": "display_data"
    }
   ],
   "source": [
    "import ipywidgets as widgets\n",
    "from ipywidgets import interact\n",
    "\n",
    "# Get the phone counts by brand and release year\n",
    "phone_counts = df.groupby(['Brand', 'Release_Year']).size().reset_index(name='count')\n",
    "\n",
    "# Create a list of all the available brands\n",
    "brands = phone_counts['Brand'].unique().tolist()\n",
    "\n",
    "# Define a function to update the plot based on the selected brand\n",
    "def update_plot(brands):\n",
    "    # Filter the phone counts by the selected brands\n",
    "    brand_counts = phone_counts[phone_counts['Brand'].isin(brands)]\n",
    "    \n",
    "    # Set the size of the figure\n",
    "    plt.figure(figsize=(20,10))\n",
    "\n",
    "    # Create the line plot\n",
    "    sns.set_style('whitegrid')\n",
    "    g = sns.lineplot(x='Release_Year', y='count', hue='Brand', data=brand_counts)\n",
    "\n",
    "    # Set the x-axis label and ticks\n",
    "    g.set(xlabel='Release Year')\n",
    "    g.set(ylabel='Count')\n",
    "    g.set(title=f'Number of Phones Released by {\", \".join(brands)} each Year')\n",
    "    g.set_xticks(range(2010, 2023))\n",
    "\n",
    "    # Show the plot\n",
    "    plt.show()\n",
    "\n",
    "# Create the interactive widget\n",
    "interact(update_plot, brands=widgets.SelectMultiple(options=brands, value=[brands[0]], description='Brand:'));\n"
   ]
  },
  {
   "cell_type": "code",
   "execution_count": 58,
   "metadata": {},
   "outputs": [
    {
     "data": {
      "text/plain": [
       "Index(['Brand', 'Model', 'Highest_Network_Technology', 'Announced', 'Released',\n",
       "       'Status', 'Length', 'Width', 'Thickness', 'Weight', 'Front', 'Back',\n",
       "       'Frame', 'Number_of_SIMs', 'Type_of_SIM', 'Display_Type',\n",
       "       'Display_Brightness', 'Display_HDR_Capability', 'Display_Size_(inches)',\n",
       "       'Screen_To_Body_Ratio_(%)', 'Display_Aspect_Ratio', 'Pixel_Density',\n",
       "       'Display_Protection', 'Mobile_OS', 'Mobile_OS_Version', 'Chipset_Maker',\n",
       "       'Fabrication_Process', 'Number_of_CPU_Cores',\n",
       "       'CPU_Performance_Core_Frequency', 'CPU_Efficiency_Core_Frequency',\n",
       "       'SD Card Slot', 'ROM', 'RAM', 'Number_of_Rear_Cameras',\n",
       "       'Storage_Type_Version', 'Storage_Type', 'Highest_Camera_Resolution',\n",
       "       'HDR', 'Rear_Video_Resolution', 'Rear_Video_Framerate',\n",
       "       'Number_of_Selfie_Cameras', 'Selfie_Video_Resolution',\n",
       "       'Selfie_Video_Framerate', 'Headphone_Jack', 'WI-FI', 'Bluetooth', 'NFC',\n",
       "       'Radio', 'USB_Connector', 'USB_Version', 'Biometric_Sensor',\n",
       "       'Biometric_Sensor_Type', 'Biometric_Sensor_Technology',\n",
       "       'Biometric_Sensor_Location', 'UWB', 'Removable', 'Battery_Type',\n",
       "       'Battery_Capacity', 'Colors', 'Charging_Speed', 'Wireless_Charging',\n",
       "       'Reverse_Charging', 'Loudspeaker_Voice', 'Loudspeaker_Noise',\n",
       "       'Loudspeaker_Ring', 'Battery_Life', 'IP_Rating', 'Price'],\n",
       "      dtype='object')"
      ]
     },
     "execution_count": 58,
     "metadata": {},
     "output_type": "execute_result"
    }
   ],
   "source": [
    "cleaned_gsm_arena_data.columns"
   ]
  },
  {
   "attachments": {},
   "cell_type": "markdown",
   "metadata": {},
   "source": [
    "***** Build *****"
   ]
  },
  {
   "cell_type": "code",
   "execution_count": 80,
   "metadata": {},
   "outputs": [
    {
     "data": {
      "text/plain": [
       "11080     0.0\n",
       "6943      0.0\n",
       "11081     0.0\n",
       "7945      4.7\n",
       "5079      4.9\n",
       "         ... \n",
       "4062     46.0\n",
       "4060     46.0\n",
       "4061     47.0\n",
       "2755     50.0\n",
       "4022     75.0\n",
       "Name: Thickness, Length: 10652, dtype: object"
      ]
     },
     "execution_count": 80,
     "metadata": {},
     "output_type": "execute_result"
    }
   ],
   "source": [
    "cleaned_gsm_arena_data[cleaned_gsm_arena_data['Thickness']!= 'Not Measured']['Thickness'].sort_values()"
   ]
  },
  {
   "cell_type": "code",
   "execution_count": 90,
   "metadata": {},
   "outputs": [
    {
     "data": {
      "text/plain": [
       "Brand                                 Lenovo\n",
       "Model                         Yoga Tab 3 Pro\n",
       "Highest_Network_Technology               LTE\n",
       "Announced                            2015-12\n",
       "Released                             2015-12\n",
       "                                   ...      \n",
       "Loudspeaker_Noise                   untested\n",
       "Loudspeaker_Ring                    untested\n",
       "Battery_Life                        untested\n",
       "IP_Rating                      No Resistance\n",
       "Price                                  380.0\n",
       "Name: 7945, Length: 68, dtype: object"
      ]
     },
     "execution_count": 90,
     "metadata": {},
     "output_type": "execute_result"
    }
   ],
   "source": [
    "cleaned_gsm_arena_data.loc[7945]"
   ]
  },
  {
   "cell_type": "code",
   "execution_count": 81,
   "metadata": {},
   "outputs": [
    {
     "data": {
      "text/plain": [
       "4022     75.0\n",
       "2755     50.0\n",
       "4061     47.0\n",
       "4060     46.0\n",
       "4062     46.0\n",
       "         ... \n",
       "5079      4.9\n",
       "7945      4.7\n",
       "11080     0.0\n",
       "6943      0.0\n",
       "11081     0.0\n",
       "Name: Thickness, Length: 10652, dtype: object"
      ]
     },
     "execution_count": 81,
     "metadata": {},
     "output_type": "execute_result"
    }
   ],
   "source": [
    "cleaned_gsm_arena_data[cleaned_gsm_arena_data['Thickness']!= 'Not Measured']['Thickness'].sort_values(ascending=False)"
   ]
  },
  {
   "cell_type": "code",
   "execution_count": 91,
   "metadata": {},
   "outputs": [
    {
     "data": {
      "text/plain": [
       "Brand                                 Sagem\n",
       "Model                               MY 3078\n",
       "Highest_Network_Technology              GSM\n",
       "Announced                           2002-01\n",
       "Released                            2002-01\n",
       "                                  ...      \n",
       "Loudspeaker_Noise                  untested\n",
       "Loudspeaker_Ring                   untested\n",
       "Battery_Life                       untested\n",
       "IP_Rating                     No Resistance\n",
       "Price                           unspecified\n",
       "Name: 4022, Length: 68, dtype: object"
      ]
     },
     "execution_count": 91,
     "metadata": {},
     "output_type": "execute_result"
    }
   ],
   "source": [
    "cleaned_gsm_arena_data.loc[4022]"
   ]
  },
  {
   "cell_type": "code",
   "execution_count": 94,
   "metadata": {},
   "outputs": [
    {
     "data": {
      "image/png": "[encoded data removed]",
      "text/plain": [
       "<Figure size 1440x720 with 1 Axes>"
      ]
     },
     "metadata": {},
     "output_type": "display_data"
    }
   ],
   "source": [
    "# Create a countplot using seaborn\n",
    "plt.figure(figsize=(20, 10))\n",
    "ax = sns.countplot(x='Back', data=cleaned_gsm_arena_data)\n",
    "\n",
    "# Add labels to the plot\n",
    "plt.xlabel('Status')\n",
    "plt.ylabel('Count')\n",
    "plt.title('Distribution of Materials used for Back', fontsize=20, weight='bold')\n",
    "\n",
    "plt.xticks(rotation=90)\n",
    "\n",
    "# Add percentages to the plot\n",
    "total = float(len(cleaned_gsm_arena_data['Back']))\n",
    "for p in ax.patches:\n",
    "    percentage = '{:.1f}%'.format(100 * p.get_height()/total)\n",
    "    x = p.get_x() + p.get_width() / 2 - 0.1\n",
    "    y = p.get_y() + p.get_height() + 1\n",
    "    ax.annotate(percentage, (x, y), ha='center', fontsize=10)\n",
    "\n",
    "# Show the plot\n",
    "plt.show()"
   ]
  },
  {
   "cell_type": "code",
   "execution_count": 97,
   "metadata": {},
   "outputs": [
    {
     "data": {
      "text/plain": [
       "                                                       9922\n",
       "plastic                                                1004\n",
       "aluminum                                                884\n",
       "stainless steel                                          59\n",
       "Plastic                                                  17\n",
       "stainless steel 316L                                     12\n",
       "titanium                                                  8\n",
       "ceramic                                                   7\n",
       "stainless steel  316L                                     5\n",
       "stainless steel  316L or titanium                         2\n",
       "18-karat yellow/rose gold                                 2\n",
       "magnesium alloy                                           2\n",
       "aluminum/plastic                                          2\n",
       "aluminum \\nGlass front ,  ceramic                         1\n",
       "titanium alloy                                            1\n",
       "stainless steel  or aluminum                              1\n",
       "zinc                                                      1\n",
       "stainless steel/plastic                                   1\n",
       "stainless steel \\nGlass front,  aluminum                  1\n",
       "titanium  or ceramic                                      1\n",
       "aluminum \\nGlass front ,  ceramic  - 128/8 GB model       1\n",
       "stainless steel 316L & aluminum alloy                     1\n",
       "titanium \\nGlass front ,  ceramic                         1\n",
       "Name: Frame, dtype: int64"
      ]
     },
     "execution_count": 97,
     "metadata": {},
     "output_type": "execute_result"
    }
   ],
   "source": [
    "cleaned_gsm_arena_data['Frame'].value_counts()"
   ]
  },
  {
   "cell_type": "code",
   "execution_count": 99,
   "metadata": {},
   "outputs": [
    {
     "data": {
      "text/plain": [
       "Not Measured    1767\n",
       "84.2              56\n",
       "81.6              53\n",
       "66.7              53\n",
       "66.2              49\n",
       "                ... \n",
       "144.2              1\n",
       "152.6              1\n",
       "14.0               1\n",
       "40.6               1\n",
       "10.6               1\n",
       "Name: Screen_To_Body_Ratio_(%), Length: 824, dtype: int64"
      ]
     },
     "execution_count": 99,
     "metadata": {},
     "output_type": "execute_result"
    }
   ],
   "source": [
    "cleaned_gsm_arena_data['Screen_To_Body_Ratio_(%)'].value_counts()"
   ]
  },
  {
   "cell_type": "code",
   "execution_count": 101,
   "metadata": {},
   "outputs": [
    {
     "data": {
      "text/plain": [
       "666      180.8\n",
       "6726     152.6\n",
       "6725     144.2\n",
       "1871     110.6\n",
       "309      102.0\n",
       "         ...  \n",
       "6656      10.0\n",
       "4670       9.9\n",
       "5457       9.9\n",
       "11557      9.8\n",
       "7309       7.6\n",
       "Name: Screen_To_Body_Ratio_(%), Length: 10169, dtype: object"
      ]
     },
     "execution_count": 101,
     "metadata": {},
     "output_type": "execute_result"
    }
   ],
   "source": [
    "cleaned_gsm_arena_data[cleaned_gsm_arena_data['Screen_To_Body_Ratio_(%)']!= 'Not Measured']['Screen_To_Body_Ratio_(%)'].sort_values(ascending=False)"
   ]
  },
  {
   "cell_type": "code",
   "execution_count": 103,
   "metadata": {},
   "outputs": [
    {
     "data": {
      "text/plain": [
       "Brand                                    ZTE\n",
       "Model                         Blade V30 Vita\n",
       "Highest_Network_Technology               LTE\n",
       "Announced                            2021-07\n",
       "Released                             2021-08\n",
       "                                   ...      \n",
       "Loudspeaker_Noise                   untested\n",
       "Loudspeaker_Ring                    untested\n",
       "Battery_Life                        untested\n",
       "IP_Rating                      No Resistance\n",
       "Price                            unspecified\n",
       "Name: 309, Length: 68, dtype: object"
      ]
     },
     "execution_count": 103,
     "metadata": {},
     "output_type": "execute_result"
    }
   ],
   "source": [
    "cleaned_gsm_arena_data.loc[309]"
   ]
  },
  {
   "cell_type": "code",
   "execution_count": 110,
   "metadata": {},
   "outputs": [],
   "source": [
    "#cleaned_gsm_arena_data[(cleaned_gsm_arena_data['Screen_To_Body_Ratio_(%)'] != 'Not Measured') & (cleaned_gsm_arena_data['Screen_To_Body_Ratio_(%)'] <= 100)]['Screen_To_Body_Ratio_(%)'].sort_values(ascending=False)\n"
   ]
  },
  {
   "cell_type": "code",
   "execution_count": null,
   "metadata": {},
   "outputs": [],
   "source": []
  }
 ],
 "metadata": {
  "kernelspec": {
   "display_name": "Python 3",
   "language": "python",
   "name": "python3"
  },
  "language_info": {
   "codemirror_mode": {
    "name": "ipython",
    "version": 3
   },
   "file_extension": ".py",
   "mimetype": "text/x-python",
   "name": "python",
   "nbconvert_exporter": "python",
   "pygments_lexer": "ipython3",
   "version": "3.10.5"
  },
  "orig_nbformat": 4,
  "vscode": {
   "interpreter": {
    "hash": "7600a12950a547366bb7a6732117e300ffd26224351912980486e1126c5d0f9a"
   }
  }
 },
 "nbformat": 4,
 "nbformat_minor": 2
}
